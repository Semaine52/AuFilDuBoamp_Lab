{
 "cells": [
  {
   "cell_type": "code",
   "execution_count": 7,
   "metadata": {},
   "outputs": [
    {
     "data": {
      "text/html": [
       "\n",
       "\n",
       "<!DOCTYPE html>\n",
       "\n",
       "<html>\n",
       "\n",
       "<title>AuFilDuBoamp_Lab par Semaine52</title>\n",
       "<meta name=\"viewport\" content=\"width=device-width, initial-scale=1\">\n",
       "<link rel=\"stylesheet\" href=\"https://www.w3schools.com/w3css/4/w3.css\">\n",
       "<link rel=\"stylesheet\" href=\"https://cdnjs.cloudflare.com/ajax/libs/font-awesome/4.7.0/css/font-awesome.min.css\">\n",
       "<script src='https://kit.fontawesome.com/a076d05399.js'></script>\n",
       "\n",
       "\n",
       "<body>\n",
       "\n",
       "<div class=\"w3-container\">\n",
       "   <div class=\"w3-padding  w3-white w3-small\">\n",
       "  \n",
       "     <a href=\"https://github.com/Semaine52/AuFilDuBoamp_Lab\" title=\"AuFilDuBoamp_Lab sur GitHub\" alt=\"AuFilDuBoamp_Lab sur GitHub\" class=\"w3-bar-item w3-button fas fa-share-square w3-small w3-white\">&nbsp; AuFilDuBoamp_Lab sur GitHub</a>\n",
       "     \n",
       "     <a href=\"https://twitter.com/AuFilDuBoamp\" title=\"AuFilDuBoamp sur Twitter\" alt=\"AuFilDuBoamp sur Twitter\" class=\"w3-bar-item w3-button fas fa-share-square w3-small w3-white\">&nbsp; sur Twitter</a>\n",
       "     \n",
       "     <a href=\"https://www.data.gouv.fr/fr/organizations/aufilduboamp-1/\" title=\"AuFilDuBoamp sur DataGouv.fr\" alt=\"AuFilDuBoamp sur DataGouv.fr\" class=\"w3-bar-item w3-button fas fa-share-square w3-small  w3-white\">&nbsp; sur DataGouv.fr</a>\n",
       "     \n",
       "          <a href=\"https://mybinder.org/v2/gh/Semaine52/AuFilDuBoamp_Lab/master?urlpath=lab/tree/notebooks/_Sommaire.ipynb\" title=\"AuFilDuBoamp_Lab sur Binder\" alt=\"AuFilDuBoamp_Lab sur Binder\" class=\"w3-bar-item w3-button fas fa-share-square w3-small  w3-white\">&nbsp; sur Binder</a>\n",
       "          \n",
       "          <a href=\"https://teamopendata.org/u/semaine52_jmf/summary\" title=\"Jean-Marie Falvet sur TeamOpenData\" alt=\"Jean-Marie Falvet sur TeamOpenData\" class=\"w3-bar-item w3-button fas fa-share-square w3-small  w3-white\">&nbsp; chez TeamOpenData</a>\n",
       "          \n",
       "          \n",
       "     \n",
       "       \n",
       "         <a href=\"https://www.data.gouv.fr/fr/datasets/boamp/\" title=\"Le BOAMP sur DataGouv.fr\" alt=\"Le BOAMP sur DataGouv.fr\" class=\"w3-bar-item w3-button fas fa-share-square w3-small w3-white\">&nbsp; Le BOAMP sur DataGouv.fr</a>\n",
       "     \n",
       "     <a href=\"https://www.boamp.fr/\" title=\"BOAMP.fr\" alt=\"BOAMP.fr\"class=\"w3-bar-item w3-button fas fa-share-square w3-small  w3-white\">BOAMP.fr</a>\n",
       "     \n",
       "     <a href=\"https://www.legifrance.gouv.fr/affichCode.do?cidTexte=LEGITEXT000037701019\" title=\"Accueil\" alt=\"Accueil\"class=\"w3-bar-item w3-button fas fa-share-square w3-small  w3-white\">&nbsp; Code de la commande publique (Légifrance)</a>  \n",
       "    \n",
       "   </div> \n",
       "      \n",
       " </div>\n",
       "\n",
       " <div class=\"w3-container\">\n",
       "   <div><img class=\"w3-animate-right\" src=\"design/AFDB_DOTS.svg\" alt=\"AuFilDuBoamp_Lab\" title=\"AuFilDuBoamp_Lab\" style=\"width:40%\"></div>\n",
       "\n",
       "   <div class=\"w3-padding w3-xlarge w3-white\"> \n",
       "     \n",
       "       \n",
       "        \n",
       "     <a href=\"_Sommaire.ipynb\" alt=\"Sommaire général\" title=\"Sommaire général\" class=\"w3-bar-item w3-button fa fa-list w3-large w3-amber\">&nbsp; Lien vers le Sommaire général</a>  \n",
       "     <a href=\"https://mybinder.org/v2/gh/Semaine52/AuFilDuBoamp_Lab/master?urlpath=lab/tree/notebooks/_Sommaire.ipynb\" alt=\"Lancer Binder\" title=\"Lancer Binder\" class=\"w3-bar-item w3-button fa fa-arrow-right w3-large w3-teal\">&nbsp; Lancer Binder</a>  \n",
       "     <p style=\"font-size:16px; margin-top:5px\">N'oubliez pas <strong>« Run All Cells »</strong> du menu <strong>« Run »</strong> pour activer les pages une fois sur Binder.</p>\n",
       "  </div>\n",
       "  \n",
       " </div>\n",
       "\n",
       "</body>\n",
       "\n",
       "</html> \n",
       "\n",
       " "
      ],
      "text/plain": [
       "<IPython.core.display.HTML object>"
      ]
     },
     "metadata": {},
     "output_type": "display_data"
    }
   ],
   "source": [
    "%run afdb_lab_scripts/afdb_lab_prereglages\n",
    "%run afdb_lab_scripts/afdb_lab_haut"
   ]
  },
  {
   "cell_type": "markdown",
   "metadata": {},
   "source": [
    "<div id=\"navigation\"></div>\n",
    "\n",
    "#### Un tour d'horizon des Tables du BOAMP\n",
    "\n",
    "À base des données recueillies en OpenData via l'API consacrée --> https://www.data.gouv.fr/fr/datasets/api-boamp-beta/\n",
    "\n",
    "----\n",
    "<h1 style=\"font-size:60px;\">Table D_09_Rectif</h1>\n",
    "\n",
    "----\n"
   ]
  },
  {
   "cell_type": "markdown",
   "metadata": {},
   "source": [
    "- **<a href=\"#navigation\">Navigateur<a/>**\n",
    "    - **<a href=\"#chargement\">Chargement de la table<a/>**\n",
    "    - **<a href=\"#schema\">Schéma interactif de la table**    \n",
    "    - **<a href=\"#infos\">Présentation brute des colonnes<a/>**\n",
    "    - **<a href=\"#verticale\">Vue verticale de la table<a/>**\n",
    "    - **<a href=\"#horizontale\">Vue horizontale de la table<a/>**"
   ]
  },
  {
   "cell_type": "markdown",
   "metadata": {},
   "source": [
    "<div id=\"chargement\"></div>\n",
    "\n",
    "## Chargement de la table"
   ]
  },
  {
   "cell_type": "code",
   "execution_count": 8,
   "metadata": {},
   "outputs": [],
   "source": [
    "extrait_df_d_09_rectif = pd.read_pickle('data/df_boamp_2021_02_D_09_rectif.pkl')\n"
   ]
  },
  {
   "cell_type": "markdown",
   "metadata": {},
   "source": [
    "<div id=\"schema\"></div>\n",
    "\n",
    "## Schéma interactif de la table"
   ]
  },
  {
   "cell_type": "code",
   "execution_count": 9,
   "metadata": {},
   "outputs": [
    {
     "data": {
      "application/vnd.jupyter.widget-view+json": {
       "model_id": "9f9b0f7169af4a9ab6912900880ccc49",
       "version_major": 2,
       "version_minor": 0
      },
      "text/plain": [
       "Output(layout=Layout(border='3px solid #cccccc', margin='20px 100px 20px 100px', max_width='80%', padding='10p…"
      ]
     },
     "metadata": {},
     "output_type": "display_data"
    }
   ],
   "source": [
    "from afdb_lab_scripts.afficher_plan_html import afficher_plan_html\n",
    "afficher_plan_html(source=\"boamp_plans_html/boamp_plan_d_09_rectif.html\");"
   ]
  },
  {
   "cell_type": "markdown",
   "metadata": {},
   "source": [
    "[Ouvrir ce schéma en plein écran dans un nouvel onglet (cliquez sur « Trust HTML » s'il n'apparaît pas de lui-même à l'ouverture)](boamp_plans_html/boamp_plan_d_09_rectif.html)"
   ]
  },
  {
   "cell_type": "markdown",
   "metadata": {},
   "source": [
    "**<a href=\"#navigation\">Remonter<a/>**"
   ]
  },
  {
   "cell_type": "markdown",
   "metadata": {},
   "source": [
    "<div id=\"infos\"></div>\n",
    "\n",
    "## Présentation brute des colonnes"
   ]
  },
  {
   "cell_type": "code",
   "execution_count": 10,
   "metadata": {},
   "outputs": [
    {
     "name": "stdout",
     "output_type": "stream",
     "text": [
      "<class 'pandas.core.frame.DataFrame'>\n",
      "Index: 878 entries, 21-13233 to 21-27171\n",
      "Data columns (total 3 columns):\n",
      " #   Column                             Non-Null Count  Dtype \n",
      "---  ------                             --------------  ----- \n",
      " 0   D_09_01_Rectif_Annonceanterieur    878 non-null    object\n",
      " 1   D_09_02_Rectif_Modification        878 non-null    object\n",
      " 2   D_09_03_Rectif_Infocomplementaire  68 non-null     object\n",
      "dtypes: object(3)\n",
      "memory usage: 27.4+ KB\n"
     ]
    }
   ],
   "source": [
    "extrait_df_d_09_rectif.info()"
   ]
  },
  {
   "cell_type": "markdown",
   "metadata": {},
   "source": [
    "**<a href=\"#navigation\">Remonter<a/>**"
   ]
  },
  {
   "cell_type": "markdown",
   "metadata": {},
   "source": [
    "<div id=\"verticale\"></div>\n",
    "\n",
    "## Vue verticale de la table "
   ]
  },
  {
   "cell_type": "code",
   "execution_count": 11,
   "metadata": {},
   "outputs": [
    {
     "data": {
      "text/html": [
       "<div>\n",
       "<style scoped>\n",
       "    .dataframe tbody tr th:only-of-type {\n",
       "        vertical-align: middle;\n",
       "    }\n",
       "\n",
       "    .dataframe tbody tr th {\n",
       "        vertical-align: top;\n",
       "    }\n",
       "\n",
       "    .dataframe thead th {\n",
       "        text-align: right;\n",
       "    }\n",
       "</style>\n",
       "<table border=\"1\" class=\"dataframe\">\n",
       "  <thead>\n",
       "    <tr style=\"text-align: right;\">\n",
       "      <th>BOAMP_AVIS_NUM</th>\n",
       "      <th>21-13233</th>\n",
       "      <th>21-13436</th>\n",
       "      <th>21-13569</th>\n",
       "    </tr>\n",
       "  </thead>\n",
       "  <tbody>\n",
       "    <tr>\n",
       "      <th>D_09_01_Rectif_Annonceanterieur</th>\n",
       "      <td>{'reference': {'idweb': '20-149412', 'typeavis': {'famille': {'mapa': None, 'fns': None, 'joue': '&lt;?xml version=\"1.0\" encoding=\"UTF-16\"?&gt;\\n&lt;JOUE xmlns:xsi=\"http://www.w3.org/2001/XMLSchema-instance\"/&gt;', 'dsp': None, 'divers': None}, 'perimetre': {'cmp2006': None, 'cmp2006DEFENSE': None, 'directive18': None, 'directive17': None, 'directive81': None, 'directive23': None, 'directive24': '&lt;?xml version=\"1.0\" encoding=\"UTF-16\"?&gt;\\n&lt;DIRECTIVE-24 xmlns:xsi=\"http://www.w3.org/2001/XMLSchema-instance\"/&gt;', 'directive25': None, 'dsp': None, 'autre': None}, 'nature': {'preinformation': None, 'profilacheteur': None, 'appeloffre': {'standard': '&lt;?xml version=\"1.0\" encoding=\"UTF-16\"?&gt;\\n&lt;STANDARD xmlns:xsi=\"http://www.w3.org/2001/XMLSchema-instance\"/&gt;', 'concours': None, 'periodique': None, 'qualification': None, 'sad': None, 'concession': None, 'concessionnaire': None}, 'intentionconclure': None, 'attribution': None, 'soustraitance': None, 'modification': None, 'qualification': None, 'rectificatif': None, 'periodique': None, 'autre': None}, 'statut': {'initial': '&lt;?xml version=\"1.0\" encoding=\"UTF-16\"?&gt;\\n&lt;INITIAL xmlns:xsi=\"http://www.w3.org/2001/XMLSchema-instance\"/&gt;', 'rectificatif': None, 'annulation': None, 'modification': None}}, 'dateenvoi': 1610924400000}, 'referencepublication': [{'publicationpapier': [], 'publicationelectronique': {'datepublication': 1611097200000, 'datefindiffusion': 1617573600000}, 'publicationjoue': None}, {'publicationpapier': [], 'publicationelectronique': None, 'publicationjoue': {'annee': 2021, 'numparution': 15, 'numannonce': 29602, 'datepublication': 1611270000000}}]}</td>\n",
       "      <td>{'reference': {'idweb': '20-147094', 'typeavis': {'famille': {'mapa': None, 'fns': None, 'joue': '&lt;?xml version=\"1.0\" encoding=\"UTF-16\"?&gt;\\n&lt;JOUE xmlns:xsi=\"http://www.w3.org/2001/XMLSchema-instance\"/&gt;', 'dsp': None, 'divers': None}, 'perimetre': {'cmp2006': None, 'cmp2006DEFENSE': None, 'directive18': None, 'directive17': None, 'directive81': None, 'directive23': None, 'directive24': '&lt;?xml version=\"1.0\" encoding=\"UTF-16\"?&gt;\\n&lt;DIRECTIVE-24 xmlns:xsi=\"http://www.w3.org/2001/XMLSchema-instance\"/&gt;', 'directive25': None, 'dsp': None, 'autre': None}, 'nature': {'preinformation': None, 'profilacheteur': None, 'appeloffre': {'standard': '&lt;?xml version=\"1.0\" encoding=\"UTF-16\"?&gt;\\n&lt;STANDARD xmlns:xsi=\"http://www.w3.org/2001/XMLSchema-instance\"/&gt;', 'concours': None, 'periodique': None, 'qualification': None, 'sad': None, 'concession': None, 'concessionnaire': None}, 'intentionconclure': None, 'attribution': None, 'soustraitance': None, 'modification': None, 'qualification': None, 'rectificatif': None, 'periodique': None, 'autre': None}, 'statut': {'initial': '&lt;?xml version=\"1.0\" encoding=\"UTF-16\"?&gt;\\n&lt;INITIAL xmlns:xsi=\"http://www.w3.org/2001/XMLSchema-instance\"/&gt;', 'rectificatif': None, 'annulation': None, 'modification': None}}, 'dateenvoi': 1606863600000}, 'referencepublication': [{'publicationpapier': [], 'publicationelectronique': {'datepublication': 1607036400000, 'datefindiffusion': 1609801200000}, 'publicationjoue': None}, {'publicationpapier': [], 'publicationelectronique': None, 'publicationjoue': {'annee': 2020, 'numparution': 238, 'numannonce': 588257, 'datepublication': 1607295600000}}]}</td>\n",
       "      <td>{'reference': {'idweb': '21-7668', 'typeavis': {'famille': {'mapa': None, 'fns': '&lt;?xml version=\"1.0\" encoding=\"UTF-16\"?&gt;\\n&lt;FNS xmlns:xsi=\"http://www.w3.org/2001/XMLSchema-instance\"/&gt;', 'joue': None, 'dsp': None, 'divers': None}, 'perimetre': {'cmp2006': '&lt;?xml version=\"1.0\" encoding=\"UTF-16\"?&gt;\\n&lt;CMP-2006 xmlns:xsi=\"http://www.w3.org/2001/XMLSchema-instance\"/&gt;', 'cmp2006DEFENSE': None, 'directive18': None, 'directive17': None, 'directive81': None, 'directive23': None, 'directive24': None, 'directive25': None, 'dsp': None, 'autre': None}, 'nature': {'preinformation': None, 'profilacheteur': None, 'appeloffre': {'standard': None, 'concours': None, 'periodique': None, 'qualification': None, 'sad': None, 'concession': None, 'concessionnaire': None}, 'intentionconclure': None, 'attribution': None, 'soustraitance': None, 'modification': None, 'qualification': None, 'rectificatif': None, 'periodique': None, 'autre': None}, 'statut': {'initial': '&lt;?xml version=\"1.0\" encoding=\"UTF-16\"?&gt;\\n&lt;INITIAL xmlns:xsi=\"http://www.w3.org/2001/XMLSchema-instance\"/&gt;', 'rectificatif': None, 'annulation': None, 'modification': None}}, 'dateenvoi': None}, 'referencepublication': [{'publicationpapier': [], 'publicationelectronique': {'datepublication': 1611010800000, 'datefindiffusion': 1612911600000}, 'publicationjoue': None}]}</td>\n",
       "    </tr>\n",
       "    <tr>\n",
       "      <th>D_09_02_Rectif_Modification</th>\n",
       "      <td>[{'rubinit': 'III.1.2', 'lot': None, 'apresmention': None, 'txtinit': None, 'lire': None, 'ajouter': None, 'supprimer': None, 'texte': {'init': '&lt;?xml version=\"1.0\" encoding=\"UTF-16\"?&gt;\n",
       "&lt;INIT xmlns:xsi=\"http://www.w3.org/2001/XMLSchema-instance\"&gt;Minimum de 72 millions d'euros H.T. dechiffre d'affaires annuel moyen pour le groupement au cours des 3 derniers exercices disponibles&lt;/INIT&gt;', 'lire': '&lt;?xml version=\"1.0\" encoding=\"UTF-16\"?&gt;\n",
       "&lt;LIRE xmlns:xsi=\"http://www.w3.org/2001/XMLSchema-instance\"&gt;Minimum de 72 millions d'euros H.T. dechiffre d'affaires annuel moyen pour le groupement au cours des 3 derniers exercices disponibles hors exploitant-mainteneur. Minimum de 10 millions d'euros H.T. dechiffre d'affaires annuel moyen pour l'exploitant-mainteneur au cours des 3 derniers exercices disponibles&lt;/LIRE&gt;'}, 'cpv': None, 'date': None}, {'rubinit': 'IV.2.2', 'lot': None, 'apresmention': None, 'txtinit': None, 'lire': None, 'ajouter': None, 'supprimer': None, 'texte': {'init': '&lt;?xml version=\"1.0\" encoding=\"UTF-16\"?&gt;\n",
       "&lt;INIT xmlns:xsi=\"http://www.w3.org/2001/XMLSchema-instance\"&gt;1 mars 2021 - 12:00&lt;/INIT&gt;', 'lire': '&lt;?xml version=\"1.0\" encoding=\"UTF-16\"?&gt;\n",
       "&lt;LIRE xmlns:xsi=\"http://www.w3.org/2001/XMLSchema-instance\"&gt;10 mars 2021 - 12:00&lt;/LIRE&gt;'}, 'cpv': None, 'date': None}]</td>\n",
       "      <td>[{'rubinit': 'II.2.6)', 'lot': '&lt;?xml version=\"1.0\" encoding=\"UTF-16\"?&gt;\n",
       "&lt;LOT xmlns:xsi=\"http://www.w3.org/2001/XMLSchema-instance\"&gt;1&lt;/LOT&gt;', 'apresmention': None, 'txtinit': None, 'lire': None, 'ajouter': None, 'supprimer': None, 'texte': {'init': '&lt;?xml version=\"1.0\" encoding=\"UTF-16\"?&gt;\n",
       "&lt;INIT xmlns:xsi=\"http://www.w3.org/2001/XMLSchema-instance\"&gt;380000&lt;/INIT&gt;', 'lire': '&lt;?xml version=\"1.0\" encoding=\"UTF-16\"?&gt;\n",
       "&lt;LIRE xmlns:xsi=\"http://www.w3.org/2001/XMLSchema-instance\"&gt;1520000&lt;/LIRE&gt;'}, 'cpv': None, 'date': None}, {'rubinit': 'II.2.6)', 'lot': '&lt;?xml version=\"1.0\" encoding=\"UTF-16\"?&gt;\n",
       "&lt;LOT xmlns:xsi=\"http://www.w3.org/2001/XMLSchema-instance\"&gt;2&lt;/LOT&gt;', 'apresmention': None, 'txtinit': None, 'lire': None, 'ajouter': None, 'supprimer': None, 'texte': {'init': '&lt;?xml version=\"1.0\" encoding=\"UTF-16\"?&gt;\n",
       "&lt;INIT xmlns:xsi=\"http://www.w3.org/2001/XMLSchema-instance\"&gt;180000&lt;/INIT&gt;', 'lire': '&lt;?xml version=\"1.0\" encoding=\"UTF-16\"?&gt;\n",
       "&lt;LIRE xmlns:xsi=\"http://www.w3.org/2001/XMLSchema-instance\"&gt;720000&lt;/LIRE&gt;'}, 'cpv': None, 'date': None}, {'rubinit': 'II.2.6)', 'lot': '&lt;?xml version=\"1.0\" encoding=\"UTF-16\"?&gt;\n",
       "&lt;LOT xmlns:xsi=\"http://www.w3.org/2001/XMLSchema-instance\"&gt;3&lt;/LOT&gt;', 'apresmention': None, 'txtinit': None, 'lire': None, 'ajouter': None, 'supprimer': None, 'texte': {'init': '&lt;?xml version=\"1.0\" encoding=\"UTF-16\"?&gt;\n",
       "&lt;INIT xmlns:xsi=\"http://www.w3.org/2001/XMLSchema-instance\"&gt;300000&lt;/INIT&gt;', 'lire': '&lt;?xml version=\"1.0\" encoding=\"UTF-16\"?&gt;\n",
       "&lt;LIRE xmlns:xsi=\"http://www.w3.org/2001/XMLSchema-instance\"&gt;1200000&lt;/LIRE&gt;'}, 'cpv': None, 'date': None}, {'rubinit': 'IV.2.2)', 'lot': None, 'apresmention': None, 'txtinit': None, 'lire': None, 'ajouter': None, 'supprimer': None, 'texte': None, 'cpv': None, 'date': {'init': '&lt;?xml version=\"1.0\" encoding=\"UTF-16\"?&gt;\n",
       "&lt;INIT xmlns:xsi=\"http://www.w3.org/2001/XMLSchema-instance\"&gt;2021-01-05&lt;/INIT&gt;', 'lire': '&lt;?xml version=\"1.0\" encoding=\"UTF-16\"?&gt;\n",
       "&lt;LIRE xmlns:xsi=\"http://www.w3.org/2001/XMLSchema-instance\"&gt;2021-02-22&lt;/LIRE&gt;'}}]</td>\n",
       "      <td>[{'rubinit': 'Caractéristiques principales', 'lot': None, 'apresmention': None, 'txtinit': 'Lieu d'exécution des prestations : à l'intérieur du périmètre composé par les 49 communes de la communauté de communes Osartis-Marquion et, à l'extérieur du territoire vers des pôles de santé des territoires voisins (59151 Arleux, 62000 Arras, 59400 Cambrai, 62128 Croisilles, 59187 Dechy, 59552 Lambres lez Douai, 62320 Rouvroy, 62223 Saint Nicolas lez Arras, 62159 Vaulx-Vraucourt).', 'lire': 'Lieu d'exécution des prestations : à l'intérieur du périmètre composé par les 49 communes de la communauté de communes Osartis-Marquion et, à l'extérieur du territoire vers des pôles de santé des territoires voisins (59151 Arleux, 62000 Arras, 62450 Bapaume, 59400 Cambrai, 62128 Croisilles, 59187 Dechy, 59552 Lambres lez Douai, 62320 Rouvroy, 62223 Saint Nicolas lez Arras, 62159 Vaulx-Vraucourt).', 'ajouter': None, 'supprimer': None, 'texte': None, 'cpv': None, 'date': None}]</td>\n",
       "    </tr>\n",
       "    <tr>\n",
       "      <th>D_09_03_Rectif_Infocomplementaire</th>\n",
       "      <td>None</td>\n",
       "      <td>L'estimation totale avait été modifiée par avis rectificatif, l'estimation initiale de 3 440 000 euro HT est correcte.</td>\n",
       "      <td>None</td>\n",
       "    </tr>\n",
       "  </tbody>\n",
       "</table>\n",
       "</div>"
      ],
      "text/plain": [
       "BOAMP_AVIS_NUM                                                                                                                                                                                                                                                                                                                                                                                                                                                                                                                                                                                                                                                                                                                                                                                                                                                                                                                                                                                                                                                                                                                                                                                                                                                                                                                                                                                                                                                                                                                                                                                                                                                                                         21-13233  \\\n",
       "D_09_01_Rectif_Annonceanterieur    {'reference': {'idweb': '20-149412', 'typeavis': {'famille': {'mapa': None, 'fns': None, 'joue': '<?xml version=\"1.0\" encoding=\"UTF-16\"?>\\n<JOUE xmlns:xsi=\"http://www.w3.org/2001/XMLSchema-instance\"/>', 'dsp': None, 'divers': None}, 'perimetre': {'cmp2006': None, 'cmp2006DEFENSE': None, 'directive18': None, 'directive17': None, 'directive81': None, 'directive23': None, 'directive24': '<?xml version=\"1.0\" encoding=\"UTF-16\"?>\\n<DIRECTIVE-24 xmlns:xsi=\"http://www.w3.org/2001/XMLSchema-instance\"/>', 'directive25': None, 'dsp': None, 'autre': None}, 'nature': {'preinformation': None, 'profilacheteur': None, 'appeloffre': {'standard': '<?xml version=\"1.0\" encoding=\"UTF-16\"?>\\n<STANDARD xmlns:xsi=\"http://www.w3.org/2001/XMLSchema-instance\"/>', 'concours': None, 'periodique': None, 'qualification': None, 'sad': None, 'concession': None, 'concessionnaire': None}, 'intentionconclure': None, 'attribution': None, 'soustraitance': None, 'modification': None, 'qualification': None, 'rectificatif': None, 'periodique': None, 'autre': None}, 'statut': {'initial': '<?xml version=\"1.0\" encoding=\"UTF-16\"?>\\n<INITIAL xmlns:xsi=\"http://www.w3.org/2001/XMLSchema-instance\"/>', 'rectificatif': None, 'annulation': None, 'modification': None}}, 'dateenvoi': 1610924400000}, 'referencepublication': [{'publicationpapier': [], 'publicationelectronique': {'datepublication': 1611097200000, 'datefindiffusion': 1617573600000}, 'publicationjoue': None}, {'publicationpapier': [], 'publicationelectronique': None, 'publicationjoue': {'annee': 2021, 'numparution': 15, 'numannonce': 29602, 'datepublication': 1611270000000}}]}   \n",
       "D_09_02_Rectif_Modification                                                                                                                                                                                                                                                                                                                                                 [{'rubinit': 'III.1.2', 'lot': None, 'apresmention': None, 'txtinit': None, 'lire': None, 'ajouter': None, 'supprimer': None, 'texte': {'init': '<?xml version=\"1.0\" encoding=\"UTF-16\"?>\n",
       "<INIT xmlns:xsi=\"http://www.w3.org/2001/XMLSchema-instance\">Minimum de 72 millions d'euros H.T. dechiffre d'affaires annuel moyen pour le groupement au cours des 3 derniers exercices disponibles</INIT>', 'lire': '<?xml version=\"1.0\" encoding=\"UTF-16\"?>\n",
       "<LIRE xmlns:xsi=\"http://www.w3.org/2001/XMLSchema-instance\">Minimum de 72 millions d'euros H.T. dechiffre d'affaires annuel moyen pour le groupement au cours des 3 derniers exercices disponibles hors exploitant-mainteneur. Minimum de 10 millions d'euros H.T. dechiffre d'affaires annuel moyen pour l'exploitant-mainteneur au cours des 3 derniers exercices disponibles</LIRE>'}, 'cpv': None, 'date': None}, {'rubinit': 'IV.2.2', 'lot': None, 'apresmention': None, 'txtinit': None, 'lire': None, 'ajouter': None, 'supprimer': None, 'texte': {'init': '<?xml version=\"1.0\" encoding=\"UTF-16\"?>\n",
       "<INIT xmlns:xsi=\"http://www.w3.org/2001/XMLSchema-instance\">1 mars 2021 - 12:00</INIT>', 'lire': '<?xml version=\"1.0\" encoding=\"UTF-16\"?>\n",
       "<LIRE xmlns:xsi=\"http://www.w3.org/2001/XMLSchema-instance\">10 mars 2021 - 12:00</LIRE>'}, 'cpv': None, 'date': None}]   \n",
       "D_09_03_Rectif_Infocomplementaire                                                                                                                                                                                                                                                                                                                                                                                                                                                                                                                                                                                                                                                                                                                                                                                                                                                                                                                                                                                                                                                                                                                                                                                                                                                                                                                                                                                                                                                                                                                                                                                                                                                                          None   \n",
       "\n",
       "BOAMP_AVIS_NUM                                                                                                                                                                                                                                                                                                                                                                                                                                                                                                                                                                                                                                                                                                                                                                                                                                                                                                                                                                                                                                                                                                                                                                                                                                                                                                                                                                                                                                                                                                                                                                                                                                                                                                                                                                                                                                                                                                                                                                                                                                                                       21-13436  \\\n",
       "D_09_01_Rectif_Annonceanterieur                                                                                                                                                                                                                                                                                                                                                                                {'reference': {'idweb': '20-147094', 'typeavis': {'famille': {'mapa': None, 'fns': None, 'joue': '<?xml version=\"1.0\" encoding=\"UTF-16\"?>\\n<JOUE xmlns:xsi=\"http://www.w3.org/2001/XMLSchema-instance\"/>', 'dsp': None, 'divers': None}, 'perimetre': {'cmp2006': None, 'cmp2006DEFENSE': None, 'directive18': None, 'directive17': None, 'directive81': None, 'directive23': None, 'directive24': '<?xml version=\"1.0\" encoding=\"UTF-16\"?>\\n<DIRECTIVE-24 xmlns:xsi=\"http://www.w3.org/2001/XMLSchema-instance\"/>', 'directive25': None, 'dsp': None, 'autre': None}, 'nature': {'preinformation': None, 'profilacheteur': None, 'appeloffre': {'standard': '<?xml version=\"1.0\" encoding=\"UTF-16\"?>\\n<STANDARD xmlns:xsi=\"http://www.w3.org/2001/XMLSchema-instance\"/>', 'concours': None, 'periodique': None, 'qualification': None, 'sad': None, 'concession': None, 'concessionnaire': None}, 'intentionconclure': None, 'attribution': None, 'soustraitance': None, 'modification': None, 'qualification': None, 'rectificatif': None, 'periodique': None, 'autre': None}, 'statut': {'initial': '<?xml version=\"1.0\" encoding=\"UTF-16\"?>\\n<INITIAL xmlns:xsi=\"http://www.w3.org/2001/XMLSchema-instance\"/>', 'rectificatif': None, 'annulation': None, 'modification': None}}, 'dateenvoi': 1606863600000}, 'referencepublication': [{'publicationpapier': [], 'publicationelectronique': {'datepublication': 1607036400000, 'datefindiffusion': 1609801200000}, 'publicationjoue': None}, {'publicationpapier': [], 'publicationelectronique': None, 'publicationjoue': {'annee': 2020, 'numparution': 238, 'numannonce': 588257, 'datepublication': 1607295600000}}]}   \n",
       "D_09_02_Rectif_Modification        [{'rubinit': 'II.2.6)', 'lot': '<?xml version=\"1.0\" encoding=\"UTF-16\"?>\n",
       "<LOT xmlns:xsi=\"http://www.w3.org/2001/XMLSchema-instance\">1</LOT>', 'apresmention': None, 'txtinit': None, 'lire': None, 'ajouter': None, 'supprimer': None, 'texte': {'init': '<?xml version=\"1.0\" encoding=\"UTF-16\"?>\n",
       "<INIT xmlns:xsi=\"http://www.w3.org/2001/XMLSchema-instance\">380000</INIT>', 'lire': '<?xml version=\"1.0\" encoding=\"UTF-16\"?>\n",
       "<LIRE xmlns:xsi=\"http://www.w3.org/2001/XMLSchema-instance\">1520000</LIRE>'}, 'cpv': None, 'date': None}, {'rubinit': 'II.2.6)', 'lot': '<?xml version=\"1.0\" encoding=\"UTF-16\"?>\n",
       "<LOT xmlns:xsi=\"http://www.w3.org/2001/XMLSchema-instance\">2</LOT>', 'apresmention': None, 'txtinit': None, 'lire': None, 'ajouter': None, 'supprimer': None, 'texte': {'init': '<?xml version=\"1.0\" encoding=\"UTF-16\"?>\n",
       "<INIT xmlns:xsi=\"http://www.w3.org/2001/XMLSchema-instance\">180000</INIT>', 'lire': '<?xml version=\"1.0\" encoding=\"UTF-16\"?>\n",
       "<LIRE xmlns:xsi=\"http://www.w3.org/2001/XMLSchema-instance\">720000</LIRE>'}, 'cpv': None, 'date': None}, {'rubinit': 'II.2.6)', 'lot': '<?xml version=\"1.0\" encoding=\"UTF-16\"?>\n",
       "<LOT xmlns:xsi=\"http://www.w3.org/2001/XMLSchema-instance\">3</LOT>', 'apresmention': None, 'txtinit': None, 'lire': None, 'ajouter': None, 'supprimer': None, 'texte': {'init': '<?xml version=\"1.0\" encoding=\"UTF-16\"?>\n",
       "<INIT xmlns:xsi=\"http://www.w3.org/2001/XMLSchema-instance\">300000</INIT>', 'lire': '<?xml version=\"1.0\" encoding=\"UTF-16\"?>\n",
       "<LIRE xmlns:xsi=\"http://www.w3.org/2001/XMLSchema-instance\">1200000</LIRE>'}, 'cpv': None, 'date': None}, {'rubinit': 'IV.2.2)', 'lot': None, 'apresmention': None, 'txtinit': None, 'lire': None, 'ajouter': None, 'supprimer': None, 'texte': None, 'cpv': None, 'date': {'init': '<?xml version=\"1.0\" encoding=\"UTF-16\"?>\n",
       "<INIT xmlns:xsi=\"http://www.w3.org/2001/XMLSchema-instance\">2021-01-05</INIT>', 'lire': '<?xml version=\"1.0\" encoding=\"UTF-16\"?>\n",
       "<LIRE xmlns:xsi=\"http://www.w3.org/2001/XMLSchema-instance\">2021-02-22</LIRE>'}}]   \n",
       "D_09_03_Rectif_Infocomplementaire                                                                                                                                                                                                                                                                                                                                                                                                                                                                                                                                                                                                                                                                                                                                                                                                                                                                                                                                                                                                                                                                                                                                                                                                                                                                                                                                                                                                                                                                                                                                                                                                                                                                                                                                                                                                                                                                                                                                      L'estimation totale avait été modifiée par avis rectificatif, l'estimation initiale de 3 440 000 euro HT est correcte.   \n",
       "\n",
       "BOAMP_AVIS_NUM                                                                                                                                                                                                                                                                                                                                                                                                                                                                                                                                                                                                                                                                                                                                                                                                                                                                                                                                                                                                                                                                                                                                                                                                                                                                                                                                                                                       21-13569  \n",
       "D_09_01_Rectif_Annonceanterieur    {'reference': {'idweb': '21-7668', 'typeavis': {'famille': {'mapa': None, 'fns': '<?xml version=\"1.0\" encoding=\"UTF-16\"?>\\n<FNS xmlns:xsi=\"http://www.w3.org/2001/XMLSchema-instance\"/>', 'joue': None, 'dsp': None, 'divers': None}, 'perimetre': {'cmp2006': '<?xml version=\"1.0\" encoding=\"UTF-16\"?>\\n<CMP-2006 xmlns:xsi=\"http://www.w3.org/2001/XMLSchema-instance\"/>', 'cmp2006DEFENSE': None, 'directive18': None, 'directive17': None, 'directive81': None, 'directive23': None, 'directive24': None, 'directive25': None, 'dsp': None, 'autre': None}, 'nature': {'preinformation': None, 'profilacheteur': None, 'appeloffre': {'standard': None, 'concours': None, 'periodique': None, 'qualification': None, 'sad': None, 'concession': None, 'concessionnaire': None}, 'intentionconclure': None, 'attribution': None, 'soustraitance': None, 'modification': None, 'qualification': None, 'rectificatif': None, 'periodique': None, 'autre': None}, 'statut': {'initial': '<?xml version=\"1.0\" encoding=\"UTF-16\"?>\\n<INITIAL xmlns:xsi=\"http://www.w3.org/2001/XMLSchema-instance\"/>', 'rectificatif': None, 'annulation': None, 'modification': None}}, 'dateenvoi': None}, 'referencepublication': [{'publicationpapier': [], 'publicationelectronique': {'datepublication': 1611010800000, 'datefindiffusion': 1612911600000}, 'publicationjoue': None}]}  \n",
       "D_09_02_Rectif_Modification                                                                                                                                                                                                                                                                                                                                                                          [{'rubinit': 'Caractéristiques principales', 'lot': None, 'apresmention': None, 'txtinit': 'Lieu d'exécution des prestations : à l'intérieur du périmètre composé par les 49 communes de la communauté de communes Osartis-Marquion et, à l'extérieur du territoire vers des pôles de santé des territoires voisins (59151 Arleux, 62000 Arras, 59400 Cambrai, 62128 Croisilles, 59187 Dechy, 59552 Lambres lez Douai, 62320 Rouvroy, 62223 Saint Nicolas lez Arras, 62159 Vaulx-Vraucourt).', 'lire': 'Lieu d'exécution des prestations : à l'intérieur du périmètre composé par les 49 communes de la communauté de communes Osartis-Marquion et, à l'extérieur du territoire vers des pôles de santé des territoires voisins (59151 Arleux, 62000 Arras, 62450 Bapaume, 59400 Cambrai, 62128 Croisilles, 59187 Dechy, 59552 Lambres lez Douai, 62320 Rouvroy, 62223 Saint Nicolas lez Arras, 62159 Vaulx-Vraucourt).', 'ajouter': None, 'supprimer': None, 'texte': None, 'cpv': None, 'date': None}]  \n",
       "D_09_03_Rectif_Infocomplementaire                                                                                                                                                                                                                                                                                                                                                                                                                                                                                                                                                                                                                                                                                                                                                                                                                                                                                                                                                                                                                                                                                                                                                                                                                                                                                                                                                                        None  "
      ]
     },
     "execution_count": 11,
     "metadata": {},
     "output_type": "execute_result"
    }
   ],
   "source": [
    "extrait_df_d_09_rectif.head(3).T"
   ]
  },
  {
   "cell_type": "markdown",
   "metadata": {},
   "source": [
    "**<a href=\"#navigation\">Remonter<a/>**"
   ]
  },
  {
   "cell_type": "markdown",
   "metadata": {},
   "source": [
    "<div id=\"horizontale\"></div>\n",
    "\n",
    "## Vue horizontale de la table "
   ]
  },
  {
   "cell_type": "code",
   "execution_count": 12,
   "metadata": {},
   "outputs": [
    {
     "data": {
      "text/html": [
       "<div>\n",
       "<style scoped>\n",
       "    .dataframe tbody tr th:only-of-type {\n",
       "        vertical-align: middle;\n",
       "    }\n",
       "\n",
       "    .dataframe tbody tr th {\n",
       "        vertical-align: top;\n",
       "    }\n",
       "\n",
       "    .dataframe thead th {\n",
       "        text-align: right;\n",
       "    }\n",
       "</style>\n",
       "<table border=\"1\" class=\"dataframe\">\n",
       "  <thead>\n",
       "    <tr style=\"text-align: right;\">\n",
       "      <th></th>\n",
       "      <th>D_09_01_Rectif_Annonceanterieur</th>\n",
       "      <th>D_09_02_Rectif_Modification</th>\n",
       "      <th>D_09_03_Rectif_Infocomplementaire</th>\n",
       "    </tr>\n",
       "    <tr>\n",
       "      <th>BOAMP_AVIS_NUM</th>\n",
       "      <th></th>\n",
       "      <th></th>\n",
       "      <th></th>\n",
       "    </tr>\n",
       "  </thead>\n",
       "  <tbody>\n",
       "    <tr>\n",
       "      <th>21-13233</th>\n",
       "      <td>{'reference': {'idweb': '20-149412', 'typeavis': {'famille': {'mapa': None, 'fns': None, 'joue': '&lt;?xml version=\"1.0\" encoding=\"UTF-16\"?&gt;\\n&lt;JOUE xmlns:xsi=\"http://www.w3.org/2001/XMLSchema-instance\"/&gt;', 'dsp': None, 'divers': None}, 'perimetre': {'cmp2006': None, 'cmp2006DEFENSE': None, 'directive18': None, 'directive17': None, 'directive81': None, 'directive23': None, 'directive24': '&lt;?xml version=\"1.0\" encoding=\"UTF-16\"?&gt;\\n&lt;DIRECTIVE-24 xmlns:xsi=\"http://www.w3.org/2001/XMLSchema-instance\"/&gt;', 'directive25': None, 'dsp': None, 'autre': None}, 'nature': {'preinformation': None, 'profilacheteur': None, 'appeloffre': {'standard': '&lt;?xml version=\"1.0\" encoding=\"UTF-16\"?&gt;\\n&lt;STANDARD xmlns:xsi=\"http://www.w3.org/2001/XMLSchema-instance\"/&gt;', 'concours': None, 'periodique': None, 'qualification': None, 'sad': None, 'concession': None, 'concessionnaire': None}, 'intentionconclure': None, 'attribution': None, 'soustraitance': None, 'modification': None, 'qualification': None, 'rectificatif': None, 'periodique': None, 'autre': None}, 'statut': {'initial': '&lt;?xml version=\"1.0\" encoding=\"UTF-16\"?&gt;\\n&lt;INITIAL xmlns:xsi=\"http://www.w3.org/2001/XMLSchema-instance\"/&gt;', 'rectificatif': None, 'annulation': None, 'modification': None}}, 'dateenvoi': 1610924400000}, 'referencepublication': [{'publicationpapier': [], 'publicationelectronique': {'datepublication': 1611097200000, 'datefindiffusion': 1617573600000}, 'publicationjoue': None}, {'publicationpapier': [], 'publicationelectronique': None, 'publicationjoue': {'annee': 2021, 'numparution': 15, 'numannonce': 29602, 'datepublication': 1611270000000}}]}</td>\n",
       "      <td>[{'rubinit': 'III.1.2', 'lot': None, 'apresmention': None, 'txtinit': None, 'lire': None, 'ajouter': None, 'supprimer': None, 'texte': {'init': '&lt;?xml version=\"1.0\" encoding=\"UTF-16\"?&gt;\n",
       "&lt;INIT xmlns:xsi=\"http://www.w3.org/2001/XMLSchema-instance\"&gt;Minimum de 72 millions d'euros H.T. dechiffre d'affaires annuel moyen pour le groupement au cours des 3 derniers exercices disponibles&lt;/INIT&gt;', 'lire': '&lt;?xml version=\"1.0\" encoding=\"UTF-16\"?&gt;\n",
       "&lt;LIRE xmlns:xsi=\"http://www.w3.org/2001/XMLSchema-instance\"&gt;Minimum de 72 millions d'euros H.T. dechiffre d'affaires annuel moyen pour le groupement au cours des 3 derniers exercices disponibles hors exploitant-mainteneur. Minimum de 10 millions d'euros H.T. dechiffre d'affaires annuel moyen pour l'exploitant-mainteneur au cours des 3 derniers exercices disponibles&lt;/LIRE&gt;'}, 'cpv': None, 'date': None}, {'rubinit': 'IV.2.2', 'lot': None, 'apresmention': None, 'txtinit': None, 'lire': None, 'ajouter': None, 'supprimer': None, 'texte': {'init': '&lt;?xml version=\"1.0\" encoding=\"UTF-16\"?&gt;\n",
       "&lt;INIT xmlns:xsi=\"http://www.w3.org/2001/XMLSchema-instance\"&gt;1 mars 2021 - 12:00&lt;/INIT&gt;', 'lire': '&lt;?xml version=\"1.0\" encoding=\"UTF-16\"?&gt;\n",
       "&lt;LIRE xmlns:xsi=\"http://www.w3.org/2001/XMLSchema-instance\"&gt;10 mars 2021 - 12:00&lt;/LIRE&gt;'}, 'cpv': None, 'date': None}]</td>\n",
       "      <td>None</td>\n",
       "    </tr>\n",
       "    <tr>\n",
       "      <th>21-13436</th>\n",
       "      <td>{'reference': {'idweb': '20-147094', 'typeavis': {'famille': {'mapa': None, 'fns': None, 'joue': '&lt;?xml version=\"1.0\" encoding=\"UTF-16\"?&gt;\\n&lt;JOUE xmlns:xsi=\"http://www.w3.org/2001/XMLSchema-instance\"/&gt;', 'dsp': None, 'divers': None}, 'perimetre': {'cmp2006': None, 'cmp2006DEFENSE': None, 'directive18': None, 'directive17': None, 'directive81': None, 'directive23': None, 'directive24': '&lt;?xml version=\"1.0\" encoding=\"UTF-16\"?&gt;\\n&lt;DIRECTIVE-24 xmlns:xsi=\"http://www.w3.org/2001/XMLSchema-instance\"/&gt;', 'directive25': None, 'dsp': None, 'autre': None}, 'nature': {'preinformation': None, 'profilacheteur': None, 'appeloffre': {'standard': '&lt;?xml version=\"1.0\" encoding=\"UTF-16\"?&gt;\\n&lt;STANDARD xmlns:xsi=\"http://www.w3.org/2001/XMLSchema-instance\"/&gt;', 'concours': None, 'periodique': None, 'qualification': None, 'sad': None, 'concession': None, 'concessionnaire': None}, 'intentionconclure': None, 'attribution': None, 'soustraitance': None, 'modification': None, 'qualification': None, 'rectificatif': None, 'periodique': None, 'autre': None}, 'statut': {'initial': '&lt;?xml version=\"1.0\" encoding=\"UTF-16\"?&gt;\\n&lt;INITIAL xmlns:xsi=\"http://www.w3.org/2001/XMLSchema-instance\"/&gt;', 'rectificatif': None, 'annulation': None, 'modification': None}}, 'dateenvoi': 1606863600000}, 'referencepublication': [{'publicationpapier': [], 'publicationelectronique': {'datepublication': 1607036400000, 'datefindiffusion': 1609801200000}, 'publicationjoue': None}, {'publicationpapier': [], 'publicationelectronique': None, 'publicationjoue': {'annee': 2020, 'numparution': 238, 'numannonce': 588257, 'datepublication': 1607295600000}}]}</td>\n",
       "      <td>[{'rubinit': 'II.2.6)', 'lot': '&lt;?xml version=\"1.0\" encoding=\"UTF-16\"?&gt;\n",
       "&lt;LOT xmlns:xsi=\"http://www.w3.org/2001/XMLSchema-instance\"&gt;1&lt;/LOT&gt;', 'apresmention': None, 'txtinit': None, 'lire': None, 'ajouter': None, 'supprimer': None, 'texte': {'init': '&lt;?xml version=\"1.0\" encoding=\"UTF-16\"?&gt;\n",
       "&lt;INIT xmlns:xsi=\"http://www.w3.org/2001/XMLSchema-instance\"&gt;380000&lt;/INIT&gt;', 'lire': '&lt;?xml version=\"1.0\" encoding=\"UTF-16\"?&gt;\n",
       "&lt;LIRE xmlns:xsi=\"http://www.w3.org/2001/XMLSchema-instance\"&gt;1520000&lt;/LIRE&gt;'}, 'cpv': None, 'date': None}, {'rubinit': 'II.2.6)', 'lot': '&lt;?xml version=\"1.0\" encoding=\"UTF-16\"?&gt;\n",
       "&lt;LOT xmlns:xsi=\"http://www.w3.org/2001/XMLSchema-instance\"&gt;2&lt;/LOT&gt;', 'apresmention': None, 'txtinit': None, 'lire': None, 'ajouter': None, 'supprimer': None, 'texte': {'init': '&lt;?xml version=\"1.0\" encoding=\"UTF-16\"?&gt;\n",
       "&lt;INIT xmlns:xsi=\"http://www.w3.org/2001/XMLSchema-instance\"&gt;180000&lt;/INIT&gt;', 'lire': '&lt;?xml version=\"1.0\" encoding=\"UTF-16\"?&gt;\n",
       "&lt;LIRE xmlns:xsi=\"http://www.w3.org/2001/XMLSchema-instance\"&gt;720000&lt;/LIRE&gt;'}, 'cpv': None, 'date': None}, {'rubinit': 'II.2.6)', 'lot': '&lt;?xml version=\"1.0\" encoding=\"UTF-16\"?&gt;\n",
       "&lt;LOT xmlns:xsi=\"http://www.w3.org/2001/XMLSchema-instance\"&gt;3&lt;/LOT&gt;', 'apresmention': None, 'txtinit': None, 'lire': None, 'ajouter': None, 'supprimer': None, 'texte': {'init': '&lt;?xml version=\"1.0\" encoding=\"UTF-16\"?&gt;\n",
       "&lt;INIT xmlns:xsi=\"http://www.w3.org/2001/XMLSchema-instance\"&gt;300000&lt;/INIT&gt;', 'lire': '&lt;?xml version=\"1.0\" encoding=\"UTF-16\"?&gt;\n",
       "&lt;LIRE xmlns:xsi=\"http://www.w3.org/2001/XMLSchema-instance\"&gt;1200000&lt;/LIRE&gt;'}, 'cpv': None, 'date': None}, {'rubinit': 'IV.2.2)', 'lot': None, 'apresmention': None, 'txtinit': None, 'lire': None, 'ajouter': None, 'supprimer': None, 'texte': None, 'cpv': None, 'date': {'init': '&lt;?xml version=\"1.0\" encoding=\"UTF-16\"?&gt;\n",
       "&lt;INIT xmlns:xsi=\"http://www.w3.org/2001/XMLSchema-instance\"&gt;2021-01-05&lt;/INIT&gt;', 'lire': '&lt;?xml version=\"1.0\" encoding=\"UTF-16\"?&gt;\n",
       "&lt;LIRE xmlns:xsi=\"http://www.w3.org/2001/XMLSchema-instance\"&gt;2021-02-22&lt;/LIRE&gt;'}}]</td>\n",
       "      <td>L'estimation totale avait été modifiée par avis rectificatif, l'estimation initiale de 3 440 000 euro HT est correcte.</td>\n",
       "    </tr>\n",
       "    <tr>\n",
       "      <th>21-13569</th>\n",
       "      <td>{'reference': {'idweb': '21-7668', 'typeavis': {'famille': {'mapa': None, 'fns': '&lt;?xml version=\"1.0\" encoding=\"UTF-16\"?&gt;\\n&lt;FNS xmlns:xsi=\"http://www.w3.org/2001/XMLSchema-instance\"/&gt;', 'joue': None, 'dsp': None, 'divers': None}, 'perimetre': {'cmp2006': '&lt;?xml version=\"1.0\" encoding=\"UTF-16\"?&gt;\\n&lt;CMP-2006 xmlns:xsi=\"http://www.w3.org/2001/XMLSchema-instance\"/&gt;', 'cmp2006DEFENSE': None, 'directive18': None, 'directive17': None, 'directive81': None, 'directive23': None, 'directive24': None, 'directive25': None, 'dsp': None, 'autre': None}, 'nature': {'preinformation': None, 'profilacheteur': None, 'appeloffre': {'standard': None, 'concours': None, 'periodique': None, 'qualification': None, 'sad': None, 'concession': None, 'concessionnaire': None}, 'intentionconclure': None, 'attribution': None, 'soustraitance': None, 'modification': None, 'qualification': None, 'rectificatif': None, 'periodique': None, 'autre': None}, 'statut': {'initial': '&lt;?xml version=\"1.0\" encoding=\"UTF-16\"?&gt;\\n&lt;INITIAL xmlns:xsi=\"http://www.w3.org/2001/XMLSchema-instance\"/&gt;', 'rectificatif': None, 'annulation': None, 'modification': None}}, 'dateenvoi': None}, 'referencepublication': [{'publicationpapier': [], 'publicationelectronique': {'datepublication': 1611010800000, 'datefindiffusion': 1612911600000}, 'publicationjoue': None}]}</td>\n",
       "      <td>[{'rubinit': 'Caractéristiques principales', 'lot': None, 'apresmention': None, 'txtinit': 'Lieu d'exécution des prestations : à l'intérieur du périmètre composé par les 49 communes de la communauté de communes Osartis-Marquion et, à l'extérieur du territoire vers des pôles de santé des territoires voisins (59151 Arleux, 62000 Arras, 59400 Cambrai, 62128 Croisilles, 59187 Dechy, 59552 Lambres lez Douai, 62320 Rouvroy, 62223 Saint Nicolas lez Arras, 62159 Vaulx-Vraucourt).', 'lire': 'Lieu d'exécution des prestations : à l'intérieur du périmètre composé par les 49 communes de la communauté de communes Osartis-Marquion et, à l'extérieur du territoire vers des pôles de santé des territoires voisins (59151 Arleux, 62000 Arras, 62450 Bapaume, 59400 Cambrai, 62128 Croisilles, 59187 Dechy, 59552 Lambres lez Douai, 62320 Rouvroy, 62223 Saint Nicolas lez Arras, 62159 Vaulx-Vraucourt).', 'ajouter': None, 'supprimer': None, 'texte': None, 'cpv': None, 'date': None}]</td>\n",
       "      <td>None</td>\n",
       "    </tr>\n",
       "  </tbody>\n",
       "</table>\n",
       "</div>"
      ],
      "text/plain": [
       "                                                                                                                                                                                                                                                                                                                                                                                                                                                                                                                                                                                                                                                                                                                                                                                                                                                                                                                                                                                                                                                                                                                                                                                                                                                                                                                                                                                                                                                                                                                                                                                                                                                               D_09_01_Rectif_Annonceanterieur  \\\n",
       "BOAMP_AVIS_NUM                                                                                                                                                                                                                                                                                                                                                                                                                                                                                                                                                                                                                                                                                                                                                                                                                                                                                                                                                                                                                                                                                                                                                                                                                                                                                                                                                                                                                                                                                                                                                                                                                                                                                   \n",
       "21-13233          {'reference': {'idweb': '20-149412', 'typeavis': {'famille': {'mapa': None, 'fns': None, 'joue': '<?xml version=\"1.0\" encoding=\"UTF-16\"?>\\n<JOUE xmlns:xsi=\"http://www.w3.org/2001/XMLSchema-instance\"/>', 'dsp': None, 'divers': None}, 'perimetre': {'cmp2006': None, 'cmp2006DEFENSE': None, 'directive18': None, 'directive17': None, 'directive81': None, 'directive23': None, 'directive24': '<?xml version=\"1.0\" encoding=\"UTF-16\"?>\\n<DIRECTIVE-24 xmlns:xsi=\"http://www.w3.org/2001/XMLSchema-instance\"/>', 'directive25': None, 'dsp': None, 'autre': None}, 'nature': {'preinformation': None, 'profilacheteur': None, 'appeloffre': {'standard': '<?xml version=\"1.0\" encoding=\"UTF-16\"?>\\n<STANDARD xmlns:xsi=\"http://www.w3.org/2001/XMLSchema-instance\"/>', 'concours': None, 'periodique': None, 'qualification': None, 'sad': None, 'concession': None, 'concessionnaire': None}, 'intentionconclure': None, 'attribution': None, 'soustraitance': None, 'modification': None, 'qualification': None, 'rectificatif': None, 'periodique': None, 'autre': None}, 'statut': {'initial': '<?xml version=\"1.0\" encoding=\"UTF-16\"?>\\n<INITIAL xmlns:xsi=\"http://www.w3.org/2001/XMLSchema-instance\"/>', 'rectificatif': None, 'annulation': None, 'modification': None}}, 'dateenvoi': 1610924400000}, 'referencepublication': [{'publicationpapier': [], 'publicationelectronique': {'datepublication': 1611097200000, 'datefindiffusion': 1617573600000}, 'publicationjoue': None}, {'publicationpapier': [], 'publicationelectronique': None, 'publicationjoue': {'annee': 2021, 'numparution': 15, 'numannonce': 29602, 'datepublication': 1611270000000}}]}   \n",
       "21-13436        {'reference': {'idweb': '20-147094', 'typeavis': {'famille': {'mapa': None, 'fns': None, 'joue': '<?xml version=\"1.0\" encoding=\"UTF-16\"?>\\n<JOUE xmlns:xsi=\"http://www.w3.org/2001/XMLSchema-instance\"/>', 'dsp': None, 'divers': None}, 'perimetre': {'cmp2006': None, 'cmp2006DEFENSE': None, 'directive18': None, 'directive17': None, 'directive81': None, 'directive23': None, 'directive24': '<?xml version=\"1.0\" encoding=\"UTF-16\"?>\\n<DIRECTIVE-24 xmlns:xsi=\"http://www.w3.org/2001/XMLSchema-instance\"/>', 'directive25': None, 'dsp': None, 'autre': None}, 'nature': {'preinformation': None, 'profilacheteur': None, 'appeloffre': {'standard': '<?xml version=\"1.0\" encoding=\"UTF-16\"?>\\n<STANDARD xmlns:xsi=\"http://www.w3.org/2001/XMLSchema-instance\"/>', 'concours': None, 'periodique': None, 'qualification': None, 'sad': None, 'concession': None, 'concessionnaire': None}, 'intentionconclure': None, 'attribution': None, 'soustraitance': None, 'modification': None, 'qualification': None, 'rectificatif': None, 'periodique': None, 'autre': None}, 'statut': {'initial': '<?xml version=\"1.0\" encoding=\"UTF-16\"?>\\n<INITIAL xmlns:xsi=\"http://www.w3.org/2001/XMLSchema-instance\"/>', 'rectificatif': None, 'annulation': None, 'modification': None}}, 'dateenvoi': 1606863600000}, 'referencepublication': [{'publicationpapier': [], 'publicationelectronique': {'datepublication': 1607036400000, 'datefindiffusion': 1609801200000}, 'publicationjoue': None}, {'publicationpapier': [], 'publicationelectronique': None, 'publicationjoue': {'annee': 2020, 'numparution': 238, 'numannonce': 588257, 'datepublication': 1607295600000}}]}   \n",
       "21-13569                                                                                                                                                                                                                                                                                                            {'reference': {'idweb': '21-7668', 'typeavis': {'famille': {'mapa': None, 'fns': '<?xml version=\"1.0\" encoding=\"UTF-16\"?>\\n<FNS xmlns:xsi=\"http://www.w3.org/2001/XMLSchema-instance\"/>', 'joue': None, 'dsp': None, 'divers': None}, 'perimetre': {'cmp2006': '<?xml version=\"1.0\" encoding=\"UTF-16\"?>\\n<CMP-2006 xmlns:xsi=\"http://www.w3.org/2001/XMLSchema-instance\"/>', 'cmp2006DEFENSE': None, 'directive18': None, 'directive17': None, 'directive81': None, 'directive23': None, 'directive24': None, 'directive25': None, 'dsp': None, 'autre': None}, 'nature': {'preinformation': None, 'profilacheteur': None, 'appeloffre': {'standard': None, 'concours': None, 'periodique': None, 'qualification': None, 'sad': None, 'concession': None, 'concessionnaire': None}, 'intentionconclure': None, 'attribution': None, 'soustraitance': None, 'modification': None, 'qualification': None, 'rectificatif': None, 'periodique': None, 'autre': None}, 'statut': {'initial': '<?xml version=\"1.0\" encoding=\"UTF-16\"?>\\n<INITIAL xmlns:xsi=\"http://www.w3.org/2001/XMLSchema-instance\"/>', 'rectificatif': None, 'annulation': None, 'modification': None}}, 'dateenvoi': None}, 'referencepublication': [{'publicationpapier': [], 'publicationelectronique': {'datepublication': 1611010800000, 'datefindiffusion': 1612911600000}, 'publicationjoue': None}]}   \n",
       "\n",
       "                                                                                                                                                                                                                                                                                                                                                                                                                                                                                                                                                                                                                                                                                                                                                                                                                                                                                                                                                                                                                                                                                                                                                                                                                                                                                                                                                                                                                                                                                                                                                                                                                                                                                                                                                                                                                                                                                                                                                                                                                                               D_09_02_Rectif_Modification  \\\n",
       "BOAMP_AVIS_NUM                                                                                                                                                                                                                                                                                                                                                                                                                                                                                                                                                                                                                                                                                                                                                                                                                                                                                                                                                                                                                                                                                                                                                                                                                                                                                                                                                                                                                                                                                                                                                                                                                                                                                                                                                                                                                                                                                                                                                                                                                                                               \n",
       "21-13233                                                                                                                                                                                                                                                                                                                                                                                                                                                                                                                                                                                                                                                                                                                               [{'rubinit': 'III.1.2', 'lot': None, 'apresmention': None, 'txtinit': None, 'lire': None, 'ajouter': None, 'supprimer': None, 'texte': {'init': '<?xml version=\"1.0\" encoding=\"UTF-16\"?>\n",
       "<INIT xmlns:xsi=\"http://www.w3.org/2001/XMLSchema-instance\">Minimum de 72 millions d'euros H.T. dechiffre d'affaires annuel moyen pour le groupement au cours des 3 derniers exercices disponibles</INIT>', 'lire': '<?xml version=\"1.0\" encoding=\"UTF-16\"?>\n",
       "<LIRE xmlns:xsi=\"http://www.w3.org/2001/XMLSchema-instance\">Minimum de 72 millions d'euros H.T. dechiffre d'affaires annuel moyen pour le groupement au cours des 3 derniers exercices disponibles hors exploitant-mainteneur. Minimum de 10 millions d'euros H.T. dechiffre d'affaires annuel moyen pour l'exploitant-mainteneur au cours des 3 derniers exercices disponibles</LIRE>'}, 'cpv': None, 'date': None}, {'rubinit': 'IV.2.2', 'lot': None, 'apresmention': None, 'txtinit': None, 'lire': None, 'ajouter': None, 'supprimer': None, 'texte': {'init': '<?xml version=\"1.0\" encoding=\"UTF-16\"?>\n",
       "<INIT xmlns:xsi=\"http://www.w3.org/2001/XMLSchema-instance\">1 mars 2021 - 12:00</INIT>', 'lire': '<?xml version=\"1.0\" encoding=\"UTF-16\"?>\n",
       "<LIRE xmlns:xsi=\"http://www.w3.org/2001/XMLSchema-instance\">10 mars 2021 - 12:00</LIRE>'}, 'cpv': None, 'date': None}]   \n",
       "21-13436        [{'rubinit': 'II.2.6)', 'lot': '<?xml version=\"1.0\" encoding=\"UTF-16\"?>\n",
       "<LOT xmlns:xsi=\"http://www.w3.org/2001/XMLSchema-instance\">1</LOT>', 'apresmention': None, 'txtinit': None, 'lire': None, 'ajouter': None, 'supprimer': None, 'texte': {'init': '<?xml version=\"1.0\" encoding=\"UTF-16\"?>\n",
       "<INIT xmlns:xsi=\"http://www.w3.org/2001/XMLSchema-instance\">380000</INIT>', 'lire': '<?xml version=\"1.0\" encoding=\"UTF-16\"?>\n",
       "<LIRE xmlns:xsi=\"http://www.w3.org/2001/XMLSchema-instance\">1520000</LIRE>'}, 'cpv': None, 'date': None}, {'rubinit': 'II.2.6)', 'lot': '<?xml version=\"1.0\" encoding=\"UTF-16\"?>\n",
       "<LOT xmlns:xsi=\"http://www.w3.org/2001/XMLSchema-instance\">2</LOT>', 'apresmention': None, 'txtinit': None, 'lire': None, 'ajouter': None, 'supprimer': None, 'texte': {'init': '<?xml version=\"1.0\" encoding=\"UTF-16\"?>\n",
       "<INIT xmlns:xsi=\"http://www.w3.org/2001/XMLSchema-instance\">180000</INIT>', 'lire': '<?xml version=\"1.0\" encoding=\"UTF-16\"?>\n",
       "<LIRE xmlns:xsi=\"http://www.w3.org/2001/XMLSchema-instance\">720000</LIRE>'}, 'cpv': None, 'date': None}, {'rubinit': 'II.2.6)', 'lot': '<?xml version=\"1.0\" encoding=\"UTF-16\"?>\n",
       "<LOT xmlns:xsi=\"http://www.w3.org/2001/XMLSchema-instance\">3</LOT>', 'apresmention': None, 'txtinit': None, 'lire': None, 'ajouter': None, 'supprimer': None, 'texte': {'init': '<?xml version=\"1.0\" encoding=\"UTF-16\"?>\n",
       "<INIT xmlns:xsi=\"http://www.w3.org/2001/XMLSchema-instance\">300000</INIT>', 'lire': '<?xml version=\"1.0\" encoding=\"UTF-16\"?>\n",
       "<LIRE xmlns:xsi=\"http://www.w3.org/2001/XMLSchema-instance\">1200000</LIRE>'}, 'cpv': None, 'date': None}, {'rubinit': 'IV.2.2)', 'lot': None, 'apresmention': None, 'txtinit': None, 'lire': None, 'ajouter': None, 'supprimer': None, 'texte': None, 'cpv': None, 'date': {'init': '<?xml version=\"1.0\" encoding=\"UTF-16\"?>\n",
       "<INIT xmlns:xsi=\"http://www.w3.org/2001/XMLSchema-instance\">2021-01-05</INIT>', 'lire': '<?xml version=\"1.0\" encoding=\"UTF-16\"?>\n",
       "<LIRE xmlns:xsi=\"http://www.w3.org/2001/XMLSchema-instance\">2021-02-22</LIRE>'}}]   \n",
       "21-13569                                                                                                                                                                                                                                                                                                                                                                                                                                                                                                                                                                                                                                                                                                                                                                                                                                                                                                                                                                                                                                                          [{'rubinit': 'Caractéristiques principales', 'lot': None, 'apresmention': None, 'txtinit': 'Lieu d'exécution des prestations : à l'intérieur du périmètre composé par les 49 communes de la communauté de communes Osartis-Marquion et, à l'extérieur du territoire vers des pôles de santé des territoires voisins (59151 Arleux, 62000 Arras, 59400 Cambrai, 62128 Croisilles, 59187 Dechy, 59552 Lambres lez Douai, 62320 Rouvroy, 62223 Saint Nicolas lez Arras, 62159 Vaulx-Vraucourt).', 'lire': 'Lieu d'exécution des prestations : à l'intérieur du périmètre composé par les 49 communes de la communauté de communes Osartis-Marquion et, à l'extérieur du territoire vers des pôles de santé des territoires voisins (59151 Arleux, 62000 Arras, 62450 Bapaume, 59400 Cambrai, 62128 Croisilles, 59187 Dechy, 59552 Lambres lez Douai, 62320 Rouvroy, 62223 Saint Nicolas lez Arras, 62159 Vaulx-Vraucourt).', 'ajouter': None, 'supprimer': None, 'texte': None, 'cpv': None, 'date': None}]   \n",
       "\n",
       "                                                                                                     D_09_03_Rectif_Infocomplementaire  \n",
       "BOAMP_AVIS_NUM                                                                                                                          \n",
       "21-13233                                                                                                                          None  \n",
       "21-13436        L'estimation totale avait été modifiée par avis rectificatif, l'estimation initiale de 3 440 000 euro HT est correcte.  \n",
       "21-13569                                                                                                                          None  "
      ]
     },
     "execution_count": 12,
     "metadata": {},
     "output_type": "execute_result"
    }
   ],
   "source": [
    "extrait_df_d_09_rectif.head(3)"
   ]
  },
  {
   "cell_type": "markdown",
   "metadata": {},
   "source": [
    "**<a href=\"#navigation\">Remonter<a/>**"
   ]
  }
 ],
 "metadata": {
  "kernelspec": {
   "display_name": "Python 3",
   "language": "python",
   "name": "python3"
  },
  "language_info": {
   "codemirror_mode": {
    "name": "ipython",
    "version": 3
   },
   "file_extension": ".py",
   "mimetype": "text/x-python",
   "name": "python",
   "nbconvert_exporter": "python",
   "pygments_lexer": "ipython3",
   "version": "3.8.6"
  },
  "widgets": {
   "application/vnd.jupyter.widget-state+json": {
    "state": {
     "1468d184c26d4147a0caa260a29c0e8a": {
      "model_module": "@jupyter-widgets/base",
      "model_module_version": "1.2.0",
      "model_name": "LayoutModel",
      "state": {
       "border": "3px solid #cccccc",
       "margin": "20px 100px 20px 100px",
       "max_width": "80%",
       "padding": "10px"
      }
     },
     "4f0e7a80b31749788cea6d967c1ccf80": {
      "model_module": "@jupyter-widgets/base",
      "model_module_version": "1.2.0",
      "model_name": "LayoutModel",
      "state": {
       "border": "3px solid #cccccc",
       "margin": "20px 100px 20px 100px",
       "max_width": "80%",
       "padding": "10px"
      }
     },
     "9f9b0f7169af4a9ab6912900880ccc49": {
      "model_module": "@jupyter-widgets/output",
      "model_module_version": "1.0.0",
      "model_name": "OutputModel",
      "state": {
       "layout": "IPY_MODEL_4f0e7a80b31749788cea6d967c1ccf80",
       "outputs": [
        {
         "data": {
          "text/html": "\n        <iframe\n            width=\"98%\"\n            height=\"400px\"\n            src=\"boamp_plans_html/boamp_plan_d_09_rectif.html\"\n            frameborder=\"0\"\n            allowfullscreen\n        ></iframe>\n        ",
          "text/plain": "<IPython.lib.display.IFrame at 0x1d0f4c77c70>"
         },
         "metadata": {},
         "output_type": "display_data"
        },
        {
         "data": {
          "text/html": "<p><strong>Cliquez sur les cercles contenus dans la figure pour ouvrir et refermer les niveaux.<br>    \n                     L'image est zommable.<br><br>\n                     <a href=boamp_plans_html/boamp_plan_d_09_rectif.html> --> Ouvrir ce schéma en plein écran dans un nouvel onglet. </a></strong><br>\n                     <em>Cliquez sur « Trust HTML » si le schéma n'apparaît pas de lui-même à l'ouverture du lien.</em></p>\n                     ",
          "text/plain": "<IPython.core.display.HTML object>"
         },
         "metadata": {},
         "output_type": "display_data"
        }
       ]
      }
     },
     "f377533959dd46c9943e5898032b6ae3": {
      "model_module": "@jupyter-widgets/output",
      "model_module_version": "1.0.0",
      "model_name": "OutputModel",
      "state": {
       "layout": "IPY_MODEL_1468d184c26d4147a0caa260a29c0e8a",
       "outputs": [
        {
         "data": {
          "text/html": "\n        <iframe\n            width=\"98%\"\n            height=\"400px\"\n            src=\"boamp_plans_html/boamp_plan_d_09_rectif.html\"\n            frameborder=\"0\"\n            allowfullscreen\n        ></iframe>\n        ",
          "text/plain": "<IPython.lib.display.IFrame at 0x1d0f4b64310>"
         },
         "metadata": {},
         "output_type": "display_data"
        },
        {
         "data": {
          "text/html": "<p><strong>Cliquez sur les cercles contenus dans la figure pour ouvrir et refermer les niveaux.<br>    \n                     L'image est zommable.<br><br>\n                     <a href=boamp_plans_html/boamp_plan_d_09_rectif.html> --> Ouvrir ce schéma en plein écran dans un nouvel onglet. </a></strong><br>\n                     <em>Cliquez sur « Trust HTML » si le schéma n'apparaît pas de lui-même à l'ouverture du lien.</em></p>\n                     ",
          "text/plain": "<IPython.core.display.HTML object>"
         },
         "metadata": {},
         "output_type": "display_data"
        }
       ]
      }
     }
    },
    "version_major": 2,
    "version_minor": 0
   }
  }
 },
 "nbformat": 4,
 "nbformat_minor": 4
}
