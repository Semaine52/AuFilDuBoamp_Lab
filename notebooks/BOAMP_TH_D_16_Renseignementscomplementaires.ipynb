{
 "cells": [
  {
   "cell_type": "code",
   "execution_count": 1,
   "metadata": {},
   "outputs": [
    {
     "data": {
      "text/html": [
       "\n",
       "\n",
       "<!DOCTYPE html>\n",
       "\n",
       "<html>\n",
       "\n",
       "<title>AuFilDuBoamp_Lab par Semaine52</title>\n",
       "<meta name=\"viewport\" content=\"width=device-width, initial-scale=1\">\n",
       "<link rel=\"stylesheet\" href=\"https://www.w3schools.com/w3css/4/w3.css\">\n",
       "<link rel=\"stylesheet\" href=\"https://cdnjs.cloudflare.com/ajax/libs/font-awesome/4.7.0/css/font-awesome.min.css\">\n",
       "<script src='https://kit.fontawesome.com/a076d05399.js'></script>\n",
       "\n",
       "\n",
       "<body>\n",
       "\n",
       "<div class=\"w3-container\">\n",
       "   <div class=\"w3-padding  w3-white w3-small\">\n",
       "  \n",
       "     <a href=\"https://github.com/Semaine52/AuFilDuBoamp_Lab\" title=\"AuFilDuBoamp_Lab sur GitHub\" alt=\"AuFilDuBoamp_Lab sur GitHub\" class=\"w3-bar-item w3-button fas fa-share-square w3-small w3-white\">&nbsp; AuFilDuBoamp_Lab sur GitHub</a>\n",
       "     \n",
       "     <a href=\"https://twitter.com/AuFilDuBoamp\" title=\"AuFilDuBoamp sur Twitter\" alt=\"AuFilDuBoamp sur Twitter\" class=\"w3-bar-item w3-button fas fa-share-square w3-small w3-white\">&nbsp; sur Twitter</a>\n",
       "     \n",
       "     <a href=\"https://www.data.gouv.fr/fr/organizations/aufilduboamp-1/\" title=\"AuFilDuBoamp sur DataGouv.fr\" alt=\"AuFilDuBoamp sur DataGouv.fr\" class=\"w3-bar-item w3-button fas fa-share-square w3-small  w3-white\">&nbsp; sur DataGouv.fr</a>\n",
       "     \n",
       "          <a href=\"https://mybinder.org/v2/gh/Semaine52/AuFilDuBoamp_Lab/master?urlpath=lab/tree/notebooks/_Sommaire.ipynb\" title=\"AuFilDuBoamp_Lab sur Binder\" alt=\"AuFilDuBoamp_Lab sur Binder\" class=\"w3-bar-item w3-button fas fa-share-square w3-small  w3-white\">&nbsp; sur Binder</a>\n",
       "          \n",
       "          <a href=\"https://teamopendata.org/u/semaine52_jmf/summary\" title=\"Jean-Marie Falvet sur TeamOpenData\" alt=\"Jean-Marie Falvet sur TeamOpenData\" class=\"w3-bar-item w3-button fas fa-share-square w3-small  w3-white\">&nbsp; chez TeamOpenData</a>\n",
       "          \n",
       "          \n",
       "     \n",
       "       \n",
       "         <a href=\"https://www.data.gouv.fr/fr/datasets/boamp/\" title=\"Le BOAMP sur DataGouv.fr\" alt=\"Le BOAMP sur DataGouv.fr\" class=\"w3-bar-item w3-button fas fa-share-square w3-small w3-white\">&nbsp; Le BOAMP sur DataGouv.fr</a>\n",
       "     \n",
       "     <a href=\"https://www.boamp.fr/\" title=\"BOAMP.fr\" alt=\"BOAMP.fr\"class=\"w3-bar-item w3-button fas fa-share-square w3-small  w3-white\">BOAMP.fr</a>\n",
       "     \n",
       "     <a href=\"https://www.legifrance.gouv.fr/affichCode.do?cidTexte=LEGITEXT000037701019\" title=\"Accueil\" alt=\"Accueil\"class=\"w3-bar-item w3-button fas fa-share-square w3-small  w3-white\">&nbsp; Code de la commande publique (Légifrance)</a>  \n",
       "    \n",
       "   </div> \n",
       "      \n",
       " </div>\n",
       "\n",
       " <div class=\"w3-container\">\n",
       "   <div><img class=\"w3-animate-right\" src=\"design/AFDB_DOTS.svg\" alt=\"AuFilDuBoamp_Lab\" title=\"AuFilDuBoamp_Lab\" style=\"width:40%\"></div>\n",
       "\n",
       "   <div class=\"w3-padding w3-xlarge w3-white\"> \n",
       "     \n",
       "       \n",
       "        \n",
       "     <a href=\"_Sommaire.ipynb\" alt=\"Sommaire général\" title=\"Sommaire général\" class=\"w3-bar-item w3-button fa fa-list w3-large w3-amber\">&nbsp; Lien vers le Sommaire général</a>  \n",
       "     <a href=\"https://mybinder.org/v2/gh/Semaine52/AuFilDuBoamp_Lab/master?urlpath=lab/tree/notebooks/_Sommaire.ipynb\" alt=\"Lancer Binder\" title=\"Lancer Binder\" class=\"w3-bar-item w3-button fa fa-arrow-right w3-large w3-teal\">&nbsp; Lancer Binder</a>  \n",
       "     <p style=\"font-size:16px; margin-top:5px\">N'oubliez pas <strong>« Run All Cells »</strong> du menu <strong>« Run »</strong> pour activer les pages une fois sur Binder.</p>\n",
       "  </div>\n",
       "  \n",
       " </div>\n",
       "\n",
       "</body>\n",
       "\n",
       "</html> \n",
       "\n",
       " "
      ],
      "text/plain": [
       "<IPython.core.display.HTML object>"
      ]
     },
     "metadata": {},
     "output_type": "display_data"
    }
   ],
   "source": [
    "%run afdb_lab_scripts/afdb_lab_prereglages\n",
    "%run afdb_lab_scripts/afdb_lab_haut"
   ]
  },
  {
   "cell_type": "markdown",
   "metadata": {},
   "source": [
    "<div id=\"navigation\"></div>\n",
    "\n",
    "#### Un tour d'horizon des Tables du BOAMP\n",
    "\n",
    "À base des données recueillies en OpenData via l'API consacrée --> https://www.data.gouv.fr/fr/datasets/api-boamp-beta/\n",
    "\n",
    "----\n",
    "<h1 style=\"font-size:60px;\">Table D_16_Renseignementscomplementaires</h1>\n",
    "\n",
    "----\n"
   ]
  },
  {
   "cell_type": "markdown",
   "metadata": {},
   "source": [
    "- **<a href=\"#navigation\">Navigateur<a/>**\n",
    "    - **<a href=\"#chargement\">Chargement de la table<a/>**\n",
    "    - **<a href=\"#schema\">Schéma interactif de la table**    \n",
    "    - **<a href=\"#infos\">Présentation brute des colonnes<a/>**\n",
    "    - **<a href=\"#verticale\">Vue verticale de la table<a/>**\n",
    "    - **<a href=\"#horizontale\">Vue horizontale de la table<a/>**"
   ]
  },
  {
   "cell_type": "markdown",
   "metadata": {},
   "source": [
    "<div id=\"chargement\"></div>\n",
    "\n",
    "## Chargement de la table"
   ]
  },
  {
   "cell_type": "code",
   "execution_count": 2,
   "metadata": {},
   "outputs": [],
   "source": [
    "extrait_df_d_16_renseignementscomplementaires = pd.read_pickle('data/df_boamp_2021_02_D_16_renseignementscomplementaires.pkl')"
   ]
  },
  {
   "cell_type": "markdown",
   "metadata": {},
   "source": [
    "<div id=\"schema\"></div>\n",
    "\n",
    "## Schéma interactif de la table"
   ]
  },
  {
   "cell_type": "code",
   "execution_count": 3,
   "metadata": {},
   "outputs": [
    {
     "data": {
      "application/vnd.jupyter.widget-view+json": {
       "model_id": "5aec94581b304ddbbe11490254385ff1",
       "version_major": 2,
       "version_minor": 0
      },
      "text/plain": [
       "Output(layout=Layout(border='3px solid #cccccc', margin='20px 100px 20px 100px', max_width='80%', padding='10p…"
      ]
     },
     "metadata": {},
     "output_type": "display_data"
    }
   ],
   "source": [
    "from afdb_lab_scripts.afficher_plan_html import afficher_plan_html\n",
    "afficher_plan_html(source=\"boamp_plans_html/boamp_plan_d_16_renseignementscomplementaires.html\");"
   ]
  },
  {
   "cell_type": "markdown",
   "metadata": {},
   "source": [
    "[Ouvrir ce schéma en plein écran dans un nouvel onglet (cliquez sur « Trust HTML » s'il n'apparaît pas de lui-même à l'ouverture)](boamp_plans_html/boamp_plan_d_16_renseignementscomplementaires.html)"
   ]
  },
  {
   "cell_type": "markdown",
   "metadata": {},
   "source": [
    "**<a href=\"#navigation\">Remonter<a/>**"
   ]
  },
  {
   "cell_type": "markdown",
   "metadata": {},
   "source": [
    "<div id=\"infos\"></div>\n",
    "\n",
    "## Présentation brute des colonnes"
   ]
  },
  {
   "cell_type": "code",
   "execution_count": 4,
   "metadata": {},
   "outputs": [
    {
     "name": "stdout",
     "output_type": "stream",
     "text": [
      "<class 'pandas.core.frame.DataFrame'>\n",
      "Index: 10500 entries, 18-111639 to 21-9966\n",
      "Data columns (total 9 columns):\n",
      " #   Column                                                            Non-Null Count  Dtype \n",
      "---  ------                                                            --------------  ----- \n",
      " 0   D_16_01_Renseignementscomplementaires_Commandeelectroniqueoui     139 non-null    object\n",
      " 1   D_16_02_Renseignementscomplementaires_Commandeelectroniquenon     793 non-null    object\n",
      " 2   D_16_03_Renseignementscomplementaires_Facturationelectroniqueoui  586 non-null    object\n",
      " 3   D_16_04_Renseignementscomplementaires_Facturationelectroniquenon  535 non-null    object\n",
      " 4   D_16_05_Renseignementscomplementaires_Paiementelectroniqueoui     180 non-null    object\n",
      " 5   D_16_06_Renseignementscomplementaires_Paiementelectroniquenon     746 non-null    object\n",
      " 6   D_16_07_Renseignementscomplementaires_Renscomplement              8590 non-null   object\n",
      " 7   D_16_08_Renseignementscomplementaires_Proceduresrecoursprecision  2921 non-null   object\n",
      " 8   D_16_09_Renseignementscomplementaires_Adressescomplementaires     9603 non-null   object\n",
      "dtypes: object(9)\n",
      "memory usage: 820.3+ KB\n"
     ]
    }
   ],
   "source": [
    "extrait_df_d_16_renseignementscomplementaires.info()"
   ]
  },
  {
   "cell_type": "markdown",
   "metadata": {},
   "source": [
    "**<a href=\"#navigation\">Remonter<a/>**"
   ]
  },
  {
   "cell_type": "markdown",
   "metadata": {},
   "source": [
    "<div id=\"verticale\"></div>\n",
    "\n",
    "## Vue verticale de la table "
   ]
  },
  {
   "cell_type": "code",
   "execution_count": 5,
   "metadata": {},
   "outputs": [
    {
     "data": {
      "text/html": [
       "<div>\n",
       "<style scoped>\n",
       "    .dataframe tbody tr th:only-of-type {\n",
       "        vertical-align: middle;\n",
       "    }\n",
       "\n",
       "    .dataframe tbody tr th {\n",
       "        vertical-align: top;\n",
       "    }\n",
       "\n",
       "    .dataframe thead th {\n",
       "        text-align: right;\n",
       "    }\n",
       "</style>\n",
       "<table border=\"1\" class=\"dataframe\">\n",
       "  <thead>\n",
       "    <tr style=\"text-align: right;\">\n",
       "      <th>BOAMP_AVIS_NUM</th>\n",
       "      <th>18-111639</th>\n",
       "      <th>19-138840</th>\n",
       "      <th>20-105937</th>\n",
       "    </tr>\n",
       "  </thead>\n",
       "  <tbody>\n",
       "    <tr>\n",
       "      <th>D_16_01_Renseignementscomplementaires_Commandeelectroniqueoui</th>\n",
       "      <td>None</td>\n",
       "      <td>None</td>\n",
       "      <td>None</td>\n",
       "    </tr>\n",
       "    <tr>\n",
       "      <th>D_16_02_Renseignementscomplementaires_Commandeelectroniquenon</th>\n",
       "      <td>None</td>\n",
       "      <td>None</td>\n",
       "      <td>None</td>\n",
       "    </tr>\n",
       "    <tr>\n",
       "      <th>D_16_03_Renseignementscomplementaires_Facturationelectroniqueoui</th>\n",
       "      <td>None</td>\n",
       "      <td>None</td>\n",
       "      <td>None</td>\n",
       "    </tr>\n",
       "    <tr>\n",
       "      <th>D_16_04_Renseignementscomplementaires_Facturationelectroniquenon</th>\n",
       "      <td>None</td>\n",
       "      <td>None</td>\n",
       "      <td>None</td>\n",
       "    </tr>\n",
       "    <tr>\n",
       "      <th>D_16_05_Renseignementscomplementaires_Paiementelectroniqueoui</th>\n",
       "      <td>None</td>\n",
       "      <td>None</td>\n",
       "      <td>None</td>\n",
       "    </tr>\n",
       "    <tr>\n",
       "      <th>D_16_06_Renseignementscomplementaires_Paiementelectroniquenon</th>\n",
       "      <td>None</td>\n",
       "      <td>None</td>\n",
       "      <td>None</td>\n",
       "    </tr>\n",
       "    <tr>\n",
       "      <th>D_16_07_Renseignementscomplementaires_Renscomplement</th>\n",
       "      <td>Date d'envoi du présent avis au JOUE et au BOAMP : 12 février 2021.</td>\n",
       "      <td>Date d'envoi du présent avis au JOUE et au BOAMP : 12 février 2021.</td>\n",
       "      <td>Date d'envoi du présent avis au JOUE et au BOAMP : 1 février 2021.</td>\n",
       "    </tr>\n",
       "    <tr>\n",
       "      <th>D_16_08_Renseignementscomplementaires_Proceduresrecoursprecision</th>\n",
       "      <td>None</td>\n",
       "      <td>la présente procédure est susceptible de recours contentieux devant le tribunal administratif de Paris : -Le recours prévu à l'article L.551-1 du code de justice administrative avant la signature du marché ; -Le recours prévu à l'article L. 551-13 du code de justice administrative, au plus tard 31 jours après la publication de l'avis d'attribution du marché ; - Un recours de pleine juridiction dans un délai de deux mois à compter de la date de publication d'un avis d'attribution ou de la date de notification au candidat du rejet de son offre.</td>\n",
       "      <td>None</td>\n",
       "    </tr>\n",
       "    <tr>\n",
       "      <th>D_16_09_Renseignementscomplementaires_Adressescomplementaires</th>\n",
       "      <td>{'adresse': [{'type': {'agitpourautrecompteoui': None, 'admintech': None, 'admin': None, 'tech': None, 'renseignements': None, 'documents': None, 'envoyeroffres': None, 'instancerecours': '&lt;?xml version=\"1.0\" encoding=\"UTF-16\"?&gt;\\n&lt;INSTANCE_RECOURS xmlns:xsi=\"http://www.w3.org/2001/XMLSchema-instance\"/&gt;', 'organemediation': None, 'rensrecours': None}, 'denomination': 'TRIBUNAL ADMINISTRATIF DE TOULON', 'codeidentnational': None, 'correspondant': None, 'contact': None, 'adresse': None, 'cp': None, 'ville': 'TOULON', 'pays': None, 'codenuts': None, 'tel': None, 'poste': None, 'fax': None, 'mel': None, 'url': None}]}</td>\n",
       "      <td>{'adresse': [{'type': {'agitpourautrecompteoui': None, 'admintech': None, 'admin': None, 'tech': None, 'renseignements': None, 'documents': None, 'envoyeroffres': None, 'instancerecours': '&lt;?xml version=\"1.0\" encoding=\"UTF-16\"?&gt;\\n&lt;INSTANCE_RECOURS xmlns:xsi=\"http://www.w3.org/2001/XMLSchema-instance\"/&gt;', 'organemediation': None, 'rensrecours': None}, 'denomination': 'Tribunal Administratif de Paris', 'codeidentnational': None, 'correspondant': None, 'contact': None, 'adresse': '7 rue de Jouy', 'cp': '75181', 'ville': ' PARIS', 'pays': None, 'codenuts': None, 'tel': '(+33) 1-44-59-44-00', 'poste': None, 'fax': None, 'mel': 'greffe.ta-paris@juradm.fr', 'url': 'http://www.paris.tribunal-administratif.fr'}, {'type': {'agitpourautrecompteoui': None, 'admintech': None, 'admin': None, 'tech': None, 'renseignements': None, 'documents': None, 'envoyeroffres': None, 'instancerecours': None, 'organemediation': '&lt;?xml version=\"1.0\" encoding=\"UTF-16\"?&gt;\\n&lt;ORGANE_MEDIATION xmlns:xsi=\"http://www.w3.org/2001/XMLSchema-instance\"/&gt;', 'rensrecours': None}, 'denomination': 'Secrétariat du comité consultatif national de règlement amiable des différends ou litiges relatifs au marchés publics, direction des affaires juridiques, direction des affaires juridiques - sous direction de la commande publique', 'codeidentnational': None, 'correspondant': None, 'contact': None, 'adresse': '6 rue Louise Weis', 'cp': '75013', 'ville': 'Paris', 'pays': None, 'codenuts': None, 'tel': '(+33) 1-44-97-03-20', 'poste': None, 'fax': None, 'mel': 'ccnra@finances.gouv.fr', 'url': None}]}</td>\n",
       "      <td>{'adresse': [{'type': {'agitpourautrecompteoui': None, 'admintech': None, 'admin': None, 'tech': None, 'renseignements': None, 'documents': None, 'envoyeroffres': None, 'instancerecours': '&lt;?xml version=\"1.0\" encoding=\"UTF-16\"?&gt;\\n&lt;INSTANCE_RECOURS xmlns:xsi=\"http://www.w3.org/2001/XMLSchema-instance\"/&gt;', 'organemediation': None, 'rensrecours': None}, 'denomination': 'Tribunal administratif de Pau', 'codeidentnational': None, 'correspondant': None, 'contact': None, 'adresse': '50 cours Lyautey', 'cp': '64010', 'ville': 'Pau cedex', 'pays': None, 'codenuts': None, 'tel': '(+33) 5-59-84-94-40', 'poste': None, 'fax': '(+33) 5-59-02-49', 'mel': 'greffe.ta-pau@juradm.fr', 'url': None}, {'type': {'agitpourautrecompteoui': None, 'admintech': None, 'admin': None, 'tech': None, 'renseignements': None, 'documents': None, 'envoyeroffres': None, 'instancerecours': None, 'organemediation': '&lt;?xml version=\"1.0\" encoding=\"UTF-16\"?&gt;\\n&lt;ORGANE_MEDIATION xmlns:xsi=\"http://www.w3.org/2001/XMLSchema-instance\"/&gt;', 'rensrecours': None}, 'denomination': 'Comité Consultatif de Règlement Amiable des Litiges (CCIRA)', 'codeidentnational': None, 'correspondant': None, 'contact': None, 'adresse': '103 bis rue Belleville - BP 952', 'cp': '33063', 'ville': 'Bordeaux cedex', 'pays': None, 'codenuts': None, 'tel': '(+33) 5-56-69-27-18', 'poste': None, 'fax': None, 'mel': 'claire.gachet@direccte.gouv.fr', 'url': None}, {'type': {'agitpourautrecompteoui': None, 'admintech': None, 'admin': None, 'tech': None, 'renseignements': None, 'documents': None, 'envoyeroffres': None, 'instancerecours': None, 'organemediation': None, 'rensrecours': '&lt;?xml version=\"1.0\" encoding=\"UTF-16\"?&gt;\\n&lt;RENS_RECOURS xmlns:xsi=\"http://www.w3.org/2001/XMLSchema-instance\"/&gt;'}, 'denomination': 'Tribunal administratif de Pau', 'codeidentnational': None, 'correspondant': None, 'contact': None, 'adresse': '50 cours Lyautey', 'cp': '64010', 'ville': 'Pau cedex', 'pays': None, 'codenuts': None, 'tel': '(+33) 5-59-84-94-40', 'poste': None, 'fax': '(+33) 5-59-02-49-93', 'mel': 'greffe.ta-pau@juradm.fr', 'url': None}]}</td>\n",
       "    </tr>\n",
       "  </tbody>\n",
       "</table>\n",
       "</div>"
      ],
      "text/plain": [
       "BOAMP_AVIS_NUM                                                                                                                                                                                                                                                                                                                                                                                                                                                                                                                                                                                                                                                                                       18-111639  \\\n",
       "D_16_01_Renseignementscomplementaires_Commandeelectroniqueoui                                                                                                                                                                                                                                                                                                                                                                                                                                                                                                                                                                                                                                             None   \n",
       "D_16_02_Renseignementscomplementaires_Commandeelectroniquenon                                                                                                                                                                                                                                                                                                                                                                                                                                                                                                                                                                                                                                             None   \n",
       "D_16_03_Renseignementscomplementaires_Facturationelectroniqueoui                                                                                                                                                                                                                                                                                                                                                                                                                                                                                                                                                                                                                                          None   \n",
       "D_16_04_Renseignementscomplementaires_Facturationelectroniquenon                                                                                                                                                                                                                                                                                                                                                                                                                                                                                                                                                                                                                                          None   \n",
       "D_16_05_Renseignementscomplementaires_Paiementelectroniqueoui                                                                                                                                                                                                                                                                                                                                                                                                                                                                                                                                                                                                                                             None   \n",
       "D_16_06_Renseignementscomplementaires_Paiementelectroniquenon                                                                                                                                                                                                                                                                                                                                                                                                                                                                                                                                                                                                                                             None   \n",
       "D_16_07_Renseignementscomplementaires_Renscomplement                                                                                                                                                                                                                                                                                                                                                                                                                                                                                                                                                                                       Date d'envoi du présent avis au JOUE et au BOAMP : 12 février 2021.   \n",
       "D_16_08_Renseignementscomplementaires_Proceduresrecoursprecision                                                                                                                                                                                                                                                                                                                                                                                                                                                                                                                                                                                                                                          None   \n",
       "D_16_09_Renseignementscomplementaires_Adressescomplementaires     {'adresse': [{'type': {'agitpourautrecompteoui': None, 'admintech': None, 'admin': None, 'tech': None, 'renseignements': None, 'documents': None, 'envoyeroffres': None, 'instancerecours': '<?xml version=\"1.0\" encoding=\"UTF-16\"?>\\n<INSTANCE_RECOURS xmlns:xsi=\"http://www.w3.org/2001/XMLSchema-instance\"/>', 'organemediation': None, 'rensrecours': None}, 'denomination': 'TRIBUNAL ADMINISTRATIF DE TOULON', 'codeidentnational': None, 'correspondant': None, 'contact': None, 'adresse': None, 'cp': None, 'ville': 'TOULON', 'pays': None, 'codenuts': None, 'tel': None, 'poste': None, 'fax': None, 'mel': None, 'url': None}]}   \n",
       "\n",
       "BOAMP_AVIS_NUM                                                                                                                                                                                                                                                                                                                                                                                                                                                                                                                                                                                                                                                                                                                                                                                                                                                                                                                                                                                                                                                                                                                                                                                                                                                                                                                                                                                                                                                                                                                                                                                                                                                                             19-138840  \\\n",
       "D_16_01_Renseignementscomplementaires_Commandeelectroniqueoui                                                                                                                                                                                                                                                                                                                                                                                                                                                                                                                                                                                                                                                                                                                                                                                                                                                                                                                                                                                                                                                                                                                                                                                                                                                                                                                                                                                                                                                                                                                                                                                                                                   None   \n",
       "D_16_02_Renseignementscomplementaires_Commandeelectroniquenon                                                                                                                                                                                                                                                                                                                                                                                                                                                                                                                                                                                                                                                                                                                                                                                                                                                                                                                                                                                                                                                                                                                                                                                                                                                                                                                                                                                                                                                                                                                                                                                                                                   None   \n",
       "D_16_03_Renseignementscomplementaires_Facturationelectroniqueoui                                                                                                                                                                                                                                                                                                                                                                                                                                                                                                                                                                                                                                                                                                                                                                                                                                                                                                                                                                                                                                                                                                                                                                                                                                                                                                                                                                                                                                                                                                                                                                                                                                None   \n",
       "D_16_04_Renseignementscomplementaires_Facturationelectroniquenon                                                                                                                                                                                                                                                                                                                                                                                                                                                                                                                                                                                                                                                                                                                                                                                                                                                                                                                                                                                                                                                                                                                                                                                                                                                                                                                                                                                                                                                                                                                                                                                                                                None   \n",
       "D_16_05_Renseignementscomplementaires_Paiementelectroniqueoui                                                                                                                                                                                                                                                                                                                                                                                                                                                                                                                                                                                                                                                                                                                                                                                                                                                                                                                                                                                                                                                                                                                                                                                                                                                                                                                                                                                                                                                                                                                                                                                                                                   None   \n",
       "D_16_06_Renseignementscomplementaires_Paiementelectroniquenon                                                                                                                                                                                                                                                                                                                                                                                                                                                                                                                                                                                                                                                                                                                                                                                                                                                                                                                                                                                                                                                                                                                                                                                                                                                                                                                                                                                                                                                                                                                                                                                                                                   None   \n",
       "D_16_07_Renseignementscomplementaires_Renscomplement                                                                                                                                                                                                                                                                                                                                                                                                                                                                                                                                                                                                                                                                                                                                                                                                                                                                                                                                                                                                                                                                                                                                                                                                                                                                                                                                                                                                                                                                                                                                                                             Date d'envoi du présent avis au JOUE et au BOAMP : 12 février 2021.   \n",
       "D_16_08_Renseignementscomplementaires_Proceduresrecoursprecision                                                                                                                                                                                                                                                                                                                                                                                                                                                                                                                                                                                                                                                                                                                                                                                                                                                                                                                                                                                                                                                                la présente procédure est susceptible de recours contentieux devant le tribunal administratif de Paris : -Le recours prévu à l'article L.551-1 du code de justice administrative avant la signature du marché ; -Le recours prévu à l'article L. 551-13 du code de justice administrative, au plus tard 31 jours après la publication de l'avis d'attribution du marché ; - Un recours de pleine juridiction dans un délai de deux mois à compter de la date de publication d'un avis d'attribution ou de la date de notification au candidat du rejet de son offre.   \n",
       "D_16_09_Renseignementscomplementaires_Adressescomplementaires     {'adresse': [{'type': {'agitpourautrecompteoui': None, 'admintech': None, 'admin': None, 'tech': None, 'renseignements': None, 'documents': None, 'envoyeroffres': None, 'instancerecours': '<?xml version=\"1.0\" encoding=\"UTF-16\"?>\\n<INSTANCE_RECOURS xmlns:xsi=\"http://www.w3.org/2001/XMLSchema-instance\"/>', 'organemediation': None, 'rensrecours': None}, 'denomination': 'Tribunal Administratif de Paris', 'codeidentnational': None, 'correspondant': None, 'contact': None, 'adresse': '7 rue de Jouy', 'cp': '75181', 'ville': ' PARIS', 'pays': None, 'codenuts': None, 'tel': '(+33) 1-44-59-44-00', 'poste': None, 'fax': None, 'mel': 'greffe.ta-paris@juradm.fr', 'url': 'http://www.paris.tribunal-administratif.fr'}, {'type': {'agitpourautrecompteoui': None, 'admintech': None, 'admin': None, 'tech': None, 'renseignements': None, 'documents': None, 'envoyeroffres': None, 'instancerecours': None, 'organemediation': '<?xml version=\"1.0\" encoding=\"UTF-16\"?>\\n<ORGANE_MEDIATION xmlns:xsi=\"http://www.w3.org/2001/XMLSchema-instance\"/>', 'rensrecours': None}, 'denomination': 'Secrétariat du comité consultatif national de règlement amiable des différends ou litiges relatifs au marchés publics, direction des affaires juridiques, direction des affaires juridiques - sous direction de la commande publique', 'codeidentnational': None, 'correspondant': None, 'contact': None, 'adresse': '6 rue Louise Weis', 'cp': '75013', 'ville': 'Paris', 'pays': None, 'codenuts': None, 'tel': '(+33) 1-44-97-03-20', 'poste': None, 'fax': None, 'mel': 'ccnra@finances.gouv.fr', 'url': None}]}   \n",
       "\n",
       "BOAMP_AVIS_NUM                                                                                                                                                                                                                                                                                                                                                                                                                                                                                                                                                                                                                                                                                                                                                                                                                                                                                                                                                                                                                                                                                                                                                                                                                                                                                                                                                                                                                                                                                                                                                                                                                                                                                                                                                                                                                                                                                                                                                                                                                                                                                                                                                                                                              20-105937  \n",
       "D_16_01_Renseignementscomplementaires_Commandeelectroniqueoui                                                                                                                                                                                                                                                                                                                                                                                                                                                                                                                                                                                                                                                                                                                                                                                                                                                                                                                                                                                                                                                                                                                                                                                                                                                                                                                                                                                                                                                                                                                                                                                                                                                                                                                                                                                                                                                                                                                                                                                                                                                                                                                                                                    None  \n",
       "D_16_02_Renseignementscomplementaires_Commandeelectroniquenon                                                                                                                                                                                                                                                                                                                                                                                                                                                                                                                                                                                                                                                                                                                                                                                                                                                                                                                                                                                                                                                                                                                                                                                                                                                                                                                                                                                                                                                                                                                                                                                                                                                                                                                                                                                                                                                                                                                                                                                                                                                                                                                                                                    None  \n",
       "D_16_03_Renseignementscomplementaires_Facturationelectroniqueoui                                                                                                                                                                                                                                                                                                                                                                                                                                                                                                                                                                                                                                                                                                                                                                                                                                                                                                                                                                                                                                                                                                                                                                                                                                                                                                                                                                                                                                                                                                                                                                                                                                                                                                                                                                                                                                                                                                                                                                                                                                                                                                                                                                 None  \n",
       "D_16_04_Renseignementscomplementaires_Facturationelectroniquenon                                                                                                                                                                                                                                                                                                                                                                                                                                                                                                                                                                                                                                                                                                                                                                                                                                                                                                                                                                                                                                                                                                                                                                                                                                                                                                                                                                                                                                                                                                                                                                                                                                                                                                                                                                                                                                                                                                                                                                                                                                                                                                                                                                 None  \n",
       "D_16_05_Renseignementscomplementaires_Paiementelectroniqueoui                                                                                                                                                                                                                                                                                                                                                                                                                                                                                                                                                                                                                                                                                                                                                                                                                                                                                                                                                                                                                                                                                                                                                                                                                                                                                                                                                                                                                                                                                                                                                                                                                                                                                                                                                                                                                                                                                                                                                                                                                                                                                                                                                                    None  \n",
       "D_16_06_Renseignementscomplementaires_Paiementelectroniquenon                                                                                                                                                                                                                                                                                                                                                                                                                                                                                                                                                                                                                                                                                                                                                                                                                                                                                                                                                                                                                                                                                                                                                                                                                                                                                                                                                                                                                                                                                                                                                                                                                                                                                                                                                                                                                                                                                                                                                                                                                                                                                                                                                                    None  \n",
       "D_16_07_Renseignementscomplementaires_Renscomplement                                                                                                                                                                                                                                                                                                                                                                                                                                                                                                                                                                                                                                                                                                                                                                                                                                                                                                                                                                                                                                                                                                                                                                                                                                                                                                                                                                                                                                                                                                                                                                                                                                                                                                                                                                                                                                                                                                                                                                                                                                                                                                               Date d'envoi du présent avis au JOUE et au BOAMP : 1 février 2021.  \n",
       "D_16_08_Renseignementscomplementaires_Proceduresrecoursprecision                                                                                                                                                                                                                                                                                                                                                                                                                                                                                                                                                                                                                                                                                                                                                                                                                                                                                                                                                                                                                                                                                                                                                                                                                                                                                                                                                                                                                                                                                                                                                                                                                                                                                                                                                                                                                                                                                                                                                                                                                                                                                                                                                                 None  \n",
       "D_16_09_Renseignementscomplementaires_Adressescomplementaires     {'adresse': [{'type': {'agitpourautrecompteoui': None, 'admintech': None, 'admin': None, 'tech': None, 'renseignements': None, 'documents': None, 'envoyeroffres': None, 'instancerecours': '<?xml version=\"1.0\" encoding=\"UTF-16\"?>\\n<INSTANCE_RECOURS xmlns:xsi=\"http://www.w3.org/2001/XMLSchema-instance\"/>', 'organemediation': None, 'rensrecours': None}, 'denomination': 'Tribunal administratif de Pau', 'codeidentnational': None, 'correspondant': None, 'contact': None, 'adresse': '50 cours Lyautey', 'cp': '64010', 'ville': 'Pau cedex', 'pays': None, 'codenuts': None, 'tel': '(+33) 5-59-84-94-40', 'poste': None, 'fax': '(+33) 5-59-02-49', 'mel': 'greffe.ta-pau@juradm.fr', 'url': None}, {'type': {'agitpourautrecompteoui': None, 'admintech': None, 'admin': None, 'tech': None, 'renseignements': None, 'documents': None, 'envoyeroffres': None, 'instancerecours': None, 'organemediation': '<?xml version=\"1.0\" encoding=\"UTF-16\"?>\\n<ORGANE_MEDIATION xmlns:xsi=\"http://www.w3.org/2001/XMLSchema-instance\"/>', 'rensrecours': None}, 'denomination': 'Comité Consultatif de Règlement Amiable des Litiges (CCIRA)', 'codeidentnational': None, 'correspondant': None, 'contact': None, 'adresse': '103 bis rue Belleville - BP 952', 'cp': '33063', 'ville': 'Bordeaux cedex', 'pays': None, 'codenuts': None, 'tel': '(+33) 5-56-69-27-18', 'poste': None, 'fax': None, 'mel': 'claire.gachet@direccte.gouv.fr', 'url': None}, {'type': {'agitpourautrecompteoui': None, 'admintech': None, 'admin': None, 'tech': None, 'renseignements': None, 'documents': None, 'envoyeroffres': None, 'instancerecours': None, 'organemediation': None, 'rensrecours': '<?xml version=\"1.0\" encoding=\"UTF-16\"?>\\n<RENS_RECOURS xmlns:xsi=\"http://www.w3.org/2001/XMLSchema-instance\"/>'}, 'denomination': 'Tribunal administratif de Pau', 'codeidentnational': None, 'correspondant': None, 'contact': None, 'adresse': '50 cours Lyautey', 'cp': '64010', 'ville': 'Pau cedex', 'pays': None, 'codenuts': None, 'tel': '(+33) 5-59-84-94-40', 'poste': None, 'fax': '(+33) 5-59-02-49-93', 'mel': 'greffe.ta-pau@juradm.fr', 'url': None}]}  "
      ]
     },
     "execution_count": 5,
     "metadata": {},
     "output_type": "execute_result"
    }
   ],
   "source": [
    "extrait_df_d_16_renseignementscomplementaires.head(3).T"
   ]
  },
  {
   "cell_type": "markdown",
   "metadata": {},
   "source": [
    "**<a href=\"#navigation\">Remonter<a/>**"
   ]
  },
  {
   "cell_type": "markdown",
   "metadata": {},
   "source": [
    "<div id=\"horizontale\"></div>\n",
    "\n",
    "## Vue horizontale de la table "
   ]
  },
  {
   "cell_type": "code",
   "execution_count": 6,
   "metadata": {},
   "outputs": [
    {
     "data": {
      "text/html": [
       "<div>\n",
       "<style scoped>\n",
       "    .dataframe tbody tr th:only-of-type {\n",
       "        vertical-align: middle;\n",
       "    }\n",
       "\n",
       "    .dataframe tbody tr th {\n",
       "        vertical-align: top;\n",
       "    }\n",
       "\n",
       "    .dataframe thead th {\n",
       "        text-align: right;\n",
       "    }\n",
       "</style>\n",
       "<table border=\"1\" class=\"dataframe\">\n",
       "  <thead>\n",
       "    <tr style=\"text-align: right;\">\n",
       "      <th></th>\n",
       "      <th>D_16_01_Renseignementscomplementaires_Commandeelectroniqueoui</th>\n",
       "      <th>D_16_02_Renseignementscomplementaires_Commandeelectroniquenon</th>\n",
       "      <th>D_16_03_Renseignementscomplementaires_Facturationelectroniqueoui</th>\n",
       "      <th>D_16_04_Renseignementscomplementaires_Facturationelectroniquenon</th>\n",
       "      <th>D_16_05_Renseignementscomplementaires_Paiementelectroniqueoui</th>\n",
       "      <th>D_16_06_Renseignementscomplementaires_Paiementelectroniquenon</th>\n",
       "      <th>D_16_07_Renseignementscomplementaires_Renscomplement</th>\n",
       "      <th>D_16_08_Renseignementscomplementaires_Proceduresrecoursprecision</th>\n",
       "      <th>D_16_09_Renseignementscomplementaires_Adressescomplementaires</th>\n",
       "    </tr>\n",
       "    <tr>\n",
       "      <th>BOAMP_AVIS_NUM</th>\n",
       "      <th></th>\n",
       "      <th></th>\n",
       "      <th></th>\n",
       "      <th></th>\n",
       "      <th></th>\n",
       "      <th></th>\n",
       "      <th></th>\n",
       "      <th></th>\n",
       "      <th></th>\n",
       "    </tr>\n",
       "  </thead>\n",
       "  <tbody>\n",
       "    <tr>\n",
       "      <th>18-111639</th>\n",
       "      <td>None</td>\n",
       "      <td>None</td>\n",
       "      <td>None</td>\n",
       "      <td>None</td>\n",
       "      <td>None</td>\n",
       "      <td>None</td>\n",
       "      <td>Date d'envoi du présent avis au JOUE et au BOAMP : 12 février 2021.</td>\n",
       "      <td>None</td>\n",
       "      <td>{'adresse': [{'type': {'agitpourautrecompteoui': None, 'admintech': None, 'admin': None, 'tech': None, 'renseignements': None, 'documents': None, 'envoyeroffres': None, 'instancerecours': '&lt;?xml version=\"1.0\" encoding=\"UTF-16\"?&gt;\\n&lt;INSTANCE_RECOURS xmlns:xsi=\"http://www.w3.org/2001/XMLSchema-instance\"/&gt;', 'organemediation': None, 'rensrecours': None}, 'denomination': 'TRIBUNAL ADMINISTRATIF DE TOULON', 'codeidentnational': None, 'correspondant': None, 'contact': None, 'adresse': None, 'cp': None, 'ville': 'TOULON', 'pays': None, 'codenuts': None, 'tel': None, 'poste': None, 'fax': None, 'mel': None, 'url': None}]}</td>\n",
       "    </tr>\n",
       "    <tr>\n",
       "      <th>19-138840</th>\n",
       "      <td>None</td>\n",
       "      <td>None</td>\n",
       "      <td>None</td>\n",
       "      <td>None</td>\n",
       "      <td>None</td>\n",
       "      <td>None</td>\n",
       "      <td>Date d'envoi du présent avis au JOUE et au BOAMP : 12 février 2021.</td>\n",
       "      <td>la présente procédure est susceptible de recours contentieux devant le tribunal administratif de Paris : -Le recours prévu à l'article L.551-1 du code de justice administrative avant la signature du marché ; -Le recours prévu à l'article L. 551-13 du code de justice administrative, au plus tard 31 jours après la publication de l'avis d'attribution du marché ; - Un recours de pleine juridiction dans un délai de deux mois à compter de la date de publication d'un avis d'attribution ou de la date de notification au candidat du rejet de son offre.</td>\n",
       "      <td>{'adresse': [{'type': {'agitpourautrecompteoui': None, 'admintech': None, 'admin': None, 'tech': None, 'renseignements': None, 'documents': None, 'envoyeroffres': None, 'instancerecours': '&lt;?xml version=\"1.0\" encoding=\"UTF-16\"?&gt;\\n&lt;INSTANCE_RECOURS xmlns:xsi=\"http://www.w3.org/2001/XMLSchema-instance\"/&gt;', 'organemediation': None, 'rensrecours': None}, 'denomination': 'Tribunal Administratif de Paris', 'codeidentnational': None, 'correspondant': None, 'contact': None, 'adresse': '7 rue de Jouy', 'cp': '75181', 'ville': ' PARIS', 'pays': None, 'codenuts': None, 'tel': '(+33) 1-44-59-44-00', 'poste': None, 'fax': None, 'mel': 'greffe.ta-paris@juradm.fr', 'url': 'http://www.paris.tribunal-administratif.fr'}, {'type': {'agitpourautrecompteoui': None, 'admintech': None, 'admin': None, 'tech': None, 'renseignements': None, 'documents': None, 'envoyeroffres': None, 'instancerecours': None, 'organemediation': '&lt;?xml version=\"1.0\" encoding=\"UTF-16\"?&gt;\\n&lt;ORGANE_MEDIATION xmlns:xsi=\"http://www.w3.org/2001/XMLSchema-instance\"/&gt;', 'rensrecours': None}, 'denomination': 'Secrétariat du comité consultatif national de règlement amiable des différends ou litiges relatifs au marchés publics, direction des affaires juridiques, direction des affaires juridiques - sous direction de la commande publique', 'codeidentnational': None, 'correspondant': None, 'contact': None, 'adresse': '6 rue Louise Weis', 'cp': '75013', 'ville': 'Paris', 'pays': None, 'codenuts': None, 'tel': '(+33) 1-44-97-03-20', 'poste': None, 'fax': None, 'mel': 'ccnra@finances.gouv.fr', 'url': None}]}</td>\n",
       "    </tr>\n",
       "    <tr>\n",
       "      <th>20-105937</th>\n",
       "      <td>None</td>\n",
       "      <td>None</td>\n",
       "      <td>None</td>\n",
       "      <td>None</td>\n",
       "      <td>None</td>\n",
       "      <td>None</td>\n",
       "      <td>Date d'envoi du présent avis au JOUE et au BOAMP : 1 février 2021.</td>\n",
       "      <td>None</td>\n",
       "      <td>{'adresse': [{'type': {'agitpourautrecompteoui': None, 'admintech': None, 'admin': None, 'tech': None, 'renseignements': None, 'documents': None, 'envoyeroffres': None, 'instancerecours': '&lt;?xml version=\"1.0\" encoding=\"UTF-16\"?&gt;\\n&lt;INSTANCE_RECOURS xmlns:xsi=\"http://www.w3.org/2001/XMLSchema-instance\"/&gt;', 'organemediation': None, 'rensrecours': None}, 'denomination': 'Tribunal administratif de Pau', 'codeidentnational': None, 'correspondant': None, 'contact': None, 'adresse': '50 cours Lyautey', 'cp': '64010', 'ville': 'Pau cedex', 'pays': None, 'codenuts': None, 'tel': '(+33) 5-59-84-94-40', 'poste': None, 'fax': '(+33) 5-59-02-49', 'mel': 'greffe.ta-pau@juradm.fr', 'url': None}, {'type': {'agitpourautrecompteoui': None, 'admintech': None, 'admin': None, 'tech': None, 'renseignements': None, 'documents': None, 'envoyeroffres': None, 'instancerecours': None, 'organemediation': '&lt;?xml version=\"1.0\" encoding=\"UTF-16\"?&gt;\\n&lt;ORGANE_MEDIATION xmlns:xsi=\"http://www.w3.org/2001/XMLSchema-instance\"/&gt;', 'rensrecours': None}, 'denomination': 'Comité Consultatif de Règlement Amiable des Litiges (CCIRA)', 'codeidentnational': None, 'correspondant': None, 'contact': None, 'adresse': '103 bis rue Belleville - BP 952', 'cp': '33063', 'ville': 'Bordeaux cedex', 'pays': None, 'codenuts': None, 'tel': '(+33) 5-56-69-27-18', 'poste': None, 'fax': None, 'mel': 'claire.gachet@direccte.gouv.fr', 'url': None}, {'type': {'agitpourautrecompteoui': None, 'admintech': None, 'admin': None, 'tech': None, 'renseignements': None, 'documents': None, 'envoyeroffres': None, 'instancerecours': None, 'organemediation': None, 'rensrecours': '&lt;?xml version=\"1.0\" encoding=\"UTF-16\"?&gt;\\n&lt;RENS_RECOURS xmlns:xsi=\"http://www.w3.org/2001/XMLSchema-instance\"/&gt;'}, 'denomination': 'Tribunal administratif de Pau', 'codeidentnational': None, 'correspondant': None, 'contact': None, 'adresse': '50 cours Lyautey', 'cp': '64010', 'ville': 'Pau cedex', 'pays': None, 'codenuts': None, 'tel': '(+33) 5-59-84-94-40', 'poste': None, 'fax': '(+33) 5-59-02-49-93', 'mel': 'greffe.ta-pau@juradm.fr', 'url': None}]}</td>\n",
       "    </tr>\n",
       "  </tbody>\n",
       "</table>\n",
       "</div>"
      ],
      "text/plain": [
       "               D_16_01_Renseignementscomplementaires_Commandeelectroniqueoui  \\\n",
       "BOAMP_AVIS_NUM                                                                 \n",
       "18-111639                                                               None   \n",
       "19-138840                                                               None   \n",
       "20-105937                                                               None   \n",
       "\n",
       "               D_16_02_Renseignementscomplementaires_Commandeelectroniquenon  \\\n",
       "BOAMP_AVIS_NUM                                                                 \n",
       "18-111639                                                               None   \n",
       "19-138840                                                               None   \n",
       "20-105937                                                               None   \n",
       "\n",
       "               D_16_03_Renseignementscomplementaires_Facturationelectroniqueoui  \\\n",
       "BOAMP_AVIS_NUM                                                                    \n",
       "18-111639                                                                  None   \n",
       "19-138840                                                                  None   \n",
       "20-105937                                                                  None   \n",
       "\n",
       "               D_16_04_Renseignementscomplementaires_Facturationelectroniquenon  \\\n",
       "BOAMP_AVIS_NUM                                                                    \n",
       "18-111639                                                                  None   \n",
       "19-138840                                                                  None   \n",
       "20-105937                                                                  None   \n",
       "\n",
       "               D_16_05_Renseignementscomplementaires_Paiementelectroniqueoui  \\\n",
       "BOAMP_AVIS_NUM                                                                 \n",
       "18-111639                                                               None   \n",
       "19-138840                                                               None   \n",
       "20-105937                                                               None   \n",
       "\n",
       "               D_16_06_Renseignementscomplementaires_Paiementelectroniquenon  \\\n",
       "BOAMP_AVIS_NUM                                                                 \n",
       "18-111639                                                               None   \n",
       "19-138840                                                               None   \n",
       "20-105937                                                               None   \n",
       "\n",
       "                                D_16_07_Renseignementscomplementaires_Renscomplement  \\\n",
       "BOAMP_AVIS_NUM                                                                         \n",
       "18-111639        Date d'envoi du présent avis au JOUE et au BOAMP : 12 février 2021.   \n",
       "19-138840        Date d'envoi du présent avis au JOUE et au BOAMP : 12 février 2021.   \n",
       "20-105937         Date d'envoi du présent avis au JOUE et au BOAMP : 1 février 2021.   \n",
       "\n",
       "                                                                                                                                                                                                                                                                                                                                                                                                                                                                                                                    D_16_08_Renseignementscomplementaires_Proceduresrecoursprecision  \\\n",
       "BOAMP_AVIS_NUM                                                                                                                                                                                                                                                                                                                                                                                                                                                                                                                                                                         \n",
       "18-111639                                                                                                                                                                                                                                                                                                                                                                                                                                                                                                                                                                       None   \n",
       "19-138840       la présente procédure est susceptible de recours contentieux devant le tribunal administratif de Paris : -Le recours prévu à l'article L.551-1 du code de justice administrative avant la signature du marché ; -Le recours prévu à l'article L. 551-13 du code de justice administrative, au plus tard 31 jours après la publication de l'avis d'attribution du marché ; - Un recours de pleine juridiction dans un délai de deux mois à compter de la date de publication d'un avis d'attribution ou de la date de notification au candidat du rejet de son offre.   \n",
       "20-105937                                                                                                                                                                                                                                                                                                                                                                                                                                                                                                                                                                       None   \n",
       "\n",
       "                                                                                                                                                                                                                                                                                                                                                                                                                                                                                                                                                                                                                                                                                                                                                                                                                                                                                                                                                                                                                                                                                                                                                                                                                                                                                                                                                                                                                                                                                                                                                                                                                                                                                                                                                                                                                                                                                                                                                                                                                                                                                                                      D_16_09_Renseignementscomplementaires_Adressescomplementaires  \n",
       "BOAMP_AVIS_NUM                                                                                                                                                                                                                                                                                                                                                                                                                                                                                                                                                                                                                                                                                                                                                                                                                                                                                                                                                                                                                                                                                                                                                                                                                                                                                                                                                                                                                                                                                                                                                                                                                                                                                                                                                                                                                                                                                                                                                                                                                                                                                                                                                                       \n",
       "18-111639                                                                                                                                                                                                                                                                                                                                                                                                                                                                                                                                                                                                                                                                                                                                                                                                                                                                                                                                                                                                                                                                                                                                                                                                                                                                                                                                                                                                                                                                                                                              {'adresse': [{'type': {'agitpourautrecompteoui': None, 'admintech': None, 'admin': None, 'tech': None, 'renseignements': None, 'documents': None, 'envoyeroffres': None, 'instancerecours': '<?xml version=\"1.0\" encoding=\"UTF-16\"?>\\n<INSTANCE_RECOURS xmlns:xsi=\"http://www.w3.org/2001/XMLSchema-instance\"/>', 'organemediation': None, 'rensrecours': None}, 'denomination': 'TRIBUNAL ADMINISTRATIF DE TOULON', 'codeidentnational': None, 'correspondant': None, 'contact': None, 'adresse': None, 'cp': None, 'ville': 'TOULON', 'pays': None, 'codenuts': None, 'tel': None, 'poste': None, 'fax': None, 'mel': None, 'url': None}]}  \n",
       "19-138840                                                                                                                                                                                                                                                                                                                                                                                                                                                                                                                                        {'adresse': [{'type': {'agitpourautrecompteoui': None, 'admintech': None, 'admin': None, 'tech': None, 'renseignements': None, 'documents': None, 'envoyeroffres': None, 'instancerecours': '<?xml version=\"1.0\" encoding=\"UTF-16\"?>\\n<INSTANCE_RECOURS xmlns:xsi=\"http://www.w3.org/2001/XMLSchema-instance\"/>', 'organemediation': None, 'rensrecours': None}, 'denomination': 'Tribunal Administratif de Paris', 'codeidentnational': None, 'correspondant': None, 'contact': None, 'adresse': '7 rue de Jouy', 'cp': '75181', 'ville': ' PARIS', 'pays': None, 'codenuts': None, 'tel': '(+33) 1-44-59-44-00', 'poste': None, 'fax': None, 'mel': 'greffe.ta-paris@juradm.fr', 'url': 'http://www.paris.tribunal-administratif.fr'}, {'type': {'agitpourautrecompteoui': None, 'admintech': None, 'admin': None, 'tech': None, 'renseignements': None, 'documents': None, 'envoyeroffres': None, 'instancerecours': None, 'organemediation': '<?xml version=\"1.0\" encoding=\"UTF-16\"?>\\n<ORGANE_MEDIATION xmlns:xsi=\"http://www.w3.org/2001/XMLSchema-instance\"/>', 'rensrecours': None}, 'denomination': 'Secrétariat du comité consultatif national de règlement amiable des différends ou litiges relatifs au marchés publics, direction des affaires juridiques, direction des affaires juridiques - sous direction de la commande publique', 'codeidentnational': None, 'correspondant': None, 'contact': None, 'adresse': '6 rue Louise Weis', 'cp': '75013', 'ville': 'Paris', 'pays': None, 'codenuts': None, 'tel': '(+33) 1-44-97-03-20', 'poste': None, 'fax': None, 'mel': 'ccnra@finances.gouv.fr', 'url': None}]}  \n",
       "20-105937       {'adresse': [{'type': {'agitpourautrecompteoui': None, 'admintech': None, 'admin': None, 'tech': None, 'renseignements': None, 'documents': None, 'envoyeroffres': None, 'instancerecours': '<?xml version=\"1.0\" encoding=\"UTF-16\"?>\\n<INSTANCE_RECOURS xmlns:xsi=\"http://www.w3.org/2001/XMLSchema-instance\"/>', 'organemediation': None, 'rensrecours': None}, 'denomination': 'Tribunal administratif de Pau', 'codeidentnational': None, 'correspondant': None, 'contact': None, 'adresse': '50 cours Lyautey', 'cp': '64010', 'ville': 'Pau cedex', 'pays': None, 'codenuts': None, 'tel': '(+33) 5-59-84-94-40', 'poste': None, 'fax': '(+33) 5-59-02-49', 'mel': 'greffe.ta-pau@juradm.fr', 'url': None}, {'type': {'agitpourautrecompteoui': None, 'admintech': None, 'admin': None, 'tech': None, 'renseignements': None, 'documents': None, 'envoyeroffres': None, 'instancerecours': None, 'organemediation': '<?xml version=\"1.0\" encoding=\"UTF-16\"?>\\n<ORGANE_MEDIATION xmlns:xsi=\"http://www.w3.org/2001/XMLSchema-instance\"/>', 'rensrecours': None}, 'denomination': 'Comité Consultatif de Règlement Amiable des Litiges (CCIRA)', 'codeidentnational': None, 'correspondant': None, 'contact': None, 'adresse': '103 bis rue Belleville - BP 952', 'cp': '33063', 'ville': 'Bordeaux cedex', 'pays': None, 'codenuts': None, 'tel': '(+33) 5-56-69-27-18', 'poste': None, 'fax': None, 'mel': 'claire.gachet@direccte.gouv.fr', 'url': None}, {'type': {'agitpourautrecompteoui': None, 'admintech': None, 'admin': None, 'tech': None, 'renseignements': None, 'documents': None, 'envoyeroffres': None, 'instancerecours': None, 'organemediation': None, 'rensrecours': '<?xml version=\"1.0\" encoding=\"UTF-16\"?>\\n<RENS_RECOURS xmlns:xsi=\"http://www.w3.org/2001/XMLSchema-instance\"/>'}, 'denomination': 'Tribunal administratif de Pau', 'codeidentnational': None, 'correspondant': None, 'contact': None, 'adresse': '50 cours Lyautey', 'cp': '64010', 'ville': 'Pau cedex', 'pays': None, 'codenuts': None, 'tel': '(+33) 5-59-84-94-40', 'poste': None, 'fax': '(+33) 5-59-02-49-93', 'mel': 'greffe.ta-pau@juradm.fr', 'url': None}]}  "
      ]
     },
     "execution_count": 6,
     "metadata": {},
     "output_type": "execute_result"
    }
   ],
   "source": [
    "extrait_df_d_16_renseignementscomplementaires.head(3)"
   ]
  },
  {
   "cell_type": "markdown",
   "metadata": {},
   "source": [
    "**<a href=\"#navigation\">Remonter<a/>**"
   ]
  }
 ],
 "metadata": {
  "kernelspec": {
   "display_name": "Python 3",
   "language": "python",
   "name": "python3"
  },
  "language_info": {
   "codemirror_mode": {
    "name": "ipython",
    "version": 3
   },
   "file_extension": ".py",
   "mimetype": "text/x-python",
   "name": "python",
   "nbconvert_exporter": "python",
   "pygments_lexer": "ipython3",
   "version": "3.8.6"
  },
  "widgets": {
   "application/vnd.jupyter.widget-state+json": {
    "state": {
     "5aec94581b304ddbbe11490254385ff1": {
      "model_module": "@jupyter-widgets/output",
      "model_module_version": "1.0.0",
      "model_name": "OutputModel",
      "state": {
       "layout": "IPY_MODEL_f621372075c84f23b09bb036a15c1156",
       "outputs": [
        {
         "data": {
          "text/html": "\n        <iframe\n            width=\"98%\"\n            height=\"400px\"\n            src=\"boamp_plans_html/boamp_plan_d_16_renseignementscomplementaires.html\"\n            frameborder=\"0\"\n            allowfullscreen\n        ></iframe>\n        ",
          "text/plain": "<IPython.lib.display.IFrame at 0x20a0b50ce50>"
         },
         "metadata": {},
         "output_type": "display_data"
        },
        {
         "data": {
          "text/html": "<p><strong>Cliquez sur les cercles contenus dans la figure pour ouvrir et refermer les niveaux.<br>    \n                     L'image est zommable.<br><br>\n                     <a href=boamp_plans_html/boamp_plan_d_16_renseignementscomplementaires.html> --> Ouvrir ce schéma en plein écran dans un nouvel onglet. </a></strong><br>\n                     <em>Cliquez sur « Trust HTML » si le schéma n'apparaît pas de lui-même à l'ouverture du lien.</em></p>\n                     ",
          "text/plain": "<IPython.core.display.HTML object>"
         },
         "metadata": {},
         "output_type": "display_data"
        }
       ]
      }
     },
     "f621372075c84f23b09bb036a15c1156": {
      "model_module": "@jupyter-widgets/base",
      "model_module_version": "1.2.0",
      "model_name": "LayoutModel",
      "state": {
       "border": "3px solid #cccccc",
       "margin": "20px 100px 20px 100px",
       "max_width": "80%",
       "padding": "10px"
      }
     }
    },
    "version_major": 2,
    "version_minor": 0
   }
  }
 },
 "nbformat": 4,
 "nbformat_minor": 4
}
