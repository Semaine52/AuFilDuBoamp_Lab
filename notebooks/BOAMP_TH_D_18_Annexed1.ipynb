{
 "cells": [
  {
   "cell_type": "code",
   "execution_count": null,
   "metadata": {},
   "outputs": [],
   "source": [
    "%run afdb_lab_scripts/afdb_lab_prereglages\n",
    "%run afdb_lab_scripts/afdb_lab_haut"
   ]
  },
  {
   "cell_type": "markdown",
   "metadata": {},
   "source": [
    "<div id=\"navigation\"></div>\n",
    "\n",
    "#### Un tour d'horizon des Tables du BOAMP\n",
    "\n",
    "À base des données recueillies en OpenData via l'API consacrée --> https://www.data.gouv.fr/fr/datasets/api-boamp-beta/\n",
    "\n",
    "----\n",
    "<h1 style=\"font-size:60px;\">Table D_18_annexed1</h1>\n",
    "\n",
    "----\n"
   ]
  },
  {
   "cell_type": "markdown",
   "metadata": {},
   "source": [
    "- **<a href=\"#navigation\">Navigateur<a/>**\n",
    "    - **<a href=\"#chargement\">Chargement de la table<a/>**\n",
    "    - **<a href=\"#schema\">Schéma interactif de la table**    \n",
    "    - **<a href=\"#infos\">Présentation brute des colonnes<a/>**\n",
    "    - **<a href=\"#verticale\">Vue verticale de la table<a/>**\n",
    "    - **<a href=\"#horizontale\">Vue horizontale de la table<a/>**"
   ]
  },
  {
   "cell_type": "markdown",
   "metadata": {},
   "source": [
    "<div id=\"chargement\"></div>\n",
    "\n",
    "## Chargement de la table"
   ]
  },
  {
   "cell_type": "code",
   "execution_count": null,
   "metadata": {},
   "outputs": [],
   "source": [
    "extrait_df_d_18_annexed1 = pd.read_pickle('boamp_2021_T1_data_mensuel/df_boamp_2021_02_D_18_Annexed1.pkl')"
   ]
  },
  {
   "cell_type": "markdown",
   "metadata": {},
   "source": [
    "<div id=\"schema\"></div>\n",
    "\n",
    "## Schéma interactif de la table"
   ]
  },
  {
   "cell_type": "code",
   "execution_count": null,
   "metadata": {},
   "outputs": [],
   "source": [
    "from afdb_lab_scripts.afficher_plan_html import afficher_plan_html\n",
    "afficher_plan_html(source=\"boamp_plans_html/boamp_plan_d_18_annexed1.html\");"
   ]
  },
  {
   "cell_type": "markdown",
   "metadata": {},
   "source": [
    "[Ouvrir ce schéma en plein écran dans un nouvel onglet (cliquez sur « Trust HTML » s'il n'apparaît pas de lui-même à l'ouverture)](boamp_plans_html/boamp_plan_d_18_annexed1.html)"
   ]
  },
  {
   "cell_type": "markdown",
   "metadata": {},
   "source": [
    "**<a href=\"#navigation\">Remonter<a/>**"
   ]
  },
  {
   "cell_type": "markdown",
   "metadata": {},
   "source": [
    "<div id=\"infos\"></div>\n",
    "\n",
    "## Présentation brute des colonnes"
   ]
  },
  {
   "cell_type": "code",
   "execution_count": null,
   "metadata": {},
   "outputs": [],
   "source": [
    "extrait_df_d_18_annexed1.info()"
   ]
  },
  {
   "cell_type": "markdown",
   "metadata": {},
   "source": [
    "**<a href=\"#navigation\">Remonter<a/>**"
   ]
  },
  {
   "cell_type": "markdown",
   "metadata": {},
   "source": [
    "<div id=\"verticale\"></div>\n",
    "\n",
    "## Vue verticale de la table "
   ]
  },
  {
   "cell_type": "code",
   "execution_count": null,
   "metadata": {},
   "outputs": [],
   "source": [
    "extrait_df_d_18_annexed1.head(3).T"
   ]
  },
  {
   "cell_type": "markdown",
   "metadata": {},
   "source": [
    "**<a href=\"#navigation\">Remonter<a/>**"
   ]
  },
  {
   "cell_type": "markdown",
   "metadata": {},
   "source": [
    "<div id=\"horizontale\"></div>\n",
    "\n",
    "## Vue horizontale de la table "
   ]
  },
  {
   "cell_type": "code",
   "execution_count": null,
   "metadata": {},
   "outputs": [],
   "source": [
    "extrait_df_d_18_annexed1.head(3)"
   ]
  },
  {
   "cell_type": "markdown",
   "metadata": {},
   "source": [
    "**<a href=\"#navigation\">Remonter<a/>**"
   ]
  }
 ],
 "metadata": {
  "kernelspec": {
   "display_name": "Python 3",
   "language": "python",
   "name": "python3"
  },
  "language_info": {
   "codemirror_mode": {
    "name": "ipython",
    "version": 3
   },
   "file_extension": ".py",
   "mimetype": "text/x-python",
   "name": "python",
   "nbconvert_exporter": "python",
   "pygments_lexer": "ipython3",
   "version": "3.8.6"
  },
  "widgets": {
   "application/vnd.jupyter.widget-state+json": {
    "state": {},
    "version_major": 2,
    "version_minor": 0
   }
  }
 },
 "nbformat": 4,
 "nbformat_minor": 4
}
