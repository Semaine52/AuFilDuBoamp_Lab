{
 "cells": [
  {
   "cell_type": "code",
   "execution_count": 1,
   "metadata": {},
   "outputs": [
    {
     "data": {
      "text/html": [
       "\n",
       "\n",
       "<!DOCTYPE html>\n",
       "\n",
       "<html>\n",
       "\n",
       "<title>AuFilDuBoamp_Lab par Semaine52</title>\n",
       "<meta name=\"viewport\" content=\"width=device-width, initial-scale=1\">\n",
       "<link rel=\"stylesheet\" href=\"https://www.w3schools.com/w3css/4/w3.css\">\n",
       "<link rel=\"stylesheet\" href=\"https://cdnjs.cloudflare.com/ajax/libs/font-awesome/4.7.0/css/font-awesome.min.css\">\n",
       "<script src='https://kit.fontawesome.com/a076d05399.js'></script>\n",
       "\n",
       "\n",
       "<body>\n",
       "\n",
       "<div class=\"w3-container\">\n",
       "   <div class=\"w3-padding  w3-white w3-small\">\n",
       "  \n",
       "     <a href=\"https://github.com/Semaine52/AuFilDuBoamp_Lab\" title=\"AuFilDuBoamp_Lab sur GitHub\" alt=\"AuFilDuBoamp_Lab sur GitHub\" class=\"w3-bar-item w3-button fas fa-share-square w3-small w3-white\">&nbsp; AuFilDuBoamp_Lab sur GitHub</a>\n",
       "     \n",
       "     <a href=\"https://twitter.com/AuFilDuBoamp\" title=\"AuFilDuBoamp sur Twitter\" alt=\"AuFilDuBoamp sur Twitter\" class=\"w3-bar-item w3-button fas fa-share-square w3-small w3-white\">&nbsp; sur Twitter</a>\n",
       "     \n",
       "     <a href=\"https://www.data.gouv.fr/fr/organizations/aufilduboamp-1/\" title=\"AuFilDuBoamp sur DataGouv.fr\" alt=\"AuFilDuBoamp sur DataGouv.fr\" class=\"w3-bar-item w3-button fas fa-share-square w3-small  w3-white\">&nbsp; sur DataGouv.fr</a>\n",
       "     \n",
       "          <a href=\"https://mybinder.org/v2/gh/Semaine52/AuFilDuBoamp_Lab/master?urlpath=lab/tree/notebooks/_Sommaire.ipynb\" title=\"AuFilDuBoamp_Lab sur Binder\" alt=\"AuFilDuBoamp_Lab sur Binder\" class=\"w3-bar-item w3-button fas fa-share-square w3-small  w3-white\">&nbsp; sur Binder</a>\n",
       "          \n",
       "          <a href=\"https://teamopendata.org/u/semaine52_jmf/summary\" title=\"Jean-Marie Falvet sur TeamOpenData\" alt=\"Jean-Marie Falvet sur TeamOpenData\" class=\"w3-bar-item w3-button fas fa-share-square w3-small  w3-white\">&nbsp; chez TeamOpenData</a>\n",
       "          \n",
       "          \n",
       "     \n",
       "       \n",
       "         <a href=\"https://www.data.gouv.fr/fr/datasets/boamp/\" title=\"Le BOAMP sur DataGouv.fr\" alt=\"Le BOAMP sur DataGouv.fr\" class=\"w3-bar-item w3-button fas fa-share-square w3-small w3-white\">&nbsp; Le BOAMP sur DataGouv.fr</a>\n",
       "     \n",
       "     <a href=\"https://www.boamp.fr/\" title=\"BOAMP.fr\" alt=\"BOAMP.fr\"class=\"w3-bar-item w3-button fas fa-share-square w3-small  w3-white\">BOAMP.fr</a>\n",
       "     \n",
       "     <a href=\"https://www.legifrance.gouv.fr/affichCode.do?cidTexte=LEGITEXT000037701019\" title=\"Accueil\" alt=\"Accueil\"class=\"w3-bar-item w3-button fas fa-share-square w3-small  w3-white\">&nbsp; Code de la commande publique (Légifrance)</a>  \n",
       "    \n",
       "   </div> \n",
       "      \n",
       " </div>\n",
       "\n",
       " <div class=\"w3-container\">\n",
       "   <div><img class=\"w3-animate-right\" src=\"design/AFDB_DOTS.svg\" alt=\"AuFilDuBoamp_Lab\" title=\"AuFilDuBoamp_Lab\" style=\"width:40%\"></div>\n",
       "\n",
       "   <div class=\"w3-padding w3-xlarge w3-white\"> \n",
       "     \n",
       "       \n",
       "        \n",
       "     <a href=\"_Sommaire.ipynb\" alt=\"Sommaire général\" title=\"Sommaire général\" class=\"w3-bar-item w3-button fa fa-list w3-large w3-amber\">&nbsp; Lien vers le Sommaire général</a>  \n",
       "     <a href=\"https://mybinder.org/v2/gh/Semaine52/AuFilDuBoamp_Lab/master?urlpath=lab/tree/notebooks/_Sommaire.ipynb\" alt=\"Lancer Binder\" title=\"Lancer Binder\" class=\"w3-bar-item w3-button fa fa-arrow-right w3-large w3-teal\">&nbsp; Lancer Binder</a>  \n",
       "     <p style=\"font-size:16px; margin-top:5px\">N'oubliez pas <strong>« Run All Cells »</strong> du menu <strong>« Run »</strong> pour activer les pages une fois sur Binder.</p>\n",
       "  </div>\n",
       "  \n",
       " </div>\n",
       "\n",
       "</body>\n",
       "\n",
       "</html> \n",
       "\n",
       " "
      ],
      "text/plain": [
       "<IPython.core.display.HTML object>"
      ]
     },
     "metadata": {},
     "output_type": "display_data"
    }
   ],
   "source": [
    "%run afdb_lab_scripts/afdb_lab_prereglages\n",
    "%run afdb_lab_scripts/afdb_lab_haut"
   ]
  },
  {
   "cell_type": "markdown",
   "metadata": {},
   "source": [
    "<div id=\"navigation\"></div>\n",
    "\n",
    "#### Un tour d'horizon des Tables du BOAMP\n",
    "\n",
    "À base des données recueillies en OpenData via l'API consacrée --> https://www.data.gouv.fr/fr/datasets/api-boamp-beta/\n",
    "\n",
    "----\n",
    "<h1 style=\"font-size:60px;\">Table D_18_annexed1</h1>\n",
    "\n",
    "----\n"
   ]
  },
  {
   "cell_type": "markdown",
   "metadata": {},
   "source": [
    "- **<a href=\"#navigation\">Navigateur<a/>**\n",
    "    - **<a href=\"#chargement\">Chargement de la table<a/>**\n",
    "    - **<a href=\"#schema\">Schéma interactif de la table**    \n",
    "    - **<a href=\"#infos\">Présentation brute des colonnes<a/>**\n",
    "    - **<a href=\"#verticale\">Vue verticale de la table<a/>**\n",
    "    - **<a href=\"#horizontale\">Vue horizontale de la table<a/>**"
   ]
  },
  {
   "cell_type": "markdown",
   "metadata": {},
   "source": [
    "<div id=\"chargement\"></div>\n",
    "\n",
    "## Chargement de la table"
   ]
  },
  {
   "cell_type": "code",
   "execution_count": 2,
   "metadata": {},
   "outputs": [],
   "source": [
    "extrait_df_d_18_annexed1 = pd.read_pickle('boamp_2021_T1_data_mensuel/df_boamp_2021_02_D_18_Annexed1.pkl')"
   ]
  },
  {
   "cell_type": "markdown",
   "metadata": {},
   "source": [
    "<div id=\"schema\"></div>\n",
    "\n",
    "## Schéma interactif de la table"
   ]
  },
  {
   "cell_type": "code",
   "execution_count": 3,
   "metadata": {},
   "outputs": [
    {
     "data": {
      "application/vnd.jupyter.widget-view+json": {
       "model_id": "989109f3eea94e469554e14c1868a623",
       "version_major": 2,
       "version_minor": 0
      },
      "text/plain": [
       "Output(layout=Layout(border='3px solid #cccccc', margin='20px 100px 20px 100px', max_width='80%', padding='10p…"
      ]
     },
     "metadata": {},
     "output_type": "display_data"
    }
   ],
   "source": [
    "from afdb_lab_scripts.afficher_plan_html import afficher_plan_html\n",
    "afficher_plan_html(source=\"boamp_plans_html/boamp_plan_d_18_annexed1.html\");"
   ]
  },
  {
   "cell_type": "markdown",
   "metadata": {},
   "source": [
    "[Ouvrir ce schéma en plein écran dans un nouvel onglet (cliquez sur « Trust HTML » s'il n'apparaît pas de lui-même à l'ouverture)](boamp_plans_html/boamp_plan_d_18_annexed1.html)"
   ]
  },
  {
   "cell_type": "markdown",
   "metadata": {},
   "source": [
    "**<a href=\"#navigation\">Remonter<a/>**"
   ]
  },
  {
   "cell_type": "markdown",
   "metadata": {},
   "source": [
    "<div id=\"infos\"></div>\n",
    "\n",
    "## Présentation brute des colonnes"
   ]
  },
  {
   "cell_type": "code",
   "execution_count": 4,
   "metadata": {},
   "outputs": [
    {
     "name": "stdout",
     "output_type": "stream",
     "text": [
      "<class 'pandas.core.frame.DataFrame'>\n",
      "Index: 56 entries, 21-14053 to 21-8554\n",
      "Data columns (total 15 columns):\n",
      " #   Column                                    Non-Null Count  Dtype \n",
      "---  ------                                    --------------  ----- \n",
      " 0   D_18_01_Annexed1_Infructueuxouverte       56 non-null     bool  \n",
      " 1   D_18_02_Annexed1_Infructueuxrestreinte    56 non-null     bool  \n",
      " 2   D_18_03_Annexed1_Recherche                56 non-null     bool  \n",
      " 3   D_18_04_Annexed1_Raisonstechniques        56 non-null     bool  \n",
      " 4   D_18_05_Annexed1_Raisonsartistiques       56 non-null     bool  \n",
      " 5   D_18_06_Annexed1_Proprieteintellectuelle  56 non-null     bool  \n",
      " 6   D_18_07_Annexed1_Urgenceimperieuse        56 non-null     bool  \n",
      " 7   D_18_08_Annexed1_Marchecomplementaire     0 non-null      object\n",
      " 8   D_18_09_Annexed1_Prestationsidentiques    56 non-null     bool  \n",
      " 9   D_18_10_Annexed1_Laureatsconcours         56 non-null     bool  \n",
      " 10  D_18_11_Annexed1_Matierespremieres        0 non-null      object\n",
      " 11  D_18_12_Annexed1_Cessationactivite        0 non-null      object\n",
      " 12  D_18_13_Annexed1_Liquidateurs             0 non-null      object\n",
      " 13  D_18_14_Annexed1_Horsscope                56 non-null     bool  \n",
      " 14  D_18_15_Annexed1_Explication              56 non-null     object\n",
      "dtypes: bool(10), object(5)\n",
      "memory usage: 3.2+ KB\n"
     ]
    }
   ],
   "source": [
    "extrait_df_d_18_annexed1.info()"
   ]
  },
  {
   "cell_type": "markdown",
   "metadata": {},
   "source": [
    "**<a href=\"#navigation\">Remonter<a/>**"
   ]
  },
  {
   "cell_type": "markdown",
   "metadata": {},
   "source": [
    "<div id=\"verticale\"></div>\n",
    "\n",
    "## Vue verticale de la table "
   ]
  },
  {
   "cell_type": "code",
   "execution_count": 5,
   "metadata": {},
   "outputs": [
    {
     "data": {
      "text/html": [
       "<div>\n",
       "<style scoped>\n",
       "    .dataframe tbody tr th:only-of-type {\n",
       "        vertical-align: middle;\n",
       "    }\n",
       "\n",
       "    .dataframe tbody tr th {\n",
       "        vertical-align: top;\n",
       "    }\n",
       "\n",
       "    .dataframe thead th {\n",
       "        text-align: right;\n",
       "    }\n",
       "</style>\n",
       "<table border=\"1\" class=\"dataframe\">\n",
       "  <thead>\n",
       "    <tr style=\"text-align: right;\">\n",
       "      <th>BOAMP_AVIS_NUM</th>\n",
       "      <th>21-14053</th>\n",
       "      <th>21-14172</th>\n",
       "      <th>21-14613</th>\n",
       "    </tr>\n",
       "  </thead>\n",
       "  <tbody>\n",
       "    <tr>\n",
       "      <th>D_18_01_Annexed1_Infructueuxouverte</th>\n",
       "      <td>False</td>\n",
       "      <td>False</td>\n",
       "      <td>True</td>\n",
       "    </tr>\n",
       "    <tr>\n",
       "      <th>D_18_02_Annexed1_Infructueuxrestreinte</th>\n",
       "      <td>False</td>\n",
       "      <td>False</td>\n",
       "      <td>False</td>\n",
       "    </tr>\n",
       "    <tr>\n",
       "      <th>D_18_03_Annexed1_Recherche</th>\n",
       "      <td>False</td>\n",
       "      <td>False</td>\n",
       "      <td>False</td>\n",
       "    </tr>\n",
       "    <tr>\n",
       "      <th>D_18_04_Annexed1_Raisonstechniques</th>\n",
       "      <td>False</td>\n",
       "      <td>False</td>\n",
       "      <td>False</td>\n",
       "    </tr>\n",
       "    <tr>\n",
       "      <th>D_18_05_Annexed1_Raisonsartistiques</th>\n",
       "      <td>False</td>\n",
       "      <td>False</td>\n",
       "      <td>False</td>\n",
       "    </tr>\n",
       "    <tr>\n",
       "      <th>D_18_06_Annexed1_Proprieteintellectuelle</th>\n",
       "      <td>False</td>\n",
       "      <td>False</td>\n",
       "      <td>False</td>\n",
       "    </tr>\n",
       "    <tr>\n",
       "      <th>D_18_07_Annexed1_Urgenceimperieuse</th>\n",
       "      <td>False</td>\n",
       "      <td>False</td>\n",
       "      <td>False</td>\n",
       "    </tr>\n",
       "    <tr>\n",
       "      <th>D_18_08_Annexed1_Marchecomplementaire</th>\n",
       "      <td>None</td>\n",
       "      <td>None</td>\n",
       "      <td>None</td>\n",
       "    </tr>\n",
       "    <tr>\n",
       "      <th>D_18_09_Annexed1_Prestationsidentiques</th>\n",
       "      <td>False</td>\n",
       "      <td>False</td>\n",
       "      <td>False</td>\n",
       "    </tr>\n",
       "    <tr>\n",
       "      <th>D_18_10_Annexed1_Laureatsconcours</th>\n",
       "      <td>False</td>\n",
       "      <td>False</td>\n",
       "      <td>False</td>\n",
       "    </tr>\n",
       "    <tr>\n",
       "      <th>D_18_11_Annexed1_Matierespremieres</th>\n",
       "      <td>None</td>\n",
       "      <td>None</td>\n",
       "      <td>None</td>\n",
       "    </tr>\n",
       "    <tr>\n",
       "      <th>D_18_12_Annexed1_Cessationactivite</th>\n",
       "      <td>None</td>\n",
       "      <td>None</td>\n",
       "      <td>None</td>\n",
       "    </tr>\n",
       "    <tr>\n",
       "      <th>D_18_13_Annexed1_Liquidateurs</th>\n",
       "      <td>None</td>\n",
       "      <td>None</td>\n",
       "      <td>None</td>\n",
       "    </tr>\n",
       "    <tr>\n",
       "      <th>D_18_14_Annexed1_Horsscope</th>\n",
       "      <td>True</td>\n",
       "      <td>True</td>\n",
       "      <td>False</td>\n",
       "    </tr>\n",
       "    <tr>\n",
       "      <th>D_18_15_Annexed1_Explication</th>\n",
       "      <td>La valeur totale du marché (175 136 euro(s) Ht) est inférieure aux seuils européens imposant une publication au Joue</td>\n",
       "      <td>Les marchés subséquents découlent de l'accord-cadre dont l'avis de publicité à été transmis le 21 octobre 2021 sur la plateforme Aws</td>\n",
       "      <td>Aucune offre n'a été déposée lors de l'appel d'offres initial</td>\n",
       "    </tr>\n",
       "  </tbody>\n",
       "</table>\n",
       "</div>"
      ],
      "text/plain": [
       "BOAMP_AVIS_NUM                                                                                                                                        21-14053  \\\n",
       "D_18_01_Annexed1_Infructueuxouverte                                                                                                                      False   \n",
       "D_18_02_Annexed1_Infructueuxrestreinte                                                                                                                   False   \n",
       "D_18_03_Annexed1_Recherche                                                                                                                               False   \n",
       "D_18_04_Annexed1_Raisonstechniques                                                                                                                       False   \n",
       "D_18_05_Annexed1_Raisonsartistiques                                                                                                                      False   \n",
       "D_18_06_Annexed1_Proprieteintellectuelle                                                                                                                 False   \n",
       "D_18_07_Annexed1_Urgenceimperieuse                                                                                                                       False   \n",
       "D_18_08_Annexed1_Marchecomplementaire                                                                                                                     None   \n",
       "D_18_09_Annexed1_Prestationsidentiques                                                                                                                   False   \n",
       "D_18_10_Annexed1_Laureatsconcours                                                                                                                        False   \n",
       "D_18_11_Annexed1_Matierespremieres                                                                                                                        None   \n",
       "D_18_12_Annexed1_Cessationactivite                                                                                                                        None   \n",
       "D_18_13_Annexed1_Liquidateurs                                                                                                                             None   \n",
       "D_18_14_Annexed1_Horsscope                                                                                                                                True   \n",
       "D_18_15_Annexed1_Explication              La valeur totale du marché (175 136 euro(s) Ht) est inférieure aux seuils européens imposant une publication au Joue   \n",
       "\n",
       "BOAMP_AVIS_NUM                                                                                                                                                        21-14172  \\\n",
       "D_18_01_Annexed1_Infructueuxouverte                                                                                                                                      False   \n",
       "D_18_02_Annexed1_Infructueuxrestreinte                                                                                                                                   False   \n",
       "D_18_03_Annexed1_Recherche                                                                                                                                               False   \n",
       "D_18_04_Annexed1_Raisonstechniques                                                                                                                                       False   \n",
       "D_18_05_Annexed1_Raisonsartistiques                                                                                                                                      False   \n",
       "D_18_06_Annexed1_Proprieteintellectuelle                                                                                                                                 False   \n",
       "D_18_07_Annexed1_Urgenceimperieuse                                                                                                                                       False   \n",
       "D_18_08_Annexed1_Marchecomplementaire                                                                                                                                     None   \n",
       "D_18_09_Annexed1_Prestationsidentiques                                                                                                                                   False   \n",
       "D_18_10_Annexed1_Laureatsconcours                                                                                                                                        False   \n",
       "D_18_11_Annexed1_Matierespremieres                                                                                                                                        None   \n",
       "D_18_12_Annexed1_Cessationactivite                                                                                                                                        None   \n",
       "D_18_13_Annexed1_Liquidateurs                                                                                                                                             None   \n",
       "D_18_14_Annexed1_Horsscope                                                                                                                                                True   \n",
       "D_18_15_Annexed1_Explication              Les marchés subséquents découlent de l'accord-cadre dont l'avis de publicité à été transmis le 21 octobre 2021 sur la plateforme Aws   \n",
       "\n",
       "BOAMP_AVIS_NUM                                                                                 21-14613  \n",
       "D_18_01_Annexed1_Infructueuxouverte                                                                True  \n",
       "D_18_02_Annexed1_Infructueuxrestreinte                                                            False  \n",
       "D_18_03_Annexed1_Recherche                                                                        False  \n",
       "D_18_04_Annexed1_Raisonstechniques                                                                False  \n",
       "D_18_05_Annexed1_Raisonsartistiques                                                               False  \n",
       "D_18_06_Annexed1_Proprieteintellectuelle                                                          False  \n",
       "D_18_07_Annexed1_Urgenceimperieuse                                                                False  \n",
       "D_18_08_Annexed1_Marchecomplementaire                                                              None  \n",
       "D_18_09_Annexed1_Prestationsidentiques                                                            False  \n",
       "D_18_10_Annexed1_Laureatsconcours                                                                 False  \n",
       "D_18_11_Annexed1_Matierespremieres                                                                 None  \n",
       "D_18_12_Annexed1_Cessationactivite                                                                 None  \n",
       "D_18_13_Annexed1_Liquidateurs                                                                      None  \n",
       "D_18_14_Annexed1_Horsscope                                                                        False  \n",
       "D_18_15_Annexed1_Explication              Aucune offre n'a été déposée lors de l'appel d'offres initial  "
      ]
     },
     "execution_count": 5,
     "metadata": {},
     "output_type": "execute_result"
    }
   ],
   "source": [
    "extrait_df_d_18_annexed1.head(3).T"
   ]
  },
  {
   "cell_type": "markdown",
   "metadata": {},
   "source": [
    "**<a href=\"#navigation\">Remonter<a/>**"
   ]
  },
  {
   "cell_type": "markdown",
   "metadata": {},
   "source": [
    "<div id=\"horizontale\"></div>\n",
    "\n",
    "## Vue horizontale de la table "
   ]
  },
  {
   "cell_type": "code",
   "execution_count": 6,
   "metadata": {},
   "outputs": [
    {
     "data": {
      "text/html": [
       "<div>\n",
       "<style scoped>\n",
       "    .dataframe tbody tr th:only-of-type {\n",
       "        vertical-align: middle;\n",
       "    }\n",
       "\n",
       "    .dataframe tbody tr th {\n",
       "        vertical-align: top;\n",
       "    }\n",
       "\n",
       "    .dataframe thead th {\n",
       "        text-align: right;\n",
       "    }\n",
       "</style>\n",
       "<table border=\"1\" class=\"dataframe\">\n",
       "  <thead>\n",
       "    <tr style=\"text-align: right;\">\n",
       "      <th></th>\n",
       "      <th>D_18_01_Annexed1_Infructueuxouverte</th>\n",
       "      <th>D_18_02_Annexed1_Infructueuxrestreinte</th>\n",
       "      <th>D_18_03_Annexed1_Recherche</th>\n",
       "      <th>D_18_04_Annexed1_Raisonstechniques</th>\n",
       "      <th>D_18_05_Annexed1_Raisonsartistiques</th>\n",
       "      <th>D_18_06_Annexed1_Proprieteintellectuelle</th>\n",
       "      <th>D_18_07_Annexed1_Urgenceimperieuse</th>\n",
       "      <th>D_18_08_Annexed1_Marchecomplementaire</th>\n",
       "      <th>D_18_09_Annexed1_Prestationsidentiques</th>\n",
       "      <th>D_18_10_Annexed1_Laureatsconcours</th>\n",
       "      <th>D_18_11_Annexed1_Matierespremieres</th>\n",
       "      <th>D_18_12_Annexed1_Cessationactivite</th>\n",
       "      <th>D_18_13_Annexed1_Liquidateurs</th>\n",
       "      <th>D_18_14_Annexed1_Horsscope</th>\n",
       "      <th>D_18_15_Annexed1_Explication</th>\n",
       "    </tr>\n",
       "    <tr>\n",
       "      <th>BOAMP_AVIS_NUM</th>\n",
       "      <th></th>\n",
       "      <th></th>\n",
       "      <th></th>\n",
       "      <th></th>\n",
       "      <th></th>\n",
       "      <th></th>\n",
       "      <th></th>\n",
       "      <th></th>\n",
       "      <th></th>\n",
       "      <th></th>\n",
       "      <th></th>\n",
       "      <th></th>\n",
       "      <th></th>\n",
       "      <th></th>\n",
       "      <th></th>\n",
       "    </tr>\n",
       "  </thead>\n",
       "  <tbody>\n",
       "    <tr>\n",
       "      <th>21-14053</th>\n",
       "      <td>False</td>\n",
       "      <td>False</td>\n",
       "      <td>False</td>\n",
       "      <td>False</td>\n",
       "      <td>False</td>\n",
       "      <td>False</td>\n",
       "      <td>False</td>\n",
       "      <td>None</td>\n",
       "      <td>False</td>\n",
       "      <td>False</td>\n",
       "      <td>None</td>\n",
       "      <td>None</td>\n",
       "      <td>None</td>\n",
       "      <td>True</td>\n",
       "      <td>La valeur totale du marché (175 136 euro(s) Ht) est inférieure aux seuils européens imposant une publication au Joue</td>\n",
       "    </tr>\n",
       "    <tr>\n",
       "      <th>21-14172</th>\n",
       "      <td>False</td>\n",
       "      <td>False</td>\n",
       "      <td>False</td>\n",
       "      <td>False</td>\n",
       "      <td>False</td>\n",
       "      <td>False</td>\n",
       "      <td>False</td>\n",
       "      <td>None</td>\n",
       "      <td>False</td>\n",
       "      <td>False</td>\n",
       "      <td>None</td>\n",
       "      <td>None</td>\n",
       "      <td>None</td>\n",
       "      <td>True</td>\n",
       "      <td>Les marchés subséquents découlent de l'accord-cadre dont l'avis de publicité à été transmis le 21 octobre 2021 sur la plateforme Aws</td>\n",
       "    </tr>\n",
       "    <tr>\n",
       "      <th>21-14613</th>\n",
       "      <td>True</td>\n",
       "      <td>False</td>\n",
       "      <td>False</td>\n",
       "      <td>False</td>\n",
       "      <td>False</td>\n",
       "      <td>False</td>\n",
       "      <td>False</td>\n",
       "      <td>None</td>\n",
       "      <td>False</td>\n",
       "      <td>False</td>\n",
       "      <td>None</td>\n",
       "      <td>None</td>\n",
       "      <td>None</td>\n",
       "      <td>False</td>\n",
       "      <td>Aucune offre n'a été déposée lors de l'appel d'offres initial</td>\n",
       "    </tr>\n",
       "  </tbody>\n",
       "</table>\n",
       "</div>"
      ],
      "text/plain": [
       "                D_18_01_Annexed1_Infructueuxouverte  \\\n",
       "BOAMP_AVIS_NUM                                        \n",
       "21-14053                                      False   \n",
       "21-14172                                      False   \n",
       "21-14613                                       True   \n",
       "\n",
       "                D_18_02_Annexed1_Infructueuxrestreinte  \\\n",
       "BOAMP_AVIS_NUM                                           \n",
       "21-14053                                         False   \n",
       "21-14172                                         False   \n",
       "21-14613                                         False   \n",
       "\n",
       "                D_18_03_Annexed1_Recherche  \\\n",
       "BOAMP_AVIS_NUM                               \n",
       "21-14053                             False   \n",
       "21-14172                             False   \n",
       "21-14613                             False   \n",
       "\n",
       "                D_18_04_Annexed1_Raisonstechniques  \\\n",
       "BOAMP_AVIS_NUM                                       \n",
       "21-14053                                     False   \n",
       "21-14172                                     False   \n",
       "21-14613                                     False   \n",
       "\n",
       "                D_18_05_Annexed1_Raisonsartistiques  \\\n",
       "BOAMP_AVIS_NUM                                        \n",
       "21-14053                                      False   \n",
       "21-14172                                      False   \n",
       "21-14613                                      False   \n",
       "\n",
       "                D_18_06_Annexed1_Proprieteintellectuelle  \\\n",
       "BOAMP_AVIS_NUM                                             \n",
       "21-14053                                           False   \n",
       "21-14172                                           False   \n",
       "21-14613                                           False   \n",
       "\n",
       "                D_18_07_Annexed1_Urgenceimperieuse  \\\n",
       "BOAMP_AVIS_NUM                                       \n",
       "21-14053                                     False   \n",
       "21-14172                                     False   \n",
       "21-14613                                     False   \n",
       "\n",
       "               D_18_08_Annexed1_Marchecomplementaire  \\\n",
       "BOAMP_AVIS_NUM                                         \n",
       "21-14053                                        None   \n",
       "21-14172                                        None   \n",
       "21-14613                                        None   \n",
       "\n",
       "                D_18_09_Annexed1_Prestationsidentiques  \\\n",
       "BOAMP_AVIS_NUM                                           \n",
       "21-14053                                         False   \n",
       "21-14172                                         False   \n",
       "21-14613                                         False   \n",
       "\n",
       "                D_18_10_Annexed1_Laureatsconcours  \\\n",
       "BOAMP_AVIS_NUM                                      \n",
       "21-14053                                    False   \n",
       "21-14172                                    False   \n",
       "21-14613                                    False   \n",
       "\n",
       "               D_18_11_Annexed1_Matierespremieres  \\\n",
       "BOAMP_AVIS_NUM                                      \n",
       "21-14053                                     None   \n",
       "21-14172                                     None   \n",
       "21-14613                                     None   \n",
       "\n",
       "               D_18_12_Annexed1_Cessationactivite  \\\n",
       "BOAMP_AVIS_NUM                                      \n",
       "21-14053                                     None   \n",
       "21-14172                                     None   \n",
       "21-14613                                     None   \n",
       "\n",
       "               D_18_13_Annexed1_Liquidateurs  D_18_14_Annexed1_Horsscope  \\\n",
       "BOAMP_AVIS_NUM                                                             \n",
       "21-14053                                None                        True   \n",
       "21-14172                                None                        True   \n",
       "21-14613                                None                       False   \n",
       "\n",
       "                                                                                                                        D_18_15_Annexed1_Explication  \n",
       "BOAMP_AVIS_NUM                                                                                                                                        \n",
       "21-14053                        La valeur totale du marché (175 136 euro(s) Ht) est inférieure aux seuils européens imposant une publication au Joue  \n",
       "21-14172        Les marchés subséquents découlent de l'accord-cadre dont l'avis de publicité à été transmis le 21 octobre 2021 sur la plateforme Aws  \n",
       "21-14613                                                                               Aucune offre n'a été déposée lors de l'appel d'offres initial  "
      ]
     },
     "execution_count": 6,
     "metadata": {},
     "output_type": "execute_result"
    }
   ],
   "source": [
    "extrait_df_d_18_annexed1.head(3)"
   ]
  },
  {
   "cell_type": "markdown",
   "metadata": {},
   "source": [
    "**<a href=\"#navigation\">Remonter<a/>**"
   ]
  }
 ],
 "metadata": {
  "kernelspec": {
   "display_name": "Python 3",
   "language": "python",
   "name": "python3"
  },
  "language_info": {
   "codemirror_mode": {
    "name": "ipython",
    "version": 3
   },
   "file_extension": ".py",
   "mimetype": "text/x-python",
   "name": "python",
   "nbconvert_exporter": "python",
   "pygments_lexer": "ipython3",
   "version": "3.8.6"
  },
  "widgets": {
   "application/vnd.jupyter.widget-state+json": {
    "state": {
     "989109f3eea94e469554e14c1868a623": {
      "model_module": "@jupyter-widgets/output",
      "model_module_version": "1.0.0",
      "model_name": "OutputModel",
      "state": {
       "layout": "IPY_MODEL_efff8028fd624ed691a9b0e301fbbb59",
       "outputs": [
        {
         "data": {
          "text/html": "\n        <iframe\n            width=\"98%\"\n            height=\"400px\"\n            src=\"boamp_plans_html/boamp_plan_d_18_annexed1.html\"\n            frameborder=\"0\"\n            allowfullscreen\n        ></iframe>\n        ",
          "text/plain": "<IPython.lib.display.IFrame at 0x17628fd4250>"
         },
         "metadata": {},
         "output_type": "display_data"
        },
        {
         "data": {
          "text/html": "<p><strong>Cliquez sur les cercles contenus dans la figure pour ouvrir et refermer les niveaux.<br>    \n                     L'image est zommable.<br><br>\n                     <a href=boamp_plans_html/boamp_plan_d_18_annexed1.html> --> Ouvrir ce schéma en plein écran dans un nouvel onglet. </a></strong><br>\n                     <em>Cliquez sur « Trust HTML » si le schéma n'apparaît pas de lui-même à l'ouverture du lien.</em></p>\n                     ",
          "text/plain": "<IPython.core.display.HTML object>"
         },
         "metadata": {},
         "output_type": "display_data"
        }
       ]
      }
     },
     "efff8028fd624ed691a9b0e301fbbb59": {
      "model_module": "@jupyter-widgets/base",
      "model_module_version": "1.2.0",
      "model_name": "LayoutModel",
      "state": {
       "border": "3px solid #cccccc",
       "margin": "20px 100px 20px 100px",
       "max_width": "80%",
       "padding": "10px"
      }
     }
    },
    "version_major": 2,
    "version_minor": 0
   }
  }
 },
 "nbformat": 4,
 "nbformat_minor": 4
}
