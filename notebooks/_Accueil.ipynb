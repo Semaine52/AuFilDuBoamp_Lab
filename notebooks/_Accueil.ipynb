{
 "cells": [
  {
   "cell_type": "code",
   "execution_count": 1,
   "metadata": {},
   "outputs": [
    {
     "data": {
      "text/html": [
       "\n",
       "\n",
       "<!DOCTYPE html>\n",
       "\n",
       "<html>\n",
       "\n",
       "<title>AuFilDuBoamp_Lab par Semaine52</title>\n",
       "<meta name=\"viewport\" content=\"width=device-width, initial-scale=1\">\n",
       "<link rel=\"stylesheet\" href=\"https://www.w3schools.com/w3css/4/w3.css\">\n",
       "<link rel=\"stylesheet\" href=\"https://cdnjs.cloudflare.com/ajax/libs/font-awesome/4.7.0/css/font-awesome.min.css\">\n",
       "<script src='https://kit.fontawesome.com/a076d05399.js'></script>\n",
       "\n",
       "\n",
       "<body>\n",
       "\n",
       "<div class=\"w3-container\">\n",
       "   <div class=\"w3-padding  w3-white w3-small\">\n",
       "  \n",
       "     <a href=\"https://github.com/Semaine52/AuFilDuBoamp_Lab\" title=\"AuFilDuBoamp_Lab sur GitHub\" alt=\"AuFilDuBoamp_Lab sur GitHub\" class=\"w3-bar-item w3-button fas fa-share-square w3-small w3-white\">&nbsp; AuFilDuBoamp_Lab sur GitHub</a>\n",
       "     \n",
       "     <a href=\"https://twitter.com/AuFilDuBoamp\" title=\"AuFilDuBoamp sur Twitter\" alt=\"AuFilDuBoamp sur Twitter\" class=\"w3-bar-item w3-button fas fa-share-square w3-small w3-white\">&nbsp; sur Twitter</a>\n",
       "     \n",
       "     <a href=\"https://www.data.gouv.fr/fr/organizations/aufilduboamp-1/\" title=\"AuFilDuBoamp sur DataGouv.fr\" alt=\"AuFilDuBoamp sur DataGouv.fr\" class=\"w3-bar-item w3-button fas fa-share-square w3-small  w3-white\">&nbsp; sur DataGouv.fr</a>\n",
       "     \n",
       "          <a href=\"https://mybinder.org/v2/gh/Semaine52/AuFilDuBoamp_Lab/master?urlpath=lab/tree/notebooks/_Sommaire.ipynb\" title=\"AuFilDuBoamp_Lab sur Binder\" alt=\"AuFilDuBoamp_Lab sur Binder\" class=\"w3-bar-item w3-button fas fa-share-square w3-small  w3-white\">&nbsp; sur Binder</a>\n",
       "          \n",
       "          <a href=\"https://teamopendata.org/u/semaine52_jmf/summary\" title=\"Jean-Marie Falvet sur TeamOpenData\" alt=\"Jean-Marie Falvet sur TeamOpenData\" class=\"w3-bar-item w3-button fas fa-share-square w3-small  w3-white\">&nbsp; chez TeamOpenData</a>\n",
       "          \n",
       "          \n",
       "     \n",
       "       \n",
       "         <a href=\"https://www.data.gouv.fr/fr/datasets/boamp/\" title=\"Le BOAMP sur DataGouv.fr\" alt=\"Le BOAMP sur DataGouv.fr\" class=\"w3-bar-item w3-button fas fa-share-square w3-small w3-white\">&nbsp; Le BOAMP sur DataGouv.fr</a>\n",
       "     \n",
       "     <a href=\"https://www.boamp.fr/\" title=\"BOAMP.fr\" alt=\"BOAMP.fr\"class=\"w3-bar-item w3-button fas fa-share-square w3-small  w3-white\">BOAMP.fr</a>\n",
       "     \n",
       "     <a href=\"https://www.legifrance.gouv.fr/affichCode.do?cidTexte=LEGITEXT000037701019\" title=\"Accueil\" alt=\"Accueil\"class=\"w3-bar-item w3-button fas fa-share-square w3-small  w3-white\">&nbsp; Code de la commande publique (Légifrance)</a>  \n",
       "    \n",
       "   </div> \n",
       "      \n",
       " </div>\n",
       "\n",
       " <div class=\"w3-container\">\n",
       "   <div><img class=\"w3-animate-right\" src=\"design/AFDB_DOTS.svg\" alt=\"AuFilDuBoamp_Lab\" title=\"AuFilDuBoamp_Lab\" style=\"width:40%\"></div>\n",
       "\n",
       "   <div class=\"w3-padding w3-xlarge w3-white\"> \n",
       "     \n",
       "       \n",
       "        \n",
       "     <a href=\"_Sommaire.ipynb\" alt=\"Sommaire général\" title=\"Sommaire général\" class=\"w3-bar-item w3-button fa fa-list w3-large w3-amber\">&nbsp; Lien vers le Sommaire général</a>  \n",
       "     <a href=\"https://mybinder.org/v2/gh/Semaine52/AuFilDuBoamp_Lab/master?urlpath=lab/tree/notebooks/_Sommaire.ipynb\" alt=\"Lancer Binder\" title=\"Lancer Binder\" class=\"w3-bar-item w3-button fa fa-arrow-right w3-large w3-teal\">&nbsp; Lancer Binder</a>  \n",
       "     <p style=\"font-size:16px; margin-top:5px\">N'oubliez pas <strong>« Run All Cells »</strong> du menu <strong>« Run »</strong> pour activer les pages une fois sur Binder.</p>\n",
       "  </div>\n",
       "  \n",
       " </div>\n",
       "\n",
       "</body>\n",
       "\n",
       "</html> \n",
       "\n",
       " "
      ],
      "text/plain": [
       "<IPython.core.display.HTML object>"
      ]
     },
     "metadata": {},
     "output_type": "display_data"
    }
   ],
   "source": [
    "%run afdb_lab_scripts/afdb_lab_prereglages\n",
    "%run afdb_lab_scripts/afdb_lab_haut"
   ]
  },
  {
   "cell_type": "markdown",
   "metadata": {},
   "source": [
    "<div id=\"navigation\"></div>"
   ]
  },
  {
   "cell_type": "markdown",
   "metadata": {},
   "source": [
    "----\n",
    "<h1 style=\"font-size:60px\">Accueil</h1>"
   ]
  },
  {
   "cell_type": "code",
   "execution_count": null,
   "metadata": {},
   "outputs": [],
   "source": []
  },
  {
   "cell_type": "markdown",
   "metadata": {},
   "source": [
    "\n",
    "\n",
    "> Par Jean-Marie Falvet, Aix-en-Provence, France.\n",
    "\n",
    "> [Semaine52@gmail.com](mailto:Semaine52@gmail.com) et [@AuFilDuBoamp (Twitter)](https://twitter.com/AuFilDuBoampLab).\n",
    "\n",
    "Source initiale des données en Open Data ► https://www.data.gouv.fr/fr/datasets/api-boamp-beta/\n",
    "\n",
    "Site internet du BOAMP ► https://www.boamp.fr/\n",
    "\n",
    "----\n",
    "\n",
    "Lorem ipsum dolor sit amet, consectetur adipiscing elit. Cras feugiat, libero id semper laoreet, ipsum ligula tincidunt enim, vel lobortis velit velit sed risus. Fusce dictum bibendum nisl, eu tincidunt risus molestie in. Maecenas pulvinar lacinia ultricies. Etiam non maximus quam. Integer scelerisque pulvinar commodo. In placerat quis felis id fermentum. Fusce ac quam ligula. Nulla quis lorem non lacus convallis ultrices. \n",
    "\n",
    "\n",
    "Informations complémentaires :\n",
    "- Source des données : [Dila / DataGouv.fr / BOAMP](https://www.data.gouv.fr/fr/datasets/boamp/) \n",
    "- Licence originale : [Licence Ouverte - Open Licence](https://www.etalab.gouv.fr/wp-content/uploads/2014/05/Licence_Ouverte.pdf)\n",
    "- Couverture temporelle :  \n",
    "- Fréquence :  \n",
    "- Date de création : \n",
    "- Date de dernière modification :  \n",
    "- Dernière mise à jour de la ressource : .\n",
    "- Granularité de la couverture temporelle : \n",
    "- Auteur : J.-M.F. pour [Semaine52.com](https://www.Semaine52.com), [@Semaine52](https://twitter.com/semaine52) et [@AuFilDuBoamp](https://twitter.com/AuFilDuBoamp)\n",
    "- Notebook réalisé sur [JupyterLab](https://jupyterlab.readthedocs.io/en/stable/) avec [Python](https://www.python.org/)\n"
   ]
  },
  {
   "cell_type": "code",
   "execution_count": null,
   "metadata": {},
   "outputs": [],
   "source": []
  }
 ],
 "metadata": {
  "kernelspec": {
   "display_name": "Python 3",
   "language": "python",
   "name": "python3"
  },
  "language_info": {
   "codemirror_mode": {
    "name": "ipython",
    "version": 3
   },
   "file_extension": ".py",
   "mimetype": "text/x-python",
   "name": "python",
   "nbconvert_exporter": "python",
   "pygments_lexer": "ipython3",
   "version": "3.8.6"
  },
  "toc": {
   "base_numbering": 1,
   "nav_menu": {},
   "number_sections": true,
   "sideBar": true,
   "skip_h1_title": true,
   "title_cell": "Sommaire",
   "title_sidebar": "Sommaire",
   "toc_cell": true,
   "toc_position": {},
   "toc_section_display": true,
   "toc_window_display": true
  },
  "widgets": {
   "application/vnd.jupyter.widget-state+json": {
    "state": {},
    "version_major": 2,
    "version_minor": 0
   }
  }
 },
 "nbformat": 4,
 "nbformat_minor": 4
}
