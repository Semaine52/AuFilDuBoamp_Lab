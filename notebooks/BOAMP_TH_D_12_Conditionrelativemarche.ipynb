{
 "cells": [
  {
   "cell_type": "code",
   "execution_count": 1,
   "metadata": {},
   "outputs": [
    {
     "data": {
      "text/html": [
       "\n",
       "\n",
       "<!DOCTYPE html>\n",
       "\n",
       "<html>\n",
       "\n",
       "<title>AuFilDuBoamp_Lab par Semaine52</title>\n",
       "<meta name=\"viewport\" content=\"width=device-width, initial-scale=1\">\n",
       "<link rel=\"stylesheet\" href=\"https://www.w3schools.com/w3css/4/w3.css\">\n",
       "<link rel=\"stylesheet\" href=\"https://cdnjs.cloudflare.com/ajax/libs/font-awesome/4.7.0/css/font-awesome.min.css\">\n",
       "<script src='https://kit.fontawesome.com/a076d05399.js'></script>\n",
       "\n",
       "\n",
       "<body>\n",
       "\n",
       "<div class=\"w3-container\">\n",
       "   <div class=\"w3-padding  w3-white w3-small\">\n",
       "  \n",
       "     <a href=\"https://github.com/Semaine52/AuFilDuBoamp_Lab\" title=\"AuFilDuBoamp_Lab sur GitHub\" alt=\"AuFilDuBoamp_Lab sur GitHub\" class=\"w3-bar-item w3-button fas fa-share-square w3-small w3-white\">&nbsp; AuFilDuBoamp_Lab sur GitHub</a>\n",
       "     \n",
       "     <a href=\"https://twitter.com/AuFilDuBoamp\" title=\"AuFilDuBoamp sur Twitter\" alt=\"AuFilDuBoamp sur Twitter\" class=\"w3-bar-item w3-button fas fa-share-square w3-small w3-white\">&nbsp; sur Twitter</a>\n",
       "     \n",
       "     <a href=\"https://www.data.gouv.fr/fr/organizations/aufilduboamp-1/\" title=\"AuFilDuBoamp sur DataGouv.fr\" alt=\"AuFilDuBoamp sur DataGouv.fr\" class=\"w3-bar-item w3-button fas fa-share-square w3-small  w3-white\">&nbsp; sur DataGouv.fr</a>\n",
       "     \n",
       "          <a href=\"https://mybinder.org/v2/gh/Semaine52/AuFilDuBoamp_Lab/master?urlpath=lab/tree/notebooks/_Sommaire.ipynb\" title=\"AuFilDuBoamp_Lab sur Binder\" alt=\"AuFilDuBoamp_Lab sur Binder\" class=\"w3-bar-item w3-button fas fa-share-square w3-small  w3-white\">&nbsp; sur Binder</a>\n",
       "          \n",
       "          <a href=\"https://teamopendata.org/u/semaine52_jmf/summary\" title=\"Jean-Marie Falvet sur TeamOpenData\" alt=\"Jean-Marie Falvet sur TeamOpenData\" class=\"w3-bar-item w3-button fas fa-share-square w3-small  w3-white\">&nbsp; chez TeamOpenData</a>\n",
       "          \n",
       "          \n",
       "     \n",
       "       \n",
       "         <a href=\"https://www.data.gouv.fr/fr/datasets/boamp/\" title=\"Le BOAMP sur DataGouv.fr\" alt=\"Le BOAMP sur DataGouv.fr\" class=\"w3-bar-item w3-button fas fa-share-square w3-small w3-white\">&nbsp; Le BOAMP sur DataGouv.fr</a>\n",
       "     \n",
       "     <a href=\"https://www.boamp.fr/\" title=\"BOAMP.fr\" alt=\"BOAMP.fr\"class=\"w3-bar-item w3-button fas fa-share-square w3-small  w3-white\">BOAMP.fr</a>\n",
       "     \n",
       "     <a href=\"https://www.legifrance.gouv.fr/affichCode.do?cidTexte=LEGITEXT000037701019\" title=\"Accueil\" alt=\"Accueil\"class=\"w3-bar-item w3-button fas fa-share-square w3-small  w3-white\">&nbsp; Code de la commande publique (Légifrance)</a>  \n",
       "    \n",
       "   </div> \n",
       "      \n",
       " </div>\n",
       "\n",
       " <div class=\"w3-container\">\n",
       "   <div><img class=\"w3-animate-right\" src=\"design/AFDB_DOTS.svg\" alt=\"AuFilDuBoamp_Lab\" title=\"AuFilDuBoamp_Lab\" style=\"width:40%\"></div>\n",
       "\n",
       "   <div class=\"w3-padding w3-xlarge w3-white\"> \n",
       "     \n",
       "       \n",
       "        \n",
       "     <a href=\"_Sommaire.ipynb\" alt=\"Sommaire général\" title=\"Sommaire général\" class=\"w3-bar-item w3-button fa fa-list w3-large w3-amber\">&nbsp; Lien vers le Sommaire général</a>  \n",
       "     <a href=\"https://mybinder.org/v2/gh/Semaine52/AuFilDuBoamp_Lab/master?urlpath=lab/tree/notebooks/_Sommaire.ipynb\" alt=\"Lancer Binder\" title=\"Lancer Binder\" class=\"w3-bar-item w3-button fa fa-arrow-right w3-large w3-teal\">&nbsp; Lancer Binder</a>  \n",
       "     <p style=\"font-size:16px; margin-top:5px\">N'oubliez pas <strong>« Run All Cells »</strong> du menu <strong>« Run »</strong> pour activer les pages une fois sur Binder.</p>\n",
       "  </div>\n",
       "  \n",
       " </div>\n",
       "\n",
       "</body>\n",
       "\n",
       "</html> \n",
       "\n",
       " "
      ],
      "text/plain": [
       "<IPython.core.display.HTML object>"
      ]
     },
     "metadata": {},
     "output_type": "display_data"
    }
   ],
   "source": [
    "%run afdb_lab_scripts/afdb_lab_prereglages\n",
    "%run afdb_lab_scripts/afdb_lab_haut"
   ]
  },
  {
   "cell_type": "markdown",
   "metadata": {},
   "source": [
    "<div id=\"navigation\"></div>\n",
    "\n",
    "#### Un tour d'horizon des Tables du BOAMP\n",
    "\n",
    "À base des données recueillies en OpenData via l'API consacrée --> https://www.data.gouv.fr/fr/datasets/api-boamp-beta/\n",
    "\n",
    "----\n",
    "<h1 style=\"font-size:60px;\">Table D_12_Conditionrelativemarche</h1>\n",
    "\n",
    "----\n"
   ]
  },
  {
   "cell_type": "markdown",
   "metadata": {},
   "source": [
    "- **<a href=\"#navigation\">Navigateur<a/>**\n",
    "    - **<a href=\"#chargement\">Chargement de la table<a/>**\n",
    "    - **<a href=\"#schema\">Schéma interactif de la table**    \n",
    "    - **<a href=\"#infos\">Présentation brute des colonnes<a/>**\n",
    "    - **<a href=\"#verticale\">Vue verticale de la table<a/>**\n",
    "    - **<a href=\"#horizontale\">Vue horizontale de la table<a/>**"
   ]
  },
  {
   "cell_type": "markdown",
   "metadata": {},
   "source": [
    "<div id=\"chargement\"></div>\n",
    "\n",
    "## Chargement de la table"
   ]
  },
  {
   "cell_type": "code",
   "execution_count": 2,
   "metadata": {},
   "outputs": [],
   "source": [
    "extrait_df_d_12_conditionrelativemarche = pd.read_pickle('boamp_2021_T1_data_mensuel/df_boamp_2021_02_D_12_conditionrelativemarche.pkl')"
   ]
  },
  {
   "cell_type": "markdown",
   "metadata": {},
   "source": [
    "<div id=\"schema\"></div>\n",
    "\n",
    "## Schéma interactif de la table"
   ]
  },
  {
   "cell_type": "code",
   "execution_count": 3,
   "metadata": {},
   "outputs": [
    {
     "data": {
      "application/vnd.jupyter.widget-view+json": {
       "model_id": "02766af3db4842c1bc2376452f96a75e",
       "version_major": 2,
       "version_minor": 0
      },
      "text/plain": [
       "Output(layout=Layout(border='3px solid #cccccc', margin='20px 100px 20px 100px', max_width='80%', padding='10p…"
      ]
     },
     "metadata": {},
     "output_type": "display_data"
    }
   ],
   "source": [
    "from afdb_lab_scripts.afficher_plan_html import afficher_plan_html\n",
    "afficher_plan_html(source=\"boamp_plans_html/boamp_plan_d_12_conditionrelativemarche.html\");"
   ]
  },
  {
   "cell_type": "markdown",
   "metadata": {},
   "source": [
    "[Ouvrir ce schéma en plein écran dans un nouvel onglet (cliquez sur « Trust HTML » s'il n'apparaît pas de lui-même à l'ouverture)](boamp_plans_html/boamp_plan_d_12_conditionrelativemarche.html)"
   ]
  },
  {
   "cell_type": "markdown",
   "metadata": {},
   "source": [
    "**<a href=\"#navigation\">Remonter<a/>**"
   ]
  },
  {
   "cell_type": "markdown",
   "metadata": {},
   "source": [
    "<div id=\"infos\"></div>\n",
    "\n",
    "## Présentation brute des colonnes"
   ]
  },
  {
   "cell_type": "code",
   "execution_count": 4,
   "metadata": {},
   "outputs": [
    {
     "name": "stdout",
     "output_type": "stream",
     "text": [
      "<class 'pandas.core.frame.DataFrame'>\n",
      "Index: 6860 entries, 20-107212 to 21-9966\n",
      "Data columns (total 12 columns):\n",
      " #   Column                                                        Non-Null Count  Dtype \n",
      "---  ------                                                        --------------  ----- \n",
      " 0   D_12_01_Conditionrelativemarche_Cautionnement                 1513 non-null   object\n",
      " 1   D_12_02_Conditionrelativemarche_Financement                   2293 non-null   object\n",
      " 2   D_12_03_Conditionrelativemarche_Formejuridique                2167 non-null   object\n",
      " 3   D_12_04_Conditionrelativemarche_Participationelectroniqueoui  6860 non-null   bool  \n",
      " 4   D_12_05_Conditionrelativemarche_Participationelectroniquenon  6860 non-null   bool  \n",
      " 5   D_12_06_Conditionrelativemarche_Autresconditionspartoui       424 non-null    object\n",
      " 6   D_12_07_Conditionrelativemarche_Autresconditionspartnon       6860 non-null   bool  \n",
      " 7   D_12_08_Conditionrelativemarche_Unitemonetaireeur             6860 non-null   bool  \n",
      " 8   D_12_09_Conditionrelativemarche_Francaisseul                  6860 non-null   bool  \n",
      " 9   D_12_10_Conditionrelativemarche_Langues                       6860 non-null   object\n",
      " 10  D_12_10_01_Conditionrelativemarche_Langues_Langue             6261 non-null   object\n",
      " 11  D_12_10_02_Conditionrelativemarche_Langues_Autres             5 non-null      object\n",
      "dtypes: bool(5), object(7)\n",
      "memory usage: 462.2+ KB\n"
     ]
    }
   ],
   "source": [
    "extrait_df_d_12_conditionrelativemarche.info()"
   ]
  },
  {
   "cell_type": "markdown",
   "metadata": {},
   "source": [
    "**<a href=\"#navigation\">Remonter<a/>**"
   ]
  },
  {
   "cell_type": "markdown",
   "metadata": {},
   "source": [
    "<div id=\"verticale\"></div>\n",
    "\n",
    "## Vue verticale de la table "
   ]
  },
  {
   "cell_type": "code",
   "execution_count": 5,
   "metadata": {},
   "outputs": [
    {
     "data": {
      "text/html": [
       "<div>\n",
       "<style scoped>\n",
       "    .dataframe tbody tr th:only-of-type {\n",
       "        vertical-align: middle;\n",
       "    }\n",
       "\n",
       "    .dataframe tbody tr th {\n",
       "        vertical-align: top;\n",
       "    }\n",
       "\n",
       "    .dataframe thead th {\n",
       "        text-align: right;\n",
       "    }\n",
       "</style>\n",
       "<table border=\"1\" class=\"dataframe\">\n",
       "  <thead>\n",
       "    <tr style=\"text-align: right;\">\n",
       "      <th>BOAMP_AVIS_NUM</th>\n",
       "      <th>20-107212</th>\n",
       "      <th>20-114622</th>\n",
       "      <th>20-117134</th>\n",
       "    </tr>\n",
       "  </thead>\n",
       "  <tbody>\n",
       "    <tr>\n",
       "      <th>D_12_01_Conditionrelativemarche_Cautionnement</th>\n",
       "      <td>None</td>\n",
       "      <td>None</td>\n",
       "      <td>None</td>\n",
       "    </tr>\n",
       "    <tr>\n",
       "      <th>D_12_02_Conditionrelativemarche_Financement</th>\n",
       "      <td>None</td>\n",
       "      <td>None</td>\n",
       "      <td>None</td>\n",
       "    </tr>\n",
       "    <tr>\n",
       "      <th>D_12_03_Conditionrelativemarche_Formejuridique</th>\n",
       "      <td>None</td>\n",
       "      <td>None</td>\n",
       "      <td>None</td>\n",
       "    </tr>\n",
       "    <tr>\n",
       "      <th>D_12_04_Conditionrelativemarche_Participationelectroniqueoui</th>\n",
       "      <td>False</td>\n",
       "      <td>True</td>\n",
       "      <td>False</td>\n",
       "    </tr>\n",
       "    <tr>\n",
       "      <th>D_12_05_Conditionrelativemarche_Participationelectroniquenon</th>\n",
       "      <td>False</td>\n",
       "      <td>False</td>\n",
       "      <td>True</td>\n",
       "    </tr>\n",
       "    <tr>\n",
       "      <th>D_12_06_Conditionrelativemarche_Autresconditionspartoui</th>\n",
       "      <td>None</td>\n",
       "      <td>None</td>\n",
       "      <td>None</td>\n",
       "    </tr>\n",
       "    <tr>\n",
       "      <th>D_12_07_Conditionrelativemarche_Autresconditionspartnon</th>\n",
       "      <td>False</td>\n",
       "      <td>True</td>\n",
       "      <td>False</td>\n",
       "    </tr>\n",
       "    <tr>\n",
       "      <th>D_12_08_Conditionrelativemarche_Unitemonetaireeur</th>\n",
       "      <td>True</td>\n",
       "      <td>False</td>\n",
       "      <td>False</td>\n",
       "    </tr>\n",
       "    <tr>\n",
       "      <th>D_12_09_Conditionrelativemarche_Francaisseul</th>\n",
       "      <td>True</td>\n",
       "      <td>False</td>\n",
       "      <td>False</td>\n",
       "    </tr>\n",
       "    <tr>\n",
       "      <th>D_12_10_Conditionrelativemarche_Langues</th>\n",
       "      <td>CF_NIV_SUIV</td>\n",
       "      <td>CF_NIV_SUIV</td>\n",
       "      <td>CF_NIV_SUIV</td>\n",
       "    </tr>\n",
       "    <tr>\n",
       "      <th>D_12_10_01_Conditionrelativemarche_Langues_Langue</th>\n",
       "      <td>None</td>\n",
       "      <td>[FR]</td>\n",
       "      <td>[FR]</td>\n",
       "    </tr>\n",
       "    <tr>\n",
       "      <th>D_12_10_02_Conditionrelativemarche_Langues_Autres</th>\n",
       "      <td>None</td>\n",
       "      <td>None</td>\n",
       "      <td>None</td>\n",
       "    </tr>\n",
       "  </tbody>\n",
       "</table>\n",
       "</div>"
      ],
      "text/plain": [
       "BOAMP_AVIS_NUM                                                  20-107212  \\\n",
       "D_12_01_Conditionrelativemarche_Cautionnement                        None   \n",
       "D_12_02_Conditionrelativemarche_Financement                          None   \n",
       "D_12_03_Conditionrelativemarche_Formejuridique                       None   \n",
       "D_12_04_Conditionrelativemarche_Participationelectroniqueoui        False   \n",
       "D_12_05_Conditionrelativemarche_Participationelectroniquenon        False   \n",
       "D_12_06_Conditionrelativemarche_Autresconditionspartoui              None   \n",
       "D_12_07_Conditionrelativemarche_Autresconditionspartnon             False   \n",
       "D_12_08_Conditionrelativemarche_Unitemonetaireeur                    True   \n",
       "D_12_09_Conditionrelativemarche_Francaisseul                         True   \n",
       "D_12_10_Conditionrelativemarche_Langues                       CF_NIV_SUIV   \n",
       "D_12_10_01_Conditionrelativemarche_Langues_Langue                    None   \n",
       "D_12_10_02_Conditionrelativemarche_Langues_Autres                    None   \n",
       "\n",
       "BOAMP_AVIS_NUM                                                  20-114622  \\\n",
       "D_12_01_Conditionrelativemarche_Cautionnement                        None   \n",
       "D_12_02_Conditionrelativemarche_Financement                          None   \n",
       "D_12_03_Conditionrelativemarche_Formejuridique                       None   \n",
       "D_12_04_Conditionrelativemarche_Participationelectroniqueoui         True   \n",
       "D_12_05_Conditionrelativemarche_Participationelectroniquenon        False   \n",
       "D_12_06_Conditionrelativemarche_Autresconditionspartoui              None   \n",
       "D_12_07_Conditionrelativemarche_Autresconditionspartnon              True   \n",
       "D_12_08_Conditionrelativemarche_Unitemonetaireeur                   False   \n",
       "D_12_09_Conditionrelativemarche_Francaisseul                        False   \n",
       "D_12_10_Conditionrelativemarche_Langues                       CF_NIV_SUIV   \n",
       "D_12_10_01_Conditionrelativemarche_Langues_Langue                    [FR]   \n",
       "D_12_10_02_Conditionrelativemarche_Langues_Autres                    None   \n",
       "\n",
       "BOAMP_AVIS_NUM                                                  20-117134  \n",
       "D_12_01_Conditionrelativemarche_Cautionnement                        None  \n",
       "D_12_02_Conditionrelativemarche_Financement                          None  \n",
       "D_12_03_Conditionrelativemarche_Formejuridique                       None  \n",
       "D_12_04_Conditionrelativemarche_Participationelectroniqueoui        False  \n",
       "D_12_05_Conditionrelativemarche_Participationelectroniquenon         True  \n",
       "D_12_06_Conditionrelativemarche_Autresconditionspartoui              None  \n",
       "D_12_07_Conditionrelativemarche_Autresconditionspartnon             False  \n",
       "D_12_08_Conditionrelativemarche_Unitemonetaireeur                   False  \n",
       "D_12_09_Conditionrelativemarche_Francaisseul                        False  \n",
       "D_12_10_Conditionrelativemarche_Langues                       CF_NIV_SUIV  \n",
       "D_12_10_01_Conditionrelativemarche_Langues_Langue                    [FR]  \n",
       "D_12_10_02_Conditionrelativemarche_Langues_Autres                    None  "
      ]
     },
     "execution_count": 5,
     "metadata": {},
     "output_type": "execute_result"
    }
   ],
   "source": [
    "extrait_df_d_12_conditionrelativemarche.head(3).T"
   ]
  },
  {
   "cell_type": "markdown",
   "metadata": {},
   "source": [
    "**<a href=\"#navigation\">Remonter<a/>**"
   ]
  },
  {
   "cell_type": "markdown",
   "metadata": {},
   "source": [
    "<div id=\"horizontale\"></div>\n",
    "\n",
    "## Vue horizontale de la table "
   ]
  },
  {
   "cell_type": "code",
   "execution_count": 6,
   "metadata": {},
   "outputs": [
    {
     "data": {
      "text/html": [
       "<div>\n",
       "<style scoped>\n",
       "    .dataframe tbody tr th:only-of-type {\n",
       "        vertical-align: middle;\n",
       "    }\n",
       "\n",
       "    .dataframe tbody tr th {\n",
       "        vertical-align: top;\n",
       "    }\n",
       "\n",
       "    .dataframe thead th {\n",
       "        text-align: right;\n",
       "    }\n",
       "</style>\n",
       "<table border=\"1\" class=\"dataframe\">\n",
       "  <thead>\n",
       "    <tr style=\"text-align: right;\">\n",
       "      <th></th>\n",
       "      <th>D_12_01_Conditionrelativemarche_Cautionnement</th>\n",
       "      <th>D_12_02_Conditionrelativemarche_Financement</th>\n",
       "      <th>D_12_03_Conditionrelativemarche_Formejuridique</th>\n",
       "      <th>D_12_04_Conditionrelativemarche_Participationelectroniqueoui</th>\n",
       "      <th>D_12_05_Conditionrelativemarche_Participationelectroniquenon</th>\n",
       "      <th>D_12_06_Conditionrelativemarche_Autresconditionspartoui</th>\n",
       "      <th>D_12_07_Conditionrelativemarche_Autresconditionspartnon</th>\n",
       "      <th>D_12_08_Conditionrelativemarche_Unitemonetaireeur</th>\n",
       "      <th>D_12_09_Conditionrelativemarche_Francaisseul</th>\n",
       "      <th>D_12_10_Conditionrelativemarche_Langues</th>\n",
       "      <th>D_12_10_01_Conditionrelativemarche_Langues_Langue</th>\n",
       "      <th>D_12_10_02_Conditionrelativemarche_Langues_Autres</th>\n",
       "    </tr>\n",
       "    <tr>\n",
       "      <th>BOAMP_AVIS_NUM</th>\n",
       "      <th></th>\n",
       "      <th></th>\n",
       "      <th></th>\n",
       "      <th></th>\n",
       "      <th></th>\n",
       "      <th></th>\n",
       "      <th></th>\n",
       "      <th></th>\n",
       "      <th></th>\n",
       "      <th></th>\n",
       "      <th></th>\n",
       "      <th></th>\n",
       "    </tr>\n",
       "  </thead>\n",
       "  <tbody>\n",
       "    <tr>\n",
       "      <th>20-107212</th>\n",
       "      <td>None</td>\n",
       "      <td>None</td>\n",
       "      <td>None</td>\n",
       "      <td>False</td>\n",
       "      <td>False</td>\n",
       "      <td>None</td>\n",
       "      <td>False</td>\n",
       "      <td>True</td>\n",
       "      <td>True</td>\n",
       "      <td>CF_NIV_SUIV</td>\n",
       "      <td>None</td>\n",
       "      <td>None</td>\n",
       "    </tr>\n",
       "    <tr>\n",
       "      <th>20-114622</th>\n",
       "      <td>None</td>\n",
       "      <td>None</td>\n",
       "      <td>None</td>\n",
       "      <td>True</td>\n",
       "      <td>False</td>\n",
       "      <td>None</td>\n",
       "      <td>True</td>\n",
       "      <td>False</td>\n",
       "      <td>False</td>\n",
       "      <td>CF_NIV_SUIV</td>\n",
       "      <td>[FR]</td>\n",
       "      <td>None</td>\n",
       "    </tr>\n",
       "    <tr>\n",
       "      <th>20-117134</th>\n",
       "      <td>None</td>\n",
       "      <td>None</td>\n",
       "      <td>None</td>\n",
       "      <td>False</td>\n",
       "      <td>True</td>\n",
       "      <td>None</td>\n",
       "      <td>False</td>\n",
       "      <td>False</td>\n",
       "      <td>False</td>\n",
       "      <td>CF_NIV_SUIV</td>\n",
       "      <td>[FR]</td>\n",
       "      <td>None</td>\n",
       "    </tr>\n",
       "  </tbody>\n",
       "</table>\n",
       "</div>"
      ],
      "text/plain": [
       "               D_12_01_Conditionrelativemarche_Cautionnement  \\\n",
       "BOAMP_AVIS_NUM                                                 \n",
       "20-107212                                               None   \n",
       "20-114622                                               None   \n",
       "20-117134                                               None   \n",
       "\n",
       "               D_12_02_Conditionrelativemarche_Financement  \\\n",
       "BOAMP_AVIS_NUM                                               \n",
       "20-107212                                             None   \n",
       "20-114622                                             None   \n",
       "20-117134                                             None   \n",
       "\n",
       "               D_12_03_Conditionrelativemarche_Formejuridique  \\\n",
       "BOAMP_AVIS_NUM                                                  \n",
       "20-107212                                                None   \n",
       "20-114622                                                None   \n",
       "20-117134                                                None   \n",
       "\n",
       "                D_12_04_Conditionrelativemarche_Participationelectroniqueoui  \\\n",
       "BOAMP_AVIS_NUM                                                                 \n",
       "20-107212                                                              False   \n",
       "20-114622                                                               True   \n",
       "20-117134                                                              False   \n",
       "\n",
       "                D_12_05_Conditionrelativemarche_Participationelectroniquenon  \\\n",
       "BOAMP_AVIS_NUM                                                                 \n",
       "20-107212                                                              False   \n",
       "20-114622                                                              False   \n",
       "20-117134                                                               True   \n",
       "\n",
       "               D_12_06_Conditionrelativemarche_Autresconditionspartoui  \\\n",
       "BOAMP_AVIS_NUM                                                           \n",
       "20-107212                                                         None   \n",
       "20-114622                                                         None   \n",
       "20-117134                                                         None   \n",
       "\n",
       "                D_12_07_Conditionrelativemarche_Autresconditionspartnon  \\\n",
       "BOAMP_AVIS_NUM                                                            \n",
       "20-107212                                                         False   \n",
       "20-114622                                                          True   \n",
       "20-117134                                                         False   \n",
       "\n",
       "                D_12_08_Conditionrelativemarche_Unitemonetaireeur  \\\n",
       "BOAMP_AVIS_NUM                                                      \n",
       "20-107212                                                    True   \n",
       "20-114622                                                   False   \n",
       "20-117134                                                   False   \n",
       "\n",
       "                D_12_09_Conditionrelativemarche_Francaisseul  \\\n",
       "BOAMP_AVIS_NUM                                                 \n",
       "20-107212                                               True   \n",
       "20-114622                                              False   \n",
       "20-117134                                              False   \n",
       "\n",
       "               D_12_10_Conditionrelativemarche_Langues  \\\n",
       "BOAMP_AVIS_NUM                                           \n",
       "20-107212                                  CF_NIV_SUIV   \n",
       "20-114622                                  CF_NIV_SUIV   \n",
       "20-117134                                  CF_NIV_SUIV   \n",
       "\n",
       "               D_12_10_01_Conditionrelativemarche_Langues_Langue  \\\n",
       "BOAMP_AVIS_NUM                                                     \n",
       "20-107212                                                   None   \n",
       "20-114622                                                   [FR]   \n",
       "20-117134                                                   [FR]   \n",
       "\n",
       "               D_12_10_02_Conditionrelativemarche_Langues_Autres  \n",
       "BOAMP_AVIS_NUM                                                    \n",
       "20-107212                                                   None  \n",
       "20-114622                                                   None  \n",
       "20-117134                                                   None  "
      ]
     },
     "execution_count": 6,
     "metadata": {},
     "output_type": "execute_result"
    }
   ],
   "source": [
    "extrait_df_d_12_conditionrelativemarche.head(3)"
   ]
  },
  {
   "cell_type": "markdown",
   "metadata": {},
   "source": [
    "**<a href=\"#navigation\">Remonter<a/>**"
   ]
  }
 ],
 "metadata": {
  "kernelspec": {
   "display_name": "Python 3",
   "language": "python",
   "name": "python3"
  },
  "language_info": {
   "codemirror_mode": {
    "name": "ipython",
    "version": 3
   },
   "file_extension": ".py",
   "mimetype": "text/x-python",
   "name": "python",
   "nbconvert_exporter": "python",
   "pygments_lexer": "ipython3",
   "version": "3.8.6"
  },
  "widgets": {
   "application/vnd.jupyter.widget-state+json": {
    "state": {
     "02766af3db4842c1bc2376452f96a75e": {
      "model_module": "@jupyter-widgets/output",
      "model_module_version": "1.0.0",
      "model_name": "OutputModel",
      "state": {
       "layout": "IPY_MODEL_e46bb68ab690404d9c139a372081b9e9",
       "outputs": [
        {
         "data": {
          "text/html": "\n        <iframe\n            width=\"98%\"\n            height=\"400px\"\n            src=\"boamp_plans_html/boamp_plan_d_12_conditionrelativemarche.html\"\n            frameborder=\"0\"\n            allowfullscreen\n        ></iframe>\n        ",
          "text/plain": "<IPython.lib.display.IFrame at 0x1f6312390a0>"
         },
         "metadata": {},
         "output_type": "display_data"
        },
        {
         "data": {
          "text/html": "<p><strong>Cliquez sur les cercles contenus dans la figure pour ouvrir et refermer les niveaux.<br>    \n                     L'image est zommable.<br><br>\n                     <a href=boamp_plans_html/boamp_plan_d_12_conditionrelativemarche.html> --> Ouvrir ce schéma en plein écran dans un nouvel onglet. </a></strong><br>\n                     <em>Cliquez sur « Trust HTML » si le schéma n'apparaît pas de lui-même à l'ouverture du lien.</em></p>\n                     ",
          "text/plain": "<IPython.core.display.HTML object>"
         },
         "metadata": {},
         "output_type": "display_data"
        }
       ]
      }
     },
     "e46bb68ab690404d9c139a372081b9e9": {
      "model_module": "@jupyter-widgets/base",
      "model_module_version": "1.2.0",
      "model_name": "LayoutModel",
      "state": {
       "border": "3px solid #cccccc",
       "margin": "20px 100px 20px 100px",
       "max_width": "80%",
       "padding": "10px"
      }
     }
    },
    "version_major": 2,
    "version_minor": 0
   }
  }
 },
 "nbformat": 4,
 "nbformat_minor": 4
}
