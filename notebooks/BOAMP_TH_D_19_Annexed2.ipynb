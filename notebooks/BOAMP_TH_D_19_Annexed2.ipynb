{
 "cells": [
  {
   "cell_type": "code",
   "execution_count": 1,
   "metadata": {},
   "outputs": [
    {
     "data": {
      "text/html": [
       "\n",
       "\n",
       "<!DOCTYPE html>\n",
       "\n",
       "<html>\n",
       "\n",
       "<title>AuFilDuBoamp_Lab par Semaine52</title>\n",
       "<meta name=\"viewport\" content=\"width=device-width, initial-scale=1\">\n",
       "<link rel=\"stylesheet\" href=\"https://www.w3schools.com/w3css/4/w3.css\">\n",
       "<link rel=\"stylesheet\" href=\"https://cdnjs.cloudflare.com/ajax/libs/font-awesome/4.7.0/css/font-awesome.min.css\">\n",
       "<script src='https://kit.fontawesome.com/a076d05399.js'></script>\n",
       "\n",
       "\n",
       "<body>\n",
       "\n",
       "<div class=\"w3-container\">\n",
       "   <div class=\"w3-padding  w3-white w3-small\">\n",
       "  \n",
       "     <a href=\"https://github.com/Semaine52/AuFilDuBoamp_Lab\" title=\"AuFilDuBoamp_Lab sur GitHub\" alt=\"AuFilDuBoamp_Lab sur GitHub\" class=\"w3-bar-item w3-button fas fa-share-square w3-small w3-white\">&nbsp; AuFilDuBoamp_Lab sur GitHub</a>\n",
       "     \n",
       "     <a href=\"https://twitter.com/AuFilDuBoamp\" title=\"AuFilDuBoamp sur Twitter\" alt=\"AuFilDuBoamp sur Twitter\" class=\"w3-bar-item w3-button fas fa-share-square w3-small w3-white\">&nbsp; sur Twitter</a>\n",
       "     \n",
       "     <a href=\"https://www.data.gouv.fr/fr/organizations/aufilduboamp-1/\" title=\"AuFilDuBoamp sur DataGouv.fr\" alt=\"AuFilDuBoamp sur DataGouv.fr\" class=\"w3-bar-item w3-button fas fa-share-square w3-small  w3-white\">&nbsp; sur DataGouv.fr</a>\n",
       "     \n",
       "          <a href=\"https://mybinder.org/v2/gh/Semaine52/AuFilDuBoamp_Lab/master?urlpath=lab/tree/notebooks/_Sommaire.ipynb\" title=\"AuFilDuBoamp_Lab sur Binder\" alt=\"AuFilDuBoamp_Lab sur Binder\" class=\"w3-bar-item w3-button fas fa-share-square w3-small  w3-white\">&nbsp; sur Binder</a>\n",
       "          \n",
       "          <a href=\"https://teamopendata.org/u/semaine52_jmf/summary\" title=\"Jean-Marie Falvet sur TeamOpenData\" alt=\"Jean-Marie Falvet sur TeamOpenData\" class=\"w3-bar-item w3-button fas fa-share-square w3-small  w3-white\">&nbsp; chez TeamOpenData</a>\n",
       "          \n",
       "          \n",
       "     \n",
       "       \n",
       "         <a href=\"https://www.data.gouv.fr/fr/datasets/boamp/\" title=\"Le BOAMP sur DataGouv.fr\" alt=\"Le BOAMP sur DataGouv.fr\" class=\"w3-bar-item w3-button fas fa-share-square w3-small w3-white\">&nbsp; Le BOAMP sur DataGouv.fr</a>\n",
       "     \n",
       "     <a href=\"https://www.boamp.fr/\" title=\"BOAMP.fr\" alt=\"BOAMP.fr\"class=\"w3-bar-item w3-button fas fa-share-square w3-small  w3-white\">BOAMP.fr</a>\n",
       "     \n",
       "     <a href=\"https://www.legifrance.gouv.fr/affichCode.do?cidTexte=LEGITEXT000037701019\" title=\"Accueil\" alt=\"Accueil\"class=\"w3-bar-item w3-button fas fa-share-square w3-small  w3-white\">&nbsp; Code de la commande publique (Légifrance)</a>  \n",
       "    \n",
       "   </div> \n",
       "      \n",
       " </div>\n",
       "\n",
       " <div class=\"w3-container\">\n",
       "   <div><img class=\"w3-animate-right\" src=\"design/AFDB_DOTS.svg\" alt=\"AuFilDuBoamp_Lab\" title=\"AuFilDuBoamp_Lab\" style=\"width:40%\"></div>\n",
       "\n",
       "   <div class=\"w3-padding w3-xlarge w3-white\"> \n",
       "     \n",
       "       \n",
       "        \n",
       "     <a href=\"_Sommaire.ipynb\" alt=\"Sommaire général\" title=\"Sommaire général\" class=\"w3-bar-item w3-button fa fa-list w3-large w3-amber\">&nbsp; Lien vers le Sommaire général</a>  \n",
       "     <a href=\"https://mybinder.org/v2/gh/Semaine52/AuFilDuBoamp_Lab/master?urlpath=lab/tree/notebooks/_Sommaire.ipynb\" alt=\"Lancer Binder\" title=\"Lancer Binder\" class=\"w3-bar-item w3-button fa fa-arrow-right w3-large w3-teal\">&nbsp; Lancer Binder</a>  \n",
       "     <p style=\"font-size:16px; margin-top:5px\">N'oubliez pas <strong>« Run All Cells »</strong> du menu <strong>« Run »</strong> pour activer les pages une fois sur Binder.</p>\n",
       "  </div>\n",
       "  \n",
       " </div>\n",
       "\n",
       "</body>\n",
       "\n",
       "</html> \n",
       "\n",
       " "
      ],
      "text/plain": [
       "<IPython.core.display.HTML object>"
      ]
     },
     "metadata": {},
     "output_type": "display_data"
    }
   ],
   "source": [
    "%run afdb_lab_scripts/afdb_lab_prereglages\n",
    "%run afdb_lab_scripts/afdb_lab_haut"
   ]
  },
  {
   "cell_type": "markdown",
   "metadata": {},
   "source": [
    "<div id=\"navigation\"></div>\n",
    "\n",
    "#### Un tour d'horizon des Tables du BOAMP\n",
    "\n",
    "À base des données recueillies en OpenData via l'API consacrée --> https://www.data.gouv.fr/fr/datasets/api-boamp-beta/\n",
    "\n",
    "----\n",
    "<h1 style=\"font-size:60px;\">Table D_19_Annexed2</h1>\n",
    "\n",
    "----\n"
   ]
  },
  {
   "cell_type": "markdown",
   "metadata": {},
   "source": [
    "- **<a href=\"#navigation\">Navigateur<a/>**\n",
    "    - **<a href=\"#chargement\">Chargement de la table<a/>**\n",
    "    - **<a href=\"#schema\">Schéma interactif de la table**    \n",
    "    - **<a href=\"#infos\">Présentation brute des colonnes<a/>**\n",
    "    - **<a href=\"#verticale\">Vue verticale de la table<a/>**\n",
    "    - **<a href=\"#horizontale\">Vue horizontale de la table<a/>**"
   ]
  },
  {
   "cell_type": "markdown",
   "metadata": {},
   "source": [
    "<div id=\"chargement\"></div>\n",
    "\n",
    "## Chargement de la table"
   ]
  },
  {
   "cell_type": "code",
   "execution_count": 2,
   "metadata": {},
   "outputs": [],
   "source": [
    "extrait_df_d_19_annexed2 = pd.read_pickle('data/df_boamp_2021_02_D_19_annexed2.pkl')"
   ]
  },
  {
   "cell_type": "markdown",
   "metadata": {},
   "source": [
    "<div id=\"schema\"></div>\n",
    "\n",
    "## Schéma interactif de la table"
   ]
  },
  {
   "cell_type": "code",
   "execution_count": 3,
   "metadata": {},
   "outputs": [
    {
     "data": {
      "application/vnd.jupyter.widget-view+json": {
       "model_id": "a4529d3e36794666a187fcbe61de12d1",
       "version_major": 2,
       "version_minor": 0
      },
      "text/plain": [
       "Output(layout=Layout(border='3px solid #cccccc', margin='20px 100px 20px 100px', max_width='80%', padding='10p…"
      ]
     },
     "metadata": {},
     "output_type": "display_data"
    }
   ],
   "source": [
    "from afdb_lab_scripts.afficher_plan_html import afficher_plan_html\n",
    "afficher_plan_html(source=\"boamp_plans_html/boamp_plan_d_19_annexed2.html\");"
   ]
  },
  {
   "cell_type": "markdown",
   "metadata": {},
   "source": [
    "[Ouvrir ce schéma en plein écran dans un nouvel onglet (cliquez sur « Trust HTML » s'il n'apparaît pas de lui-même à l'ouverture)](boamp_plans_html/boamp_plan_d_19_annexed2.html)"
   ]
  },
  {
   "cell_type": "markdown",
   "metadata": {},
   "source": [
    "**<a href=\"#navigation\">Remonter<a/>**"
   ]
  },
  {
   "cell_type": "markdown",
   "metadata": {},
   "source": [
    "<div id=\"infos\"></div>\n",
    "\n",
    "## Présentation brute des colonnes"
   ]
  },
  {
   "cell_type": "code",
   "execution_count": 4,
   "metadata": {},
   "outputs": [
    {
     "name": "stdout",
     "output_type": "stream",
     "text": [
      "<class 'pandas.core.frame.DataFrame'>\n",
      "Index: 0 entries\n",
      "Data columns (total 15 columns):\n",
      " #   Column                                    Non-Null Count  Dtype \n",
      "---  ------                                    --------------  ----- \n",
      " 0   D_19_01_Annexed2_Infructueux              0 non-null      object\n",
      " 1   D_19_02_Annexed2_Recherche                0 non-null      object\n",
      " 2   D_19_03_Annexed2_Raisonstechniques        0 non-null      object\n",
      " 3   D_19_04_Annexed2_Raisonsartistiques       0 non-null      object\n",
      " 4   D_19_05_Annexed2_Proprieteintellectuelle  0 non-null      object\n",
      " 5   D_19_06_Annexed2_Urgenceimperieuse        0 non-null      object\n",
      " 6   D_19_07_Annexed2_Marchecomplementaire     0 non-null      object\n",
      " 7   D_19_08_Annexed2_Prestationsidentiques    0 non-null      object\n",
      " 8   D_19_09_Annexed2_Laureatsconcours         0 non-null      object\n",
      " 9   D_19_10_Annexed2_Matierespremieres        0 non-null      object\n",
      " 10  D_19_11_Annexed2_Cessationactivite        0 non-null      object\n",
      " 11  D_19_12_Annexed2_Liquidateurs             0 non-null      object\n",
      " 12  D_19_13_Annexed2_Achatopportunite         0 non-null      object\n",
      " 13  D_19_14_Annexed2_Horsscope                0 non-null      object\n",
      " 14  D_19_15_Annexed2_Explication              0 non-null      object\n",
      "dtypes: object(15)\n",
      "memory usage: 0.0+ bytes\n"
     ]
    }
   ],
   "source": [
    "extrait_df_d_19_annexed2.info()"
   ]
  },
  {
   "cell_type": "markdown",
   "metadata": {},
   "source": [
    "**<a href=\"#navigation\">Remonter<a/>**"
   ]
  },
  {
   "cell_type": "markdown",
   "metadata": {},
   "source": [
    "<div id=\"verticale\"></div>\n",
    "\n",
    "## Vue verticale de la table "
   ]
  },
  {
   "cell_type": "code",
   "execution_count": 5,
   "metadata": {},
   "outputs": [
    {
     "data": {
      "text/html": [
       "<div>\n",
       "<style scoped>\n",
       "    .dataframe tbody tr th:only-of-type {\n",
       "        vertical-align: middle;\n",
       "    }\n",
       "\n",
       "    .dataframe tbody tr th {\n",
       "        vertical-align: top;\n",
       "    }\n",
       "\n",
       "    .dataframe thead th {\n",
       "        text-align: right;\n",
       "    }\n",
       "</style>\n",
       "<table border=\"1\" class=\"dataframe\">\n",
       "  <thead>\n",
       "    <tr style=\"text-align: right;\">\n",
       "      <th>BOAMP_AVIS_NUM</th>\n",
       "    </tr>\n",
       "  </thead>\n",
       "  <tbody>\n",
       "    <tr>\n",
       "      <th>D_19_01_Annexed2_Infructueux</th>\n",
       "    </tr>\n",
       "    <tr>\n",
       "      <th>D_19_02_Annexed2_Recherche</th>\n",
       "    </tr>\n",
       "    <tr>\n",
       "      <th>D_19_03_Annexed2_Raisonstechniques</th>\n",
       "    </tr>\n",
       "    <tr>\n",
       "      <th>D_19_04_Annexed2_Raisonsartistiques</th>\n",
       "    </tr>\n",
       "    <tr>\n",
       "      <th>D_19_05_Annexed2_Proprieteintellectuelle</th>\n",
       "    </tr>\n",
       "    <tr>\n",
       "      <th>D_19_06_Annexed2_Urgenceimperieuse</th>\n",
       "    </tr>\n",
       "    <tr>\n",
       "      <th>D_19_07_Annexed2_Marchecomplementaire</th>\n",
       "    </tr>\n",
       "    <tr>\n",
       "      <th>D_19_08_Annexed2_Prestationsidentiques</th>\n",
       "    </tr>\n",
       "    <tr>\n",
       "      <th>D_19_09_Annexed2_Laureatsconcours</th>\n",
       "    </tr>\n",
       "    <tr>\n",
       "      <th>D_19_10_Annexed2_Matierespremieres</th>\n",
       "    </tr>\n",
       "    <tr>\n",
       "      <th>D_19_11_Annexed2_Cessationactivite</th>\n",
       "    </tr>\n",
       "    <tr>\n",
       "      <th>D_19_12_Annexed2_Liquidateurs</th>\n",
       "    </tr>\n",
       "    <tr>\n",
       "      <th>D_19_13_Annexed2_Achatopportunite</th>\n",
       "    </tr>\n",
       "    <tr>\n",
       "      <th>D_19_14_Annexed2_Horsscope</th>\n",
       "    </tr>\n",
       "    <tr>\n",
       "      <th>D_19_15_Annexed2_Explication</th>\n",
       "    </tr>\n",
       "  </tbody>\n",
       "</table>\n",
       "</div>"
      ],
      "text/plain": [
       "Empty DataFrame\n",
       "Columns: []\n",
       "Index: [D_19_01_Annexed2_Infructueux, D_19_02_Annexed2_Recherche, D_19_03_Annexed2_Raisonstechniques, D_19_04_Annexed2_Raisonsartistiques, D_19_05_Annexed2_Proprieteintellectuelle, D_19_06_Annexed2_Urgenceimperieuse, D_19_07_Annexed2_Marchecomplementaire, D_19_08_Annexed2_Prestationsidentiques, D_19_09_Annexed2_Laureatsconcours, D_19_10_Annexed2_Matierespremieres, D_19_11_Annexed2_Cessationactivite, D_19_12_Annexed2_Liquidateurs, D_19_13_Annexed2_Achatopportunite, D_19_14_Annexed2_Horsscope, D_19_15_Annexed2_Explication]"
      ]
     },
     "execution_count": 5,
     "metadata": {},
     "output_type": "execute_result"
    }
   ],
   "source": [
    "extrait_df_d_19_annexed2.head(3).T"
   ]
  },
  {
   "cell_type": "markdown",
   "metadata": {},
   "source": [
    "**<a href=\"#navigation\">Remonter<a/>**"
   ]
  },
  {
   "cell_type": "markdown",
   "metadata": {},
   "source": [
    "<div id=\"horizontale\"></div>\n",
    "\n",
    "## Vue horizontale de la table "
   ]
  },
  {
   "cell_type": "code",
   "execution_count": 6,
   "metadata": {},
   "outputs": [
    {
     "data": {
      "text/html": [
       "<div>\n",
       "<style scoped>\n",
       "    .dataframe tbody tr th:only-of-type {\n",
       "        vertical-align: middle;\n",
       "    }\n",
       "\n",
       "    .dataframe tbody tr th {\n",
       "        vertical-align: top;\n",
       "    }\n",
       "\n",
       "    .dataframe thead th {\n",
       "        text-align: right;\n",
       "    }\n",
       "</style>\n",
       "<table border=\"1\" class=\"dataframe\">\n",
       "  <thead>\n",
       "    <tr style=\"text-align: right;\">\n",
       "      <th></th>\n",
       "      <th>D_19_01_Annexed2_Infructueux</th>\n",
       "      <th>D_19_02_Annexed2_Recherche</th>\n",
       "      <th>D_19_03_Annexed2_Raisonstechniques</th>\n",
       "      <th>D_19_04_Annexed2_Raisonsartistiques</th>\n",
       "      <th>D_19_05_Annexed2_Proprieteintellectuelle</th>\n",
       "      <th>D_19_06_Annexed2_Urgenceimperieuse</th>\n",
       "      <th>D_19_07_Annexed2_Marchecomplementaire</th>\n",
       "      <th>D_19_08_Annexed2_Prestationsidentiques</th>\n",
       "      <th>D_19_09_Annexed2_Laureatsconcours</th>\n",
       "      <th>D_19_10_Annexed2_Matierespremieres</th>\n",
       "      <th>D_19_11_Annexed2_Cessationactivite</th>\n",
       "      <th>D_19_12_Annexed2_Liquidateurs</th>\n",
       "      <th>D_19_13_Annexed2_Achatopportunite</th>\n",
       "      <th>D_19_14_Annexed2_Horsscope</th>\n",
       "      <th>D_19_15_Annexed2_Explication</th>\n",
       "    </tr>\n",
       "    <tr>\n",
       "      <th>BOAMP_AVIS_NUM</th>\n",
       "      <th></th>\n",
       "      <th></th>\n",
       "      <th></th>\n",
       "      <th></th>\n",
       "      <th></th>\n",
       "      <th></th>\n",
       "      <th></th>\n",
       "      <th></th>\n",
       "      <th></th>\n",
       "      <th></th>\n",
       "      <th></th>\n",
       "      <th></th>\n",
       "      <th></th>\n",
       "      <th></th>\n",
       "      <th></th>\n",
       "    </tr>\n",
       "  </thead>\n",
       "  <tbody>\n",
       "  </tbody>\n",
       "</table>\n",
       "</div>"
      ],
      "text/plain": [
       "Empty DataFrame\n",
       "Columns: [D_19_01_Annexed2_Infructueux, D_19_02_Annexed2_Recherche, D_19_03_Annexed2_Raisonstechniques, D_19_04_Annexed2_Raisonsartistiques, D_19_05_Annexed2_Proprieteintellectuelle, D_19_06_Annexed2_Urgenceimperieuse, D_19_07_Annexed2_Marchecomplementaire, D_19_08_Annexed2_Prestationsidentiques, D_19_09_Annexed2_Laureatsconcours, D_19_10_Annexed2_Matierespremieres, D_19_11_Annexed2_Cessationactivite, D_19_12_Annexed2_Liquidateurs, D_19_13_Annexed2_Achatopportunite, D_19_14_Annexed2_Horsscope, D_19_15_Annexed2_Explication]\n",
       "Index: []"
      ]
     },
     "execution_count": 6,
     "metadata": {},
     "output_type": "execute_result"
    }
   ],
   "source": [
    "extrait_df_d_19_annexed2.head(3)"
   ]
  },
  {
   "cell_type": "markdown",
   "metadata": {},
   "source": [
    "**<a href=\"#navigation\">Remonter<a/>**"
   ]
  }
 ],
 "metadata": {
  "kernelspec": {
   "display_name": "Python 3",
   "language": "python",
   "name": "python3"
  },
  "language_info": {
   "codemirror_mode": {
    "name": "ipython",
    "version": 3
   },
   "file_extension": ".py",
   "mimetype": "text/x-python",
   "name": "python",
   "nbconvert_exporter": "python",
   "pygments_lexer": "ipython3",
   "version": "3.8.6"
  },
  "widgets": {
   "application/vnd.jupyter.widget-state+json": {
    "state": {
     "a4529d3e36794666a187fcbe61de12d1": {
      "model_module": "@jupyter-widgets/output",
      "model_module_version": "1.0.0",
      "model_name": "OutputModel",
      "state": {
       "layout": "IPY_MODEL_abc5a4787ae04f608639078e2f871292",
       "outputs": [
        {
         "data": {
          "text/html": "\n        <iframe\n            width=\"98%\"\n            height=\"400px\"\n            src=\"boamp_plans_html/boamp_plan_d_19_annexed2.html\"\n            frameborder=\"0\"\n            allowfullscreen\n        ></iframe>\n        ",
          "text/plain": "<IPython.lib.display.IFrame at 0x1df7f3fd1c0>"
         },
         "metadata": {},
         "output_type": "display_data"
        },
        {
         "data": {
          "text/html": "<p><strong>Cliquez sur les cercles contenus dans la figure pour ouvrir et refermer les niveaux.<br>    \n                     L'image est zommable.<br><br>\n                     <a href=boamp_plans_html/boamp_plan_d_19_annexed2.html> --> Ouvrir ce schéma en plein écran dans un nouvel onglet. </a></strong><br>\n                     <em>Cliquez sur « Trust HTML » si le schéma n'apparaît pas de lui-même à l'ouverture du lien.</em></p>\n                     ",
          "text/plain": "<IPython.core.display.HTML object>"
         },
         "metadata": {},
         "output_type": "display_data"
        }
       ]
      }
     },
     "abc5a4787ae04f608639078e2f871292": {
      "model_module": "@jupyter-widgets/base",
      "model_module_version": "1.2.0",
      "model_name": "LayoutModel",
      "state": {
       "border": "3px solid #cccccc",
       "margin": "20px 100px 20px 100px",
       "max_width": "80%",
       "padding": "10px"
      }
     }
    },
    "version_major": 2,
    "version_minor": 0
   }
  }
 },
 "nbformat": 4,
 "nbformat_minor": 4
}
