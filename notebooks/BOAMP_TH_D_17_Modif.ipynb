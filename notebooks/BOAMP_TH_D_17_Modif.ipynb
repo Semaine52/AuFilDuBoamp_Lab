{
 "cells": [
  {
   "cell_type": "code",
   "execution_count": 1,
   "metadata": {},
   "outputs": [
    {
     "data": {
      "text/html": [
       "\n",
       "\n",
       "<!DOCTYPE html>\n",
       "\n",
       "<html>\n",
       "\n",
       "<title>AuFilDuBoamp_Lab par Semaine52</title>\n",
       "<meta name=\"viewport\" content=\"width=device-width, initial-scale=1\">\n",
       "<link rel=\"stylesheet\" href=\"https://www.w3schools.com/w3css/4/w3.css\">\n",
       "<link rel=\"stylesheet\" href=\"https://cdnjs.cloudflare.com/ajax/libs/font-awesome/4.7.0/css/font-awesome.min.css\">\n",
       "<script src='https://kit.fontawesome.com/a076d05399.js'></script>\n",
       "\n",
       "\n",
       "<body>\n",
       "\n",
       "<div class=\"w3-container\">\n",
       "   <div class=\"w3-padding  w3-white w3-small\">\n",
       "  \n",
       "     <a href=\"https://github.com/Semaine52/AuFilDuBoamp_Lab\" title=\"AuFilDuBoamp_Lab sur GitHub\" alt=\"AuFilDuBoamp_Lab sur GitHub\" class=\"w3-bar-item w3-button fas fa-share-square w3-small w3-white\">&nbsp; AuFilDuBoamp_Lab sur GitHub</a>\n",
       "     \n",
       "     <a href=\"https://twitter.com/AuFilDuBoamp\" title=\"AuFilDuBoamp sur Twitter\" alt=\"AuFilDuBoamp sur Twitter\" class=\"w3-bar-item w3-button fas fa-share-square w3-small w3-white\">&nbsp; sur Twitter</a>\n",
       "     \n",
       "     <a href=\"https://www.data.gouv.fr/fr/organizations/aufilduboamp-1/\" title=\"AuFilDuBoamp sur DataGouv.fr\" alt=\"AuFilDuBoamp sur DataGouv.fr\" class=\"w3-bar-item w3-button fas fa-share-square w3-small  w3-white\">&nbsp; sur DataGouv.fr</a>\n",
       "     \n",
       "          <a href=\"https://mybinder.org/v2/gh/Semaine52/AuFilDuBoamp_Lab/master?urlpath=lab/tree/notebooks/_Sommaire.ipynb\" title=\"AuFilDuBoamp_Lab sur Binder\" alt=\"AuFilDuBoamp_Lab sur Binder\" class=\"w3-bar-item w3-button fas fa-share-square w3-small  w3-white\">&nbsp; sur Binder</a>\n",
       "          \n",
       "          <a href=\"https://teamopendata.org/u/semaine52_jmf/summary\" title=\"Jean-Marie Falvet sur TeamOpenData\" alt=\"Jean-Marie Falvet sur TeamOpenData\" class=\"w3-bar-item w3-button fas fa-share-square w3-small  w3-white\">&nbsp; chez TeamOpenData</a>\n",
       "          \n",
       "          \n",
       "     \n",
       "       \n",
       "         <a href=\"https://www.data.gouv.fr/fr/datasets/boamp/\" title=\"Le BOAMP sur DataGouv.fr\" alt=\"Le BOAMP sur DataGouv.fr\" class=\"w3-bar-item w3-button fas fa-share-square w3-small w3-white\">&nbsp; Le BOAMP sur DataGouv.fr</a>\n",
       "     \n",
       "     <a href=\"https://www.boamp.fr/\" title=\"BOAMP.fr\" alt=\"BOAMP.fr\"class=\"w3-bar-item w3-button fas fa-share-square w3-small  w3-white\">BOAMP.fr</a>\n",
       "     \n",
       "     <a href=\"https://www.legifrance.gouv.fr/affichCode.do?cidTexte=LEGITEXT000037701019\" title=\"Accueil\" alt=\"Accueil\"class=\"w3-bar-item w3-button fas fa-share-square w3-small  w3-white\">&nbsp; Code de la commande publique (Légifrance)</a>  \n",
       "    \n",
       "   </div> \n",
       "      \n",
       " </div>\n",
       "\n",
       " <div class=\"w3-container\">\n",
       "   <div><img class=\"w3-animate-right\" src=\"design/AFDB_DOTS.svg\" alt=\"AuFilDuBoamp_Lab\" title=\"AuFilDuBoamp_Lab\" style=\"width:40%\"></div>\n",
       "\n",
       "   <div class=\"w3-padding w3-xlarge w3-white\"> \n",
       "     \n",
       "       \n",
       "        \n",
       "     <a href=\"_Sommaire.ipynb\" alt=\"Sommaire général\" title=\"Sommaire général\" class=\"w3-bar-item w3-button fa fa-list w3-large w3-amber\">&nbsp; Lien vers le Sommaire général</a>  \n",
       "     <a href=\"https://mybinder.org/v2/gh/Semaine52/AuFilDuBoamp_Lab/master?urlpath=lab/tree/notebooks/_Sommaire.ipynb\" alt=\"Lancer Binder\" title=\"Lancer Binder\" class=\"w3-bar-item w3-button fa fa-arrow-right w3-large w3-teal\">&nbsp; Lancer Binder</a>  \n",
       "     <p style=\"font-size:16px; margin-top:5px\">N'oubliez pas <strong>« Run All Cells »</strong> du menu <strong>« Run »</strong> pour activer les pages une fois sur Binder.</p>\n",
       "  </div>\n",
       "  \n",
       " </div>\n",
       "\n",
       "</body>\n",
       "\n",
       "</html> \n",
       "\n",
       " "
      ],
      "text/plain": [
       "<IPython.core.display.HTML object>"
      ]
     },
     "metadata": {},
     "output_type": "display_data"
    }
   ],
   "source": [
    "%run afdb_lab_scripts/afdb_lab_prereglages\n",
    "%run afdb_lab_scripts/afdb_lab_haut"
   ]
  },
  {
   "cell_type": "markdown",
   "metadata": {},
   "source": [
    "<div id=\"navigation\"></div>\n",
    "\n",
    "#### Un tour d'horizon des Tables du BOAMP\n",
    "\n",
    "À base des données recueillies en OpenData via l'API consacrée --> https://www.data.gouv.fr/fr/datasets/api-boamp-beta/\n",
    "\n",
    "----\n",
    "<h1 style=\"font-size:60px;\">Table D_17_Modif</h1>\n",
    "\n",
    "----\n"
   ]
  },
  {
   "cell_type": "markdown",
   "metadata": {},
   "source": [
    "- **<a href=\"#navigation\">Navigateur<a/>**\n",
    "    - **<a href=\"#chargement\">Chargement de la table<a/>**\n",
    "    - **<a href=\"#schema\">Schéma interactif de la table**    \n",
    "    - **<a href=\"#infos\">Présentation brute des colonnes<a/>**\n",
    "    - **<a href=\"#verticale\">Vue verticale de la table<a/>**\n",
    "    - **<a href=\"#horizontale\">Vue horizontale de la table<a/>**"
   ]
  },
  {
   "cell_type": "markdown",
   "metadata": {},
   "source": [
    "<div id=\"chargement\"></div>\n",
    "\n",
    "## Chargement de la table"
   ]
  },
  {
   "cell_type": "code",
   "execution_count": 2,
   "metadata": {},
   "outputs": [],
   "source": [
    "extrait_df_d_17_modif = pd.read_pickle('data/df_boamp_2021_02_D_17_modif.pkl')"
   ]
  },
  {
   "cell_type": "markdown",
   "metadata": {},
   "source": [
    "<div id=\"schema\"></div>\n",
    "\n",
    "## Schéma interactif de la table"
   ]
  },
  {
   "cell_type": "code",
   "execution_count": 3,
   "metadata": {},
   "outputs": [
    {
     "data": {
      "application/vnd.jupyter.widget-view+json": {
       "model_id": "f20b9bd2d7704c55a58ede6cf60a8dce",
       "version_major": 2,
       "version_minor": 0
      },
      "text/plain": [
       "Output(layout=Layout(border='3px solid #cccccc', margin='20px 100px 20px 100px', max_width='80%', padding='10p…"
      ]
     },
     "metadata": {},
     "output_type": "display_data"
    }
   ],
   "source": [
    "from afdb_lab_scripts.afficher_plan_html import afficher_plan_html\n",
    "afficher_plan_html(source=\"boamp_plans_html/boamp_plan_d_17_modif.html\");"
   ]
  },
  {
   "cell_type": "markdown",
   "metadata": {},
   "source": [
    "[Ouvrir ce schéma en plein écran dans un nouvel onglet (cliquez sur « Trust HTML » s'il n'apparaît pas de lui-même à l'ouverture)](boamp_plans_html/boamp_plan_d_17_modif.html)"
   ]
  },
  {
   "cell_type": "markdown",
   "metadata": {},
   "source": [
    "**<a href=\"#navigation\">Remonter<a/>**"
   ]
  },
  {
   "cell_type": "markdown",
   "metadata": {},
   "source": [
    "<div id=\"infos\"></div>\n",
    "\n",
    "## Présentation brute des colonnes"
   ]
  },
  {
   "cell_type": "code",
   "execution_count": 4,
   "metadata": {},
   "outputs": [
    {
     "name": "stdout",
     "output_type": "stream",
     "text": [
      "<class 'pandas.core.frame.DataFrame'>\n",
      "Index: 28 entries, 21-12667 to 21-5333\n",
      "Data columns (total 16 columns):\n",
      " #   Column                              Non-Null Count  Dtype \n",
      "---  ------                              --------------  ----- \n",
      " 0   D_17_01_Modif_Cpv                   28 non-null     object\n",
      " 1   D_17_02_Modif_Codenuts              28 non-null     object\n",
      " 2   D_17_03_Modif_Lieuprincipal         7 non-null      object\n",
      " 3   D_17_04_Modif_Description           28 non-null     object\n",
      " 4   D_17_05_Modif_Dureemois             28 non-null     object\n",
      " 5   D_17_06_Modif_Dureejours            0 non-null      object\n",
      " 6   D_17_07_Modif_Datefin               0 non-null      object\n",
      " 7   D_17_08_Modif_Datedebut             0 non-null      object\n",
      " 8   D_17_09_Modif_Valeur                28 non-null     object\n",
      " 9   D_17_10_Modif_Groupementeconomique  5 non-null      object\n",
      " 10  D_17_11_Modif_Titulaire             28 non-null     object\n",
      " 11  D_17_12_Modif_Descmodif             28 non-null     object\n",
      " 12  D_17_13_Modif_Besointvx             14 non-null     object\n",
      " 13  D_17_14_Modif_Modifrnec             14 non-null     object\n",
      " 14  D_17_15_Modif_Valeuravt             28 non-null     object\n",
      " 15  D_17_16_Modif_Valeurapr             28 non-null     object\n",
      "dtypes: object(16)\n",
      "memory usage: 3.7+ KB\n"
     ]
    }
   ],
   "source": [
    "extrait_df_d_17_modif.info()"
   ]
  },
  {
   "cell_type": "markdown",
   "metadata": {},
   "source": [
    "**<a href=\"#navigation\">Remonter<a/>**"
   ]
  },
  {
   "cell_type": "markdown",
   "metadata": {},
   "source": [
    "<div id=\"verticale\"></div>\n",
    "\n",
    "## Vue verticale de la table "
   ]
  },
  {
   "cell_type": "code",
   "execution_count": 5,
   "metadata": {},
   "outputs": [
    {
     "data": {
      "text/html": [
       "<div>\n",
       "<style scoped>\n",
       "    .dataframe tbody tr th:only-of-type {\n",
       "        vertical-align: middle;\n",
       "    }\n",
       "\n",
       "    .dataframe tbody tr th {\n",
       "        vertical-align: top;\n",
       "    }\n",
       "\n",
       "    .dataframe thead th {\n",
       "        text-align: right;\n",
       "    }\n",
       "</style>\n",
       "<table border=\"1\" class=\"dataframe\">\n",
       "  <thead>\n",
       "    <tr style=\"text-align: right;\">\n",
       "      <th>BOAMP_AVIS_NUM</th>\n",
       "      <th>21-12667</th>\n",
       "      <th>21-13337</th>\n",
       "      <th>21-15170</th>\n",
       "    </tr>\n",
       "  </thead>\n",
       "  <tbody>\n",
       "    <tr>\n",
       "      <th>D_17_01_Modif_Cpv</th>\n",
       "      <td>[{'principal': '45244000', 'supplementaire': []}]</td>\n",
       "      <td>[{'principal': '92610000', 'supplementaire': []}]</td>\n",
       "      <td>[{'principal': '44510000', 'supplementaire': []}]</td>\n",
       "    </tr>\n",
       "    <tr>\n",
       "      <th>D_17_02_Modif_Codenuts</th>\n",
       "      <td>[&lt;?xml version=\"1.0\" encoding=\"UTF-16\"?&gt;\\n&lt;CODE_NUTS xmlns:xsi=\"http://www.w3.org/2001/XMLSchema-instance\"&gt;FRY40&lt;/CODE_NUTS&gt;]</td>\n",
       "      <td>[&lt;?xml version=\"1.0\" encoding=\"UTF-16\"?&gt;\\n&lt;CODE_NUTS xmlns:xsi=\"http://www.w3.org/2001/XMLSchema-instance\"&gt;FRH03&lt;/CODE_NUTS&gt;]</td>\n",
       "      <td>[&lt;?xml version=\"1.0\" encoding=\"UTF-16\"?&gt;\\n&lt;CODE_NUTS xmlns:xsi=\"http://www.w3.org/2001/XMLSchema-instance\"&gt;FRI12&lt;/CODE_NUTS&gt;]</td>\n",
       "    </tr>\n",
       "    <tr>\n",
       "      <th>D_17_03_Modif_Lieuprincipal</th>\n",
       "      <td>None</td>\n",
       "      <td>None</td>\n",
       "      <td>None</td>\n",
       "    </tr>\n",
       "    <tr>\n",
       "      <th>D_17_04_Modif_Description</th>\n",
       "      <td>Le projet de réaménagement et dextension du Port de Sainte-Marie, consiste : - à réaménager et optimiser le bassin portuaire existant dune superficie de 1,3 ha, - à créer un nouveau bassin, les quais et ouvrages de protection associé. - à prolonger la digue Est existante. Les infrastructures maritimes doivent garantir à l'usager un accès sécurisé au port dans des conditions dagitation définies au DCE. - à adapter les terre-pleins terrestres avec une aire de carénage et une zone davitaillement - à créer un front bâti de locaux modulaires pour les activités portuaires et touristiques, et dédiés à la pêche. Le site et les travaux sont soumis à des exigences environnementales et de respect des servitudes aéroportuaires.</td>\n",
       "      <td>Délégation de service public pour la gestion et l'exploitation du centre aquatique Aquacia sis à combourg.</td>\n",
       "      <td>Fourniture de matériel pour le centre archéologie préventive de Bordeaux Métropole</td>\n",
       "    </tr>\n",
       "    <tr>\n",
       "      <th>D_17_05_Modif_Dureemois</th>\n",
       "      <td>34.0</td>\n",
       "      <td>60.0</td>\n",
       "      <td>48.0</td>\n",
       "    </tr>\n",
       "    <tr>\n",
       "      <th>D_17_06_Modif_Dureejours</th>\n",
       "      <td>None</td>\n",
       "      <td>None</td>\n",
       "      <td>None</td>\n",
       "    </tr>\n",
       "    <tr>\n",
       "      <th>D_17_07_Modif_Datefin</th>\n",
       "      <td>None</td>\n",
       "      <td>None</td>\n",
       "      <td>None</td>\n",
       "    </tr>\n",
       "    <tr>\n",
       "      <th>D_17_08_Modif_Datedebut</th>\n",
       "      <td>None</td>\n",
       "      <td>None</td>\n",
       "      <td>None</td>\n",
       "    </tr>\n",
       "    <tr>\n",
       "      <th>D_17_09_Modif_Valeur</th>\n",
       "      <td>{'value': 19635254.82, 'devise': 'EUR'}</td>\n",
       "      <td>{'value': 4600015, 'devise': 'EUR'}</td>\n",
       "      <td>{'value': 22031.85, 'devise': 'EUR'}</td>\n",
       "    </tr>\n",
       "    <tr>\n",
       "      <th>D_17_10_Modif_Groupementeconomique</th>\n",
       "      <td></td>\n",
       "      <td>None</td>\n",
       "      <td>None</td>\n",
       "    </tr>\n",
       "    <tr>\n",
       "      <th>D_17_11_Modif_Titulaire</th>\n",
       "      <td>[{'denomination': 'GTOI', 'codeidentnational': None, 'correspondant': None, 'adresse': '106 Rue Paul Verlaine ZIC no2 BP 32016', 'cp': '97824', 'ville': 'LE PORT CEDEX', 'codenuts': 'FRY40', 'pays': 'RE', 'tel': None, 'poste': None, 'fax': None, 'mel': None, 'url': None, 'pmeoui': None, 'pmenon': '&lt;?xml version=\"1.0\" encoding=\"UTF-16\"?&gt;\n",
       "&lt;PME_NON xmlns:xsi=\"http://www.w3.org/2001/XMLSchema-instance\"/&gt;'}, {'denomination': 'EGIS PORTS', 'codeidentnational': None, 'correspondant': None, 'adresse': '889 Rue de la Vielle Poste', 'cp': '34965', 'ville': 'MONTPELLIER CEDEX 2', 'codenuts': 'FRJ13', 'pays': None, 'tel': None, 'poste': None, 'fax': None, 'mel': None, 'url': None, 'pmeoui': None, 'pmenon': '&lt;?xml version=\"1.0\" encoding=\"UTF-16\"?&gt;\n",
       "&lt;PME_NON xmlns:xsi=\"http://www.w3.org/2001/XMLSchema-instance\"/&gt;'}, {'denomination': 'QUADRA ARCHITECTURES', 'codeidentnational': 'Cour Usine de La Mare', 'correspondant': None, 'adresse': None, 'cp': '97438', 'ville': 'Sainte-Marie', 'codenuts': 'FRY40', 'pays': 'RE', 'tel': None, 'poste': None, 'fax': None, 'mel': None, 'url': None, 'pmeoui': '&lt;?xml version=\"1.0\" encoding=\"UTF-16\"?&gt;\n",
       "&lt;PME_OUI xmlns:xsi=\"http://www.w3.org/2001/XMLSchema-instance\"/&gt;', 'pmenon': None}, {'denomination': 'SEANERGY OCEAN INDIEN', 'codeidentnational': None, 'correspondant': None, 'adresse': 'Hangar D3 - Rue Amiral Bosse - Enceinte portuaire BP 80105', 'cp': '97823', 'ville': 'LE PORT CEDEX', 'codenuts': 'FRY40', 'pays': 'RE', 'tel': None, 'poste': None, 'fax': None, 'mel': None, 'url': None, 'pmeoui': '&lt;?xml version=\"1.0\" encoding=\"UTF-16\"?&gt;\n",
       "&lt;PME_OUI xmlns:xsi=\"http://www.w3.org/2001/XMLSchema-instance\"/&gt;', 'pmenon': None}, {'denomination': 'ENTREPRISE JEAN NEGRI &amp;amp; FILS', 'codeidentnational': None, 'correspondant': None, 'adresse': 'Zi Le Tonkin - Secteur des Betonniers', 'cp': '13270', 'ville': 'FOS SUR MER', 'codenuts': 'FRL04', 'pays': None, 'tel': None, 'poste': None, 'fax': None, 'mel': None, 'url': None, 'pmeoui': '&lt;?xml version=\"1.0\" encoding=\"UTF-16\"?&gt;\n",
       "&lt;PME_OUI xmlns:xsi=\"http://www.w3.org/2001/XMLSchema-instance\"/&gt;', 'pmenon': None}]</td>\n",
       "      <td>[{'denomination': 'ACTION DEVELOPPEMENT LOISIR \"ESPACE RECREA\"', 'codeidentnational': None, 'correspondant': None, 'adresse': None, 'cp': None, 'ville': 'HEROUVILLE SAINT CLAIR', 'codenuts': 'FRD', 'pays': None, 'tel': None, 'poste': None, 'fax': None, 'mel': None, 'url': None, 'pmeoui': None, 'pmenon': '&lt;?xml version=\"1.0\" encoding=\"UTF-16\"?&gt;\n",
       "&lt;PME_NON xmlns:xsi=\"http://www.w3.org/2001/XMLSchema-instance\"/&gt;'}]</td>\n",
       "      <td>[{'denomination': 'ABEMUS', 'codeidentnational': None, 'correspondant': None, 'adresse': None, 'cp': '68470', 'ville': 'FELLERING', 'codenuts': 'FRF12', 'pays': None, 'tel': None, 'poste': None, 'fax': None, 'mel': None, 'url': None, 'pmeoui': '&lt;?xml version=\"1.0\" encoding=\"UTF-16\"?&gt;\n",
       "&lt;PME_OUI xmlns:xsi=\"http://www.w3.org/2001/XMLSchema-instance\"/&gt;', 'pmenon': None}]</td>\n",
       "    </tr>\n",
       "    <tr>\n",
       "      <th>D_17_12_Modif_Descmodif</th>\n",
       "      <td>1/ Modifications de programme au travers de la location d'anneaux supplémentaires et de la location de surfaces commerciales (jusqu'à 16 modules commerciaux sur 980 m2), représentant une augmentation totale de 12,9 % par rapport au montant du marché initial.2/ Augmentation des délais. Lincidence de la crise sanitaire sur les délais de lopération est de 8 mois avec une interruption du marché de 2 mois (pendant le confinement) et une prolongation de la durée du marché de 6 mois. La modification de programme relative à lextension du front bâti présente un délai complémentaire de 4 mois. Globalement l'incidence de l'avenant sur les délais est de 12 mois.</td>\n",
       "      <td>le contrat de DSP est modifié afin de prendre en compte les prescriptions de la Direction Régionale des Finances Publiques de Bretagne et dIlle-et-Vilaine relatives à la fixation de la part fixe de la redevance doccupation domaniale à compter du 1er janvier 2020 à la somme de deux cent vingt-six mille (226 000) euros HT par an permettant à la CCBR de retrouver sa qualité dassujetti à la TVA ; Etant entendu que pour lannée 2020, le montant de la redevance tiendra compte des dispositions de lAvenant no3 relatives à une exonération de celle-ci pendant la période de fermeture liée à la crise sanitaire COVID19.le contrat et notamment les articles 36.1, 37.1 et 42 et son annexe financière (Annexe 9) sont modifiées pour prendre en compte les conséquences financières induites par la fixation du nouveau montant de la part fixe de la redevance doccupation domaniale à compter du 1er janvier 2020. Soit, une augmentation de la compensation pour contraintes de service public compensée par le nouveau montant de la redevance doccupation domaniale, une potentielle augmentation de la CVAE et de la CFE, une augmentation de la taxe sur les salaires.</td>\n",
       "      <td>Fourniture de matériel pour le centre archéologie préventive de Bordeaux Métropole</td>\n",
       "    </tr>\n",
       "    <tr>\n",
       "      <th>D_17_13_Modif_Besointvx</th>\n",
       "      <td>None</td>\n",
       "      <td>None</td>\n",
       "      <td>None</td>\n",
       "    </tr>\n",
       "    <tr>\n",
       "      <th>D_17_14_Modif_Modifrnec</th>\n",
       "      <td>L'incidence de la crise sanitaire de la Covid 19 qui n'était pas prévisible lors du lancement du marché, a conduit à décaler la date d'achèvement des travaux (cf rubrique VII.2.1)</td>\n",
       "      <td>En juin 2020, la Direction Régionales des Finances publiques (DRFIP) de Bretagne et d'Ille et Vilaine a remis en question la qualité d'assujetti à la tva de la CCBR sur l'opération du centre aquatique, qualité qu'elle faisait valoir sur la base d'un rescrit fiscal de 2015. Le motif évoqué: le montant jugé trop faible de la part fixe de  la redevance d'occupation domaniale.</td>\n",
       "      <td>ERREUR REPRISE MARCHE DIFFEREND</td>\n",
       "    </tr>\n",
       "    <tr>\n",
       "      <th>D_17_15_Modif_Valeuravt</th>\n",
       "      <td>{'value': 17723851, 'devise': 'EUR'}</td>\n",
       "      <td>{'value': 3771644, 'devise': 'EUR'}</td>\n",
       "      <td>{'value': 22031.85, 'devise': 'EUR'}</td>\n",
       "    </tr>\n",
       "    <tr>\n",
       "      <th>D_17_16_Modif_Valeurapr</th>\n",
       "      <td>{'value': 19635254.82, 'devise': 'EUR'}</td>\n",
       "      <td>{'value': 4600015, 'devise': 'EUR'}</td>\n",
       "      <td>{'value': 22031.85, 'devise': 'EUR'}</td>\n",
       "    </tr>\n",
       "  </tbody>\n",
       "</table>\n",
       "</div>"
      ],
      "text/plain": [
       "BOAMP_AVIS_NUM                                                                                                                                                                                                                                                                                                                                                                                                                                                                                                                                                                                                                                                                                                                                                                                                                                                                                                                                                                                                                                                                                                                                                                                                                                                                                                                                                                                                                                                                                                                                                                                                                                                                                                                                                                                                                                                                                                                                                                                                                                                                                                                                                                                        21-12667  \\\n",
       "D_17_01_Modif_Cpv                                                                                                                                                                                                                                                                                                                                                                                                                                                                                                                                                                                                                                                                                                                                                                                                                                                                                                                                                                                                                                                                                                                                                                                                                                                                                                                                                                                                                                                                                                                                                                                                                                                                                                                                                                                                                                                                                                                                                                                                                                                                                                                                            [{'principal': '45244000', 'supplementaire': []}]   \n",
       "D_17_02_Modif_Codenuts                                                                                                                                                                                                                                                                                                                                                                                                                                                                                                                                                                                                                                                                                                                                                                                                                                                                                                                                                                                                                                                                                                                                                                                                                                                                                                                                                                                                                                                                                                                                                                                                                                                                                                                                                                                                                                                                                                                                                                                                                                                           [<?xml version=\"1.0\" encoding=\"UTF-16\"?>\\n<CODE_NUTS xmlns:xsi=\"http://www.w3.org/2001/XMLSchema-instance\">FRY40</CODE_NUTS>]   \n",
       "D_17_03_Modif_Lieuprincipal                                                                                                                                                                                                                                                                                                                                                                                                                                                                                                                                                                                                                                                                                                                                                                                                                                                                                                                                                                                                                                                                                                                                                                                                                                                                                                                                                                                                                                                                                                                                                                                                                                                                                                                                                                                                                                                                                                                                                                                                                                                                                                                                                                               None   \n",
       "D_17_04_Modif_Description                                                                                                                                                                                                                                                                                                                                                                                                                                                                                                                                                                                                                                                                                                                                                                                                                                                                                                                                                                                                                                                                                                                                                                                                                                                                                                                                                                                                                            Le projet de réaménagement et dextension du Port de Sainte-Marie, consiste : - à réaménager et optimiser le bassin portuaire existant dune superficie de 1,3 ha, - à créer un nouveau bassin, les quais et ouvrages de protection associé. - à prolonger la digue Est existante. Les infrastructures maritimes doivent garantir à l'usager un accès sécurisé au port dans des conditions dagitation définies au DCE. - à adapter les terre-pleins terrestres avec une aire de carénage et une zone davitaillement - à créer un front bâti de locaux modulaires pour les activités portuaires et touristiques, et dédiés à la pêche. Le site et les travaux sont soumis à des exigences environnementales et de respect des servitudes aéroportuaires.   \n",
       "D_17_05_Modif_Dureemois                                                                                                                                                                                                                                                                                                                                                                                                                                                                                                                                                                                                                                                                                                                                                                                                                                                                                                                                                                                                                                                                                                                                                                                                                                                                                                                                                                                                                                                                                                                                                                                                                                                                                                                                                                                                                                                                                                                                                                                                                                                                                                                                                                                   34.0   \n",
       "D_17_06_Modif_Dureejours                                                                                                                                                                                                                                                                                                                                                                                                                                                                                                                                                                                                                                                                                                                                                                                                                                                                                                                                                                                                                                                                                                                                                                                                                                                                                                                                                                                                                                                                                                                                                                                                                                                                                                                                                                                                                                                                                                                                                                                                                                                                                                                                                                                  None   \n",
       "D_17_07_Modif_Datefin                                                                                                                                                                                                                                                                                                                                                                                                                                                                                                                                                                                                                                                                                                                                                                                                                                                                                                                                                                                                                                                                                                                                                                                                                                                                                                                                                                                                                                                                                                                                                                                                                                                                                                                                                                                                                                                                                                                                                                                                                                                                                                                                                                                     None   \n",
       "D_17_08_Modif_Datedebut                                                                                                                                                                                                                                                                                                                                                                                                                                                                                                                                                                                                                                                                                                                                                                                                                                                                                                                                                                                                                                                                                                                                                                                                                                                                                                                                                                                                                                                                                                                                                                                                                                                                                                                                                                                                                                                                                                                                                                                                                                                                                                                                                                                   None   \n",
       "D_17_09_Modif_Valeur                                                                                                                                                                                                                                                                                                                                                                                                                                                                                                                                                                                                                                                                                                                                                                                                                                                                                                                                                                                                                                                                                                                                                                                                                                                                                                                                                                                                                                                                                                                                                                                                                                                                                                                                                                                                                                                                                                                                                                                                                                                                                                                                                   {'value': 19635254.82, 'devise': 'EUR'}   \n",
       "D_17_10_Modif_Groupementeconomique                                                                                                                                                                                                                                                                                                                                                                                                                                                                                                                                                                                                                                                                                                                                                                                                                                                                                                                                                                                                                                                                                                                                                                                                                                                                                                                                                                                                                                                                                                                                                                                                                                                                                                                                                                                                                                                                                                                                                                                                                                                                                                                                                                               \n",
       "D_17_11_Modif_Titulaire             [{'denomination': 'GTOI', 'codeidentnational': None, 'correspondant': None, 'adresse': '106 Rue Paul Verlaine ZIC no2 BP 32016', 'cp': '97824', 'ville': 'LE PORT CEDEX', 'codenuts': 'FRY40', 'pays': 'RE', 'tel': None, 'poste': None, 'fax': None, 'mel': None, 'url': None, 'pmeoui': None, 'pmenon': '<?xml version=\"1.0\" encoding=\"UTF-16\"?>\n",
       "<PME_NON xmlns:xsi=\"http://www.w3.org/2001/XMLSchema-instance\"/>'}, {'denomination': 'EGIS PORTS', 'codeidentnational': None, 'correspondant': None, 'adresse': '889 Rue de la Vielle Poste', 'cp': '34965', 'ville': 'MONTPELLIER CEDEX 2', 'codenuts': 'FRJ13', 'pays': None, 'tel': None, 'poste': None, 'fax': None, 'mel': None, 'url': None, 'pmeoui': None, 'pmenon': '<?xml version=\"1.0\" encoding=\"UTF-16\"?>\n",
       "<PME_NON xmlns:xsi=\"http://www.w3.org/2001/XMLSchema-instance\"/>'}, {'denomination': 'QUADRA ARCHITECTURES', 'codeidentnational': 'Cour Usine de La Mare', 'correspondant': None, 'adresse': None, 'cp': '97438', 'ville': 'Sainte-Marie', 'codenuts': 'FRY40', 'pays': 'RE', 'tel': None, 'poste': None, 'fax': None, 'mel': None, 'url': None, 'pmeoui': '<?xml version=\"1.0\" encoding=\"UTF-16\"?>\n",
       "<PME_OUI xmlns:xsi=\"http://www.w3.org/2001/XMLSchema-instance\"/>', 'pmenon': None}, {'denomination': 'SEANERGY OCEAN INDIEN', 'codeidentnational': None, 'correspondant': None, 'adresse': 'Hangar D3 - Rue Amiral Bosse - Enceinte portuaire BP 80105', 'cp': '97823', 'ville': 'LE PORT CEDEX', 'codenuts': 'FRY40', 'pays': 'RE', 'tel': None, 'poste': None, 'fax': None, 'mel': None, 'url': None, 'pmeoui': '<?xml version=\"1.0\" encoding=\"UTF-16\"?>\n",
       "<PME_OUI xmlns:xsi=\"http://www.w3.org/2001/XMLSchema-instance\"/>', 'pmenon': None}, {'denomination': 'ENTREPRISE JEAN NEGRI &amp; FILS', 'codeidentnational': None, 'correspondant': None, 'adresse': 'Zi Le Tonkin - Secteur des Betonniers', 'cp': '13270', 'ville': 'FOS SUR MER', 'codenuts': 'FRL04', 'pays': None, 'tel': None, 'poste': None, 'fax': None, 'mel': None, 'url': None, 'pmeoui': '<?xml version=\"1.0\" encoding=\"UTF-16\"?>\n",
       "<PME_OUI xmlns:xsi=\"http://www.w3.org/2001/XMLSchema-instance\"/>', 'pmenon': None}]   \n",
       "D_17_12_Modif_Descmodif                                                                                                                                                                                                                                                                                                                                                                                                                                                                                                                                                                                                                                                                                                                                                                                                                                                                                                                                                                                                                                                                                                                                                                                                                                                                                                                                                                                                                                                                                                  1/ Modifications de programme au travers de la location d'anneaux supplémentaires et de la location de surfaces commerciales (jusqu'à 16 modules commerciaux sur 980 m2), représentant une augmentation totale de 12,9 % par rapport au montant du marché initial.2/ Augmentation des délais. Lincidence de la crise sanitaire sur les délais de lopération est de 8 mois avec une interruption du marché de 2 mois (pendant le confinement) et une prolongation de la durée du marché de 6 mois. La modification de programme relative à lextension du front bâti présente un délai complémentaire de 4 mois. Globalement l'incidence de l'avenant sur les délais est de 12 mois.   \n",
       "D_17_13_Modif_Besointvx                                                                                                                                                                                                                                                                                                                                                                                                                                                                                                                                                                                                                                                                                                                                                                                                                                                                                                                                                                                                                                                                                                                                                                                                                                                                                                                                                                                                                                                                                                                                                                                                                                                                                                                                                                                                                                                                                                                                                                                                                                                                                                                                                                                   None   \n",
       "D_17_14_Modif_Modifrnec                                                                                                                                                                                                                                                                                                                                                                                                                                                                                                                                                                                                                                                                                                                                                                                                                                                                                                                                                                                                                                                                                                                                                                                                                                                                                                                                                                                                                                                                                                                                                                                                                                                                                                                                                                                                                                                                                                                                                                                                    L'incidence de la crise sanitaire de la Covid 19 qui n'était pas prévisible lors du lancement du marché, a conduit à décaler la date d'achèvement des travaux (cf rubrique VII.2.1)   \n",
       "D_17_15_Modif_Valeuravt                                                                                                                                                                                                                                                                                                                                                                                                                                                                                                                                                                                                                                                                                                                                                                                                                                                                                                                                                                                                                                                                                                                                                                                                                                                                                                                                                                                                                                                                                                                                                                                                                                                                                                                                                                                                                                                                                                                                                                                                                                                                                                                                                   {'value': 17723851, 'devise': 'EUR'}   \n",
       "D_17_16_Modif_Valeurapr                                                                                                                                                                                                                                                                                                                                                                                                                                                                                                                                                                                                                                                                                                                                                                                                                                                                                                                                                                                                                                                                                                                                                                                                                                                                                                                                                                                                                                                                                                                                                                                                                                                                                                                                                                                                                                                                                                                                                                                                                                                                                                                                                {'value': 19635254.82, 'devise': 'EUR'}   \n",
       "\n",
       "BOAMP_AVIS_NUM                                                                                                                                                                                                                                                                                                                                                                                                                                                                                                                                                                                                                                                                                                                                                                                                                                                                                                                                                                                                                                                                                                                                                                                                                21-13337  \\\n",
       "D_17_01_Modif_Cpv                                                                                                                                                                                                                                                                                                                                                                                                                                                                                                                                                                                                                                                                                                                                                                                                                                                                                                                                                                                                                                                                                                                                                                    [{'principal': '92610000', 'supplementaire': []}]   \n",
       "D_17_02_Modif_Codenuts                                                                                                                                                                                                                                                                                                                                                                                                                                                                                                                                                                                                                                                                                                                                                                                                                                                                                                                                                                                                                                                                                   [<?xml version=\"1.0\" encoding=\"UTF-16\"?>\\n<CODE_NUTS xmlns:xsi=\"http://www.w3.org/2001/XMLSchema-instance\">FRH03</CODE_NUTS>]   \n",
       "D_17_03_Modif_Lieuprincipal                                                                                                                                                                                                                                                                                                                                                                                                                                                                                                                                                                                                                                                                                                                                                                                                                                                                                                                                                                                                                                                                                                                                                                                                       None   \n",
       "D_17_04_Modif_Description                                                                                                                                                                                                                                                                                                                                                                                                                                                                                                                                                                                                                                                                                                                                                                                                                                                                                                                                                                                                                                                                                                   Délégation de service public pour la gestion et l'exploitation du centre aquatique Aquacia sis à combourg.   \n",
       "D_17_05_Modif_Dureemois                                                                                                                                                                                                                                                                                                                                                                                                                                                                                                                                                                                                                                                                                                                                                                                                                                                                                                                                                                                                                                                                                                                                                                                                           60.0   \n",
       "D_17_06_Modif_Dureejours                                                                                                                                                                                                                                                                                                                                                                                                                                                                                                                                                                                                                                                                                                                                                                                                                                                                                                                                                                                                                                                                                                                                                                                                          None   \n",
       "D_17_07_Modif_Datefin                                                                                                                                                                                                                                                                                                                                                                                                                                                                                                                                                                                                                                                                                                                                                                                                                                                                                                                                                                                                                                                                                                                                                                                                             None   \n",
       "D_17_08_Modif_Datedebut                                                                                                                                                                                                                                                                                                                                                                                                                                                                                                                                                                                                                                                                                                                                                                                                                                                                                                                                                                                                                                                                                                                                                                                                           None   \n",
       "D_17_09_Modif_Valeur                                                                                                                                                                                                                                                                                                                                                                                                                                                                                                                                                                                                                                                                                                                                                                                                                                                                                                                                                                                                                                                                                                                                                                               {'value': 4600015, 'devise': 'EUR'}   \n",
       "D_17_10_Modif_Groupementeconomique                                                                                                                                                                                                                                                                                                                                                                                                                                                                                                                                                                                                                                                                                                                                                                                                                                                                                                                                                                                                                                                                                                                                                                                                None   \n",
       "D_17_11_Modif_Titulaire                                                                                                                                                                                                                                                                                                                                                                                                                                                                                                                                                                                                                                                                                                                                                                                  [{'denomination': 'ACTION DEVELOPPEMENT LOISIR \"ESPACE RECREA\"', 'codeidentnational': None, 'correspondant': None, 'adresse': None, 'cp': None, 'ville': 'HEROUVILLE SAINT CLAIR', 'codenuts': 'FRD', 'pays': None, 'tel': None, 'poste': None, 'fax': None, 'mel': None, 'url': None, 'pmeoui': None, 'pmenon': '<?xml version=\"1.0\" encoding=\"UTF-16\"?>\n",
       "<PME_NON xmlns:xsi=\"http://www.w3.org/2001/XMLSchema-instance\"/>'}]   \n",
       "D_17_12_Modif_Descmodif             le contrat de DSP est modifié afin de prendre en compte les prescriptions de la Direction Régionale des Finances Publiques de Bretagne et dIlle-et-Vilaine relatives à la fixation de la part fixe de la redevance doccupation domaniale à compter du 1er janvier 2020 à la somme de deux cent vingt-six mille (226 000) euros HT par an permettant à la CCBR de retrouver sa qualité dassujetti à la TVA ; Etant entendu que pour lannée 2020, le montant de la redevance tiendra compte des dispositions de lAvenant no3 relatives à une exonération de celle-ci pendant la période de fermeture liée à la crise sanitaire COVID19.le contrat et notamment les articles 36.1, 37.1 et 42 et son annexe financière (Annexe 9) sont modifiées pour prendre en compte les conséquences financières induites par la fixation du nouveau montant de la part fixe de la redevance doccupation domaniale à compter du 1er janvier 2020. Soit, une augmentation de la compensation pour contraintes de service public compensée par le nouveau montant de la redevance doccupation domaniale, une potentielle augmentation de la CVAE et de la CFE, une augmentation de la taxe sur les salaires.   \n",
       "D_17_13_Modif_Besointvx                                                                                                                                                                                                                                                                                                                                                                                                                                                                                                                                                                                                                                                                                                                                                                                                                                                                                                                                                                                                                                                                                                                                                                                                           None   \n",
       "D_17_14_Modif_Modifrnec                                                                                                                                                                                                                                                                                                                                                                                                                                                                                                                                                                                                                                                                                                                                                                                                                        En juin 2020, la Direction Régionales des Finances publiques (DRFIP) de Bretagne et d'Ille et Vilaine a remis en question la qualité d'assujetti à la tva de la CCBR sur l'opération du centre aquatique, qualité qu'elle faisait valoir sur la base d'un rescrit fiscal de 2015. Le motif évoqué: le montant jugé trop faible de la part fixe de  la redevance d'occupation domaniale.   \n",
       "D_17_15_Modif_Valeuravt                                                                                                                                                                                                                                                                                                                                                                                                                                                                                                                                                                                                                                                                                                                                                                                                                                                                                                                                                                                                                                                                                                                                                                            {'value': 3771644, 'devise': 'EUR'}   \n",
       "D_17_16_Modif_Valeurapr                                                                                                                                                                                                                                                                                                                                                                                                                                                                                                                                                                                                                                                                                                                                                                                                                                                                                                                                                                                                                                                                                                                                                                            {'value': 4600015, 'devise': 'EUR'}   \n",
       "\n",
       "BOAMP_AVIS_NUM                                                                                                                                                                                                                                                                                                                                                                                              21-15170  \n",
       "D_17_01_Modif_Cpv                                                                                                                                                                                                                                                                                                                                                  [{'principal': '44510000', 'supplementaire': []}]  \n",
       "D_17_02_Modif_Codenuts                                                                                                                                                                                                                                                                 [<?xml version=\"1.0\" encoding=\"UTF-16\"?>\\n<CODE_NUTS xmlns:xsi=\"http://www.w3.org/2001/XMLSchema-instance\">FRI12</CODE_NUTS>]  \n",
       "D_17_03_Modif_Lieuprincipal                                                                                                                                                                                                                                                                                                                                                                                     None  \n",
       "D_17_04_Modif_Description                                                                                                                                                                                                                                                                                                         Fourniture de matériel pour le centre archéologie préventive de Bordeaux Métropole  \n",
       "D_17_05_Modif_Dureemois                                                                                                                                                                                                                                                                                                                                                                                         48.0  \n",
       "D_17_06_Modif_Dureejours                                                                                                                                                                                                                                                                                                                                                                                        None  \n",
       "D_17_07_Modif_Datefin                                                                                                                                                                                                                                                                                                                                                                                           None  \n",
       "D_17_08_Modif_Datedebut                                                                                                                                                                                                                                                                                                                                                                                         None  \n",
       "D_17_09_Modif_Valeur                                                                                                                                                                                                                                                                                                                                                            {'value': 22031.85, 'devise': 'EUR'}  \n",
       "D_17_10_Modif_Groupementeconomique                                                                                                                                                                                                                                                                                                                                                                              None  \n",
       "D_17_11_Modif_Titulaire             [{'denomination': 'ABEMUS', 'codeidentnational': None, 'correspondant': None, 'adresse': None, 'cp': '68470', 'ville': 'FELLERING', 'codenuts': 'FRF12', 'pays': None, 'tel': None, 'poste': None, 'fax': None, 'mel': None, 'url': None, 'pmeoui': '<?xml version=\"1.0\" encoding=\"UTF-16\"?>\n",
       "<PME_OUI xmlns:xsi=\"http://www.w3.org/2001/XMLSchema-instance\"/>', 'pmenon': None}]  \n",
       "D_17_12_Modif_Descmodif                                                                                                                                                                                                                                                                                                           Fourniture de matériel pour le centre archéologie préventive de Bordeaux Métropole  \n",
       "D_17_13_Modif_Besointvx                                                                                                                                                                                                                                                                                                                                                                                         None  \n",
       "D_17_14_Modif_Modifrnec                                                                                                                                                                                                                                                                                                                                                              ERREUR REPRISE MARCHE DIFFEREND  \n",
       "D_17_15_Modif_Valeuravt                                                                                                                                                                                                                                                                                                                                                         {'value': 22031.85, 'devise': 'EUR'}  \n",
       "D_17_16_Modif_Valeurapr                                                                                                                                                                                                                                                                                                                                                         {'value': 22031.85, 'devise': 'EUR'}  "
      ]
     },
     "execution_count": 5,
     "metadata": {},
     "output_type": "execute_result"
    }
   ],
   "source": [
    "extrait_df_d_17_modif.head(3).T"
   ]
  },
  {
   "cell_type": "markdown",
   "metadata": {},
   "source": [
    "**<a href=\"#navigation\">Remonter<a/>**"
   ]
  },
  {
   "cell_type": "markdown",
   "metadata": {},
   "source": [
    "<div id=\"horizontale\"></div>\n",
    "\n",
    "## Vue horizontale de la table "
   ]
  },
  {
   "cell_type": "code",
   "execution_count": 6,
   "metadata": {},
   "outputs": [
    {
     "data": {
      "text/html": [
       "<div>\n",
       "<style scoped>\n",
       "    .dataframe tbody tr th:only-of-type {\n",
       "        vertical-align: middle;\n",
       "    }\n",
       "\n",
       "    .dataframe tbody tr th {\n",
       "        vertical-align: top;\n",
       "    }\n",
       "\n",
       "    .dataframe thead th {\n",
       "        text-align: right;\n",
       "    }\n",
       "</style>\n",
       "<table border=\"1\" class=\"dataframe\">\n",
       "  <thead>\n",
       "    <tr style=\"text-align: right;\">\n",
       "      <th></th>\n",
       "      <th>D_17_01_Modif_Cpv</th>\n",
       "      <th>D_17_02_Modif_Codenuts</th>\n",
       "      <th>D_17_03_Modif_Lieuprincipal</th>\n",
       "      <th>D_17_04_Modif_Description</th>\n",
       "      <th>D_17_05_Modif_Dureemois</th>\n",
       "      <th>D_17_06_Modif_Dureejours</th>\n",
       "      <th>D_17_07_Modif_Datefin</th>\n",
       "      <th>D_17_08_Modif_Datedebut</th>\n",
       "      <th>D_17_09_Modif_Valeur</th>\n",
       "      <th>D_17_10_Modif_Groupementeconomique</th>\n",
       "      <th>D_17_11_Modif_Titulaire</th>\n",
       "      <th>D_17_12_Modif_Descmodif</th>\n",
       "      <th>D_17_13_Modif_Besointvx</th>\n",
       "      <th>D_17_14_Modif_Modifrnec</th>\n",
       "      <th>D_17_15_Modif_Valeuravt</th>\n",
       "      <th>D_17_16_Modif_Valeurapr</th>\n",
       "    </tr>\n",
       "    <tr>\n",
       "      <th>BOAMP_AVIS_NUM</th>\n",
       "      <th></th>\n",
       "      <th></th>\n",
       "      <th></th>\n",
       "      <th></th>\n",
       "      <th></th>\n",
       "      <th></th>\n",
       "      <th></th>\n",
       "      <th></th>\n",
       "      <th></th>\n",
       "      <th></th>\n",
       "      <th></th>\n",
       "      <th></th>\n",
       "      <th></th>\n",
       "      <th></th>\n",
       "      <th></th>\n",
       "      <th></th>\n",
       "    </tr>\n",
       "  </thead>\n",
       "  <tbody>\n",
       "    <tr>\n",
       "      <th>21-12667</th>\n",
       "      <td>[{'principal': '45244000', 'supplementaire': []}]</td>\n",
       "      <td>[&lt;?xml version=\"1.0\" encoding=\"UTF-16\"?&gt;\\n&lt;CODE_NUTS xmlns:xsi=\"http://www.w3.org/2001/XMLSchema-instance\"&gt;FRY40&lt;/CODE_NUTS&gt;]</td>\n",
       "      <td>None</td>\n",
       "      <td>Le projet de réaménagement et dextension du Port de Sainte-Marie, consiste : - à réaménager et optimiser le bassin portuaire existant dune superficie de 1,3 ha, - à créer un nouveau bassin, les quais et ouvrages de protection associé. - à prolonger la digue Est existante. Les infrastructures maritimes doivent garantir à l'usager un accès sécurisé au port dans des conditions dagitation définies au DCE. - à adapter les terre-pleins terrestres avec une aire de carénage et une zone davitaillement - à créer un front bâti de locaux modulaires pour les activités portuaires et touristiques, et dédiés à la pêche. Le site et les travaux sont soumis à des exigences environnementales et de respect des servitudes aéroportuaires.</td>\n",
       "      <td>34.0</td>\n",
       "      <td>None</td>\n",
       "      <td>None</td>\n",
       "      <td>None</td>\n",
       "      <td>{'value': 19635254.82, 'devise': 'EUR'}</td>\n",
       "      <td></td>\n",
       "      <td>[{'denomination': 'GTOI', 'codeidentnational': None, 'correspondant': None, 'adresse': '106 Rue Paul Verlaine ZIC no2 BP 32016', 'cp': '97824', 'ville': 'LE PORT CEDEX', 'codenuts': 'FRY40', 'pays': 'RE', 'tel': None, 'poste': None, 'fax': None, 'mel': None, 'url': None, 'pmeoui': None, 'pmenon': '&lt;?xml version=\"1.0\" encoding=\"UTF-16\"?&gt;\n",
       "&lt;PME_NON xmlns:xsi=\"http://www.w3.org/2001/XMLSchema-instance\"/&gt;'}, {'denomination': 'EGIS PORTS', 'codeidentnational': None, 'correspondant': None, 'adresse': '889 Rue de la Vielle Poste', 'cp': '34965', 'ville': 'MONTPELLIER CEDEX 2', 'codenuts': 'FRJ13', 'pays': None, 'tel': None, 'poste': None, 'fax': None, 'mel': None, 'url': None, 'pmeoui': None, 'pmenon': '&lt;?xml version=\"1.0\" encoding=\"UTF-16\"?&gt;\n",
       "&lt;PME_NON xmlns:xsi=\"http://www.w3.org/2001/XMLSchema-instance\"/&gt;'}, {'denomination': 'QUADRA ARCHITECTURES', 'codeidentnational': 'Cour Usine de La Mare', 'correspondant': None, 'adresse': None, 'cp': '97438', 'ville': 'Sainte-Marie', 'codenuts': 'FRY40', 'pays': 'RE', 'tel': None, 'poste': None, 'fax': None, 'mel': None, 'url': None, 'pmeoui': '&lt;?xml version=\"1.0\" encoding=\"UTF-16\"?&gt;\n",
       "&lt;PME_OUI xmlns:xsi=\"http://www.w3.org/2001/XMLSchema-instance\"/&gt;', 'pmenon': None}, {'denomination': 'SEANERGY OCEAN INDIEN', 'codeidentnational': None, 'correspondant': None, 'adresse': 'Hangar D3 - Rue Amiral Bosse - Enceinte portuaire BP 80105', 'cp': '97823', 'ville': 'LE PORT CEDEX', 'codenuts': 'FRY40', 'pays': 'RE', 'tel': None, 'poste': None, 'fax': None, 'mel': None, 'url': None, 'pmeoui': '&lt;?xml version=\"1.0\" encoding=\"UTF-16\"?&gt;\n",
       "&lt;PME_OUI xmlns:xsi=\"http://www.w3.org/2001/XMLSchema-instance\"/&gt;', 'pmenon': None}, {'denomination': 'ENTREPRISE JEAN NEGRI &amp;amp; FILS', 'codeidentnational': None, 'correspondant': None, 'adresse': 'Zi Le Tonkin - Secteur des Betonniers', 'cp': '13270', 'ville': 'FOS SUR MER', 'codenuts': 'FRL04', 'pays': None, 'tel': None, 'poste': None, 'fax': None, 'mel': None, 'url': None, 'pmeoui': '&lt;?xml version=\"1.0\" encoding=\"UTF-16\"?&gt;\n",
       "&lt;PME_OUI xmlns:xsi=\"http://www.w3.org/2001/XMLSchema-instance\"/&gt;', 'pmenon': None}]</td>\n",
       "      <td>1/ Modifications de programme au travers de la location d'anneaux supplémentaires et de la location de surfaces commerciales (jusqu'à 16 modules commerciaux sur 980 m2), représentant une augmentation totale de 12,9 % par rapport au montant du marché initial.2/ Augmentation des délais. Lincidence de la crise sanitaire sur les délais de lopération est de 8 mois avec une interruption du marché de 2 mois (pendant le confinement) et une prolongation de la durée du marché de 6 mois. La modification de programme relative à lextension du front bâti présente un délai complémentaire de 4 mois. Globalement l'incidence de l'avenant sur les délais est de 12 mois.</td>\n",
       "      <td>None</td>\n",
       "      <td>L'incidence de la crise sanitaire de la Covid 19 qui n'était pas prévisible lors du lancement du marché, a conduit à décaler la date d'achèvement des travaux (cf rubrique VII.2.1)</td>\n",
       "      <td>{'value': 17723851, 'devise': 'EUR'}</td>\n",
       "      <td>{'value': 19635254.82, 'devise': 'EUR'}</td>\n",
       "    </tr>\n",
       "    <tr>\n",
       "      <th>21-13337</th>\n",
       "      <td>[{'principal': '92610000', 'supplementaire': []}]</td>\n",
       "      <td>[&lt;?xml version=\"1.0\" encoding=\"UTF-16\"?&gt;\\n&lt;CODE_NUTS xmlns:xsi=\"http://www.w3.org/2001/XMLSchema-instance\"&gt;FRH03&lt;/CODE_NUTS&gt;]</td>\n",
       "      <td>None</td>\n",
       "      <td>Délégation de service public pour la gestion et l'exploitation du centre aquatique Aquacia sis à combourg.</td>\n",
       "      <td>60.0</td>\n",
       "      <td>None</td>\n",
       "      <td>None</td>\n",
       "      <td>None</td>\n",
       "      <td>{'value': 4600015, 'devise': 'EUR'}</td>\n",
       "      <td>None</td>\n",
       "      <td>[{'denomination': 'ACTION DEVELOPPEMENT LOISIR \"ESPACE RECREA\"', 'codeidentnational': None, 'correspondant': None, 'adresse': None, 'cp': None, 'ville': 'HEROUVILLE SAINT CLAIR', 'codenuts': 'FRD', 'pays': None, 'tel': None, 'poste': None, 'fax': None, 'mel': None, 'url': None, 'pmeoui': None, 'pmenon': '&lt;?xml version=\"1.0\" encoding=\"UTF-16\"?&gt;\n",
       "&lt;PME_NON xmlns:xsi=\"http://www.w3.org/2001/XMLSchema-instance\"/&gt;'}]</td>\n",
       "      <td>le contrat de DSP est modifié afin de prendre en compte les prescriptions de la Direction Régionale des Finances Publiques de Bretagne et dIlle-et-Vilaine relatives à la fixation de la part fixe de la redevance doccupation domaniale à compter du 1er janvier 2020 à la somme de deux cent vingt-six mille (226 000) euros HT par an permettant à la CCBR de retrouver sa qualité dassujetti à la TVA ; Etant entendu que pour lannée 2020, le montant de la redevance tiendra compte des dispositions de lAvenant no3 relatives à une exonération de celle-ci pendant la période de fermeture liée à la crise sanitaire COVID19.le contrat et notamment les articles 36.1, 37.1 et 42 et son annexe financière (Annexe 9) sont modifiées pour prendre en compte les conséquences financières induites par la fixation du nouveau montant de la part fixe de la redevance doccupation domaniale à compter du 1er janvier 2020. Soit, une augmentation de la compensation pour contraintes de service public compensée par le nouveau montant de la redevance doccupation domaniale, une potentielle augmentation de la CVAE et de la CFE, une augmentation de la taxe sur les salaires.</td>\n",
       "      <td>None</td>\n",
       "      <td>En juin 2020, la Direction Régionales des Finances publiques (DRFIP) de Bretagne et d'Ille et Vilaine a remis en question la qualité d'assujetti à la tva de la CCBR sur l'opération du centre aquatique, qualité qu'elle faisait valoir sur la base d'un rescrit fiscal de 2015. Le motif évoqué: le montant jugé trop faible de la part fixe de  la redevance d'occupation domaniale.</td>\n",
       "      <td>{'value': 3771644, 'devise': 'EUR'}</td>\n",
       "      <td>{'value': 4600015, 'devise': 'EUR'}</td>\n",
       "    </tr>\n",
       "    <tr>\n",
       "      <th>21-15170</th>\n",
       "      <td>[{'principal': '44510000', 'supplementaire': []}]</td>\n",
       "      <td>[&lt;?xml version=\"1.0\" encoding=\"UTF-16\"?&gt;\\n&lt;CODE_NUTS xmlns:xsi=\"http://www.w3.org/2001/XMLSchema-instance\"&gt;FRI12&lt;/CODE_NUTS&gt;]</td>\n",
       "      <td>None</td>\n",
       "      <td>Fourniture de matériel pour le centre archéologie préventive de Bordeaux Métropole</td>\n",
       "      <td>48.0</td>\n",
       "      <td>None</td>\n",
       "      <td>None</td>\n",
       "      <td>None</td>\n",
       "      <td>{'value': 22031.85, 'devise': 'EUR'}</td>\n",
       "      <td>None</td>\n",
       "      <td>[{'denomination': 'ABEMUS', 'codeidentnational': None, 'correspondant': None, 'adresse': None, 'cp': '68470', 'ville': 'FELLERING', 'codenuts': 'FRF12', 'pays': None, 'tel': None, 'poste': None, 'fax': None, 'mel': None, 'url': None, 'pmeoui': '&lt;?xml version=\"1.0\" encoding=\"UTF-16\"?&gt;\n",
       "&lt;PME_OUI xmlns:xsi=\"http://www.w3.org/2001/XMLSchema-instance\"/&gt;', 'pmenon': None}]</td>\n",
       "      <td>Fourniture de matériel pour le centre archéologie préventive de Bordeaux Métropole</td>\n",
       "      <td>None</td>\n",
       "      <td>ERREUR REPRISE MARCHE DIFFEREND</td>\n",
       "      <td>{'value': 22031.85, 'devise': 'EUR'}</td>\n",
       "      <td>{'value': 22031.85, 'devise': 'EUR'}</td>\n",
       "    </tr>\n",
       "  </tbody>\n",
       "</table>\n",
       "</div>"
      ],
      "text/plain": [
       "                                                D_17_01_Modif_Cpv  \\\n",
       "BOAMP_AVIS_NUM                                                      \n",
       "21-12667        [{'principal': '45244000', 'supplementaire': []}]   \n",
       "21-13337        [{'principal': '92610000', 'supplementaire': []}]   \n",
       "21-15170        [{'principal': '44510000', 'supplementaire': []}]   \n",
       "\n",
       "                                                                                                                       D_17_02_Modif_Codenuts  \\\n",
       "BOAMP_AVIS_NUM                                                                                                                                  \n",
       "21-12667        [<?xml version=\"1.0\" encoding=\"UTF-16\"?>\\n<CODE_NUTS xmlns:xsi=\"http://www.w3.org/2001/XMLSchema-instance\">FRY40</CODE_NUTS>]   \n",
       "21-13337        [<?xml version=\"1.0\" encoding=\"UTF-16\"?>\\n<CODE_NUTS xmlns:xsi=\"http://www.w3.org/2001/XMLSchema-instance\">FRH03</CODE_NUTS>]   \n",
       "21-15170        [<?xml version=\"1.0\" encoding=\"UTF-16\"?>\\n<CODE_NUTS xmlns:xsi=\"http://www.w3.org/2001/XMLSchema-instance\">FRI12</CODE_NUTS>]   \n",
       "\n",
       "               D_17_03_Modif_Lieuprincipal  \\\n",
       "BOAMP_AVIS_NUM                               \n",
       "21-12667                              None   \n",
       "21-13337                              None   \n",
       "21-15170                              None   \n",
       "\n",
       "                                                                                                                                                                                                                                                                                                                                                                                                                                                                                                                                                                                                                                                                                                                                                D_17_04_Modif_Description  \\\n",
       "BOAMP_AVIS_NUM                                                                                                                                                                                                                                                                                                                                                                                                                                                                                                                                                                                                                                                                                                                                                              \n",
       "21-12667        Le projet de réaménagement et dextension du Port de Sainte-Marie, consiste : - à réaménager et optimiser le bassin portuaire existant dune superficie de 1,3 ha, - à créer un nouveau bassin, les quais et ouvrages de protection associé. - à prolonger la digue Est existante. Les infrastructures maritimes doivent garantir à l'usager un accès sécurisé au port dans des conditions dagitation définies au DCE. - à adapter les terre-pleins terrestres avec une aire de carénage et une zone davitaillement - à créer un front bâti de locaux modulaires pour les activités portuaires et touristiques, et dédiés à la pêche. Le site et les travaux sont soumis à des exigences environnementales et de respect des servitudes aéroportuaires.   \n",
       "21-13337                                                                                                                                                                                                                                                                                                                                                                                                                                                                                                                                                                                                                                                       Délégation de service public pour la gestion et l'exploitation du centre aquatique Aquacia sis à combourg.   \n",
       "21-15170                                                                                                                                                                                                                                                                                                                                                                                                                                                                                                                                                                                                                                                                               Fourniture de matériel pour le centre archéologie préventive de Bordeaux Métropole   \n",
       "\n",
       "               D_17_05_Modif_Dureemois D_17_06_Modif_Dureejours  \\\n",
       "BOAMP_AVIS_NUM                                                    \n",
       "21-12667                          34.0                     None   \n",
       "21-13337                          60.0                     None   \n",
       "21-15170                          48.0                     None   \n",
       "\n",
       "               D_17_07_Modif_Datefin D_17_08_Modif_Datedebut  \\\n",
       "BOAMP_AVIS_NUM                                                 \n",
       "21-12667                        None                    None   \n",
       "21-13337                        None                    None   \n",
       "21-15170                        None                    None   \n",
       "\n",
       "                                   D_17_09_Modif_Valeur  \\\n",
       "BOAMP_AVIS_NUM                                            \n",
       "21-12667        {'value': 19635254.82, 'devise': 'EUR'}   \n",
       "21-13337            {'value': 4600015, 'devise': 'EUR'}   \n",
       "21-15170           {'value': 22031.85, 'devise': 'EUR'}   \n",
       "\n",
       "               D_17_10_Modif_Groupementeconomique  \\\n",
       "BOAMP_AVIS_NUM                                      \n",
       "21-12667                                            \n",
       "21-13337                                     None   \n",
       "21-15170                                     None   \n",
       "\n",
       "                                                                                                                                                                                                                                                                                                                                                                                                                                                                                                                                                                                                                                                                                                                                                                                                                                                                                                                                                                                                                                                                                                                                                                                                                                                                                                                                                                                                                                                                                                                                                                                                                                                                                                                                                                                                                                                                                                                                                                                                                                                                                                                                                                   D_17_11_Modif_Titulaire  \\\n",
       "BOAMP_AVIS_NUM                                                                                                                                                                                                                                                                                                                                                                                                                                                                                                                                                                                                                                                                                                                                                                                                                                                                                                                                                                                                                                                                                                                                                                                                                                                                                                                                                                                                                                                                                                                                                                                                                                                                                                                                                                                                                                                                                                                                                                                                                                                                                                                                                                               \n",
       "21-12667        [{'denomination': 'GTOI', 'codeidentnational': None, 'correspondant': None, 'adresse': '106 Rue Paul Verlaine ZIC no2 BP 32016', 'cp': '97824', 'ville': 'LE PORT CEDEX', 'codenuts': 'FRY40', 'pays': 'RE', 'tel': None, 'poste': None, 'fax': None, 'mel': None, 'url': None, 'pmeoui': None, 'pmenon': '<?xml version=\"1.0\" encoding=\"UTF-16\"?>\n",
       "<PME_NON xmlns:xsi=\"http://www.w3.org/2001/XMLSchema-instance\"/>'}, {'denomination': 'EGIS PORTS', 'codeidentnational': None, 'correspondant': None, 'adresse': '889 Rue de la Vielle Poste', 'cp': '34965', 'ville': 'MONTPELLIER CEDEX 2', 'codenuts': 'FRJ13', 'pays': None, 'tel': None, 'poste': None, 'fax': None, 'mel': None, 'url': None, 'pmeoui': None, 'pmenon': '<?xml version=\"1.0\" encoding=\"UTF-16\"?>\n",
       "<PME_NON xmlns:xsi=\"http://www.w3.org/2001/XMLSchema-instance\"/>'}, {'denomination': 'QUADRA ARCHITECTURES', 'codeidentnational': 'Cour Usine de La Mare', 'correspondant': None, 'adresse': None, 'cp': '97438', 'ville': 'Sainte-Marie', 'codenuts': 'FRY40', 'pays': 'RE', 'tel': None, 'poste': None, 'fax': None, 'mel': None, 'url': None, 'pmeoui': '<?xml version=\"1.0\" encoding=\"UTF-16\"?>\n",
       "<PME_OUI xmlns:xsi=\"http://www.w3.org/2001/XMLSchema-instance\"/>', 'pmenon': None}, {'denomination': 'SEANERGY OCEAN INDIEN', 'codeidentnational': None, 'correspondant': None, 'adresse': 'Hangar D3 - Rue Amiral Bosse - Enceinte portuaire BP 80105', 'cp': '97823', 'ville': 'LE PORT CEDEX', 'codenuts': 'FRY40', 'pays': 'RE', 'tel': None, 'poste': None, 'fax': None, 'mel': None, 'url': None, 'pmeoui': '<?xml version=\"1.0\" encoding=\"UTF-16\"?>\n",
       "<PME_OUI xmlns:xsi=\"http://www.w3.org/2001/XMLSchema-instance\"/>', 'pmenon': None}, {'denomination': 'ENTREPRISE JEAN NEGRI &amp; FILS', 'codeidentnational': None, 'correspondant': None, 'adresse': 'Zi Le Tonkin - Secteur des Betonniers', 'cp': '13270', 'ville': 'FOS SUR MER', 'codenuts': 'FRL04', 'pays': None, 'tel': None, 'poste': None, 'fax': None, 'mel': None, 'url': None, 'pmeoui': '<?xml version=\"1.0\" encoding=\"UTF-16\"?>\n",
       "<PME_OUI xmlns:xsi=\"http://www.w3.org/2001/XMLSchema-instance\"/>', 'pmenon': None}]   \n",
       "21-13337                                                                                                                                                                                                                                                                                                                                                                                                                                                                                                                                                                                                                                                                                                                                                                                                                                                                                                                                                                                                                                                                                                                                                                                                                                                                                                                                                                                                                                                                                                                                                                                                                                                                                                                                                     [{'denomination': 'ACTION DEVELOPPEMENT LOISIR \"ESPACE RECREA\"', 'codeidentnational': None, 'correspondant': None, 'adresse': None, 'cp': None, 'ville': 'HEROUVILLE SAINT CLAIR', 'codenuts': 'FRD', 'pays': None, 'tel': None, 'poste': None, 'fax': None, 'mel': None, 'url': None, 'pmeoui': None, 'pmenon': '<?xml version=\"1.0\" encoding=\"UTF-16\"?>\n",
       "<PME_NON xmlns:xsi=\"http://www.w3.org/2001/XMLSchema-instance\"/>'}]   \n",
       "21-15170                                                                                                                                                                                                                                                                                                                                                                                                                                                                                                                                                                                                                                                                                                                                                                                                                                                                                                                                                                                                                                                                                                                                                                                                                                                                                                                                                                                                                                                                                                                                                                                                                                                                                                                                                                                                  [{'denomination': 'ABEMUS', 'codeidentnational': None, 'correspondant': None, 'adresse': None, 'cp': '68470', 'ville': 'FELLERING', 'codenuts': 'FRF12', 'pays': None, 'tel': None, 'poste': None, 'fax': None, 'mel': None, 'url': None, 'pmeoui': '<?xml version=\"1.0\" encoding=\"UTF-16\"?>\n",
       "<PME_OUI xmlns:xsi=\"http://www.w3.org/2001/XMLSchema-instance\"/>', 'pmenon': None}]   \n",
       "\n",
       "                                                                                                                                                                                                                                                                                                                                                                                                                                                                                                                                                                                                                                                                                                                                                                                                                                                                                                                                                                                                                                                                                                                                                                                           D_17_12_Modif_Descmodif  \\\n",
       "BOAMP_AVIS_NUM                                                                                                                                                                                                                                                                                                                                                                                                                                                                                                                                                                                                                                                                                                                                                                                                                                                                                                                                                                                                                                                                                                                                                                                                       \n",
       "21-12667                                                                                                                                                                                                                                                                                                                                                                                                                                                                                                                     1/ Modifications de programme au travers de la location d'anneaux supplémentaires et de la location de surfaces commerciales (jusqu'à 16 modules commerciaux sur 980 m2), représentant une augmentation totale de 12,9 % par rapport au montant du marché initial.2/ Augmentation des délais. Lincidence de la crise sanitaire sur les délais de lopération est de 8 mois avec une interruption du marché de 2 mois (pendant le confinement) et une prolongation de la durée du marché de 6 mois. La modification de programme relative à lextension du front bâti présente un délai complémentaire de 4 mois. Globalement l'incidence de l'avenant sur les délais est de 12 mois.   \n",
       "21-13337        le contrat de DSP est modifié afin de prendre en compte les prescriptions de la Direction Régionale des Finances Publiques de Bretagne et dIlle-et-Vilaine relatives à la fixation de la part fixe de la redevance doccupation domaniale à compter du 1er janvier 2020 à la somme de deux cent vingt-six mille (226 000) euros HT par an permettant à la CCBR de retrouver sa qualité dassujetti à la TVA ; Etant entendu que pour lannée 2020, le montant de la redevance tiendra compte des dispositions de lAvenant no3 relatives à une exonération de celle-ci pendant la période de fermeture liée à la crise sanitaire COVID19.le contrat et notamment les articles 36.1, 37.1 et 42 et son annexe financière (Annexe 9) sont modifiées pour prendre en compte les conséquences financières induites par la fixation du nouveau montant de la part fixe de la redevance doccupation domaniale à compter du 1er janvier 2020. Soit, une augmentation de la compensation pour contraintes de service public compensée par le nouveau montant de la redevance doccupation domaniale, une potentielle augmentation de la CVAE et de la CFE, une augmentation de la taxe sur les salaires.   \n",
       "21-15170                                                                                                                                                                                                                                                                                                                                                                                                                                                                                                                                                                                                                                                                                                                                                                                                                                                                                                                                                                                                                                                                                                                        Fourniture de matériel pour le centre archéologie préventive de Bordeaux Métropole   \n",
       "\n",
       "               D_17_13_Modif_Besointvx  \\\n",
       "BOAMP_AVIS_NUM                           \n",
       "21-12667                          None   \n",
       "21-13337                          None   \n",
       "21-15170                          None   \n",
       "\n",
       "                                                                                                                                                                                                                                                                                                                                                                                D_17_14_Modif_Modifrnec  \\\n",
       "BOAMP_AVIS_NUM                                                                                                                                                                                                                                                                                                                                                                                            \n",
       "21-12667                                                                                                                                                                                                            L'incidence de la crise sanitaire de la Covid 19 qui n'était pas prévisible lors du lancement du marché, a conduit à décaler la date d'achèvement des travaux (cf rubrique VII.2.1)   \n",
       "21-13337        En juin 2020, la Direction Régionales des Finances publiques (DRFIP) de Bretagne et d'Ille et Vilaine a remis en question la qualité d'assujetti à la tva de la CCBR sur l'opération du centre aquatique, qualité qu'elle faisait valoir sur la base d'un rescrit fiscal de 2015. Le motif évoqué: le montant jugé trop faible de la part fixe de  la redevance d'occupation domaniale.   \n",
       "21-15170                                                                                                                                                                                                                                                                                                                                                                ERREUR REPRISE MARCHE DIFFEREND   \n",
       "\n",
       "                             D_17_15_Modif_Valeuravt  \\\n",
       "BOAMP_AVIS_NUM                                         \n",
       "21-12667        {'value': 17723851, 'devise': 'EUR'}   \n",
       "21-13337         {'value': 3771644, 'devise': 'EUR'}   \n",
       "21-15170        {'value': 22031.85, 'devise': 'EUR'}   \n",
       "\n",
       "                                D_17_16_Modif_Valeurapr  \n",
       "BOAMP_AVIS_NUM                                           \n",
       "21-12667        {'value': 19635254.82, 'devise': 'EUR'}  \n",
       "21-13337            {'value': 4600015, 'devise': 'EUR'}  \n",
       "21-15170           {'value': 22031.85, 'devise': 'EUR'}  "
      ]
     },
     "execution_count": 6,
     "metadata": {},
     "output_type": "execute_result"
    }
   ],
   "source": [
    "extrait_df_d_17_modif.head(3)"
   ]
  },
  {
   "cell_type": "markdown",
   "metadata": {},
   "source": [
    "**<a href=\"#navigation\">Remonter<a/>**"
   ]
  }
 ],
 "metadata": {
  "kernelspec": {
   "display_name": "Python 3",
   "language": "python",
   "name": "python3"
  },
  "language_info": {
   "codemirror_mode": {
    "name": "ipython",
    "version": 3
   },
   "file_extension": ".py",
   "mimetype": "text/x-python",
   "name": "python",
   "nbconvert_exporter": "python",
   "pygments_lexer": "ipython3",
   "version": "3.8.6"
  },
  "widgets": {
   "application/vnd.jupyter.widget-state+json": {
    "state": {
     "f20b9bd2d7704c55a58ede6cf60a8dce": {
      "model_module": "@jupyter-widgets/output",
      "model_module_version": "1.0.0",
      "model_name": "OutputModel",
      "state": {
       "layout": "IPY_MODEL_f6450e48d9e1400a92ab6cf7d2849f55",
       "outputs": [
        {
         "data": {
          "text/html": "\n        <iframe\n            width=\"98%\"\n            height=\"400px\"\n            src=\"boamp_plans_html/boamp_plan_d_17_modif.html\"\n            frameborder=\"0\"\n            allowfullscreen\n        ></iframe>\n        ",
          "text/plain": "<IPython.lib.display.IFrame at 0x25fea800f10>"
         },
         "metadata": {},
         "output_type": "display_data"
        },
        {
         "data": {
          "text/html": "<p><strong>Cliquez sur les cercles contenus dans la figure pour ouvrir et refermer les niveaux.<br>    \n                     L'image est zommable.<br><br>\n                     <a href=boamp_plans_html/boamp_plan_d_17_modif.html> --> Ouvrir ce schéma en plein écran dans un nouvel onglet. </a></strong><br>\n                     <em>Cliquez sur « Trust HTML » si le schéma n'apparaît pas de lui-même à l'ouverture du lien.</em></p>\n                     ",
          "text/plain": "<IPython.core.display.HTML object>"
         },
         "metadata": {},
         "output_type": "display_data"
        }
       ]
      }
     },
     "f6450e48d9e1400a92ab6cf7d2849f55": {
      "model_module": "@jupyter-widgets/base",
      "model_module_version": "1.2.0",
      "model_name": "LayoutModel",
      "state": {
       "border": "3px solid #cccccc",
       "margin": "20px 100px 20px 100px",
       "max_width": "80%",
       "padding": "10px"
      }
     }
    },
    "version_major": 2,
    "version_minor": 0
   }
  }
 },
 "nbformat": 4,
 "nbformat_minor": 4
}
