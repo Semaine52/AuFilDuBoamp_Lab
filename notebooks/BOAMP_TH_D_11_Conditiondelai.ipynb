{
 "cells": [
  {
   "cell_type": "code",
   "execution_count": 1,
   "metadata": {},
   "outputs": [
    {
     "data": {
      "text/html": [
       "\n",
       "\n",
       "<!DOCTYPE html>\n",
       "\n",
       "<html>\n",
       "\n",
       "<title>AuFilDuBoamp_Lab par Semaine52</title>\n",
       "<meta name=\"viewport\" content=\"width=device-width, initial-scale=1\">\n",
       "<link rel=\"stylesheet\" href=\"https://www.w3schools.com/w3css/4/w3.css\">\n",
       "<link rel=\"stylesheet\" href=\"https://cdnjs.cloudflare.com/ajax/libs/font-awesome/4.7.0/css/font-awesome.min.css\">\n",
       "<script src='https://kit.fontawesome.com/a076d05399.js'></script>\n",
       "\n",
       "\n",
       "<body>\n",
       "\n",
       "<div class=\"w3-container\">\n",
       "   <div class=\"w3-padding  w3-white w3-small\">\n",
       "  \n",
       "     <a href=\"https://github.com/Semaine52/AuFilDuBoamp_Lab\" title=\"AuFilDuBoamp_Lab sur GitHub\" alt=\"AuFilDuBoamp_Lab sur GitHub\" class=\"w3-bar-item w3-button fas fa-share-square w3-small w3-white\">&nbsp; AuFilDuBoamp_Lab sur GitHub</a>\n",
       "     \n",
       "     <a href=\"https://twitter.com/AuFilDuBoamp\" title=\"AuFilDuBoamp sur Twitter\" alt=\"AuFilDuBoamp sur Twitter\" class=\"w3-bar-item w3-button fas fa-share-square w3-small w3-white\">&nbsp; sur Twitter</a>\n",
       "     \n",
       "     <a href=\"https://www.data.gouv.fr/fr/organizations/aufilduboamp-1/\" title=\"AuFilDuBoamp sur DataGouv.fr\" alt=\"AuFilDuBoamp sur DataGouv.fr\" class=\"w3-bar-item w3-button fas fa-share-square w3-small  w3-white\">&nbsp; sur DataGouv.fr</a>\n",
       "     \n",
       "          <a href=\"https://mybinder.org/v2/gh/Semaine52/AuFilDuBoamp_Lab/master?urlpath=lab/tree/notebooks/_Sommaire.ipynb\" title=\"AuFilDuBoamp_Lab sur Binder\" alt=\"AuFilDuBoamp_Lab sur Binder\" class=\"w3-bar-item w3-button fas fa-share-square w3-small  w3-white\">&nbsp; sur Binder</a>\n",
       "          \n",
       "          <a href=\"https://teamopendata.org/u/semaine52_jmf/summary\" title=\"Jean-Marie Falvet sur TeamOpenData\" alt=\"Jean-Marie Falvet sur TeamOpenData\" class=\"w3-bar-item w3-button fas fa-share-square w3-small  w3-white\">&nbsp; chez TeamOpenData</a>\n",
       "          \n",
       "          \n",
       "     \n",
       "       \n",
       "         <a href=\"https://www.data.gouv.fr/fr/datasets/boamp/\" title=\"Le BOAMP sur DataGouv.fr\" alt=\"Le BOAMP sur DataGouv.fr\" class=\"w3-bar-item w3-button fas fa-share-square w3-small w3-white\">&nbsp; Le BOAMP sur DataGouv.fr</a>\n",
       "     \n",
       "     <a href=\"https://www.boamp.fr/\" title=\"BOAMP.fr\" alt=\"BOAMP.fr\"class=\"w3-bar-item w3-button fas fa-share-square w3-small  w3-white\">BOAMP.fr</a>\n",
       "     \n",
       "     <a href=\"https://www.legifrance.gouv.fr/affichCode.do?cidTexte=LEGITEXT000037701019\" title=\"Accueil\" alt=\"Accueil\"class=\"w3-bar-item w3-button fas fa-share-square w3-small  w3-white\">&nbsp; Code de la commande publique (Légifrance)</a>  \n",
       "    \n",
       "   </div> \n",
       "      \n",
       " </div>\n",
       "\n",
       " <div class=\"w3-container\">\n",
       "   <div><img class=\"w3-animate-right\" src=\"design/AFDB_DOTS.svg\" alt=\"AuFilDuBoamp_Lab\" title=\"AuFilDuBoamp_Lab\" style=\"width:40%\"></div>\n",
       "\n",
       "   <div class=\"w3-padding w3-xlarge w3-white\"> \n",
       "     \n",
       "       \n",
       "        \n",
       "     <a href=\"_Sommaire.ipynb\" alt=\"Sommaire général\" title=\"Sommaire général\" class=\"w3-bar-item w3-button fa fa-list w3-large w3-amber\">&nbsp; Lien vers le Sommaire général</a>  \n",
       "     <a href=\"https://mybinder.org/v2/gh/Semaine52/AuFilDuBoamp_Lab/master?urlpath=lab/tree/notebooks/_Sommaire.ipynb\" alt=\"Lancer Binder\" title=\"Lancer Binder\" class=\"w3-bar-item w3-button fa fa-arrow-right w3-large w3-teal\">&nbsp; Lancer Binder</a>  \n",
       "     <p style=\"font-size:16px; margin-top:5px\">N'oubliez pas <strong>« Run All Cells »</strong> du menu <strong>« Run »</strong> pour activer les pages une fois sur Binder.</p>\n",
       "  </div>\n",
       "  \n",
       " </div>\n",
       "\n",
       "</body>\n",
       "\n",
       "</html> \n",
       "\n",
       " "
      ],
      "text/plain": [
       "<IPython.core.display.HTML object>"
      ]
     },
     "metadata": {},
     "output_type": "display_data"
    }
   ],
   "source": [
    "%run afdb_lab_scripts/afdb_lab_prereglages\n",
    "%run afdb_lab_scripts/afdb_lab_haut"
   ]
  },
  {
   "cell_type": "markdown",
   "metadata": {},
   "source": [
    "<div id=\"navigation\"></div>\n",
    "\n",
    "#### Un tour d'horizon des Tables du BOAMP\n",
    "\n",
    "À base des données recueillies en OpenData via l'API consacrée --> https://www.data.gouv.fr/fr/datasets/api-boamp-beta/\n",
    "\n",
    "----\n",
    "<h1 style=\"font-size:60px;\">Table D_11_Conditiondelai</h1>\n",
    "\n",
    "----\n"
   ]
  },
  {
   "cell_type": "markdown",
   "metadata": {},
   "source": [
    "- **<a href=\"#navigation\">Navigateur<a/>**\n",
    "    - **<a href=\"#chargement\">Chargement de la table<a/>**\n",
    "    - **<a href=\"#schema\">Schéma interactif de la table**    \n",
    "    - **<a href=\"#infos\">Présentation brute des colonnes<a/>**\n",
    "    - **<a href=\"#verticale\">Vue verticale de la table<a/>**\n",
    "    - **<a href=\"#horizontale\">Vue horizontale de la table<a/>**"
   ]
  },
  {
   "cell_type": "markdown",
   "metadata": {},
   "source": [
    "<div id=\"chargement\"></div>\n",
    "\n",
    "## Chargement de la table"
   ]
  },
  {
   "cell_type": "code",
   "execution_count": 2,
   "metadata": {},
   "outputs": [],
   "source": [
    "extrait_df_d_11_conditiondelai = pd.read_pickle('boamp_2021_T1_data_mensuel/df_boamp_2021_02_D_11_conditiondelai.pkl')"
   ]
  },
  {
   "cell_type": "markdown",
   "metadata": {},
   "source": [
    "<div id=\"schema\"></div>\n",
    "\n",
    "## Schéma interactif de la table"
   ]
  },
  {
   "cell_type": "code",
   "execution_count": 3,
   "metadata": {},
   "outputs": [
    {
     "data": {
      "application/vnd.jupyter.widget-view+json": {
       "model_id": "24ef2196b1ff45fc8363d5d90f4187c4",
       "version_major": 2,
       "version_minor": 0
      },
      "text/plain": [
       "Output(layout=Layout(border='3px solid #cccccc', margin='20px 100px 20px 100px', max_width='80%', padding='10p…"
      ]
     },
     "metadata": {},
     "output_type": "display_data"
    }
   ],
   "source": [
    "from afdb_lab_scripts.afficher_plan_html import afficher_plan_html\n",
    "afficher_plan_html(source=\"boamp_plans_html/boamp_plan_d_11_conditiondelai.html\");"
   ]
  },
  {
   "cell_type": "markdown",
   "metadata": {},
   "source": [
    "[Ouvrir ce schéma en plein écran dans un nouvel onglet (cliquez sur « Trust HTML » s'il n'apparaît pas de lui-même à l'ouverture)](boamp_plans_html/boamp_plan_d_11_conditiondelai.html)"
   ]
  },
  {
   "cell_type": "markdown",
   "metadata": {},
   "source": [
    "**<a href=\"#navigation\">Remonter<a/>**"
   ]
  },
  {
   "cell_type": "markdown",
   "metadata": {},
   "source": [
    "<div id=\"infos\"></div>\n",
    "\n",
    "## Présentation brute des colonnes"
   ]
  },
  {
   "cell_type": "code",
   "execution_count": 4,
   "metadata": {},
   "outputs": [
    {
     "name": "stdout",
     "output_type": "stream",
     "text": [
      "<class 'pandas.core.frame.DataFrame'>\n",
      "Index: 7445 entries, 20-107212 to 21-9966\n",
      "Data columns (total 8 columns):\n",
      " #   Column                                             Non-Null Count  Dtype         \n",
      "---  ------                                             --------------  -----         \n",
      " 0   D_11_01_Conditiondelai_Receptcandidat              108 non-null    datetime64[ns]\n",
      " 1   D_11_02_Conditiondelai_Receptoffres                7358 non-null   datetime64[ns]\n",
      " 2   D_11_03_Conditiondelai_Limiteenvoiinvit            97 non-null     datetime64[ns]\n",
      " 3   D_11_04_Conditiondelai_Validiteoffre               7445 non-null   object        \n",
      " 4   D_11_04_01_Conditiondelai_Validiteoffre_Jusquau    0 non-null      float64       \n",
      " 5   D_11_04_02_Conditiondelai_Validiteoffre_Dureemois  3335 non-null   float64       \n",
      " 6   D_11_04_03_Conditiondelai_Validiteoffre_Dureejour  2362 non-null   Int16         \n",
      " 7   D_11_05_Conditiondelai_Dureesystemequalification   0 non-null      object        \n",
      "dtypes: Int16(1), datetime64[ns](3), float64(2), object(2)\n",
      "memory usage: 487.1+ KB\n"
     ]
    }
   ],
   "source": [
    "extrait_df_d_11_conditiondelai.info()"
   ]
  },
  {
   "cell_type": "markdown",
   "metadata": {},
   "source": [
    "**<a href=\"#navigation\">Remonter<a/>**"
   ]
  },
  {
   "cell_type": "markdown",
   "metadata": {},
   "source": [
    "<div id=\"verticale\"></div>\n",
    "\n",
    "## Vue verticale de la table "
   ]
  },
  {
   "cell_type": "code",
   "execution_count": 5,
   "metadata": {},
   "outputs": [
    {
     "data": {
      "text/html": [
       "<div>\n",
       "<style scoped>\n",
       "    .dataframe tbody tr th:only-of-type {\n",
       "        vertical-align: middle;\n",
       "    }\n",
       "\n",
       "    .dataframe tbody tr th {\n",
       "        vertical-align: top;\n",
       "    }\n",
       "\n",
       "    .dataframe thead th {\n",
       "        text-align: right;\n",
       "    }\n",
       "</style>\n",
       "<table border=\"1\" class=\"dataframe\">\n",
       "  <thead>\n",
       "    <tr style=\"text-align: right;\">\n",
       "      <th>BOAMP_AVIS_NUM</th>\n",
       "      <th>20-107212</th>\n",
       "      <th>20-114622</th>\n",
       "      <th>20-117134</th>\n",
       "    </tr>\n",
       "  </thead>\n",
       "  <tbody>\n",
       "    <tr>\n",
       "      <th>D_11_01_Conditiondelai_Receptcandidat</th>\n",
       "      <td>NaT</td>\n",
       "      <td>NaT</td>\n",
       "      <td>NaT</td>\n",
       "    </tr>\n",
       "    <tr>\n",
       "      <th>D_11_02_Conditiondelai_Receptoffres</th>\n",
       "      <td>2021-03-08 16:00:00</td>\n",
       "      <td>2021-03-04 11:00:00</td>\n",
       "      <td>2021-03-11 11:00:00</td>\n",
       "    </tr>\n",
       "    <tr>\n",
       "      <th>D_11_03_Conditiondelai_Limiteenvoiinvit</th>\n",
       "      <td>NaT</td>\n",
       "      <td>NaT</td>\n",
       "      <td>NaT</td>\n",
       "    </tr>\n",
       "    <tr>\n",
       "      <th>D_11_04_Conditiondelai_Validiteoffre</th>\n",
       "      <td>CF_NIV_SUIV</td>\n",
       "      <td>CF_NIV_SUIV</td>\n",
       "      <td>CF_NIV_SUIV</td>\n",
       "    </tr>\n",
       "    <tr>\n",
       "      <th>D_11_04_01_Conditiondelai_Validiteoffre_Jusquau</th>\n",
       "      <td>NaN</td>\n",
       "      <td>NaN</td>\n",
       "      <td>NaN</td>\n",
       "    </tr>\n",
       "    <tr>\n",
       "      <th>D_11_04_02_Conditiondelai_Validiteoffre_Dureemois</th>\n",
       "      <td>NaN</td>\n",
       "      <td>4.0</td>\n",
       "      <td>6.0</td>\n",
       "    </tr>\n",
       "    <tr>\n",
       "      <th>D_11_04_03_Conditiondelai_Validiteoffre_Dureejour</th>\n",
       "      <td>240</td>\n",
       "      <td>&lt;NA&gt;</td>\n",
       "      <td>&lt;NA&gt;</td>\n",
       "    </tr>\n",
       "    <tr>\n",
       "      <th>D_11_05_Conditiondelai_Dureesystemequalification</th>\n",
       "      <td>None</td>\n",
       "      <td>None</td>\n",
       "      <td>None</td>\n",
       "    </tr>\n",
       "  </tbody>\n",
       "</table>\n",
       "</div>"
      ],
      "text/plain": [
       "BOAMP_AVIS_NUM                                               20-107212  \\\n",
       "D_11_01_Conditiondelai_Receptcandidat                              NaT   \n",
       "D_11_02_Conditiondelai_Receptoffres                2021-03-08 16:00:00   \n",
       "D_11_03_Conditiondelai_Limiteenvoiinvit                            NaT   \n",
       "D_11_04_Conditiondelai_Validiteoffre                       CF_NIV_SUIV   \n",
       "D_11_04_01_Conditiondelai_Validiteoffre_Jusquau                    NaN   \n",
       "D_11_04_02_Conditiondelai_Validiteoffre_Dureemois                  NaN   \n",
       "D_11_04_03_Conditiondelai_Validiteoffre_Dureejour                  240   \n",
       "D_11_05_Conditiondelai_Dureesystemequalification                  None   \n",
       "\n",
       "BOAMP_AVIS_NUM                                               20-114622  \\\n",
       "D_11_01_Conditiondelai_Receptcandidat                              NaT   \n",
       "D_11_02_Conditiondelai_Receptoffres                2021-03-04 11:00:00   \n",
       "D_11_03_Conditiondelai_Limiteenvoiinvit                            NaT   \n",
       "D_11_04_Conditiondelai_Validiteoffre                       CF_NIV_SUIV   \n",
       "D_11_04_01_Conditiondelai_Validiteoffre_Jusquau                    NaN   \n",
       "D_11_04_02_Conditiondelai_Validiteoffre_Dureemois                  4.0   \n",
       "D_11_04_03_Conditiondelai_Validiteoffre_Dureejour                 <NA>   \n",
       "D_11_05_Conditiondelai_Dureesystemequalification                  None   \n",
       "\n",
       "BOAMP_AVIS_NUM                                               20-117134  \n",
       "D_11_01_Conditiondelai_Receptcandidat                              NaT  \n",
       "D_11_02_Conditiondelai_Receptoffres                2021-03-11 11:00:00  \n",
       "D_11_03_Conditiondelai_Limiteenvoiinvit                            NaT  \n",
       "D_11_04_Conditiondelai_Validiteoffre                       CF_NIV_SUIV  \n",
       "D_11_04_01_Conditiondelai_Validiteoffre_Jusquau                    NaN  \n",
       "D_11_04_02_Conditiondelai_Validiteoffre_Dureemois                  6.0  \n",
       "D_11_04_03_Conditiondelai_Validiteoffre_Dureejour                 <NA>  \n",
       "D_11_05_Conditiondelai_Dureesystemequalification                  None  "
      ]
     },
     "execution_count": 5,
     "metadata": {},
     "output_type": "execute_result"
    }
   ],
   "source": [
    "extrait_df_d_11_conditiondelai.head(3).T"
   ]
  },
  {
   "cell_type": "markdown",
   "metadata": {},
   "source": [
    "**<a href=\"#navigation\">Remonter<a/>**"
   ]
  },
  {
   "cell_type": "markdown",
   "metadata": {},
   "source": [
    "<div id=\"horizontale\"></div>\n",
    "\n",
    "## Vue horizontale de la table "
   ]
  },
  {
   "cell_type": "code",
   "execution_count": 6,
   "metadata": {},
   "outputs": [
    {
     "data": {
      "text/html": [
       "<div>\n",
       "<style scoped>\n",
       "    .dataframe tbody tr th:only-of-type {\n",
       "        vertical-align: middle;\n",
       "    }\n",
       "\n",
       "    .dataframe tbody tr th {\n",
       "        vertical-align: top;\n",
       "    }\n",
       "\n",
       "    .dataframe thead th {\n",
       "        text-align: right;\n",
       "    }\n",
       "</style>\n",
       "<table border=\"1\" class=\"dataframe\">\n",
       "  <thead>\n",
       "    <tr style=\"text-align: right;\">\n",
       "      <th></th>\n",
       "      <th>D_11_01_Conditiondelai_Receptcandidat</th>\n",
       "      <th>D_11_02_Conditiondelai_Receptoffres</th>\n",
       "      <th>D_11_03_Conditiondelai_Limiteenvoiinvit</th>\n",
       "      <th>D_11_04_Conditiondelai_Validiteoffre</th>\n",
       "      <th>D_11_04_01_Conditiondelai_Validiteoffre_Jusquau</th>\n",
       "      <th>D_11_04_02_Conditiondelai_Validiteoffre_Dureemois</th>\n",
       "      <th>D_11_04_03_Conditiondelai_Validiteoffre_Dureejour</th>\n",
       "      <th>D_11_05_Conditiondelai_Dureesystemequalification</th>\n",
       "    </tr>\n",
       "    <tr>\n",
       "      <th>BOAMP_AVIS_NUM</th>\n",
       "      <th></th>\n",
       "      <th></th>\n",
       "      <th></th>\n",
       "      <th></th>\n",
       "      <th></th>\n",
       "      <th></th>\n",
       "      <th></th>\n",
       "      <th></th>\n",
       "    </tr>\n",
       "  </thead>\n",
       "  <tbody>\n",
       "    <tr>\n",
       "      <th>20-107212</th>\n",
       "      <td>NaT</td>\n",
       "      <td>2021-03-08 16:00:00</td>\n",
       "      <td>NaT</td>\n",
       "      <td>CF_NIV_SUIV</td>\n",
       "      <td>NaN</td>\n",
       "      <td>NaN</td>\n",
       "      <td>240</td>\n",
       "      <td>None</td>\n",
       "    </tr>\n",
       "    <tr>\n",
       "      <th>20-114622</th>\n",
       "      <td>NaT</td>\n",
       "      <td>2021-03-04 11:00:00</td>\n",
       "      <td>NaT</td>\n",
       "      <td>CF_NIV_SUIV</td>\n",
       "      <td>NaN</td>\n",
       "      <td>4.0</td>\n",
       "      <td>&lt;NA&gt;</td>\n",
       "      <td>None</td>\n",
       "    </tr>\n",
       "    <tr>\n",
       "      <th>20-117134</th>\n",
       "      <td>NaT</td>\n",
       "      <td>2021-03-11 11:00:00</td>\n",
       "      <td>NaT</td>\n",
       "      <td>CF_NIV_SUIV</td>\n",
       "      <td>NaN</td>\n",
       "      <td>6.0</td>\n",
       "      <td>&lt;NA&gt;</td>\n",
       "      <td>None</td>\n",
       "    </tr>\n",
       "  </tbody>\n",
       "</table>\n",
       "</div>"
      ],
      "text/plain": [
       "               D_11_01_Conditiondelai_Receptcandidat  \\\n",
       "BOAMP_AVIS_NUM                                         \n",
       "20-107212                                        NaT   \n",
       "20-114622                                        NaT   \n",
       "20-117134                                        NaT   \n",
       "\n",
       "               D_11_02_Conditiondelai_Receptoffres  \\\n",
       "BOAMP_AVIS_NUM                                       \n",
       "20-107212                      2021-03-08 16:00:00   \n",
       "20-114622                      2021-03-04 11:00:00   \n",
       "20-117134                      2021-03-11 11:00:00   \n",
       "\n",
       "               D_11_03_Conditiondelai_Limiteenvoiinvit  \\\n",
       "BOAMP_AVIS_NUM                                           \n",
       "20-107212                                          NaT   \n",
       "20-114622                                          NaT   \n",
       "20-117134                                          NaT   \n",
       "\n",
       "               D_11_04_Conditiondelai_Validiteoffre  \\\n",
       "BOAMP_AVIS_NUM                                        \n",
       "20-107212                               CF_NIV_SUIV   \n",
       "20-114622                               CF_NIV_SUIV   \n",
       "20-117134                               CF_NIV_SUIV   \n",
       "\n",
       "                D_11_04_01_Conditiondelai_Validiteoffre_Jusquau  \\\n",
       "BOAMP_AVIS_NUM                                                    \n",
       "20-107212                                                   NaN   \n",
       "20-114622                                                   NaN   \n",
       "20-117134                                                   NaN   \n",
       "\n",
       "                D_11_04_02_Conditiondelai_Validiteoffre_Dureemois  \\\n",
       "BOAMP_AVIS_NUM                                                      \n",
       "20-107212                                                     NaN   \n",
       "20-114622                                                     4.0   \n",
       "20-117134                                                     6.0   \n",
       "\n",
       "                D_11_04_03_Conditiondelai_Validiteoffre_Dureejour  \\\n",
       "BOAMP_AVIS_NUM                                                      \n",
       "20-107212                                                     240   \n",
       "20-114622                                                    <NA>   \n",
       "20-117134                                                    <NA>   \n",
       "\n",
       "               D_11_05_Conditiondelai_Dureesystemequalification  \n",
       "BOAMP_AVIS_NUM                                                   \n",
       "20-107212                                                  None  \n",
       "20-114622                                                  None  \n",
       "20-117134                                                  None  "
      ]
     },
     "execution_count": 6,
     "metadata": {},
     "output_type": "execute_result"
    }
   ],
   "source": [
    "extrait_df_d_11_conditiondelai.head(3)"
   ]
  },
  {
   "cell_type": "markdown",
   "metadata": {},
   "source": [
    "**<a href=\"#navigation\">Remonter<a/>**"
   ]
  }
 ],
 "metadata": {
  "kernelspec": {
   "display_name": "Python 3",
   "language": "python",
   "name": "python3"
  },
  "language_info": {
   "codemirror_mode": {
    "name": "ipython",
    "version": 3
   },
   "file_extension": ".py",
   "mimetype": "text/x-python",
   "name": "python",
   "nbconvert_exporter": "python",
   "pygments_lexer": "ipython3",
   "version": "3.8.6"
  },
  "widgets": {
   "application/vnd.jupyter.widget-state+json": {
    "state": {
     "24ef2196b1ff45fc8363d5d90f4187c4": {
      "model_module": "@jupyter-widgets/output",
      "model_module_version": "1.0.0",
      "model_name": "OutputModel",
      "state": {
       "layout": "IPY_MODEL_445f05ea5ce2408fbbc1b068f70f6f55",
       "outputs": [
        {
         "data": {
          "text/html": "\n        <iframe\n            width=\"98%\"\n            height=\"400px\"\n            src=\"boamp_plans_html/boamp_plan_d_11_conditiondelai.html\"\n            frameborder=\"0\"\n            allowfullscreen\n        ></iframe>\n        ",
          "text/plain": "<IPython.lib.display.IFrame at 0x18a10a7c0d0>"
         },
         "metadata": {},
         "output_type": "display_data"
        },
        {
         "data": {
          "text/html": "<p><strong>Cliquez sur les cercles contenus dans la figure pour ouvrir et refermer les niveaux.<br>    \n                     L'image est zommable.<br><br>\n                     <a href=boamp_plans_html/boamp_plan_d_11_conditiondelai.html> --> Ouvrir ce schéma en plein écran dans un nouvel onglet. </a></strong><br>\n                     <em>Cliquez sur « Trust HTML » si le schéma n'apparaît pas de lui-même à l'ouverture du lien.</em></p>\n                     ",
          "text/plain": "<IPython.core.display.HTML object>"
         },
         "metadata": {},
         "output_type": "display_data"
        }
       ]
      }
     },
     "445f05ea5ce2408fbbc1b068f70f6f55": {
      "model_module": "@jupyter-widgets/base",
      "model_module_version": "1.2.0",
      "model_name": "LayoutModel",
      "state": {
       "border": "3px solid #cccccc",
       "margin": "20px 100px 20px 100px",
       "max_width": "80%",
       "padding": "10px"
      }
     }
    },
    "version_major": 2,
    "version_minor": 0
   }
  }
 },
 "nbformat": 4,
 "nbformat_minor": 4
}
