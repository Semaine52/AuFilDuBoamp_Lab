{
 "cells": [
  {
   "cell_type": "code",
   "execution_count": 1,
   "metadata": {},
   "outputs": [
    {
     "data": {
      "text/html": [
       "\n",
       "\n",
       "<!DOCTYPE html>\n",
       "\n",
       "<html>\n",
       "\n",
       "<title>AuFilDuBoamp_Lab par Semaine52</title>\n",
       "<meta name=\"viewport\" content=\"width=device-width, initial-scale=1\">\n",
       "<link rel=\"stylesheet\" href=\"https://www.w3schools.com/w3css/4/w3.css\">\n",
       "<link rel=\"stylesheet\" href=\"https://cdnjs.cloudflare.com/ajax/libs/font-awesome/4.7.0/css/font-awesome.min.css\">\n",
       "<script src='https://kit.fontawesome.com/a076d05399.js'></script>\n",
       "\n",
       "\n",
       "<body>\n",
       "\n",
       "<div class=\"w3-container\">\n",
       "   <div class=\"w3-padding  w3-white w3-small\">\n",
       "  \n",
       "     <a href=\"https://github.com/Semaine52/AuFilDuBoamp_Lab\" title=\"AuFilDuBoamp_Lab sur GitHub\" alt=\"AuFilDuBoamp_Lab sur GitHub\" class=\"w3-bar-item w3-button fas fa-share-square w3-small w3-white\">&nbsp; AuFilDuBoamp_Lab sur GitHub</a>\n",
       "     \n",
       "     <a href=\"https://twitter.com/AuFilDuBoamp\" title=\"AuFilDuBoamp sur Twitter\" alt=\"AuFilDuBoamp sur Twitter\" class=\"w3-bar-item w3-button fas fa-share-square w3-small w3-white\">&nbsp; sur Twitter</a>\n",
       "     \n",
       "     <a href=\"https://www.data.gouv.fr/fr/organizations/aufilduboamp-1/\" title=\"AuFilDuBoamp sur DataGouv.fr\" alt=\"AuFilDuBoamp sur DataGouv.fr\" class=\"w3-bar-item w3-button fas fa-share-square w3-small  w3-white\">&nbsp; sur DataGouv.fr</a>\n",
       "     \n",
       "          <a href=\"https://mybinder.org/v2/gh/Semaine52/AuFilDuBoamp_Lab/master?urlpath=lab/tree/notebooks/_Sommaire.ipynb\" title=\"AuFilDuBoamp_Lab sur Binder\" alt=\"AuFilDuBoamp_Lab sur Binder\" class=\"w3-bar-item w3-button fas fa-share-square w3-small  w3-white\">&nbsp; sur Binder</a>\n",
       "          \n",
       "          <a href=\"https://teamopendata.org/u/semaine52_jmf/summary\" title=\"Jean-Marie Falvet sur TeamOpenData\" alt=\"Jean-Marie Falvet sur TeamOpenData\" class=\"w3-bar-item w3-button fas fa-share-square w3-small  w3-white\">&nbsp; chez TeamOpenData</a>\n",
       "          \n",
       "          \n",
       "     \n",
       "       \n",
       "         <a href=\"https://www.data.gouv.fr/fr/datasets/boamp/\" title=\"Le BOAMP sur DataGouv.fr\" alt=\"Le BOAMP sur DataGouv.fr\" class=\"w3-bar-item w3-button fas fa-share-square w3-small w3-white\">&nbsp; Le BOAMP sur DataGouv.fr</a>\n",
       "     \n",
       "     <a href=\"https://www.boamp.fr/\" title=\"BOAMP.fr\" alt=\"BOAMP.fr\"class=\"w3-bar-item w3-button fas fa-share-square w3-small  w3-white\">BOAMP.fr</a>\n",
       "     \n",
       "     <a href=\"https://www.legifrance.gouv.fr/affichCode.do?cidTexte=LEGITEXT000037701019\" title=\"Accueil\" alt=\"Accueil\"class=\"w3-bar-item w3-button fas fa-share-square w3-small  w3-white\">&nbsp; Code de la commande publique (Légifrance)</a>  \n",
       "    \n",
       "   </div> \n",
       "      \n",
       " </div>\n",
       "\n",
       " <div class=\"w3-container\">\n",
       "   <div><img class=\"w3-animate-right\" src=\"design/AFDB_DOTS.svg\" alt=\"AuFilDuBoamp_Lab\" title=\"AuFilDuBoamp_Lab\" style=\"width:40%\"></div>\n",
       "\n",
       "   <div class=\"w3-padding w3-xlarge w3-white\"> \n",
       "     \n",
       "       \n",
       "        \n",
       "     <a href=\"_Sommaire.ipynb\" alt=\"Sommaire général\" title=\"Sommaire général\" class=\"w3-bar-item w3-button fa fa-list w3-large w3-amber\">&nbsp; Lien vers le Sommaire général</a>  \n",
       "     <a href=\"https://mybinder.org/v2/gh/Semaine52/AuFilDuBoamp_Lab/master?urlpath=lab/tree/notebooks/_Sommaire.ipynb\" alt=\"Lancer Binder\" title=\"Lancer Binder\" class=\"w3-bar-item w3-button fa fa-arrow-right w3-large w3-teal\">&nbsp; Lancer Binder</a>  \n",
       "     <p style=\"font-size:16px; margin-top:5px\">N'oubliez pas <strong>« Run All Cells »</strong> du menu <strong>« Run »</strong> pour activer les pages une fois sur Binder.</p>\n",
       "  </div>\n",
       "  \n",
       " </div>\n",
       "\n",
       "</body>\n",
       "\n",
       "</html> \n",
       "\n",
       " "
      ],
      "text/plain": [
       "<IPython.core.display.HTML object>"
      ]
     },
     "metadata": {},
     "output_type": "display_data"
    }
   ],
   "source": [
    "%run afdb_lab_scripts/afdb_lab_prereglages\n",
    "%run afdb_lab_scripts/afdb_lab_haut"
   ]
  },
  {
   "cell_type": "markdown",
   "metadata": {},
   "source": [
    "<div id=\"navigation\"></div>\n",
    "\n",
    "#### Un tour d'horizon des Tables du BOAMP\n",
    "\n",
    "À base des données recueillies en OpenData via l'API consacrée --> https://www.data.gouv.fr/fr/datasets/api-boamp-beta/\n",
    "\n",
    "----\n",
    "<h1 style=\"font-size:60px;\">Table D_03_Typepouvoiradjudicateur</h1>\n",
    "\n",
    "----\n"
   ]
  },
  {
   "cell_type": "markdown",
   "metadata": {},
   "source": [
    "- **<a href=\"#navigation\">Navigateur<a/>**\n",
    "    - **<a href=\"#chargement\">Chargement de la table<a/>**\n",
    "    - **<a href=\"#schema\">Schéma interactif de la table**    \n",
    "    - **<a href=\"#infos\">Présentation brute des colonnes<a/>**\n",
    "    - **<a href=\"#verticale\">Vue verticale de la table<a/>**\n",
    "    - **<a href=\"#horizontale\">Vue horizontale de la table<a/>**"
   ]
  },
  {
   "cell_type": "markdown",
   "metadata": {},
   "source": [
    "<div id=\"chargement\"></div>\n",
    "\n",
    "## Chargement de la table"
   ]
  },
  {
   "cell_type": "code",
   "execution_count": 2,
   "metadata": {},
   "outputs": [],
   "source": [
    "extrait_df_d_03_Typepouvoiradjudicateur = pd.read_pickle('boamp_2021_T1_data_mensuel/df_boamp_2021_02_D_03_typepouvoiradjudicateur.pkl')"
   ]
  },
  {
   "cell_type": "markdown",
   "metadata": {},
   "source": [
    "<div id=\"schema\"></div>\n",
    "\n",
    "## Schéma interactif de la table"
   ]
  },
  {
   "cell_type": "code",
   "execution_count": 3,
   "metadata": {},
   "outputs": [
    {
     "data": {
      "application/vnd.jupyter.widget-view+json": {
       "model_id": "716f84f06d2e4a289ca6ec904d71d19f",
       "version_major": 2,
       "version_minor": 0
      },
      "text/plain": [
       "Output(layout=Layout(border='3px solid #cccccc', margin='20px 100px 20px 100px', max_width='80%', padding='10p…"
      ]
     },
     "metadata": {},
     "output_type": "display_data"
    }
   ],
   "source": [
    "from afdb_lab_scripts.afficher_plan_html import afficher_plan_html\n",
    "afficher_plan_html(source=\"boamp_plans_html/boamp_plan_d_03_Typepouvoiradjudicateur.html\");"
   ]
  },
  {
   "cell_type": "markdown",
   "metadata": {},
   "source": [
    "[Ouvrir ce schéma en plein écran dans un nouvel onglet (cliquez sur « Trust HTML » s'il n'apparaît pas de lui-même à l'ouverture)](boamp_plans_html/boamp_plan_d_03_Typepouvoiradjudicateur.html)"
   ]
  },
  {
   "cell_type": "markdown",
   "metadata": {},
   "source": [
    "**<a href=\"#navigation\">Remonter<a/>**"
   ]
  },
  {
   "cell_type": "markdown",
   "metadata": {},
   "source": [
    "<div id=\"infos\"></div>\n",
    "\n",
    "## Présentation brute des colonnes"
   ]
  },
  {
   "cell_type": "code",
   "execution_count": 4,
   "metadata": {},
   "outputs": [
    {
     "name": "stdout",
     "output_type": "stream",
     "text": [
      "<class 'pandas.core.frame.DataFrame'>\n",
      "Index: 5114 entries, 18-111639 to 21-9966\n",
      "Data columns (total 7 columns):\n",
      " #   Column                                                 Non-Null Count  Dtype \n",
      "---  ------                                                 --------------  ----- \n",
      " 0   D_03_01_Typepouvoiradjudicateur_Minautoritenationale   5114 non-null   bool  \n",
      " 1   D_03_02_Typepouvoiradjudicateur_Agencenational         5114 non-null   bool  \n",
      " 2   D_03_03_Typepouvoiradjudicateur_Autotriteregional      5114 non-null   bool  \n",
      " 3   D_03_04_Typepouvoiradjudicateur_Agenceregional         5114 non-null   bool  \n",
      " 4   D_03_05_Typepouvoiradjudicateur_Orgdroitpublic         5114 non-null   bool  \n",
      " 5   D_03_06_Typepouvoiradjudicateur_Institutioneuropeenne  5114 non-null   bool  \n",
      " 6   D_03_07_Typepouvoiradjudicateur_Autre                  1012 non-null   object\n",
      "dtypes: bool(6), object(1)\n",
      "memory usage: 109.9+ KB\n"
     ]
    }
   ],
   "source": [
    "extrait_df_d_03_Typepouvoiradjudicateur.info()"
   ]
  },
  {
   "cell_type": "markdown",
   "metadata": {},
   "source": [
    "**<a href=\"#navigation\">Remonter<a/>**"
   ]
  },
  {
   "cell_type": "markdown",
   "metadata": {},
   "source": [
    "<div id=\"verticale\"></div>\n",
    "\n",
    "## Vue verticale de la table "
   ]
  },
  {
   "cell_type": "code",
   "execution_count": 5,
   "metadata": {},
   "outputs": [
    {
     "data": {
      "text/html": [
       "<div>\n",
       "<style scoped>\n",
       "    .dataframe tbody tr th:only-of-type {\n",
       "        vertical-align: middle;\n",
       "    }\n",
       "\n",
       "    .dataframe tbody tr th {\n",
       "        vertical-align: top;\n",
       "    }\n",
       "\n",
       "    .dataframe thead th {\n",
       "        text-align: right;\n",
       "    }\n",
       "</style>\n",
       "<table border=\"1\" class=\"dataframe\">\n",
       "  <thead>\n",
       "    <tr style=\"text-align: right;\">\n",
       "      <th>BOAMP_AVIS_NUM</th>\n",
       "      <th>18-111639</th>\n",
       "      <th>19-138840</th>\n",
       "      <th>20-105937</th>\n",
       "    </tr>\n",
       "  </thead>\n",
       "  <tbody>\n",
       "    <tr>\n",
       "      <th>D_03_01_Typepouvoiradjudicateur_Minautoritenationale</th>\n",
       "      <td>False</td>\n",
       "      <td>True</td>\n",
       "      <td>False</td>\n",
       "    </tr>\n",
       "    <tr>\n",
       "      <th>D_03_02_Typepouvoiradjudicateur_Agencenational</th>\n",
       "      <td>False</td>\n",
       "      <td>False</td>\n",
       "      <td>False</td>\n",
       "    </tr>\n",
       "    <tr>\n",
       "      <th>D_03_03_Typepouvoiradjudicateur_Autotriteregional</th>\n",
       "      <td>True</td>\n",
       "      <td>False</td>\n",
       "      <td>True</td>\n",
       "    </tr>\n",
       "    <tr>\n",
       "      <th>D_03_04_Typepouvoiradjudicateur_Agenceregional</th>\n",
       "      <td>False</td>\n",
       "      <td>False</td>\n",
       "      <td>False</td>\n",
       "    </tr>\n",
       "    <tr>\n",
       "      <th>D_03_05_Typepouvoiradjudicateur_Orgdroitpublic</th>\n",
       "      <td>False</td>\n",
       "      <td>False</td>\n",
       "      <td>False</td>\n",
       "    </tr>\n",
       "    <tr>\n",
       "      <th>D_03_06_Typepouvoiradjudicateur_Institutioneuropeenne</th>\n",
       "      <td>False</td>\n",
       "      <td>False</td>\n",
       "      <td>False</td>\n",
       "    </tr>\n",
       "    <tr>\n",
       "      <th>D_03_07_Typepouvoiradjudicateur_Autre</th>\n",
       "      <td>None</td>\n",
       "      <td>None</td>\n",
       "      <td>None</td>\n",
       "    </tr>\n",
       "  </tbody>\n",
       "</table>\n",
       "</div>"
      ],
      "text/plain": [
       "BOAMP_AVIS_NUM                                        18-111639 19-138840  \\\n",
       "D_03_01_Typepouvoiradjudicateur_Minautoritenationale      False      True   \n",
       "D_03_02_Typepouvoiradjudicateur_Agencenational            False     False   \n",
       "D_03_03_Typepouvoiradjudicateur_Autotriteregional          True     False   \n",
       "D_03_04_Typepouvoiradjudicateur_Agenceregional            False     False   \n",
       "D_03_05_Typepouvoiradjudicateur_Orgdroitpublic            False     False   \n",
       "D_03_06_Typepouvoiradjudicateur_Institutioneuropeenne     False     False   \n",
       "D_03_07_Typepouvoiradjudicateur_Autre                      None      None   \n",
       "\n",
       "BOAMP_AVIS_NUM                                        20-105937  \n",
       "D_03_01_Typepouvoiradjudicateur_Minautoritenationale      False  \n",
       "D_03_02_Typepouvoiradjudicateur_Agencenational            False  \n",
       "D_03_03_Typepouvoiradjudicateur_Autotriteregional          True  \n",
       "D_03_04_Typepouvoiradjudicateur_Agenceregional            False  \n",
       "D_03_05_Typepouvoiradjudicateur_Orgdroitpublic            False  \n",
       "D_03_06_Typepouvoiradjudicateur_Institutioneuropeenne     False  \n",
       "D_03_07_Typepouvoiradjudicateur_Autre                      None  "
      ]
     },
     "execution_count": 5,
     "metadata": {},
     "output_type": "execute_result"
    }
   ],
   "source": [
    "extrait_df_d_03_Typepouvoiradjudicateur.head(3).T"
   ]
  },
  {
   "cell_type": "markdown",
   "metadata": {},
   "source": [
    "**<a href=\"#navigation\">Remonter<a/>**"
   ]
  },
  {
   "cell_type": "markdown",
   "metadata": {},
   "source": [
    "<div id=\"horizontale\"></div>\n",
    "\n",
    "## Vue horizontale de la table "
   ]
  },
  {
   "cell_type": "code",
   "execution_count": 6,
   "metadata": {},
   "outputs": [
    {
     "data": {
      "text/html": [
       "<div>\n",
       "<style scoped>\n",
       "    .dataframe tbody tr th:only-of-type {\n",
       "        vertical-align: middle;\n",
       "    }\n",
       "\n",
       "    .dataframe tbody tr th {\n",
       "        vertical-align: top;\n",
       "    }\n",
       "\n",
       "    .dataframe thead th {\n",
       "        text-align: right;\n",
       "    }\n",
       "</style>\n",
       "<table border=\"1\" class=\"dataframe\">\n",
       "  <thead>\n",
       "    <tr style=\"text-align: right;\">\n",
       "      <th></th>\n",
       "      <th>D_03_01_Typepouvoiradjudicateur_Minautoritenationale</th>\n",
       "      <th>D_03_02_Typepouvoiradjudicateur_Agencenational</th>\n",
       "      <th>D_03_03_Typepouvoiradjudicateur_Autotriteregional</th>\n",
       "      <th>D_03_04_Typepouvoiradjudicateur_Agenceregional</th>\n",
       "      <th>D_03_05_Typepouvoiradjudicateur_Orgdroitpublic</th>\n",
       "      <th>D_03_06_Typepouvoiradjudicateur_Institutioneuropeenne</th>\n",
       "      <th>D_03_07_Typepouvoiradjudicateur_Autre</th>\n",
       "    </tr>\n",
       "    <tr>\n",
       "      <th>BOAMP_AVIS_NUM</th>\n",
       "      <th></th>\n",
       "      <th></th>\n",
       "      <th></th>\n",
       "      <th></th>\n",
       "      <th></th>\n",
       "      <th></th>\n",
       "      <th></th>\n",
       "    </tr>\n",
       "  </thead>\n",
       "  <tbody>\n",
       "    <tr>\n",
       "      <th>18-111639</th>\n",
       "      <td>False</td>\n",
       "      <td>False</td>\n",
       "      <td>True</td>\n",
       "      <td>False</td>\n",
       "      <td>False</td>\n",
       "      <td>False</td>\n",
       "      <td>None</td>\n",
       "    </tr>\n",
       "    <tr>\n",
       "      <th>19-138840</th>\n",
       "      <td>True</td>\n",
       "      <td>False</td>\n",
       "      <td>False</td>\n",
       "      <td>False</td>\n",
       "      <td>False</td>\n",
       "      <td>False</td>\n",
       "      <td>None</td>\n",
       "    </tr>\n",
       "    <tr>\n",
       "      <th>20-105937</th>\n",
       "      <td>False</td>\n",
       "      <td>False</td>\n",
       "      <td>True</td>\n",
       "      <td>False</td>\n",
       "      <td>False</td>\n",
       "      <td>False</td>\n",
       "      <td>None</td>\n",
       "    </tr>\n",
       "  </tbody>\n",
       "</table>\n",
       "</div>"
      ],
      "text/plain": [
       "                D_03_01_Typepouvoiradjudicateur_Minautoritenationale  \\\n",
       "BOAMP_AVIS_NUM                                                         \n",
       "18-111639                                                      False   \n",
       "19-138840                                                       True   \n",
       "20-105937                                                      False   \n",
       "\n",
       "                D_03_02_Typepouvoiradjudicateur_Agencenational  \\\n",
       "BOAMP_AVIS_NUM                                                   \n",
       "18-111639                                                False   \n",
       "19-138840                                                False   \n",
       "20-105937                                                False   \n",
       "\n",
       "                D_03_03_Typepouvoiradjudicateur_Autotriteregional  \\\n",
       "BOAMP_AVIS_NUM                                                      \n",
       "18-111639                                                    True   \n",
       "19-138840                                                   False   \n",
       "20-105937                                                    True   \n",
       "\n",
       "                D_03_04_Typepouvoiradjudicateur_Agenceregional  \\\n",
       "BOAMP_AVIS_NUM                                                   \n",
       "18-111639                                                False   \n",
       "19-138840                                                False   \n",
       "20-105937                                                False   \n",
       "\n",
       "                D_03_05_Typepouvoiradjudicateur_Orgdroitpublic  \\\n",
       "BOAMP_AVIS_NUM                                                   \n",
       "18-111639                                                False   \n",
       "19-138840                                                False   \n",
       "20-105937                                                False   \n",
       "\n",
       "                D_03_06_Typepouvoiradjudicateur_Institutioneuropeenne  \\\n",
       "BOAMP_AVIS_NUM                                                          \n",
       "18-111639                                                       False   \n",
       "19-138840                                                       False   \n",
       "20-105937                                                       False   \n",
       "\n",
       "               D_03_07_Typepouvoiradjudicateur_Autre  \n",
       "BOAMP_AVIS_NUM                                        \n",
       "18-111639                                       None  \n",
       "19-138840                                       None  \n",
       "20-105937                                       None  "
      ]
     },
     "execution_count": 6,
     "metadata": {},
     "output_type": "execute_result"
    }
   ],
   "source": [
    "extrait_df_d_03_Typepouvoiradjudicateur.head(3)"
   ]
  },
  {
   "cell_type": "markdown",
   "metadata": {},
   "source": [
    "**<a href=\"#navigation\">Remonter<a/>**"
   ]
  },
  {
   "cell_type": "code",
   "execution_count": null,
   "metadata": {},
   "outputs": [],
   "source": []
  }
 ],
 "metadata": {
  "kernelspec": {
   "display_name": "Python 3",
   "language": "python",
   "name": "python3"
  },
  "language_info": {
   "codemirror_mode": {
    "name": "ipython",
    "version": 3
   },
   "file_extension": ".py",
   "mimetype": "text/x-python",
   "name": "python",
   "nbconvert_exporter": "python",
   "pygments_lexer": "ipython3",
   "version": "3.8.6"
  },
  "widgets": {
   "application/vnd.jupyter.widget-state+json": {
    "state": {
     "1925207315814f91a5e5ab97f92383ef": {
      "model_module": "@jupyter-widgets/base",
      "model_module_version": "1.2.0",
      "model_name": "LayoutModel",
      "state": {
       "border": "3px solid #cccccc",
       "margin": "20px 100px 20px 100px",
       "max_width": "80%",
       "padding": "10px"
      }
     },
     "716f84f06d2e4a289ca6ec904d71d19f": {
      "model_module": "@jupyter-widgets/output",
      "model_module_version": "1.0.0",
      "model_name": "OutputModel",
      "state": {
       "layout": "IPY_MODEL_1925207315814f91a5e5ab97f92383ef",
       "outputs": [
        {
         "data": {
          "text/html": "\n        <iframe\n            width=\"98%\"\n            height=\"400px\"\n            src=\"boamp_plans_html/boamp_plan_d_03_Typepouvoiradjudicateur.html\"\n            frameborder=\"0\"\n            allowfullscreen\n        ></iframe>\n        ",
          "text/plain": "<IPython.lib.display.IFrame at 0x2c3501e85e0>"
         },
         "metadata": {},
         "output_type": "display_data"
        },
        {
         "data": {
          "text/html": "<p><strong>Cliquez sur les cercles contenus dans la figure pour ouvrir et refermer les niveaux.<br>    \n                     L'image est zommable.<br><br>\n                     <a href=boamp_plans_html/boamp_plan_d_03_Typepouvoiradjudicateur.html> --> Ouvrir ce schéma en plein écran dans un nouvel onglet. </a></strong><br>\n                     <em>Cliquez sur « Trust HTML » si le schéma n'apparaît pas de lui-même à l'ouverture du lien.</em></p>\n                     ",
          "text/plain": "<IPython.core.display.HTML object>"
         },
         "metadata": {},
         "output_type": "display_data"
        }
       ]
      }
     }
    },
    "version_major": 2,
    "version_minor": 0
   }
  }
 },
 "nbformat": 4,
 "nbformat_minor": 4
}
