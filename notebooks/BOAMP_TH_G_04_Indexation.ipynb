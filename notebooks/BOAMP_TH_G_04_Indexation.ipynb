{
 "cells": [
  {
   "cell_type": "code",
   "execution_count": 1,
   "metadata": {},
   "outputs": [
    {
     "data": {
      "text/html": [
       "\n",
       "\n",
       "<!DOCTYPE html>\n",
       "\n",
       "<html>\n",
       "\n",
       "<title>AuFilDuBoamp_Lab par Semaine52</title>\n",
       "<meta name=\"viewport\" content=\"width=device-width, initial-scale=1\">\n",
       "<link rel=\"stylesheet\" href=\"https://www.w3schools.com/w3css/4/w3.css\">\n",
       "<link rel=\"stylesheet\" href=\"https://cdnjs.cloudflare.com/ajax/libs/font-awesome/4.7.0/css/font-awesome.min.css\">\n",
       "<script src='https://kit.fontawesome.com/a076d05399.js'></script>\n",
       "\n",
       "\n",
       "<body>\n",
       "\n",
       "<div class=\"w3-container\">\n",
       "   <div class=\"w3-padding  w3-white w3-small\">\n",
       "  \n",
       "     <a href=\"https://github.com/Semaine52/AuFilDuBoamp_Lab\" title=\"AuFilDuBoamp_Lab sur GitHub\" alt=\"AuFilDuBoamp_Lab sur GitHub\" class=\"w3-bar-item w3-button fas fa-share-square w3-small w3-white\">&nbsp; AuFilDuBoamp_Lab sur GitHub</a>\n",
       "     \n",
       "     <a href=\"https://twitter.com/AuFilDuBoamp\" title=\"AuFilDuBoamp sur Twitter\" alt=\"AuFilDuBoamp sur Twitter\" class=\"w3-bar-item w3-button fas fa-share-square w3-small w3-white\">&nbsp; sur Twitter</a>\n",
       "     \n",
       "     <a href=\"https://www.data.gouv.fr/fr/organizations/aufilduboamp-1/\" title=\"AuFilDuBoamp sur DataGouv.fr\" alt=\"AuFilDuBoamp sur DataGouv.fr\" class=\"w3-bar-item w3-button fas fa-share-square w3-small  w3-white\">&nbsp; sur DataGouv.fr</a>\n",
       "     \n",
       "          <a href=\"https://mybinder.org/v2/gh/Semaine52/AuFilDuBoamp_Lab/master?urlpath=lab/tree/notebooks/_Sommaire.ipynb\" title=\"AuFilDuBoamp_Lab sur Binder\" alt=\"AuFilDuBoamp_Lab sur Binder\" class=\"w3-bar-item w3-button fas fa-share-square w3-small  w3-white\">&nbsp; sur Binder</a>\n",
       "          \n",
       "          <a href=\"https://teamopendata.org/u/semaine52_jmf/summary\" title=\"Jean-Marie Falvet sur TeamOpenData\" alt=\"Jean-Marie Falvet sur TeamOpenData\" class=\"w3-bar-item w3-button fas fa-share-square w3-small  w3-white\">&nbsp; chez TeamOpenData</a>\n",
       "          \n",
       "          \n",
       "     \n",
       "       \n",
       "         <a href=\"https://www.data.gouv.fr/fr/datasets/boamp/\" title=\"Le BOAMP sur DataGouv.fr\" alt=\"Le BOAMP sur DataGouv.fr\" class=\"w3-bar-item w3-button fas fa-share-square w3-small w3-white\">&nbsp; Le BOAMP sur DataGouv.fr</a>\n",
       "     \n",
       "     <a href=\"https://www.boamp.fr/\" title=\"BOAMP.fr\" alt=\"BOAMP.fr\"class=\"w3-bar-item w3-button fas fa-share-square w3-small  w3-white\">BOAMP.fr</a>\n",
       "     \n",
       "     <a href=\"https://www.legifrance.gouv.fr/affichCode.do?cidTexte=LEGITEXT000037701019\" title=\"Accueil\" alt=\"Accueil\"class=\"w3-bar-item w3-button fas fa-share-square w3-small  w3-white\">&nbsp; Code de la commande publique (Légifrance)</a>  \n",
       "    \n",
       "   </div> \n",
       "      \n",
       " </div>\n",
       "\n",
       " <div class=\"w3-container\">\n",
       "   <div><img class=\"w3-animate-right\" src=\"design/AFDB_DOTS.svg\" alt=\"AuFilDuBoamp_Lab\" title=\"AuFilDuBoamp_Lab\" style=\"width:40%\"></div>\n",
       "\n",
       "   <div class=\"w3-padding w3-xlarge w3-white\"> \n",
       "     \n",
       "       \n",
       "        \n",
       "     <a href=\"_Sommaire.ipynb\" alt=\"Sommaire général\" title=\"Sommaire général\" class=\"w3-bar-item w3-button fa fa-list w3-large w3-amber\">&nbsp; Lien vers le Sommaire général</a>  \n",
       "     <a href=\"https://mybinder.org/v2/gh/Semaine52/AuFilDuBoamp_Lab/master?urlpath=lab/tree/notebooks/_Sommaire.ipynb\" alt=\"Lancer Binder\" title=\"Lancer Binder\" class=\"w3-bar-item w3-button fa fa-arrow-right w3-large w3-teal\">&nbsp; Lancer Binder</a>  \n",
       "     <p style=\"font-size:16px; margin-top:5px\">N'oubliez pas <strong>« Run All Cells »</strong> du menu <strong>« Run »</strong> pour activer les pages une fois sur Binder.</p>\n",
       "  </div>\n",
       "  \n",
       " </div>\n",
       "\n",
       "</body>\n",
       "\n",
       "</html> \n",
       "\n",
       " "
      ],
      "text/plain": [
       "<IPython.core.display.HTML object>"
      ]
     },
     "metadata": {},
     "output_type": "display_data"
    }
   ],
   "source": [
    "%run afdb_lab_scripts/afdb_lab_prereglages\n",
    "%run afdb_lab_scripts/afdb_lab_haut"
   ]
  },
  {
   "cell_type": "markdown",
   "metadata": {},
   "source": [
    "<div id=\"navigation\"></div>\n",
    "\n",
    "#### Un tour d'horizon des Tables du BOAMP\n",
    "\n",
    "À base des données recueillies en OpenData via l'API consacrée --> https://www.data.gouv.fr/fr/datasets/api-boamp-beta/\n",
    "\n",
    "----\n",
    "<h1 style=\"font-size:60px;\">Table G_04_Indexation</h1>\n",
    "\n",
    "----\n"
   ]
  },
  {
   "cell_type": "markdown",
   "metadata": {},
   "source": [
    "- **<a href=\"#navigation\">Navigateur<a/>**\n",
    "    - **<a href=\"#chargement\">Chargement de la table<a/>**\n",
    "    - **<a href=\"#schema\">Schéma interactif de la table**    \n",
    "    - **<a href=\"#infos\">Présentation brute des colonnes<a/>**\n",
    "    - **<a href=\"#verticale\">Vue verticale de la table<a/>**\n",
    "    - **<a href=\"#horizontale\">Vue horizontale de la table<a/>**"
   ]
  },
  {
   "cell_type": "markdown",
   "metadata": {},
   "source": [
    "<div id=\"chargement\"></div>\n",
    "\n",
    "## Chargement de la table"
   ]
  },
  {
   "cell_type": "code",
   "execution_count": 2,
   "metadata": {},
   "outputs": [],
   "source": [
    "extrait_df_g_04_indexation = pd.read_pickle('boamp_2021_T1_data_mensuel/df_boamp_2021_02_G_04_indexation.pkl')"
   ]
  },
  {
   "cell_type": "markdown",
   "metadata": {},
   "source": [
    "<div id=\"schema\"></div>\n",
    "\n",
    "## Schéma interactif de la table"
   ]
  },
  {
   "cell_type": "code",
   "execution_count": 3,
   "metadata": {},
   "outputs": [
    {
     "data": {
      "application/vnd.jupyter.widget-view+json": {
       "model_id": "81f2b9d2ee854c4fa5c5f63c012ce158",
       "version_major": 2,
       "version_minor": 0
      },
      "text/plain": [
       "Output(layout=Layout(border='3px solid #cccccc', margin='20px 100px 20px 100px', max_width='80%', padding='10p…"
      ]
     },
     "metadata": {},
     "output_type": "display_data"
    }
   ],
   "source": [
    "from afdb_lab_scripts.afficher_plan_html import afficher_plan_html\n",
    "afficher_plan_html(source=\"boamp_plans_html/boamp_plan_g_04_indexation.html\");"
   ]
  },
  {
   "cell_type": "markdown",
   "metadata": {},
   "source": [
    "[Ouvrir ce schéma en plein écran dans un nouvel onglet (cliquez sur « Trust HTML » s'il n'apparaît pas de lui-même à l'ouverture)](boamp_plans_html/boamp_plan_g_04_indexation.html)"
   ]
  },
  {
   "cell_type": "markdown",
   "metadata": {},
   "source": [
    "**<a href=\"#navigation\">Remonter<a/>**"
   ]
  },
  {
   "cell_type": "markdown",
   "metadata": {},
   "source": [
    "<div id=\"infos\"></div>\n",
    "\n",
    "## Présentation brute des colonnes"
   ]
  },
  {
   "cell_type": "code",
   "execution_count": 4,
   "metadata": {},
   "outputs": [
    {
     "name": "stdout",
     "output_type": "stream",
     "text": [
      "<class 'pandas.core.frame.DataFrame'>\n",
      "Index: 29626 entries, 18-111639 to 21-9966\n",
      "Data columns (total 17 columns):\n",
      " #   Column                                                     Non-Null Count  Dtype         \n",
      "---  ------                                                     --------------  -----         \n",
      " 0   G_04_01_Indexation_Datepublication                         29626 non-null  datetime64[ns]\n",
      " 1   G_04_02_Indexation_Datelimitereponse                       11716 non-null  datetime64[ns]\n",
      " 2   G_04_03_Indexation_Datefindiffusion                        29626 non-null  datetime64[ns]\n",
      " 3   G_04_04_Indexation_Classes                                 29626 non-null  object        \n",
      " 4   G_04_04_01_Indexation_Classes_Classe                       29626 non-null  object        \n",
      " 5   G_04_04_01_01_Indexation_Classes_Classe_Code               29626 non-null  object        \n",
      " 6   G_04_04_01_02_Indexation_Classes_Classe_Libelle            0 non-null      object        \n",
      " 7   G_04_05_Indexation_Descripteurs                            29626 non-null  object        \n",
      " 8   G_04_05_01_Indexation_Descripteurs_Descripteur             29626 non-null  object        \n",
      " 9   G_04_05_01_01_Indexation_Descripteurs_Descripteur_Code     29626 non-null  object        \n",
      " 10  G_04_05_01_02_Indexation_Descripteurs_Descripteur_Libelle  29626 non-null  object        \n",
      " 11  G_04_06_Indexation_Criteressociauxenv                      29626 non-null  object        \n",
      " 12  G_04_06_01_Indexation_Criteressociauxenv_Sociaux           29626 non-null  bool          \n",
      " 13  G_04_06_02_Indexation_Criteressociauxenv_Environnementaux  29626 non-null  bool          \n",
      " 14  G_04_07_Indexation_Deppublication                          29626 non-null  object        \n",
      " 15  G_04_08_Indexation_Depprestation                           29626 non-null  object        \n",
      " 16  G_04_09_Indexation_Resumeobjet                             29626 non-null  object        \n",
      "dtypes: bool(2), datetime64[ns](3), object(12)\n",
      "memory usage: 3.7+ MB\n"
     ]
    }
   ],
   "source": [
    "extrait_df_g_04_indexation.info()"
   ]
  },
  {
   "cell_type": "markdown",
   "metadata": {},
   "source": [
    "**<a href=\"#navigation\">Remonter<a/>**"
   ]
  },
  {
   "cell_type": "markdown",
   "metadata": {},
   "source": [
    "<div id=\"verticale\"></div>\n",
    "\n",
    "## Vue verticale de la table "
   ]
  },
  {
   "cell_type": "code",
   "execution_count": 5,
   "metadata": {},
   "outputs": [
    {
     "data": {
      "text/html": [
       "<div>\n",
       "<style scoped>\n",
       "    .dataframe tbody tr th:only-of-type {\n",
       "        vertical-align: middle;\n",
       "    }\n",
       "\n",
       "    .dataframe tbody tr th {\n",
       "        vertical-align: top;\n",
       "    }\n",
       "\n",
       "    .dataframe thead th {\n",
       "        text-align: right;\n",
       "    }\n",
       "</style>\n",
       "<table border=\"1\" class=\"dataframe\">\n",
       "  <thead>\n",
       "    <tr style=\"text-align: right;\">\n",
       "      <th>BOAMP_AVIS_NUM</th>\n",
       "      <th>18-111639</th>\n",
       "      <th>19-138840</th>\n",
       "      <th>19-138840</th>\n",
       "    </tr>\n",
       "  </thead>\n",
       "  <tbody>\n",
       "    <tr>\n",
       "      <th>G_04_01_Indexation_Datepublication</th>\n",
       "      <td>2021-02-13 23:00:00</td>\n",
       "      <td>2021-02-13 23:00:00</td>\n",
       "      <td>2021-02-13 23:00:00</td>\n",
       "    </tr>\n",
       "    <tr>\n",
       "      <th>G_04_02_Indexation_Datelimitereponse</th>\n",
       "      <td>NaT</td>\n",
       "      <td>NaT</td>\n",
       "      <td>NaT</td>\n",
       "    </tr>\n",
       "    <tr>\n",
       "      <th>G_04_03_Indexation_Datefindiffusion</th>\n",
       "      <td>2021-02-27 23:00:00</td>\n",
       "      <td>2021-04-14 22:00:00</td>\n",
       "      <td>2021-04-14 22:00:00</td>\n",
       "    </tr>\n",
       "    <tr>\n",
       "      <th>G_04_04_Indexation_Classes</th>\n",
       "      <td>CF_NIV_SUIV</td>\n",
       "      <td>CF_NIV_SUIV</td>\n",
       "      <td>CF_NIV_SUIV</td>\n",
       "    </tr>\n",
       "    <tr>\n",
       "      <th>G_04_04_01_Indexation_Classes_Classe</th>\n",
       "      <td>CF_NIV_SUIV</td>\n",
       "      <td>CF_NIV_SUIV</td>\n",
       "      <td>CF_NIV_SUIV</td>\n",
       "    </tr>\n",
       "    <tr>\n",
       "      <th>G_04_04_01_01_Indexation_Classes_Classe_Code</th>\n",
       "      <td>&lt;NA&gt;</td>\n",
       "      <td>&lt;NA&gt;</td>\n",
       "      <td>&lt;NA&gt;</td>\n",
       "    </tr>\n",
       "    <tr>\n",
       "      <th>G_04_04_01_02_Indexation_Classes_Classe_Libelle</th>\n",
       "      <td>None</td>\n",
       "      <td>None</td>\n",
       "      <td>None</td>\n",
       "    </tr>\n",
       "    <tr>\n",
       "      <th>G_04_05_Indexation_Descripteurs</th>\n",
       "      <td>CF_NIV_SUIV</td>\n",
       "      <td>CF_NIV_SUIV</td>\n",
       "      <td>CF_NIV_SUIV</td>\n",
       "    </tr>\n",
       "    <tr>\n",
       "      <th>G_04_05_01_Indexation_Descripteurs_Descripteur</th>\n",
       "      <td>CF_NIV_SUIV</td>\n",
       "      <td>CF_NIV_SUIV</td>\n",
       "      <td>CF_NIV_SUIV</td>\n",
       "    </tr>\n",
       "    <tr>\n",
       "      <th>G_04_05_01_01_Indexation_Descripteurs_Descripteur_Code</th>\n",
       "      <td>443</td>\n",
       "      <td>331</td>\n",
       "      <td>331</td>\n",
       "    </tr>\n",
       "    <tr>\n",
       "      <th>G_04_05_01_02_Indexation_Descripteurs_Descripteur_Libelle</th>\n",
       "      <td>Electricité, gaz (fourniture)</td>\n",
       "      <td>Surveillance</td>\n",
       "      <td>Surveillance</td>\n",
       "    </tr>\n",
       "    <tr>\n",
       "      <th>G_04_06_Indexation_Criteressociauxenv</th>\n",
       "      <td>CF_NIV_SUIV</td>\n",
       "      <td>CF_NIV_SUIV</td>\n",
       "      <td>CF_NIV_SUIV</td>\n",
       "    </tr>\n",
       "    <tr>\n",
       "      <th>G_04_06_01_Indexation_Criteressociauxenv_Sociaux</th>\n",
       "      <td>False</td>\n",
       "      <td>False</td>\n",
       "      <td>False</td>\n",
       "    </tr>\n",
       "    <tr>\n",
       "      <th>G_04_06_02_Indexation_Criteressociauxenv_Environnementaux</th>\n",
       "      <td>False</td>\n",
       "      <td>False</td>\n",
       "      <td>False</td>\n",
       "    </tr>\n",
       "    <tr>\n",
       "      <th>G_04_07_Indexation_Deppublication</th>\n",
       "      <td>83</td>\n",
       "      <td>75</td>\n",
       "      <td>50</td>\n",
       "    </tr>\n",
       "    <tr>\n",
       "      <th>G_04_08_Indexation_Depprestation</th>\n",
       "      <td>nan</td>\n",
       "      <td>nan</td>\n",
       "      <td>nan</td>\n",
       "    </tr>\n",
       "    <tr>\n",
       "      <th>G_04_09_Indexation_Resumeobjet</th>\n",
       "      <td>concession réseau public de distribution d'énergie électrique</td>\n",
       "      <td>prestation de sécurité incendie et prévention des établissements recevant du public de l'abbaye du mont-saint-michel</td>\n",
       "      <td>prestation de sécurité incendie et prévention des établissements recevant du public de l'abbaye du mont-saint-michel</td>\n",
       "    </tr>\n",
       "  </tbody>\n",
       "</table>\n",
       "</div>"
      ],
      "text/plain": [
       "BOAMP_AVIS_NUM                                                                                                 18-111639  \\\n",
       "G_04_01_Indexation_Datepublication                                                                   2021-02-13 23:00:00   \n",
       "G_04_02_Indexation_Datelimitereponse                                                                                 NaT   \n",
       "G_04_03_Indexation_Datefindiffusion                                                                  2021-02-27 23:00:00   \n",
       "G_04_04_Indexation_Classes                                                                                   CF_NIV_SUIV   \n",
       "G_04_04_01_Indexation_Classes_Classe                                                                         CF_NIV_SUIV   \n",
       "G_04_04_01_01_Indexation_Classes_Classe_Code                                                                        <NA>   \n",
       "G_04_04_01_02_Indexation_Classes_Classe_Libelle                                                                     None   \n",
       "G_04_05_Indexation_Descripteurs                                                                              CF_NIV_SUIV   \n",
       "G_04_05_01_Indexation_Descripteurs_Descripteur                                                               CF_NIV_SUIV   \n",
       "G_04_05_01_01_Indexation_Descripteurs_Descripteur_Code                                                               443   \n",
       "G_04_05_01_02_Indexation_Descripteurs_Descripteur_Libelle                                  Electricité, gaz (fourniture)   \n",
       "G_04_06_Indexation_Criteressociauxenv                                                                        CF_NIV_SUIV   \n",
       "G_04_06_01_Indexation_Criteressociauxenv_Sociaux                                                                   False   \n",
       "G_04_06_02_Indexation_Criteressociauxenv_Environnementaux                                                          False   \n",
       "G_04_07_Indexation_Deppublication                                                                                     83   \n",
       "G_04_08_Indexation_Depprestation                                                                                     nan   \n",
       "G_04_09_Indexation_Resumeobjet                             concession réseau public de distribution d'énergie électrique   \n",
       "\n",
       "BOAMP_AVIS_NUM                                                                                                                                                        19-138840  \\\n",
       "G_04_01_Indexation_Datepublication                                                                                                                          2021-02-13 23:00:00   \n",
       "G_04_02_Indexation_Datelimitereponse                                                                                                                                        NaT   \n",
       "G_04_03_Indexation_Datefindiffusion                                                                                                                         2021-04-14 22:00:00   \n",
       "G_04_04_Indexation_Classes                                                                                                                                          CF_NIV_SUIV   \n",
       "G_04_04_01_Indexation_Classes_Classe                                                                                                                                CF_NIV_SUIV   \n",
       "G_04_04_01_01_Indexation_Classes_Classe_Code                                                                                                                               <NA>   \n",
       "G_04_04_01_02_Indexation_Classes_Classe_Libelle                                                                                                                            None   \n",
       "G_04_05_Indexation_Descripteurs                                                                                                                                     CF_NIV_SUIV   \n",
       "G_04_05_01_Indexation_Descripteurs_Descripteur                                                                                                                      CF_NIV_SUIV   \n",
       "G_04_05_01_01_Indexation_Descripteurs_Descripteur_Code                                                                                                                      331   \n",
       "G_04_05_01_02_Indexation_Descripteurs_Descripteur_Libelle                                                                                                          Surveillance   \n",
       "G_04_06_Indexation_Criteressociauxenv                                                                                                                               CF_NIV_SUIV   \n",
       "G_04_06_01_Indexation_Criteressociauxenv_Sociaux                                                                                                                          False   \n",
       "G_04_06_02_Indexation_Criteressociauxenv_Environnementaux                                                                                                                 False   \n",
       "G_04_07_Indexation_Deppublication                                                                                                                                            75   \n",
       "G_04_08_Indexation_Depprestation                                                                                                                                            nan   \n",
       "G_04_09_Indexation_Resumeobjet                             prestation de sécurité incendie et prévention des établissements recevant du public de l'abbaye du mont-saint-michel   \n",
       "\n",
       "BOAMP_AVIS_NUM                                                                                                                                                        19-138840  \n",
       "G_04_01_Indexation_Datepublication                                                                                                                          2021-02-13 23:00:00  \n",
       "G_04_02_Indexation_Datelimitereponse                                                                                                                                        NaT  \n",
       "G_04_03_Indexation_Datefindiffusion                                                                                                                         2021-04-14 22:00:00  \n",
       "G_04_04_Indexation_Classes                                                                                                                                          CF_NIV_SUIV  \n",
       "G_04_04_01_Indexation_Classes_Classe                                                                                                                                CF_NIV_SUIV  \n",
       "G_04_04_01_01_Indexation_Classes_Classe_Code                                                                                                                               <NA>  \n",
       "G_04_04_01_02_Indexation_Classes_Classe_Libelle                                                                                                                            None  \n",
       "G_04_05_Indexation_Descripteurs                                                                                                                                     CF_NIV_SUIV  \n",
       "G_04_05_01_Indexation_Descripteurs_Descripteur                                                                                                                      CF_NIV_SUIV  \n",
       "G_04_05_01_01_Indexation_Descripteurs_Descripteur_Code                                                                                                                      331  \n",
       "G_04_05_01_02_Indexation_Descripteurs_Descripteur_Libelle                                                                                                          Surveillance  \n",
       "G_04_06_Indexation_Criteressociauxenv                                                                                                                               CF_NIV_SUIV  \n",
       "G_04_06_01_Indexation_Criteressociauxenv_Sociaux                                                                                                                          False  \n",
       "G_04_06_02_Indexation_Criteressociauxenv_Environnementaux                                                                                                                 False  \n",
       "G_04_07_Indexation_Deppublication                                                                                                                                            50  \n",
       "G_04_08_Indexation_Depprestation                                                                                                                                            nan  \n",
       "G_04_09_Indexation_Resumeobjet                             prestation de sécurité incendie et prévention des établissements recevant du public de l'abbaye du mont-saint-michel  "
      ]
     },
     "execution_count": 5,
     "metadata": {},
     "output_type": "execute_result"
    }
   ],
   "source": [
    "extrait_df_g_04_indexation.head(3).T"
   ]
  },
  {
   "cell_type": "markdown",
   "metadata": {},
   "source": [
    "**<a href=\"#navigation\">Remonter<a/>**"
   ]
  },
  {
   "cell_type": "markdown",
   "metadata": {},
   "source": [
    "<div id=\"horizontale\"></div>\n",
    "\n",
    "## Vue horizontale de la table "
   ]
  },
  {
   "cell_type": "code",
   "execution_count": 6,
   "metadata": {},
   "outputs": [
    {
     "data": {
      "text/html": [
       "<div>\n",
       "<style scoped>\n",
       "    .dataframe tbody tr th:only-of-type {\n",
       "        vertical-align: middle;\n",
       "    }\n",
       "\n",
       "    .dataframe tbody tr th {\n",
       "        vertical-align: top;\n",
       "    }\n",
       "\n",
       "    .dataframe thead th {\n",
       "        text-align: right;\n",
       "    }\n",
       "</style>\n",
       "<table border=\"1\" class=\"dataframe\">\n",
       "  <thead>\n",
       "    <tr style=\"text-align: right;\">\n",
       "      <th></th>\n",
       "      <th>G_04_01_Indexation_Datepublication</th>\n",
       "      <th>G_04_02_Indexation_Datelimitereponse</th>\n",
       "      <th>G_04_03_Indexation_Datefindiffusion</th>\n",
       "      <th>G_04_04_Indexation_Classes</th>\n",
       "      <th>G_04_04_01_Indexation_Classes_Classe</th>\n",
       "      <th>G_04_04_01_01_Indexation_Classes_Classe_Code</th>\n",
       "      <th>G_04_04_01_02_Indexation_Classes_Classe_Libelle</th>\n",
       "      <th>G_04_05_Indexation_Descripteurs</th>\n",
       "      <th>G_04_05_01_Indexation_Descripteurs_Descripteur</th>\n",
       "      <th>G_04_05_01_01_Indexation_Descripteurs_Descripteur_Code</th>\n",
       "      <th>G_04_05_01_02_Indexation_Descripteurs_Descripteur_Libelle</th>\n",
       "      <th>G_04_06_Indexation_Criteressociauxenv</th>\n",
       "      <th>G_04_06_01_Indexation_Criteressociauxenv_Sociaux</th>\n",
       "      <th>G_04_06_02_Indexation_Criteressociauxenv_Environnementaux</th>\n",
       "      <th>G_04_07_Indexation_Deppublication</th>\n",
       "      <th>G_04_08_Indexation_Depprestation</th>\n",
       "      <th>G_04_09_Indexation_Resumeobjet</th>\n",
       "    </tr>\n",
       "    <tr>\n",
       "      <th>BOAMP_AVIS_NUM</th>\n",
       "      <th></th>\n",
       "      <th></th>\n",
       "      <th></th>\n",
       "      <th></th>\n",
       "      <th></th>\n",
       "      <th></th>\n",
       "      <th></th>\n",
       "      <th></th>\n",
       "      <th></th>\n",
       "      <th></th>\n",
       "      <th></th>\n",
       "      <th></th>\n",
       "      <th></th>\n",
       "      <th></th>\n",
       "      <th></th>\n",
       "      <th></th>\n",
       "      <th></th>\n",
       "    </tr>\n",
       "  </thead>\n",
       "  <tbody>\n",
       "    <tr>\n",
       "      <th>18-111639</th>\n",
       "      <td>2021-02-13 23:00:00</td>\n",
       "      <td>NaT</td>\n",
       "      <td>2021-02-27 23:00:00</td>\n",
       "      <td>CF_NIV_SUIV</td>\n",
       "      <td>CF_NIV_SUIV</td>\n",
       "      <td>&lt;NA&gt;</td>\n",
       "      <td>None</td>\n",
       "      <td>CF_NIV_SUIV</td>\n",
       "      <td>CF_NIV_SUIV</td>\n",
       "      <td>443</td>\n",
       "      <td>Electricité, gaz (fourniture)</td>\n",
       "      <td>CF_NIV_SUIV</td>\n",
       "      <td>False</td>\n",
       "      <td>False</td>\n",
       "      <td>83</td>\n",
       "      <td>nan</td>\n",
       "      <td>concession réseau public de distribution d'énergie électrique</td>\n",
       "    </tr>\n",
       "    <tr>\n",
       "      <th>19-138840</th>\n",
       "      <td>2021-02-13 23:00:00</td>\n",
       "      <td>NaT</td>\n",
       "      <td>2021-04-14 22:00:00</td>\n",
       "      <td>CF_NIV_SUIV</td>\n",
       "      <td>CF_NIV_SUIV</td>\n",
       "      <td>&lt;NA&gt;</td>\n",
       "      <td>None</td>\n",
       "      <td>CF_NIV_SUIV</td>\n",
       "      <td>CF_NIV_SUIV</td>\n",
       "      <td>331</td>\n",
       "      <td>Surveillance</td>\n",
       "      <td>CF_NIV_SUIV</td>\n",
       "      <td>False</td>\n",
       "      <td>False</td>\n",
       "      <td>75</td>\n",
       "      <td>nan</td>\n",
       "      <td>prestation de sécurité incendie et prévention des établissements recevant du public de l'abbaye du mont-saint-michel</td>\n",
       "    </tr>\n",
       "    <tr>\n",
       "      <th>19-138840</th>\n",
       "      <td>2021-02-13 23:00:00</td>\n",
       "      <td>NaT</td>\n",
       "      <td>2021-04-14 22:00:00</td>\n",
       "      <td>CF_NIV_SUIV</td>\n",
       "      <td>CF_NIV_SUIV</td>\n",
       "      <td>&lt;NA&gt;</td>\n",
       "      <td>None</td>\n",
       "      <td>CF_NIV_SUIV</td>\n",
       "      <td>CF_NIV_SUIV</td>\n",
       "      <td>331</td>\n",
       "      <td>Surveillance</td>\n",
       "      <td>CF_NIV_SUIV</td>\n",
       "      <td>False</td>\n",
       "      <td>False</td>\n",
       "      <td>50</td>\n",
       "      <td>nan</td>\n",
       "      <td>prestation de sécurité incendie et prévention des établissements recevant du public de l'abbaye du mont-saint-michel</td>\n",
       "    </tr>\n",
       "  </tbody>\n",
       "</table>\n",
       "</div>"
      ],
      "text/plain": [
       "               G_04_01_Indexation_Datepublication  \\\n",
       "BOAMP_AVIS_NUM                                      \n",
       "18-111639                     2021-02-13 23:00:00   \n",
       "19-138840                     2021-02-13 23:00:00   \n",
       "19-138840                     2021-02-13 23:00:00   \n",
       "\n",
       "               G_04_02_Indexation_Datelimitereponse  \\\n",
       "BOAMP_AVIS_NUM                                        \n",
       "18-111639                                       NaT   \n",
       "19-138840                                       NaT   \n",
       "19-138840                                       NaT   \n",
       "\n",
       "               G_04_03_Indexation_Datefindiffusion G_04_04_Indexation_Classes  \\\n",
       "BOAMP_AVIS_NUM                                                                  \n",
       "18-111639                      2021-02-27 23:00:00                CF_NIV_SUIV   \n",
       "19-138840                      2021-04-14 22:00:00                CF_NIV_SUIV   \n",
       "19-138840                      2021-04-14 22:00:00                CF_NIV_SUIV   \n",
       "\n",
       "               G_04_04_01_Indexation_Classes_Classe  \\\n",
       "BOAMP_AVIS_NUM                                        \n",
       "18-111639                               CF_NIV_SUIV   \n",
       "19-138840                               CF_NIV_SUIV   \n",
       "19-138840                               CF_NIV_SUIV   \n",
       "\n",
       "               G_04_04_01_01_Indexation_Classes_Classe_Code  \\\n",
       "BOAMP_AVIS_NUM                                                \n",
       "18-111639                                              <NA>   \n",
       "19-138840                                              <NA>   \n",
       "19-138840                                              <NA>   \n",
       "\n",
       "               G_04_04_01_02_Indexation_Classes_Classe_Libelle  \\\n",
       "BOAMP_AVIS_NUM                                                   \n",
       "18-111639                                                 None   \n",
       "19-138840                                                 None   \n",
       "19-138840                                                 None   \n",
       "\n",
       "               G_04_05_Indexation_Descripteurs  \\\n",
       "BOAMP_AVIS_NUM                                   \n",
       "18-111639                          CF_NIV_SUIV   \n",
       "19-138840                          CF_NIV_SUIV   \n",
       "19-138840                          CF_NIV_SUIV   \n",
       "\n",
       "               G_04_05_01_Indexation_Descripteurs_Descripteur  \\\n",
       "BOAMP_AVIS_NUM                                                  \n",
       "18-111639                                         CF_NIV_SUIV   \n",
       "19-138840                                         CF_NIV_SUIV   \n",
       "19-138840                                         CF_NIV_SUIV   \n",
       "\n",
       "               G_04_05_01_01_Indexation_Descripteurs_Descripteur_Code  \\\n",
       "BOAMP_AVIS_NUM                                                          \n",
       "18-111639                                                         443   \n",
       "19-138840                                                         331   \n",
       "19-138840                                                         331   \n",
       "\n",
       "               G_04_05_01_02_Indexation_Descripteurs_Descripteur_Libelle  \\\n",
       "BOAMP_AVIS_NUM                                                             \n",
       "18-111639                                  Electricité, gaz (fourniture)   \n",
       "19-138840                                                   Surveillance   \n",
       "19-138840                                                   Surveillance   \n",
       "\n",
       "               G_04_06_Indexation_Criteressociauxenv  \\\n",
       "BOAMP_AVIS_NUM                                         \n",
       "18-111639                                CF_NIV_SUIV   \n",
       "19-138840                                CF_NIV_SUIV   \n",
       "19-138840                                CF_NIV_SUIV   \n",
       "\n",
       "                G_04_06_01_Indexation_Criteressociauxenv_Sociaux  \\\n",
       "BOAMP_AVIS_NUM                                                     \n",
       "18-111639                                                  False   \n",
       "19-138840                                                  False   \n",
       "19-138840                                                  False   \n",
       "\n",
       "                G_04_06_02_Indexation_Criteressociauxenv_Environnementaux  \\\n",
       "BOAMP_AVIS_NUM                                                              \n",
       "18-111639                                                           False   \n",
       "19-138840                                                           False   \n",
       "19-138840                                                           False   \n",
       "\n",
       "               G_04_07_Indexation_Deppublication  \\\n",
       "BOAMP_AVIS_NUM                                     \n",
       "18-111639                                     83   \n",
       "19-138840                                     75   \n",
       "19-138840                                     50   \n",
       "\n",
       "               G_04_08_Indexation_Depprestation  \\\n",
       "BOAMP_AVIS_NUM                                    \n",
       "18-111639                                   nan   \n",
       "19-138840                                   nan   \n",
       "19-138840                                   nan   \n",
       "\n",
       "                                                                                                      G_04_09_Indexation_Resumeobjet  \n",
       "BOAMP_AVIS_NUM                                                                                                                        \n",
       "18-111639                                                              concession réseau public de distribution d'énergie électrique  \n",
       "19-138840       prestation de sécurité incendie et prévention des établissements recevant du public de l'abbaye du mont-saint-michel  \n",
       "19-138840       prestation de sécurité incendie et prévention des établissements recevant du public de l'abbaye du mont-saint-michel  "
      ]
     },
     "execution_count": 6,
     "metadata": {},
     "output_type": "execute_result"
    }
   ],
   "source": [
    "extrait_df_g_04_indexation.head(3)"
   ]
  },
  {
   "cell_type": "markdown",
   "metadata": {},
   "source": [
    "**<a href=\"#navigation\">Remonter<a/>**"
   ]
  }
 ],
 "metadata": {
  "kernelspec": {
   "display_name": "Python 3",
   "language": "python",
   "name": "python3"
  },
  "language_info": {
   "codemirror_mode": {
    "name": "ipython",
    "version": 3
   },
   "file_extension": ".py",
   "mimetype": "text/x-python",
   "name": "python",
   "nbconvert_exporter": "python",
   "pygments_lexer": "ipython3",
   "version": "3.8.6"
  },
  "widgets": {
   "application/vnd.jupyter.widget-state+json": {
    "state": {
     "81f2b9d2ee854c4fa5c5f63c012ce158": {
      "model_module": "@jupyter-widgets/output",
      "model_module_version": "1.0.0",
      "model_name": "OutputModel",
      "state": {
       "layout": "IPY_MODEL_9385859eae6f4f5b9e016f26d3d9ebe9",
       "outputs": [
        {
         "data": {
          "text/html": "\n        <iframe\n            width=\"98%\"\n            height=\"400px\"\n            src=\"boamp_plans_html/boamp_plan_g_04_indexation.html\"\n            frameborder=\"0\"\n            allowfullscreen\n        ></iframe>\n        ",
          "text/plain": "<IPython.lib.display.IFrame at 0x16598360c10>"
         },
         "metadata": {},
         "output_type": "display_data"
        },
        {
         "data": {
          "text/html": "<p><strong>Cliquez sur les cercles contenus dans la figure pour ouvrir et refermer les niveaux.<br>    \n                     L'image est zommable.<br><br>\n                     <a href=boamp_plans_html/boamp_plan_g_04_indexation.html> --> Ouvrir ce schéma en plein écran dans un nouvel onglet. </a></strong><br>\n                     <em>Cliquez sur « Trust HTML » si le schéma n'apparaît pas de lui-même à l'ouverture du lien.</em></p>\n                     ",
          "text/plain": "<IPython.core.display.HTML object>"
         },
         "metadata": {},
         "output_type": "display_data"
        }
       ]
      }
     },
     "9385859eae6f4f5b9e016f26d3d9ebe9": {
      "model_module": "@jupyter-widgets/base",
      "model_module_version": "1.2.0",
      "model_name": "LayoutModel",
      "state": {
       "border": "3px solid #cccccc",
       "margin": "20px 100px 20px 100px",
       "max_width": "80%",
       "padding": "10px"
      }
     }
    },
    "version_major": 2,
    "version_minor": 0
   }
  }
 },
 "nbformat": 4,
 "nbformat_minor": 4
}
