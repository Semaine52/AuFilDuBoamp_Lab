{
 "cells": [
  {
   "cell_type": "code",
   "execution_count": 1,
   "metadata": {},
   "outputs": [
    {
     "data": {
      "text/html": [
       "\n",
       "\n",
       "<!DOCTYPE html>\n",
       "\n",
       "<html>\n",
       "\n",
       "<title>AuFilDuBoamp_Lab par Semaine52</title>\n",
       "<meta name=\"viewport\" content=\"width=device-width, initial-scale=1\">\n",
       "<link rel=\"stylesheet\" href=\"https://www.w3schools.com/w3css/4/w3.css\">\n",
       "<link rel=\"stylesheet\" href=\"https://cdnjs.cloudflare.com/ajax/libs/font-awesome/4.7.0/css/font-awesome.min.css\">\n",
       "<script src='https://kit.fontawesome.com/a076d05399.js'></script>\n",
       "\n",
       "\n",
       "<body>\n",
       "\n",
       "<div class=\"w3-container\">\n",
       "   <div class=\"w3-padding  w3-white w3-small\">\n",
       "  \n",
       "     <a href=\"https://github.com/Semaine52/AuFilDuBoamp_Lab\" title=\"AuFilDuBoamp_Lab sur GitHub\" alt=\"AuFilDuBoamp_Lab sur GitHub\" class=\"w3-bar-item w3-button fas fa-share-square w3-small w3-white\">&nbsp; AuFilDuBoamp_Lab sur GitHub</a>\n",
       "     \n",
       "     <a href=\"https://twitter.com/AuFilDuBoamp\" title=\"AuFilDuBoamp sur Twitter\" alt=\"AuFilDuBoamp sur Twitter\" class=\"w3-bar-item w3-button fas fa-share-square w3-small w3-white\">&nbsp; sur Twitter</a>\n",
       "     \n",
       "     <a href=\"https://www.data.gouv.fr/fr/organizations/aufilduboamp-1/\" title=\"AuFilDuBoamp sur DataGouv.fr\" alt=\"AuFilDuBoamp sur DataGouv.fr\" class=\"w3-bar-item w3-button fas fa-share-square w3-small  w3-white\">&nbsp; sur DataGouv.fr</a>\n",
       "     \n",
       "          <a href=\"https://mybinder.org/v2/gh/Semaine52/AuFilDuBoamp_Lab/master?urlpath=lab/tree/notebooks/_Sommaire.ipynb\" title=\"AuFilDuBoamp_Lab sur Binder\" alt=\"AuFilDuBoamp_Lab sur Binder\" class=\"w3-bar-item w3-button fas fa-share-square w3-small  w3-white\">&nbsp; sur Binder</a>\n",
       "          \n",
       "          <a href=\"https://teamopendata.org/u/semaine52_jmf/summary\" title=\"Jean-Marie Falvet sur TeamOpenData\" alt=\"Jean-Marie Falvet sur TeamOpenData\" class=\"w3-bar-item w3-button fas fa-share-square w3-small  w3-white\">&nbsp; chez TeamOpenData</a>\n",
       "          \n",
       "          \n",
       "     \n",
       "       \n",
       "         <a href=\"https://www.data.gouv.fr/fr/datasets/boamp/\" title=\"Le BOAMP sur DataGouv.fr\" alt=\"Le BOAMP sur DataGouv.fr\" class=\"w3-bar-item w3-button fas fa-share-square w3-small w3-white\">&nbsp; Le BOAMP sur DataGouv.fr</a>\n",
       "     \n",
       "     <a href=\"https://www.boamp.fr/\" title=\"BOAMP.fr\" alt=\"BOAMP.fr\"class=\"w3-bar-item w3-button fas fa-share-square w3-small  w3-white\">BOAMP.fr</a>\n",
       "     \n",
       "     <a href=\"https://www.legifrance.gouv.fr/affichCode.do?cidTexte=LEGITEXT000037701019\" title=\"Accueil\" alt=\"Accueil\"class=\"w3-bar-item w3-button fas fa-share-square w3-small  w3-white\">&nbsp; Code de la commande publique (Légifrance)</a>  \n",
       "    \n",
       "   </div> \n",
       "      \n",
       " </div>\n",
       "\n",
       " <div class=\"w3-container\">\n",
       "   <div><img class=\"w3-animate-right\" src=\"design/AFDB_DOTS.svg\" alt=\"AuFilDuBoamp_Lab\" title=\"AuFilDuBoamp_Lab\" style=\"width:40%\"></div>\n",
       "\n",
       "   <div class=\"w3-padding w3-xlarge w3-white\"> \n",
       "     \n",
       "       \n",
       "        \n",
       "     <a href=\"_Sommaire.ipynb\" alt=\"Sommaire général\" title=\"Sommaire général\" class=\"w3-bar-item w3-button fa fa-list w3-large w3-amber\">&nbsp; Lien vers le Sommaire général</a>  \n",
       "     <a href=\"https://mybinder.org/v2/gh/Semaine52/AuFilDuBoamp_Lab/master?urlpath=lab/tree/notebooks/_Sommaire.ipynb\" alt=\"Lancer Binder\" title=\"Lancer Binder\" class=\"w3-bar-item w3-button fa fa-arrow-right w3-large w3-teal\">&nbsp; Lancer Binder</a>  \n",
       "     <p style=\"font-size:16px; margin-top:5px\">N'oubliez pas <strong>« Run All Cells »</strong> du menu <strong>« Run »</strong> pour activer les pages une fois sur Binder.</p>\n",
       "  </div>\n",
       "  \n",
       " </div>\n",
       "\n",
       "</body>\n",
       "\n",
       "</html> \n",
       "\n",
       " "
      ],
      "text/plain": [
       "<IPython.core.display.HTML object>"
      ]
     },
     "metadata": {},
     "output_type": "display_data"
    }
   ],
   "source": [
    "%run afdb_lab_scripts/afdb_lab_prereglages\n",
    "%run afdb_lab_scripts/afdb_lab_haut"
   ]
  },
  {
   "cell_type": "markdown",
   "metadata": {},
   "source": [
    "<div id=\"navigation\"></div>\n",
    "\n",
    "#### Un tour d'horizon des Tables du BOAMP\n",
    "\n",
    "À base des données recueillies en OpenData via l'API consacrée --> https://www.data.gouv.fr/fr/datasets/api-boamp-beta/\n",
    "\n",
    "----\n",
    "<h1 style=\"font-size:60px;\">Table D_21_Annexed4</h1>\n",
    "\n",
    "----\n"
   ]
  },
  {
   "cell_type": "markdown",
   "metadata": {},
   "source": [
    "- **<a href=\"#navigation\">Navigateur<a/>**\n",
    "    - **<a href=\"#chargement\">Chargement de la table<a/>**\n",
    "    - **<a href=\"#schema\">Schéma interactif de la table**    \n",
    "    - **<a href=\"#infos\">Présentation brute des colonnes<a/>**\n",
    "    - **<a href=\"#verticale\">Vue verticale de la table<a/>**\n",
    "    - **<a href=\"#horizontale\">Vue horizontale de la table<a/>**"
   ]
  },
  {
   "cell_type": "markdown",
   "metadata": {},
   "source": [
    "<div id=\"chargement\"></div>\n",
    "\n",
    "## Chargement de la table"
   ]
  },
  {
   "cell_type": "code",
   "execution_count": 2,
   "metadata": {},
   "outputs": [],
   "source": [
    "extrait_df_d_21_annexed4 = pd.read_pickle('boamp_2021_T1_data_mensuel/df_boamp_2021_02_D_21_annexed4.pkl')"
   ]
  },
  {
   "cell_type": "markdown",
   "metadata": {},
   "source": [
    "<div id=\"schema\"></div>\n",
    "\n",
    "## Schéma interactif de la table"
   ]
  },
  {
   "cell_type": "code",
   "execution_count": 3,
   "metadata": {},
   "outputs": [
    {
     "data": {
      "application/vnd.jupyter.widget-view+json": {
       "model_id": "b8d506dd1ea74603866ceda7e2fbf0fa",
       "version_major": 2,
       "version_minor": 0
      },
      "text/plain": [
       "Output(layout=Layout(border='3px solid #cccccc', margin='20px 100px 20px 100px', max_width='80%', padding='10p…"
      ]
     },
     "metadata": {},
     "output_type": "display_data"
    }
   ],
   "source": [
    "from afdb_lab_scripts.afficher_plan_html import afficher_plan_html\n",
    "afficher_plan_html(source=\"boamp_plans_html/boamp_plan_d_21_annexed4.html\");"
   ]
  },
  {
   "cell_type": "markdown",
   "metadata": {},
   "source": [
    "[Ouvrir ce schéma en plein écran dans un nouvel onglet (cliquez sur « Trust HTML » s'il n'apparaît pas de lui-même à l'ouverture)](boamp_plans_html/boamp_plan_d_21_annexed4.html)"
   ]
  },
  {
   "cell_type": "markdown",
   "metadata": {},
   "source": [
    "**<a href=\"#navigation\">Remonter<a/>**"
   ]
  },
  {
   "cell_type": "markdown",
   "metadata": {},
   "source": [
    "<div id=\"infos\"></div>\n",
    "\n",
    "## Présentation brute des colonnes"
   ]
  },
  {
   "cell_type": "code",
   "execution_count": 4,
   "metadata": {},
   "outputs": [
    {
     "name": "stdout",
     "output_type": "stream",
     "text": [
      "<class 'pandas.core.frame.DataFrame'>\n",
      "Index: 3 entries, 18-111639 to 21-19413\n",
      "Data columns (total 7 columns):\n",
      " #   Column                                    Non-Null Count  Dtype \n",
      "---  ------                                    --------------  ----- \n",
      " 0   D_21_01_Annexed4_Infructueux              3 non-null      bool  \n",
      " 1   D_21_02_Annexed4_Raisonstechniques        3 non-null      bool  \n",
      " 2   D_21_03_Annexed4_Raisonsartistiques       3 non-null      bool  \n",
      " 3   D_21_04_Annexed4_Raisonsexclusivites      3 non-null      bool  \n",
      " 4   D_21_05_Annexed4_Proprieteintellectuelle  0 non-null      object\n",
      " 5   D_21_06_Annexed4_Horsscope                3 non-null      bool  \n",
      " 6   D_21_07_Annexed4_Explication              3 non-null      object\n",
      "dtypes: bool(5), object(2)\n",
      "memory usage: 87.0+ bytes\n"
     ]
    }
   ],
   "source": [
    "extrait_df_d_21_annexed4.info()"
   ]
  },
  {
   "cell_type": "markdown",
   "metadata": {},
   "source": [
    "**<a href=\"#navigation\">Remonter<a/>**"
   ]
  },
  {
   "cell_type": "markdown",
   "metadata": {},
   "source": [
    "<div id=\"verticale\"></div>\n",
    "\n",
    "## Vue verticale de la table "
   ]
  },
  {
   "cell_type": "code",
   "execution_count": 5,
   "metadata": {},
   "outputs": [
    {
     "data": {
      "text/html": [
       "<div>\n",
       "<style scoped>\n",
       "    .dataframe tbody tr th:only-of-type {\n",
       "        vertical-align: middle;\n",
       "    }\n",
       "\n",
       "    .dataframe tbody tr th {\n",
       "        vertical-align: top;\n",
       "    }\n",
       "\n",
       "    .dataframe thead th {\n",
       "        text-align: right;\n",
       "    }\n",
       "</style>\n",
       "<table border=\"1\" class=\"dataframe\">\n",
       "  <thead>\n",
       "    <tr style=\"text-align: right;\">\n",
       "      <th>BOAMP_AVIS_NUM</th>\n",
       "      <th>18-111639</th>\n",
       "      <th>21-17392</th>\n",
       "      <th>21-19413</th>\n",
       "    </tr>\n",
       "  </thead>\n",
       "  <tbody>\n",
       "    <tr>\n",
       "      <th>D_21_01_Annexed4_Infructueux</th>\n",
       "      <td>False</td>\n",
       "      <td>False</td>\n",
       "      <td>False</td>\n",
       "    </tr>\n",
       "    <tr>\n",
       "      <th>D_21_02_Annexed4_Raisonstechniques</th>\n",
       "      <td>False</td>\n",
       "      <td>False</td>\n",
       "      <td>False</td>\n",
       "    </tr>\n",
       "    <tr>\n",
       "      <th>D_21_03_Annexed4_Raisonsartistiques</th>\n",
       "      <td>True</td>\n",
       "      <td>False</td>\n",
       "      <td>False</td>\n",
       "    </tr>\n",
       "    <tr>\n",
       "      <th>D_21_04_Annexed4_Raisonsexclusivites</th>\n",
       "      <td>False</td>\n",
       "      <td>False</td>\n",
       "      <td>False</td>\n",
       "    </tr>\n",
       "    <tr>\n",
       "      <th>D_21_05_Annexed4_Proprieteintellectuelle</th>\n",
       "      <td>None</td>\n",
       "      <td>None</td>\n",
       "      <td>None</td>\n",
       "    </tr>\n",
       "    <tr>\n",
       "      <th>D_21_06_Annexed4_Horsscope</th>\n",
       "      <td>False</td>\n",
       "      <td>True</td>\n",
       "      <td>True</td>\n",
       "    </tr>\n",
       "    <tr>\n",
       "      <th>D_21_07_Annexed4_Explication</th>\n",
       "      <td>&lt;?xml version=\"1.0\" encoding=\"UTF-16\"?&gt;\\n&lt;EXPLICATION xmlns:xsi=\"http://www.w3.org/2001/XMLSchema-instance\"&gt;Enedis et EDF bénéficient de droits exclusifs consacres par la législation nationale (articles L. 111-52, L. 121-5 et L. 334-3 du code de l'énergie).&lt;/EXPLICATION&gt;</td>\n",
       "      <td>&lt;?xml version=\"1.0\" encoding=\"UTF-16\"?&gt;\\n&lt;EXPLICATION xmlns:xsi=\"http://www.w3.org/2001/XMLSchema-instance\"&gt;Le contrat de concession pour le service public du développement et de lexploitation du réseau de distribution délectricité et de la fourniture dénergie aux tarifs réglementés de vente entre dans le champ des dispositions de larticle L. 3221-1 du Code de la commande publique qui exonère des règles de publicité et de mise en concurrence les contrats de concession conclus avec un opérateur économique qui bénéficie dun droit exclusif en vertu dune disposition légalement prise. En effet, ENEDIS et EDF bénéficient de droits exclusifs consacrés par le Code de lénergie (articles L. 111-52  et L. 121-5). &lt;/EXPLICATION&gt;</td>\n",
       "      <td>&lt;?xml version=\"1.0\" encoding=\"UTF-16\"?&gt;\\n&lt;EXPLICATION xmlns:xsi=\"http://www.w3.org/2001/XMLSchema-instance\"&gt;Procédure classée sans suite pour raison autre&lt;/EXPLICATION&gt;</td>\n",
       "    </tr>\n",
       "  </tbody>\n",
       "</table>\n",
       "</div>"
      ],
      "text/plain": [
       "BOAMP_AVIS_NUM                                                                                                                                                                                                                                                                                                  18-111639  \\\n",
       "D_21_01_Annexed4_Infructueux                                                                                                                                                                                                                                                                                        False   \n",
       "D_21_02_Annexed4_Raisonstechniques                                                                                                                                                                                                                                                                                  False   \n",
       "D_21_03_Annexed4_Raisonsartistiques                                                                                                                                                                                                                                                                                  True   \n",
       "D_21_04_Annexed4_Raisonsexclusivites                                                                                                                                                                                                                                                                                False   \n",
       "D_21_05_Annexed4_Proprieteintellectuelle                                                                                                                                                                                                                                                                             None   \n",
       "D_21_06_Annexed4_Horsscope                                                                                                                                                                                                                                                                                          False   \n",
       "D_21_07_Annexed4_Explication              <?xml version=\"1.0\" encoding=\"UTF-16\"?>\\n<EXPLICATION xmlns:xsi=\"http://www.w3.org/2001/XMLSchema-instance\">Enedis et EDF bénéficient de droits exclusifs consacres par la législation nationale (articles L. 111-52, L. 121-5 et L. 334-3 du code de l'énergie).</EXPLICATION>   \n",
       "\n",
       "BOAMP_AVIS_NUM                                                                                                                                                                                                                                                                                                                                                                                                                                                                                                                                                                                                                                                                                                                                                                                 21-17392  \\\n",
       "D_21_01_Annexed4_Infructueux                                                                                                                                                                                                                                                                                                                                                                                                                                                                                                                                                                                                                                                                                                                                                                      False   \n",
       "D_21_02_Annexed4_Raisonstechniques                                                                                                                                                                                                                                                                                                                                                                                                                                                                                                                                                                                                                                                                                                                                                                False   \n",
       "D_21_03_Annexed4_Raisonsartistiques                                                                                                                                                                                                                                                                                                                                                                                                                                                                                                                                                                                                                                                                                                                                                               False   \n",
       "D_21_04_Annexed4_Raisonsexclusivites                                                                                                                                                                                                                                                                                                                                                                                                                                                                                                                                                                                                                                                                                                                                                              False   \n",
       "D_21_05_Annexed4_Proprieteintellectuelle                                                                                                                                                                                                                                                                                                                                                                                                                                                                                                                                                                                                                                                                                                                                                           None   \n",
       "D_21_06_Annexed4_Horsscope                                                                                                                                                                                                                                                                                                                                                                                                                                                                                                                                                                                                                                                                                                                                                                         True   \n",
       "D_21_07_Annexed4_Explication              <?xml version=\"1.0\" encoding=\"UTF-16\"?>\\n<EXPLICATION xmlns:xsi=\"http://www.w3.org/2001/XMLSchema-instance\">Le contrat de concession pour le service public du développement et de lexploitation du réseau de distribution délectricité et de la fourniture dénergie aux tarifs réglementés de vente entre dans le champ des dispositions de larticle L. 3221-1 du Code de la commande publique qui exonère des règles de publicité et de mise en concurrence les contrats de concession conclus avec un opérateur économique qui bénéficie dun droit exclusif en vertu dune disposition légalement prise. En effet, ENEDIS et EDF bénéficient de droits exclusifs consacrés par le Code de lénergie (articles L. 111-52  et L. 121-5). </EXPLICATION>   \n",
       "\n",
       "BOAMP_AVIS_NUM                                                                                                                                                                                            21-19413  \n",
       "D_21_01_Annexed4_Infructueux                                                                                                                                                                                 False  \n",
       "D_21_02_Annexed4_Raisonstechniques                                                                                                                                                                           False  \n",
       "D_21_03_Annexed4_Raisonsartistiques                                                                                                                                                                          False  \n",
       "D_21_04_Annexed4_Raisonsexclusivites                                                                                                                                                                         False  \n",
       "D_21_05_Annexed4_Proprieteintellectuelle                                                                                                                                                                      None  \n",
       "D_21_06_Annexed4_Horsscope                                                                                                                                                                                    True  \n",
       "D_21_07_Annexed4_Explication              <?xml version=\"1.0\" encoding=\"UTF-16\"?>\\n<EXPLICATION xmlns:xsi=\"http://www.w3.org/2001/XMLSchema-instance\">Procédure classée sans suite pour raison autre</EXPLICATION>  "
      ]
     },
     "execution_count": 5,
     "metadata": {},
     "output_type": "execute_result"
    }
   ],
   "source": [
    "extrait_df_d_21_annexed4.head(3).T"
   ]
  },
  {
   "cell_type": "markdown",
   "metadata": {},
   "source": [
    "**<a href=\"#navigation\">Remonter<a/>**"
   ]
  },
  {
   "cell_type": "markdown",
   "metadata": {},
   "source": [
    "<div id=\"horizontale\"></div>\n",
    "\n",
    "## Vue horizontale de la table "
   ]
  },
  {
   "cell_type": "code",
   "execution_count": 6,
   "metadata": {},
   "outputs": [
    {
     "data": {
      "text/html": [
       "<div>\n",
       "<style scoped>\n",
       "    .dataframe tbody tr th:only-of-type {\n",
       "        vertical-align: middle;\n",
       "    }\n",
       "\n",
       "    .dataframe tbody tr th {\n",
       "        vertical-align: top;\n",
       "    }\n",
       "\n",
       "    .dataframe thead th {\n",
       "        text-align: right;\n",
       "    }\n",
       "</style>\n",
       "<table border=\"1\" class=\"dataframe\">\n",
       "  <thead>\n",
       "    <tr style=\"text-align: right;\">\n",
       "      <th></th>\n",
       "      <th>D_21_01_Annexed4_Infructueux</th>\n",
       "      <th>D_21_02_Annexed4_Raisonstechniques</th>\n",
       "      <th>D_21_03_Annexed4_Raisonsartistiques</th>\n",
       "      <th>D_21_04_Annexed4_Raisonsexclusivites</th>\n",
       "      <th>D_21_05_Annexed4_Proprieteintellectuelle</th>\n",
       "      <th>D_21_06_Annexed4_Horsscope</th>\n",
       "      <th>D_21_07_Annexed4_Explication</th>\n",
       "    </tr>\n",
       "    <tr>\n",
       "      <th>BOAMP_AVIS_NUM</th>\n",
       "      <th></th>\n",
       "      <th></th>\n",
       "      <th></th>\n",
       "      <th></th>\n",
       "      <th></th>\n",
       "      <th></th>\n",
       "      <th></th>\n",
       "    </tr>\n",
       "  </thead>\n",
       "  <tbody>\n",
       "    <tr>\n",
       "      <th>18-111639</th>\n",
       "      <td>False</td>\n",
       "      <td>False</td>\n",
       "      <td>True</td>\n",
       "      <td>False</td>\n",
       "      <td>None</td>\n",
       "      <td>False</td>\n",
       "      <td>&lt;?xml version=\"1.0\" encoding=\"UTF-16\"?&gt;\\n&lt;EXPLICATION xmlns:xsi=\"http://www.w3.org/2001/XMLSchema-instance\"&gt;Enedis et EDF bénéficient de droits exclusifs consacres par la législation nationale (articles L. 111-52, L. 121-5 et L. 334-3 du code de l'énergie).&lt;/EXPLICATION&gt;</td>\n",
       "    </tr>\n",
       "    <tr>\n",
       "      <th>21-17392</th>\n",
       "      <td>False</td>\n",
       "      <td>False</td>\n",
       "      <td>False</td>\n",
       "      <td>False</td>\n",
       "      <td>None</td>\n",
       "      <td>True</td>\n",
       "      <td>&lt;?xml version=\"1.0\" encoding=\"UTF-16\"?&gt;\\n&lt;EXPLICATION xmlns:xsi=\"http://www.w3.org/2001/XMLSchema-instance\"&gt;Le contrat de concession pour le service public du développement et de lexploitation du réseau de distribution délectricité et de la fourniture dénergie aux tarifs réglementés de vente entre dans le champ des dispositions de larticle L. 3221-1 du Code de la commande publique qui exonère des règles de publicité et de mise en concurrence les contrats de concession conclus avec un opérateur économique qui bénéficie dun droit exclusif en vertu dune disposition légalement prise. En effet, ENEDIS et EDF bénéficient de droits exclusifs consacrés par le Code de lénergie (articles L. 111-52  et L. 121-5). &lt;/EXPLICATION&gt;</td>\n",
       "    </tr>\n",
       "    <tr>\n",
       "      <th>21-19413</th>\n",
       "      <td>False</td>\n",
       "      <td>False</td>\n",
       "      <td>False</td>\n",
       "      <td>False</td>\n",
       "      <td>None</td>\n",
       "      <td>True</td>\n",
       "      <td>&lt;?xml version=\"1.0\" encoding=\"UTF-16\"?&gt;\\n&lt;EXPLICATION xmlns:xsi=\"http://www.w3.org/2001/XMLSchema-instance\"&gt;Procédure classée sans suite pour raison autre&lt;/EXPLICATION&gt;</td>\n",
       "    </tr>\n",
       "  </tbody>\n",
       "</table>\n",
       "</div>"
      ],
      "text/plain": [
       "                D_21_01_Annexed4_Infructueux  \\\n",
       "BOAMP_AVIS_NUM                                 \n",
       "18-111639                              False   \n",
       "21-17392                               False   \n",
       "21-19413                               False   \n",
       "\n",
       "                D_21_02_Annexed4_Raisonstechniques  \\\n",
       "BOAMP_AVIS_NUM                                       \n",
       "18-111639                                    False   \n",
       "21-17392                                     False   \n",
       "21-19413                                     False   \n",
       "\n",
       "                D_21_03_Annexed4_Raisonsartistiques  \\\n",
       "BOAMP_AVIS_NUM                                        \n",
       "18-111639                                      True   \n",
       "21-17392                                      False   \n",
       "21-19413                                      False   \n",
       "\n",
       "                D_21_04_Annexed4_Raisonsexclusivites  \\\n",
       "BOAMP_AVIS_NUM                                         \n",
       "18-111639                                      False   \n",
       "21-17392                                       False   \n",
       "21-19413                                       False   \n",
       "\n",
       "               D_21_05_Annexed4_Proprieteintellectuelle  \\\n",
       "BOAMP_AVIS_NUM                                            \n",
       "18-111639                                          None   \n",
       "21-17392                                           None   \n",
       "21-19413                                           None   \n",
       "\n",
       "                D_21_06_Annexed4_Horsscope  \\\n",
       "BOAMP_AVIS_NUM                               \n",
       "18-111639                            False   \n",
       "21-17392                              True   \n",
       "21-19413                              True   \n",
       "\n",
       "                                                                                                                                                                                                                                                                                                                                                                                                                                                                                                                                                                                                                                                                                                                                                 D_21_07_Annexed4_Explication  \n",
       "BOAMP_AVIS_NUM                                                                                                                                                                                                                                                                                                                                                                                                                                                                                                                                                                                                                                                                                                                                                                 \n",
       "18-111639                                                                                                                                                                                                                                                                                                                                                                                                                                                                                     <?xml version=\"1.0\" encoding=\"UTF-16\"?>\\n<EXPLICATION xmlns:xsi=\"http://www.w3.org/2001/XMLSchema-instance\">Enedis et EDF bénéficient de droits exclusifs consacres par la législation nationale (articles L. 111-52, L. 121-5 et L. 334-3 du code de l'énergie).</EXPLICATION>  \n",
       "21-17392        <?xml version=\"1.0\" encoding=\"UTF-16\"?>\\n<EXPLICATION xmlns:xsi=\"http://www.w3.org/2001/XMLSchema-instance\">Le contrat de concession pour le service public du développement et de lexploitation du réseau de distribution délectricité et de la fourniture dénergie aux tarifs réglementés de vente entre dans le champ des dispositions de larticle L. 3221-1 du Code de la commande publique qui exonère des règles de publicité et de mise en concurrence les contrats de concession conclus avec un opérateur économique qui bénéficie dun droit exclusif en vertu dune disposition légalement prise. En effet, ENEDIS et EDF bénéficient de droits exclusifs consacrés par le Code de lénergie (articles L. 111-52  et L. 121-5). </EXPLICATION>  \n",
       "21-19413                                                                                                                                                                                                                                                                                                                                                                                                                                                                                                                                                                                             <?xml version=\"1.0\" encoding=\"UTF-16\"?>\\n<EXPLICATION xmlns:xsi=\"http://www.w3.org/2001/XMLSchema-instance\">Procédure classée sans suite pour raison autre</EXPLICATION>  "
      ]
     },
     "execution_count": 6,
     "metadata": {},
     "output_type": "execute_result"
    }
   ],
   "source": [
    "extrait_df_d_21_annexed4.head(3)"
   ]
  },
  {
   "cell_type": "markdown",
   "metadata": {},
   "source": [
    "**<a href=\"#navigation\">Remonter<a/>**"
   ]
  }
 ],
 "metadata": {
  "kernelspec": {
   "display_name": "Python 3",
   "language": "python",
   "name": "python3"
  },
  "language_info": {
   "codemirror_mode": {
    "name": "ipython",
    "version": 3
   },
   "file_extension": ".py",
   "mimetype": "text/x-python",
   "name": "python",
   "nbconvert_exporter": "python",
   "pygments_lexer": "ipython3",
   "version": "3.8.6"
  },
  "widgets": {
   "application/vnd.jupyter.widget-state+json": {
    "state": {
     "b8d506dd1ea74603866ceda7e2fbf0fa": {
      "model_module": "@jupyter-widgets/output",
      "model_module_version": "1.0.0",
      "model_name": "OutputModel",
      "state": {
       "layout": "IPY_MODEL_b9477745e9a34107af402f6420d7a8c9",
       "outputs": [
        {
         "data": {
          "text/html": "\n        <iframe\n            width=\"98%\"\n            height=\"400px\"\n            src=\"boamp_plans_html/boamp_plan_d_21_annexed4.html\"\n            frameborder=\"0\"\n            allowfullscreen\n        ></iframe>\n        ",
          "text/plain": "<IPython.lib.display.IFrame at 0x1f5d8e89250>"
         },
         "metadata": {},
         "output_type": "display_data"
        },
        {
         "data": {
          "text/html": "<p><strong>Cliquez sur les cercles contenus dans la figure pour ouvrir et refermer les niveaux.<br>    \n                     L'image est zommable.<br><br>\n                     <a href=boamp_plans_html/boamp_plan_d_21_annexed4.html> --> Ouvrir ce schéma en plein écran dans un nouvel onglet. </a></strong><br>\n                     <em>Cliquez sur « Trust HTML » si le schéma n'apparaît pas de lui-même à l'ouverture du lien.</em></p>\n                     ",
          "text/plain": "<IPython.core.display.HTML object>"
         },
         "metadata": {},
         "output_type": "display_data"
        }
       ]
      }
     },
     "b9477745e9a34107af402f6420d7a8c9": {
      "model_module": "@jupyter-widgets/base",
      "model_module_version": "1.2.0",
      "model_name": "LayoutModel",
      "state": {
       "border": "3px solid #cccccc",
       "margin": "20px 100px 20px 100px",
       "max_width": "80%",
       "padding": "10px"
      }
     }
    },
    "version_major": 2,
    "version_minor": 0
   }
  }
 },
 "nbformat": 4,
 "nbformat_minor": 4
}
